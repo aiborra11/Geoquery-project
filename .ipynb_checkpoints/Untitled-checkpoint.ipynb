{
 "cells": [
  {
   "cell_type": "code",
   "execution_count": 17,
   "metadata": {},
   "outputs": [],
   "source": [
    "from pymongo import MongoClient\n",
    "import pandas as pd\n",
    "import pymongo\n",
    "import re"
   ]
  },
  {
   "cell_type": "code",
   "execution_count": 18,
   "metadata": {},
   "outputs": [],
   "source": [
    "client = MongoClient('mongodb://localhost:27017/')\n",
    "db = client.companies\n",
    "data = db.companies.find()\n",
    "data_companies = pd.DataFrame(data)\n"
   ]
  },
  {
   "cell_type": "code",
   "execution_count": 19,
   "metadata": {},
   "outputs": [
    {
     "data": {
      "text/plain": [
       "(18801, 42)"
      ]
     },
     "execution_count": 19,
     "metadata": {},
     "output_type": "execute_result"
    }
   ],
   "source": [
    "data_companies.shape"
   ]
  },
  {
   "cell_type": "code",
   "execution_count": 20,
   "metadata": {},
   "outputs": [
    {
     "data": {
      "text/plain": [
       "_id                  0\n",
       "acquisition      16124\n",
       "acquisitions         0\n",
       "alias_list        9869\n",
       "blog_feed_url     2044\n",
       "dtype: int64"
      ]
     },
     "execution_count": 20,
     "metadata": {},
     "output_type": "execute_result"
    }
   ],
   "source": [
    "data_companies.isna().sum().head()"
   ]
  },
  {
   "cell_type": "code",
   "execution_count": 21,
   "metadata": {},
   "outputs": [],
   "source": [
    "at_least_1_office = db.companies.find({\n",
    "    \"offices\":{\n",
    "        \"$not\":{\n",
    "            \"$size\":0\n",
    "        }\n",
    "    }\n",
    "})"
   ]
  },
  {
   "cell_type": "code",
   "execution_count": 22,
   "metadata": {},
   "outputs": [],
   "source": [
    "data_companies_1office = pd.DataFrame(at_least_1_office)"
   ]
  },
  {
   "cell_type": "code",
   "execution_count": 23,
   "metadata": {},
   "outputs": [
    {
     "data": {
      "text/plain": [
       "(13744, 42)"
      ]
     },
     "execution_count": 23,
     "metadata": {},
     "output_type": "execute_result"
    }
   ],
   "source": [
    "data_companies_1office.shape"
   ]
  },
  {
   "cell_type": "code",
   "execution_count": 24,
   "metadata": {},
   "outputs": [
    {
     "data": {
      "text/html": [
       "<div>\n",
       "<style scoped>\n",
       "    .dataframe tbody tr th:only-of-type {\n",
       "        vertical-align: middle;\n",
       "    }\n",
       "\n",
       "    .dataframe tbody tr th {\n",
       "        vertical-align: top;\n",
       "    }\n",
       "\n",
       "    .dataframe thead th {\n",
       "        text-align: right;\n",
       "    }\n",
       "</style>\n",
       "<table border=\"1\" class=\"dataframe\">\n",
       "  <thead>\n",
       "    <tr style=\"text-align: right;\">\n",
       "      <th></th>\n",
       "      <th>_id</th>\n",
       "      <th>acquisition</th>\n",
       "      <th>acquisitions</th>\n",
       "      <th>alias_list</th>\n",
       "      <th>blog_feed_url</th>\n",
       "      <th>blog_url</th>\n",
       "      <th>category_code</th>\n",
       "      <th>competitions</th>\n",
       "      <th>created_at</th>\n",
       "      <th>crunchbase_url</th>\n",
       "      <th>...</th>\n",
       "      <th>phone_number</th>\n",
       "      <th>products</th>\n",
       "      <th>providerships</th>\n",
       "      <th>relationships</th>\n",
       "      <th>screenshots</th>\n",
       "      <th>tag_list</th>\n",
       "      <th>total_money_raised</th>\n",
       "      <th>twitter_username</th>\n",
       "      <th>updated_at</th>\n",
       "      <th>video_embeds</th>\n",
       "    </tr>\n",
       "  </thead>\n",
       "  <tbody>\n",
       "    <tr>\n",
       "      <th>0</th>\n",
       "      <td>52cdef7c4bab8bd675297d8b</td>\n",
       "      <td>None</td>\n",
       "      <td>[]</td>\n",
       "      <td>Zoho ManageEngine</td>\n",
       "      <td></td>\n",
       "      <td></td>\n",
       "      <td>enterprise</td>\n",
       "      <td>[]</td>\n",
       "      <td>2007-05-25 19:24:22</td>\n",
       "      <td>http://www.crunchbase.com/company/adventnet</td>\n",
       "      <td>...</td>\n",
       "      <td>925-924-9500</td>\n",
       "      <td>[]</td>\n",
       "      <td>[{'title': 'DHFH', 'is_past': True, 'provider'...</td>\n",
       "      <td>[{'is_past': True, 'title': 'CEO and Co-Founde...</td>\n",
       "      <td>[{'available_sizes': [[[150, 94], 'assets/imag...</td>\n",
       "      <td></td>\n",
       "      <td>$0</td>\n",
       "      <td>manageengine</td>\n",
       "      <td>Wed Oct 31 18:26:09 UTC 2012</td>\n",
       "      <td>[]</td>\n",
       "    </tr>\n",
       "    <tr>\n",
       "      <th>1</th>\n",
       "      <td>52cdef7c4bab8bd675297d8c</td>\n",
       "      <td>None</td>\n",
       "      <td>[]</td>\n",
       "      <td></td>\n",
       "      <td>http://blogs.zoho.com/feed</td>\n",
       "      <td>http://blogs.zoho.com/</td>\n",
       "      <td>software</td>\n",
       "      <td>[{'competitor': {'name': 'Empressr', 'permalin...</td>\n",
       "      <td>Fri May 25 19:30:28 UTC 2007</td>\n",
       "      <td>http://www.crunchbase.com/company/zoho</td>\n",
       "      <td>...</td>\n",
       "      <td>1-888-204-3539</td>\n",
       "      <td>[{'name': 'Zoho Office Suite', 'permalink': 'z...</td>\n",
       "      <td>[]</td>\n",
       "      <td>[{'is_past': False, 'title': 'CEO and Founder'...</td>\n",
       "      <td>[]</td>\n",
       "      <td>zoho, officesuite, spreadsheet, writer, projec...</td>\n",
       "      <td>$0</td>\n",
       "      <td>zoho</td>\n",
       "      <td>Wed Oct 30 00:07:05 UTC 2013</td>\n",
       "      <td>[{'embed_code': '&lt;object width=\"430\" height=\"2...</td>\n",
       "    </tr>\n",
       "    <tr>\n",
       "      <th>2</th>\n",
       "      <td>52cdef7c4bab8bd675297d8a</td>\n",
       "      <td>{'price_amount': 30000000, 'price_currency_cod...</td>\n",
       "      <td>[]</td>\n",
       "      <td></td>\n",
       "      <td>http://digitalquarters.net/feed/</td>\n",
       "      <td>http://digitalquarters.net/</td>\n",
       "      <td>web</td>\n",
       "      <td>[{'competitor': {'name': 'Wikia', 'permalink':...</td>\n",
       "      <td>2007-05-25 06:51:27</td>\n",
       "      <td>http://www.crunchbase.com/company/wetpaint</td>\n",
       "      <td>...</td>\n",
       "      <td>206.859.6300</td>\n",
       "      <td>[{'name': 'Wikison Wetpaint', 'permalink': 'we...</td>\n",
       "      <td>[]</td>\n",
       "      <td>[{'is_past': False, 'title': 'Co-Founder and V...</td>\n",
       "      <td>[{'available_sizes': [[[150, 86], 'assets/imag...</td>\n",
       "      <td>wiki, seattle, elowitz, media-industry, media-...</td>\n",
       "      <td>$39.8M</td>\n",
       "      <td>BachelrWetpaint</td>\n",
       "      <td>Sun Dec 08 07:15:44 UTC 2013</td>\n",
       "      <td>[]</td>\n",
       "    </tr>\n",
       "    <tr>\n",
       "      <th>3</th>\n",
       "      <td>52cdef7c4bab8bd675297d8f</td>\n",
       "      <td>None</td>\n",
       "      <td>[]</td>\n",
       "      <td>None</td>\n",
       "      <td>http://feeds.feedburner.com/omnidrive</td>\n",
       "      <td>http://www.omnidrive.com/blog</td>\n",
       "      <td>network_hosting</td>\n",
       "      <td>[{'competitor': {'name': 'Dropbox', 'permalink...</td>\n",
       "      <td>Sun May 27 03:25:32 UTC 2007</td>\n",
       "      <td>http://www.crunchbase.com/company/omnidrive</td>\n",
       "      <td>...</td>\n",
       "      <td>660-675-5052</td>\n",
       "      <td>[{'name': 'Omnidrive', 'permalink': 'omnidrive'}]</td>\n",
       "      <td>[]</td>\n",
       "      <td>[{'is_past': True, 'title': 'Co-founder', 'per...</td>\n",
       "      <td>[]</td>\n",
       "      <td>storage, sharing, edit, online</td>\n",
       "      <td>$800k</td>\n",
       "      <td>Nomadesk</td>\n",
       "      <td>Tue Jul 02 22:48:04 UTC 2013</td>\n",
       "      <td>[]</td>\n",
       "    </tr>\n",
       "    <tr>\n",
       "      <th>4</th>\n",
       "      <td>52cdef7c4bab8bd675297d90</td>\n",
       "      <td>{'price_amount': 625000000, 'price_currency_co...</td>\n",
       "      <td>[]</td>\n",
       "      <td>None</td>\n",
       "      <td></td>\n",
       "      <td></td>\n",
       "      <td>web</td>\n",
       "      <td>[{'competitor': {'name': 'RescueTime', 'permal...</td>\n",
       "      <td>Fri Jun 08 12:19:51 UTC 2007</td>\n",
       "      <td>http://www.crunchbase.com/company/postini</td>\n",
       "      <td>...</td>\n",
       "      <td>888.584.3150</td>\n",
       "      <td>[{'name': 'Postini Solutions', 'permalink': 'p...</td>\n",
       "      <td>[]</td>\n",
       "      <td>[{'is_past': False, 'title': 'Board', 'person'...</td>\n",
       "      <td>[]</td>\n",
       "      <td></td>\n",
       "      <td>$0</td>\n",
       "      <td>None</td>\n",
       "      <td>Sat Aug 13 18:02:34 UTC 2011</td>\n",
       "      <td>[]</td>\n",
       "    </tr>\n",
       "  </tbody>\n",
       "</table>\n",
       "<p>5 rows × 42 columns</p>\n",
       "</div>"
      ],
      "text/plain": [
       "                        _id  \\\n",
       "0  52cdef7c4bab8bd675297d8b   \n",
       "1  52cdef7c4bab8bd675297d8c   \n",
       "2  52cdef7c4bab8bd675297d8a   \n",
       "3  52cdef7c4bab8bd675297d8f   \n",
       "4  52cdef7c4bab8bd675297d90   \n",
       "\n",
       "                                         acquisition acquisitions  \\\n",
       "0                                               None           []   \n",
       "1                                               None           []   \n",
       "2  {'price_amount': 30000000, 'price_currency_cod...           []   \n",
       "3                                               None           []   \n",
       "4  {'price_amount': 625000000, 'price_currency_co...           []   \n",
       "\n",
       "           alias_list                          blog_feed_url  \\\n",
       "0  Zoho ManageEngine                                           \n",
       "1                                 http://blogs.zoho.com/feed   \n",
       "2                           http://digitalquarters.net/feed/   \n",
       "3                None  http://feeds.feedburner.com/omnidrive   \n",
       "4                None                                          \n",
       "\n",
       "                        blog_url    category_code  \\\n",
       "0                                      enterprise   \n",
       "1         http://blogs.zoho.com/         software   \n",
       "2    http://digitalquarters.net/              web   \n",
       "3  http://www.omnidrive.com/blog  network_hosting   \n",
       "4                                             web   \n",
       "\n",
       "                                        competitions  \\\n",
       "0                                                 []   \n",
       "1  [{'competitor': {'name': 'Empressr', 'permalin...   \n",
       "2  [{'competitor': {'name': 'Wikia', 'permalink':...   \n",
       "3  [{'competitor': {'name': 'Dropbox', 'permalink...   \n",
       "4  [{'competitor': {'name': 'RescueTime', 'permal...   \n",
       "\n",
       "                     created_at                               crunchbase_url  \\\n",
       "0           2007-05-25 19:24:22  http://www.crunchbase.com/company/adventnet   \n",
       "1  Fri May 25 19:30:28 UTC 2007       http://www.crunchbase.com/company/zoho   \n",
       "2           2007-05-25 06:51:27   http://www.crunchbase.com/company/wetpaint   \n",
       "3  Sun May 27 03:25:32 UTC 2007  http://www.crunchbase.com/company/omnidrive   \n",
       "4  Fri Jun 08 12:19:51 UTC 2007    http://www.crunchbase.com/company/postini   \n",
       "\n",
       "   ...    phone_number                                           products  \\\n",
       "0  ...    925-924-9500                                                 []   \n",
       "1  ...  1-888-204-3539  [{'name': 'Zoho Office Suite', 'permalink': 'z...   \n",
       "2  ...    206.859.6300  [{'name': 'Wikison Wetpaint', 'permalink': 'we...   \n",
       "3  ...    660-675-5052  [{'name': 'Omnidrive', 'permalink': 'omnidrive'}]   \n",
       "4  ...    888.584.3150  [{'name': 'Postini Solutions', 'permalink': 'p...   \n",
       "\n",
       "                                       providerships  \\\n",
       "0  [{'title': 'DHFH', 'is_past': True, 'provider'...   \n",
       "1                                                 []   \n",
       "2                                                 []   \n",
       "3                                                 []   \n",
       "4                                                 []   \n",
       "\n",
       "                                       relationships  \\\n",
       "0  [{'is_past': True, 'title': 'CEO and Co-Founde...   \n",
       "1  [{'is_past': False, 'title': 'CEO and Founder'...   \n",
       "2  [{'is_past': False, 'title': 'Co-Founder and V...   \n",
       "3  [{'is_past': True, 'title': 'Co-founder', 'per...   \n",
       "4  [{'is_past': False, 'title': 'Board', 'person'...   \n",
       "\n",
       "                                         screenshots  \\\n",
       "0  [{'available_sizes': [[[150, 94], 'assets/imag...   \n",
       "1                                                 []   \n",
       "2  [{'available_sizes': [[[150, 86], 'assets/imag...   \n",
       "3                                                 []   \n",
       "4                                                 []   \n",
       "\n",
       "                                            tag_list total_money_raised  \\\n",
       "0                                                                    $0   \n",
       "1  zoho, officesuite, spreadsheet, writer, projec...                 $0   \n",
       "2  wiki, seattle, elowitz, media-industry, media-...             $39.8M   \n",
       "3                     storage, sharing, edit, online              $800k   \n",
       "4                                                                    $0   \n",
       "\n",
       "   twitter_username                    updated_at  \\\n",
       "0      manageengine  Wed Oct 31 18:26:09 UTC 2012   \n",
       "1              zoho  Wed Oct 30 00:07:05 UTC 2013   \n",
       "2   BachelrWetpaint  Sun Dec 08 07:15:44 UTC 2013   \n",
       "3          Nomadesk  Tue Jul 02 22:48:04 UTC 2013   \n",
       "4              None  Sat Aug 13 18:02:34 UTC 2011   \n",
       "\n",
       "                                        video_embeds  \n",
       "0                                                 []  \n",
       "1  [{'embed_code': '<object width=\"430\" height=\"2...  \n",
       "2                                                 []  \n",
       "3                                                 []  \n",
       "4                                                 []  \n",
       "\n",
       "[5 rows x 42 columns]"
      ]
     },
     "execution_count": 24,
     "metadata": {},
     "output_type": "execute_result"
    }
   ],
   "source": [
    "data_companies_1office.head()"
   ]
  },
  {
   "cell_type": "code",
   "execution_count": 25,
   "metadata": {},
   "outputs": [
    {
     "data": {
      "text/plain": [
       "Index(['_id', 'acquisition', 'acquisitions', 'alias_list', 'blog_feed_url',\n",
       "       'blog_url', 'category_code', 'competitions', 'created_at',\n",
       "       'crunchbase_url', 'deadpooled_day', 'deadpooled_month',\n",
       "       'deadpooled_url', 'deadpooled_year', 'description', 'email_address',\n",
       "       'external_links', 'founded_day', 'founded_month', 'founded_year',\n",
       "       'funding_rounds', 'homepage_url', 'image', 'investments', 'ipo',\n",
       "       'milestones', 'name', 'number_of_employees', 'offices', 'overview',\n",
       "       'partners', 'permalink', 'phone_number', 'products', 'providerships',\n",
       "       'relationships', 'screenshots', 'tag_list', 'total_money_raised',\n",
       "       'twitter_username', 'updated_at', 'video_embeds'],\n",
       "      dtype='object')"
      ]
     },
     "execution_count": 25,
     "metadata": {},
     "output_type": "execute_result"
    }
   ],
   "source": [
    "data_companies_1office.columns"
   ]
  },
  {
   "cell_type": "code",
   "execution_count": 26,
   "metadata": {},
   "outputs": [
    {
     "data": {
      "text/plain": [
       "0        1996\n",
       "1        2005\n",
       "2        2005\n",
       "3        2005\n",
       "4        1999\n",
       "5        2004\n",
       "6        2006\n",
       "7           0\n",
       "8        1979\n",
       "9        2003\n",
       "10       2007\n",
       "11       2006\n",
       "12       2002\n",
       "13       2005\n",
       "14          0\n",
       "15       2006\n",
       "16       2006\n",
       "17       2004\n",
       "18       1986\n",
       "19       2007\n",
       "20       1971\n",
       "21       2002\n",
       "22       2007\n",
       "23       1995\n",
       "24       1984\n",
       "25       2006\n",
       "26       2002\n",
       "27          0\n",
       "28       2007\n",
       "29       2007\n",
       "         ... \n",
       "13714    1998\n",
       "13715    2009\n",
       "13716    2004\n",
       "13717    2011\n",
       "13718       0\n",
       "13719    2008\n",
       "13720       0\n",
       "13721       0\n",
       "13722    2009\n",
       "13723    2004\n",
       "13724    2009\n",
       "13725    2001\n",
       "13726    2006\n",
       "13727    1996\n",
       "13728       0\n",
       "13729    2009\n",
       "13730    2006\n",
       "13731    2009\n",
       "13732    2012\n",
       "13733    2004\n",
       "13734    2003\n",
       "13735    2000\n",
       "13736       0\n",
       "13737    1974\n",
       "13738    1967\n",
       "13739    2002\n",
       "13740    2009\n",
       "13741    2009\n",
       "13742       0\n",
       "13743    2000\n",
       "Name: founded_year, Length: 13744, dtype: int64"
      ]
     },
     "execution_count": 26,
     "metadata": {},
     "output_type": "execute_result"
    }
   ],
   "source": [
    "def fixints(df, col):\n",
    "    df[col].fillna(0, inplace = True)\n",
    "    df[col] = df[col].astype(int)\n",
    "    return df[col]\n",
    "fixints (data_companies_1office, 'founded_year')"
   ]
  },
  {
   "cell_type": "code",
   "execution_count": 27,
   "metadata": {},
   "outputs": [],
   "source": [
    "data_cols = data_companies_1office[['alias_list', 'category_code','description', 'total_money_raised','founded_year','offices', 'deadpooled_year', 'deadpooled_day', 'deadpooled_month',\n",
    "       'deadpooled_url' ]]"
   ]
  },
  {
   "cell_type": "code",
   "execution_count": 28,
   "metadata": {},
   "outputs": [],
   "source": [
    "def latlong(data):\n",
    "    data = data['offices']\n",
    "#    return (len(data),data[0]['latitude'],data[0]['longitude'])\n",
    "\n",
    "    # Only create the geoJSON object if all geodata is available\n",
    "    principal = None\n",
    "    if data[0]['latitude'] and data[0]['longitude']:\n",
    "        principal = {\n",
    "            \"type\":\"Point\",\n",
    "            \"coordinates\":[data[0]['longitude'], data[0]['latitude']]\n",
    "        }\n",
    "\n",
    "    return {\n",
    "        \"totalOffices\": len(data),\n",
    "        \"lat\": data[0]['latitude'],\n",
    "        \"lng\": data[0]['longitude'],\n",
    "        \"oficina_principal\": principal\n",
    "    }\n",
    "\n",
    "\n",
    "data_latlong = data_cols[[\"offices\"]].apply(latlong, result_type=\"expand\", axis=1)"
   ]
  },
  {
   "cell_type": "code",
   "execution_count": 29,
   "metadata": {},
   "outputs": [],
   "source": [
    "# display(data_latlong.head())\n"
   ]
  },
  {
   "cell_type": "code",
   "execution_count": 30,
   "metadata": {},
   "outputs": [],
   "source": [
    "# def latlong(df):\n",
    "#     df = df['offices']\n",
    "#     for l in df:\n",
    "#         if l['latitude'] and l['longitude']:\n",
    "#             return {\n",
    "#                     \"lat\": l['latitude'],\n",
    "#                     \"long\": l['longitude']\n",
    "                    \n",
    "#                 }\n",
    "\n",
    "# first_office = data_cols[['offices']].apply(latlong, result_type = \"expand\", axis=1)\n",
    "# display(first_office.head())"
   ]
  },
  {
   "cell_type": "code",
   "execution_count": 31,
   "metadata": {},
   "outputs": [
    {
     "data": {
      "text/html": [
       "<div>\n",
       "<style scoped>\n",
       "    .dataframe tbody tr th:only-of-type {\n",
       "        vertical-align: middle;\n",
       "    }\n",
       "\n",
       "    .dataframe tbody tr th {\n",
       "        vertical-align: top;\n",
       "    }\n",
       "\n",
       "    .dataframe thead th {\n",
       "        text-align: right;\n",
       "    }\n",
       "</style>\n",
       "<table border=\"1\" class=\"dataframe\">\n",
       "  <thead>\n",
       "    <tr style=\"text-align: right;\">\n",
       "      <th></th>\n",
       "      <th>alias_list</th>\n",
       "      <th>category_code</th>\n",
       "      <th>description</th>\n",
       "      <th>total_money_raised</th>\n",
       "      <th>founded_year</th>\n",
       "      <th>offices</th>\n",
       "      <th>deadpooled_year</th>\n",
       "      <th>deadpooled_day</th>\n",
       "      <th>deadpooled_month</th>\n",
       "      <th>deadpooled_url</th>\n",
       "      <th>lat</th>\n",
       "      <th>lng</th>\n",
       "      <th>oficina_principal</th>\n",
       "      <th>totalOffices</th>\n",
       "    </tr>\n",
       "  </thead>\n",
       "  <tbody>\n",
       "    <tr>\n",
       "      <th>0</th>\n",
       "      <td>Zoho ManageEngine</td>\n",
       "      <td>enterprise</td>\n",
       "      <td>Server Management Software</td>\n",
       "      <td>$0</td>\n",
       "      <td>1996</td>\n",
       "      <td>[{'description': 'Headquarters', 'address1': '...</td>\n",
       "      <td>2.0</td>\n",
       "      <td>NaN</td>\n",
       "      <td>NaN</td>\n",
       "      <td>NaN</td>\n",
       "      <td>37.692934</td>\n",
       "      <td>-121.904945</td>\n",
       "      <td>{'type': 'Point', 'coordinates': [-121.904945,...</td>\n",
       "      <td>1.0</td>\n",
       "    </tr>\n",
       "    <tr>\n",
       "      <th>1</th>\n",
       "      <td></td>\n",
       "      <td>software</td>\n",
       "      <td>Online Business Apps Suite</td>\n",
       "      <td>$0</td>\n",
       "      <td>2005</td>\n",
       "      <td>[{'description': 'Headquarters', 'address1': '...</td>\n",
       "      <td>3.0</td>\n",
       "      <td>NaN</td>\n",
       "      <td>NaN</td>\n",
       "      <td>NaN</td>\n",
       "      <td>37.692934</td>\n",
       "      <td>-121.904945</td>\n",
       "      <td>{'type': 'Point', 'coordinates': [-121.904945,...</td>\n",
       "      <td>1.0</td>\n",
       "    </tr>\n",
       "    <tr>\n",
       "      <th>2</th>\n",
       "      <td></td>\n",
       "      <td>web</td>\n",
       "      <td>Technology Platform Company</td>\n",
       "      <td>$39.8M</td>\n",
       "      <td>2005</td>\n",
       "      <td>[{'description': '', 'address1': '710 - 2nd Av...</td>\n",
       "      <td>1.0</td>\n",
       "      <td>NaN</td>\n",
       "      <td>NaN</td>\n",
       "      <td>NaN</td>\n",
       "      <td>47.603122</td>\n",
       "      <td>-122.333253</td>\n",
       "      <td>{'type': 'Point', 'coordinates': [-122.333253,...</td>\n",
       "      <td>2.0</td>\n",
       "    </tr>\n",
       "    <tr>\n",
       "      <th>3</th>\n",
       "      <td>None</td>\n",
       "      <td>network_hosting</td>\n",
       "      <td>None</td>\n",
       "      <td>$800k</td>\n",
       "      <td>2005</td>\n",
       "      <td>[{'description': '', 'address1': 'Suite 200', ...</td>\n",
       "      <td>2008.0</td>\n",
       "      <td>15.0</td>\n",
       "      <td>9.0</td>\n",
       "      <td></td>\n",
       "      <td>NaN</td>\n",
       "      <td>NaN</td>\n",
       "      <td>NaN</td>\n",
       "      <td>1.0</td>\n",
       "    </tr>\n",
       "    <tr>\n",
       "      <th>4</th>\n",
       "      <td>None</td>\n",
       "      <td>web</td>\n",
       "      <td>None</td>\n",
       "      <td>$0</td>\n",
       "      <td>1999</td>\n",
       "      <td>[{'description': None, 'address1': '959 Skyway...</td>\n",
       "      <td>NaN</td>\n",
       "      <td>NaN</td>\n",
       "      <td>NaN</td>\n",
       "      <td>None</td>\n",
       "      <td>37.506885</td>\n",
       "      <td>-122.247573</td>\n",
       "      <td>{'type': 'Point', 'coordinates': [-122.247573,...</td>\n",
       "      <td>1.0</td>\n",
       "    </tr>\n",
       "  </tbody>\n",
       "</table>\n",
       "</div>"
      ],
      "text/plain": [
       "           alias_list    category_code                  description  \\\n",
       "0  Zoho ManageEngine        enterprise   Server Management Software   \n",
       "1                             software   Online Business Apps Suite   \n",
       "2                                  web  Technology Platform Company   \n",
       "3                None  network_hosting                         None   \n",
       "4                None              web                         None   \n",
       "\n",
       "  total_money_raised  founded_year  \\\n",
       "0                 $0          1996   \n",
       "1                 $0          2005   \n",
       "2             $39.8M          2005   \n",
       "3              $800k          2005   \n",
       "4                 $0          1999   \n",
       "\n",
       "                                             offices  deadpooled_year  \\\n",
       "0  [{'description': 'Headquarters', 'address1': '...              2.0   \n",
       "1  [{'description': 'Headquarters', 'address1': '...              3.0   \n",
       "2  [{'description': '', 'address1': '710 - 2nd Av...              1.0   \n",
       "3  [{'description': '', 'address1': 'Suite 200', ...           2008.0   \n",
       "4  [{'description': None, 'address1': '959 Skyway...              NaN   \n",
       "\n",
       "   deadpooled_day  deadpooled_month deadpooled_url        lat         lng  \\\n",
       "0             NaN               NaN            NaN  37.692934 -121.904945   \n",
       "1             NaN               NaN            NaN  37.692934 -121.904945   \n",
       "2             NaN               NaN            NaN  47.603122 -122.333253   \n",
       "3            15.0               9.0                       NaN         NaN   \n",
       "4             NaN               NaN           None  37.506885 -122.247573   \n",
       "\n",
       "                                   oficina_principal  totalOffices  \n",
       "0  {'type': 'Point', 'coordinates': [-121.904945,...           1.0  \n",
       "1  {'type': 'Point', 'coordinates': [-121.904945,...           1.0  \n",
       "2  {'type': 'Point', 'coordinates': [-122.333253,...           2.0  \n",
       "3                                                NaN           1.0  \n",
       "4  {'type': 'Point', 'coordinates': [-122.247573,...           1.0  "
      ]
     },
     "metadata": {},
     "output_type": "display_data"
    },
    {
     "data": {
      "text/plain": [
       "(13744, 14)"
      ]
     },
     "execution_count": 31,
     "metadata": {},
     "output_type": "execute_result"
    }
   ],
   "source": [
    "data_office = pd.concat([data_cols, data_latlong],axis=1)\n",
    "display(data_office.head())\n",
    "data_office.shape"
   ]
  },
  {
   "cell_type": "code",
   "execution_count": 32,
   "metadata": {},
   "outputs": [
    {
     "data": {
      "text/plain": [
       "(9618, 14)"
      ]
     },
     "execution_count": 32,
     "metadata": {},
     "output_type": "execute_result"
    }
   ],
   "source": [
    "data_office.dropna(subset=['lat','lng'], inplace = True)\n",
    "data_office.shape\n"
   ]
  },
  {
   "cell_type": "code",
   "execution_count": 33,
   "metadata": {
    "scrolled": true
   },
   "outputs": [],
   "source": [
    "# data_companies = data_latlong[['alias_list', 'category_code', 'description', 'total_money_raised', 'founded_year', 'deadpooled_year', 'deadpooled_day', 'deadpooled_month',\n",
    "#        'deadpooled_url', 'lat', 'long']]\n",
    "# data_companies.shape"
   ]
  },
  {
   "cell_type": "code",
   "execution_count": 34,
   "metadata": {},
   "outputs": [
    {
     "name": "stderr",
     "output_type": "stream",
     "text": [
      "/usr/local/Cellar/ipython/7.3.0/libexec/vendor/lib/python3.7/site-packages/ipykernel_launcher.py:3: UserWarning: Boolean Series key will be reindexed to match DataFrame index.\n",
      "  This is separate from the ipykernel package so we can avoid doing imports until\n",
      "/usr/local/Cellar/ipython/7.3.0/libexec/vendor/lib/python3.7/site-packages/ipykernel_launcher.py:4: UserWarning: Boolean Series key will be reindexed to match DataFrame index.\n",
      "  after removing the cwd from sys.path.\n",
      "/usr/local/Cellar/ipython/7.3.0/libexec/vendor/lib/python3.7/site-packages/ipykernel_launcher.py:5: UserWarning: Boolean Series key will be reindexed to match DataFrame index.\n",
      "  \"\"\"\n"
     ]
    },
    {
     "data": {
      "text/plain": [
       "(8983, 14)"
      ]
     },
     "execution_count": 34,
     "metadata": {},
     "output_type": "execute_result"
    }
   ],
   "source": [
    "#drop notnull values in deadpool = if it has a value it means the startup is dead.\n",
    "data2 = data_office[pd.isnull(data_office['deadpooled_year'])]\n",
    "data3 = data2[pd.isnull(data_office['deadpooled_day'])]\n",
    "data4 = data3[pd.isnull(data_office['deadpooled_month'])]\n",
    "data_deads = data4[pd.isnull(data_office['deadpooled_url'])]\n",
    "\n",
    "\n",
    "data2.shape"
   ]
  },
  {
   "cell_type": "code",
   "execution_count": 35,
   "metadata": {},
   "outputs": [
    {
     "data": {
      "text/html": [
       "<div>\n",
       "<style scoped>\n",
       "    .dataframe tbody tr th:only-of-type {\n",
       "        vertical-align: middle;\n",
       "    }\n",
       "\n",
       "    .dataframe tbody tr th {\n",
       "        vertical-align: top;\n",
       "    }\n",
       "\n",
       "    .dataframe thead th {\n",
       "        text-align: right;\n",
       "    }\n",
       "</style>\n",
       "<table border=\"1\" class=\"dataframe\">\n",
       "  <thead>\n",
       "    <tr style=\"text-align: right;\">\n",
       "      <th></th>\n",
       "      <th>alias_list</th>\n",
       "      <th>category_code</th>\n",
       "      <th>description</th>\n",
       "      <th>total_money_raised</th>\n",
       "      <th>founded_year</th>\n",
       "      <th>offices</th>\n",
       "      <th>deadpooled_year</th>\n",
       "      <th>deadpooled_day</th>\n",
       "      <th>deadpooled_month</th>\n",
       "      <th>deadpooled_url</th>\n",
       "      <th>lat</th>\n",
       "      <th>lng</th>\n",
       "      <th>oficina_principal</th>\n",
       "      <th>totalOffices</th>\n",
       "    </tr>\n",
       "  </thead>\n",
       "  <tbody>\n",
       "    <tr>\n",
       "      <th>4</th>\n",
       "      <td>None</td>\n",
       "      <td>web</td>\n",
       "      <td>None</td>\n",
       "      <td>$0</td>\n",
       "      <td>1999</td>\n",
       "      <td>[{'description': None, 'address1': '959 Skyway...</td>\n",
       "      <td>NaN</td>\n",
       "      <td>NaN</td>\n",
       "      <td>NaN</td>\n",
       "      <td>None</td>\n",
       "      <td>37.506885</td>\n",
       "      <td>-122.247573</td>\n",
       "      <td>{'type': 'Point', 'coordinates': [-122.247573,...</td>\n",
       "      <td>1.0</td>\n",
       "    </tr>\n",
       "    <tr>\n",
       "      <th>5</th>\n",
       "      <td></td>\n",
       "      <td>news</td>\n",
       "      <td>user driven social content website</td>\n",
       "      <td>$45M</td>\n",
       "      <td>2004</td>\n",
       "      <td>[{'description': None, 'address1': '135 Missis...</td>\n",
       "      <td>NaN</td>\n",
       "      <td>NaN</td>\n",
       "      <td>NaN</td>\n",
       "      <td>None</td>\n",
       "      <td>37.764726</td>\n",
       "      <td>-122.394523</td>\n",
       "      <td>{'type': 'Point', 'coordinates': [-122.394523,...</td>\n",
       "      <td>1.0</td>\n",
       "    </tr>\n",
       "    <tr>\n",
       "      <th>6</th>\n",
       "      <td></td>\n",
       "      <td>web</td>\n",
       "      <td>Geneology social network site</td>\n",
       "      <td>$16.5M</td>\n",
       "      <td>2006</td>\n",
       "      <td>[{'description': 'Headquarters', 'address1': '...</td>\n",
       "      <td>NaN</td>\n",
       "      <td>NaN</td>\n",
       "      <td>NaN</td>\n",
       "      <td>None</td>\n",
       "      <td>34.090368</td>\n",
       "      <td>-118.393064</td>\n",
       "      <td>{'type': 'Point', 'coordinates': [-118.393064,...</td>\n",
       "      <td>1.0</td>\n",
       "    </tr>\n",
       "    <tr>\n",
       "      <th>7</th>\n",
       "      <td>None</td>\n",
       "      <td>games_video</td>\n",
       "      <td>None</td>\n",
       "      <td>$0</td>\n",
       "      <td>0</td>\n",
       "      <td>[{'description': None, 'address1': '8536 Natio...</td>\n",
       "      <td>NaN</td>\n",
       "      <td>NaN</td>\n",
       "      <td>NaN</td>\n",
       "      <td>None</td>\n",
       "      <td>34.025958</td>\n",
       "      <td>-118.379768</td>\n",
       "      <td>{'type': 'Point', 'coordinates': [-118.379768,...</td>\n",
       "      <td>1.0</td>\n",
       "    </tr>\n",
       "    <tr>\n",
       "      <th>9</th>\n",
       "      <td></td>\n",
       "      <td>web</td>\n",
       "      <td>Photo animation</td>\n",
       "      <td>$18.1M</td>\n",
       "      <td>2003</td>\n",
       "      <td>[{'description': None, 'address1': None, 'addr...</td>\n",
       "      <td>NaN</td>\n",
       "      <td>NaN</td>\n",
       "      <td>NaN</td>\n",
       "      <td>None</td>\n",
       "      <td>37.484130</td>\n",
       "      <td>-122.169472</td>\n",
       "      <td>{'type': 'Point', 'coordinates': [-122.169472,...</td>\n",
       "      <td>1.0</td>\n",
       "    </tr>\n",
       "  </tbody>\n",
       "</table>\n",
       "</div>"
      ],
      "text/plain": [
       "  alias_list category_code                         description  \\\n",
       "4       None           web                                None   \n",
       "5                     news  user driven social content website   \n",
       "6                      web       Geneology social network site   \n",
       "7       None   games_video                                None   \n",
       "9                      web                     Photo animation   \n",
       "\n",
       "  total_money_raised  founded_year  \\\n",
       "4                 $0          1999   \n",
       "5               $45M          2004   \n",
       "6             $16.5M          2006   \n",
       "7                 $0             0   \n",
       "9             $18.1M          2003   \n",
       "\n",
       "                                             offices  deadpooled_year  \\\n",
       "4  [{'description': None, 'address1': '959 Skyway...              NaN   \n",
       "5  [{'description': None, 'address1': '135 Missis...              NaN   \n",
       "6  [{'description': 'Headquarters', 'address1': '...              NaN   \n",
       "7  [{'description': None, 'address1': '8536 Natio...              NaN   \n",
       "9  [{'description': None, 'address1': None, 'addr...              NaN   \n",
       "\n",
       "   deadpooled_day  deadpooled_month deadpooled_url        lat         lng  \\\n",
       "4             NaN               NaN           None  37.506885 -122.247573   \n",
       "5             NaN               NaN           None  37.764726 -122.394523   \n",
       "6             NaN               NaN           None  34.090368 -118.393064   \n",
       "7             NaN               NaN           None  34.025958 -118.379768   \n",
       "9             NaN               NaN           None  37.484130 -122.169472   \n",
       "\n",
       "                                   oficina_principal  totalOffices  \n",
       "4  {'type': 'Point', 'coordinates': [-122.247573,...           1.0  \n",
       "5  {'type': 'Point', 'coordinates': [-122.394523,...           1.0  \n",
       "6  {'type': 'Point', 'coordinates': [-118.393064,...           1.0  \n",
       "7  {'type': 'Point', 'coordinates': [-118.379768,...           1.0  \n",
       "9  {'type': 'Point', 'coordinates': [-122.169472,...           1.0  "
      ]
     },
     "metadata": {},
     "output_type": "display_data"
    }
   ],
   "source": [
    "display(data_deads.head())"
   ]
  },
  {
   "cell_type": "code",
   "execution_count": 36,
   "metadata": {},
   "outputs": [
    {
     "data": {
      "text/html": [
       "<div>\n",
       "<style scoped>\n",
       "    .dataframe tbody tr th:only-of-type {\n",
       "        vertical-align: middle;\n",
       "    }\n",
       "\n",
       "    .dataframe tbody tr th {\n",
       "        vertical-align: top;\n",
       "    }\n",
       "\n",
       "    .dataframe thead th {\n",
       "        text-align: right;\n",
       "    }\n",
       "</style>\n",
       "<table border=\"1\" class=\"dataframe\">\n",
       "  <thead>\n",
       "    <tr style=\"text-align: right;\">\n",
       "      <th></th>\n",
       "      <th>alias_list</th>\n",
       "      <th>category_code</th>\n",
       "      <th>description</th>\n",
       "      <th>total_money_raised</th>\n",
       "      <th>founded_year</th>\n",
       "      <th>offices</th>\n",
       "      <th>lat</th>\n",
       "      <th>lng</th>\n",
       "    </tr>\n",
       "  </thead>\n",
       "  <tbody>\n",
       "    <tr>\n",
       "      <th>4</th>\n",
       "      <td>None</td>\n",
       "      <td>web</td>\n",
       "      <td>None</td>\n",
       "      <td>$0</td>\n",
       "      <td>1999</td>\n",
       "      <td>[{'description': None, 'address1': '959 Skyway...</td>\n",
       "      <td>37.506885</td>\n",
       "      <td>-122.247573</td>\n",
       "    </tr>\n",
       "    <tr>\n",
       "      <th>5</th>\n",
       "      <td></td>\n",
       "      <td>news</td>\n",
       "      <td>user driven social content website</td>\n",
       "      <td>$45M</td>\n",
       "      <td>2004</td>\n",
       "      <td>[{'description': None, 'address1': '135 Missis...</td>\n",
       "      <td>37.764726</td>\n",
       "      <td>-122.394523</td>\n",
       "    </tr>\n",
       "    <tr>\n",
       "      <th>6</th>\n",
       "      <td></td>\n",
       "      <td>web</td>\n",
       "      <td>Geneology social network site</td>\n",
       "      <td>$16.5M</td>\n",
       "      <td>2006</td>\n",
       "      <td>[{'description': 'Headquarters', 'address1': '...</td>\n",
       "      <td>34.090368</td>\n",
       "      <td>-118.393064</td>\n",
       "    </tr>\n",
       "    <tr>\n",
       "      <th>7</th>\n",
       "      <td>None</td>\n",
       "      <td>games_video</td>\n",
       "      <td>None</td>\n",
       "      <td>$0</td>\n",
       "      <td>0</td>\n",
       "      <td>[{'description': None, 'address1': '8536 Natio...</td>\n",
       "      <td>34.025958</td>\n",
       "      <td>-118.379768</td>\n",
       "    </tr>\n",
       "    <tr>\n",
       "      <th>9</th>\n",
       "      <td></td>\n",
       "      <td>web</td>\n",
       "      <td>Photo animation</td>\n",
       "      <td>$18.1M</td>\n",
       "      <td>2003</td>\n",
       "      <td>[{'description': None, 'address1': None, 'addr...</td>\n",
       "      <td>37.484130</td>\n",
       "      <td>-122.169472</td>\n",
       "    </tr>\n",
       "  </tbody>\n",
       "</table>\n",
       "</div>"
      ],
      "text/plain": [
       "  alias_list category_code                         description  \\\n",
       "4       None           web                                None   \n",
       "5                     news  user driven social content website   \n",
       "6                      web       Geneology social network site   \n",
       "7       None   games_video                                None   \n",
       "9                      web                     Photo animation   \n",
       "\n",
       "  total_money_raised  founded_year  \\\n",
       "4                 $0          1999   \n",
       "5               $45M          2004   \n",
       "6             $16.5M          2006   \n",
       "7                 $0             0   \n",
       "9             $18.1M          2003   \n",
       "\n",
       "                                             offices        lat         lng  \n",
       "4  [{'description': None, 'address1': '959 Skyway...  37.506885 -122.247573  \n",
       "5  [{'description': None, 'address1': '135 Missis...  37.764726 -122.394523  \n",
       "6  [{'description': 'Headquarters', 'address1': '...  34.090368 -118.393064  \n",
       "7  [{'description': None, 'address1': '8536 Natio...  34.025958 -118.379768  \n",
       "9  [{'description': None, 'address1': None, 'addr...  37.484130 -122.169472  "
      ]
     },
     "metadata": {},
     "output_type": "display_data"
    },
    {
     "data": {
      "text/plain": [
       "(8859, 8)"
      ]
     },
     "execution_count": 36,
     "metadata": {},
     "output_type": "execute_result"
    }
   ],
   "source": [
    "data_companies_clean = data_deads[['alias_list', 'category_code', 'description', 'total_money_raised', 'founded_year', 'offices', 'lat', 'lng']]\n",
    "display(data_companies_clean.head())\n",
    "data_companies_clean.shape"
   ]
  },
  {
   "cell_type": "code",
   "execution_count": 37,
   "metadata": {},
   "outputs": [
    {
     "data": {
      "text/plain": [
       "(2917, 8)"
      ]
     },
     "execution_count": 37,
     "metadata": {},
     "output_type": "execute_result"
    }
   ],
   "source": [
    "data_year = data_companies_clean[data_companies_clean['founded_year']>2006]\n",
    "data_year.shape"
   ]
  },
  {
   "cell_type": "code",
   "execution_count": 38,
   "metadata": {},
   "outputs": [
    {
     "data": {
      "text/plain": [
       "(813, 8)"
      ]
     },
     "execution_count": 38,
     "metadata": {},
     "output_type": "execute_result"
    }
   ],
   "source": [
    "data_web = data_year[data_year['category_code'] == 'web']\n",
    "data_web.shape"
   ]
  },
  {
   "cell_type": "code",
   "execution_count": 39,
   "metadata": {},
   "outputs": [
    {
     "data": {
      "text/plain": [
       "(154, 8)"
      ]
     },
     "execution_count": 39,
     "metadata": {},
     "output_type": "execute_result"
    }
   ],
   "source": [
    "data_final = data_web[data_web['total_money_raised'] != '$0']\n",
    "data_final.shape"
   ]
  },
  {
   "cell_type": "code",
   "execution_count": null,
   "metadata": {},
   "outputs": [],
   "source": []
  },
  {
   "cell_type": "code",
   "execution_count": 40,
   "metadata": {},
   "outputs": [],
   "source": [
    "#The idea is to develop elaborated backend products to be sold to other web startup. other startups. Because of that, I only select young startups\n",
    "#which have been funded and are not big enough to develop these products by their own. "
   ]
  },
  {
   "cell_type": "code",
   "execution_count": 41,
   "metadata": {},
   "outputs": [],
   "source": [
    "data_final.to_json('/Users/alejandroiborralucas/Desktop/Git-iron/Project crunchbase/visualizing-real-world-data-project/oficinas.json', orient=\"records\")"
   ]
  },
  {
   "cell_type": "code",
   "execution_count": null,
   "metadata": {},
   "outputs": [],
   "source": []
  },
  {
   "cell_type": "code",
   "execution_count": null,
   "metadata": {},
   "outputs": [],
   "source": []
  },
  {
   "cell_type": "code",
   "execution_count": 19,
   "metadata": {},
   "outputs": [
    {
     "name": "stderr",
     "output_type": "stream",
     "text": [
      "/usr/local/Cellar/ipython/7.3.0/libexec/vendor/lib/python3.7/site-packages/ipykernel_launcher.py:4: SettingWithCopyWarning: \n",
      "A value is trying to be set on a copy of a slice from a DataFrame.\n",
      "Try using .loc[row_indexer,col_indexer] = value instead\n",
      "\n",
      "See the caveats in the documentation: http://pandas.pydata.org/pandas-docs/stable/indexing.html#indexing-view-versus-copy\n",
      "  after removing the cwd from sys.path.\n"
     ]
    },
    {
     "data": {
      "text/html": [
       "<div>\n",
       "<style scoped>\n",
       "    .dataframe tbody tr th:only-of-type {\n",
       "        vertical-align: middle;\n",
       "    }\n",
       "\n",
       "    .dataframe tbody tr th {\n",
       "        vertical-align: top;\n",
       "    }\n",
       "\n",
       "    .dataframe thead th {\n",
       "        text-align: right;\n",
       "    }\n",
       "</style>\n",
       "<table border=\"1\" class=\"dataframe\">\n",
       "  <thead>\n",
       "    <tr style=\"text-align: right;\">\n",
       "      <th></th>\n",
       "      <th>alias_list</th>\n",
       "      <th>category_code</th>\n",
       "      <th>description</th>\n",
       "      <th>total_money_raised</th>\n",
       "      <th>founded_year</th>\n",
       "      <th>lat</th>\n",
       "      <th>lng</th>\n",
       "      <th>Currency type</th>\n",
       "    </tr>\n",
       "  </thead>\n",
       "  <tbody>\n",
       "    <tr>\n",
       "      <th>4</th>\n",
       "      <td>None</td>\n",
       "      <td>web</td>\n",
       "      <td>None</td>\n",
       "      <td>$0</td>\n",
       "      <td>1999</td>\n",
       "      <td>37.506885</td>\n",
       "      <td>-122.247573</td>\n",
       "      <td>[$]</td>\n",
       "    </tr>\n",
       "    <tr>\n",
       "      <th>5</th>\n",
       "      <td></td>\n",
       "      <td>news</td>\n",
       "      <td>user driven social content website</td>\n",
       "      <td>$45M</td>\n",
       "      <td>2004</td>\n",
       "      <td>37.764726</td>\n",
       "      <td>-122.394523</td>\n",
       "      <td>[$, M]</td>\n",
       "    </tr>\n",
       "    <tr>\n",
       "      <th>6</th>\n",
       "      <td></td>\n",
       "      <td>web</td>\n",
       "      <td>Geneology social network site</td>\n",
       "      <td>$16.5M</td>\n",
       "      <td>2006</td>\n",
       "      <td>34.090368</td>\n",
       "      <td>-118.393064</td>\n",
       "      <td>[$, ., M]</td>\n",
       "    </tr>\n",
       "    <tr>\n",
       "      <th>7</th>\n",
       "      <td>None</td>\n",
       "      <td>games_video</td>\n",
       "      <td>None</td>\n",
       "      <td>$0</td>\n",
       "      <td>0</td>\n",
       "      <td>34.025958</td>\n",
       "      <td>-118.379768</td>\n",
       "      <td>[$]</td>\n",
       "    </tr>\n",
       "    <tr>\n",
       "      <th>9</th>\n",
       "      <td></td>\n",
       "      <td>web</td>\n",
       "      <td>Photo animation</td>\n",
       "      <td>$18.1M</td>\n",
       "      <td>2003</td>\n",
       "      <td>37.484130</td>\n",
       "      <td>-122.169472</td>\n",
       "      <td>[$, ., M]</td>\n",
       "    </tr>\n",
       "  </tbody>\n",
       "</table>\n",
       "</div>"
      ],
      "text/plain": [
       "  alias_list category_code                         description  \\\n",
       "4       None           web                                None   \n",
       "5                     news  user driven social content website   \n",
       "6                      web       Geneology social network site   \n",
       "7       None   games_video                                None   \n",
       "9                      web                     Photo animation   \n",
       "\n",
       "  total_money_raised  founded_year        lat         lng Currency type  \n",
       "4                 $0          1999  37.506885 -122.247573           [$]  \n",
       "5               $45M          2004  37.764726 -122.394523        [$, M]  \n",
       "6             $16.5M          2006  34.090368 -118.393064     [$, ., M]  \n",
       "7                 $0             0  34.025958 -118.379768           [$]  \n",
       "9             $18.1M          2003  37.484130 -122.169472     [$, ., M]  "
      ]
     },
     "metadata": {},
     "output_type": "display_data"
    }
   ],
   "source": [
    "# def splitMoney(df): \n",
    "#     x = re.findall('([^\\d+])', df)\n",
    "#     return x\n",
    "# data_companies_clean['Currency type'] = data_companies_clean['total_money_raised'].apply(splitMoney)\n",
    "\n",
    "# #display(data_companies_clean['Currency type'].head())\n",
    "# display(data_companies_clean.head())"
   ]
  },
  {
   "cell_type": "code",
   "execution_count": 20,
   "metadata": {},
   "outputs": [
    {
     "data": {
      "text/plain": [
       "[$]             5927\n",
       "[$, ., M]       1421\n",
       "[$, M]           991\n",
       "[$, k]           328\n",
       "[€, k]            50\n",
       "[€, ., M]         44\n",
       "[€, M]            36\n",
       "[£, ., M]         16\n",
       "[£, k]            14\n",
       "[£, M]            10\n",
       "[C, $, ., M]       6\n",
       "[$, ., B]          5\n",
       "[C, $, k]          4\n",
       "[C, $, M]          4\n",
       "[$, B]             1\n",
       "[$, ., k]          1\n",
       "[k, r, M]          1\n",
       "Name: Currency type, dtype: int64"
      ]
     },
     "execution_count": 20,
     "metadata": {},
     "output_type": "execute_result"
    }
   ],
   "source": [
    "# data_companies_clean['Currency type'].value_counts()"
   ]
  },
  {
   "cell_type": "code",
   "execution_count": 21,
   "metadata": {},
   "outputs": [
    {
     "name": "stdout",
     "output_type": "stream",
     "text": [
      "['$', '€', '£', 'C', 'k']\n"
     ]
    }
   ],
   "source": [
    "# values=[]\n",
    "# a = ['$', '€', '£', 'C', 'k']\n",
    "# for i in data_companies_clean['Currency type']:\n",
    "#     if i[0] not in values:\n",
    "#         values.append(i[0])\n",
    "# print(values)"
   ]
  },
  {
   "cell_type": "code",
   "execution_count": 37,
   "metadata": {},
   "outputs": [
    {
     "name": "stderr",
     "output_type": "stream",
     "text": [
      "/usr/local/Cellar/ipython/7.3.0/libexec/vendor/lib/python3.7/site-packages/ipykernel_launcher.py:8: SettingWithCopyWarning: \n",
      "A value is trying to be set on a copy of a slice from a DataFrame.\n",
      "Try using .loc[row_indexer,col_indexer] = value instead\n",
      "\n",
      "See the caveats in the documentation: http://pandas.pydata.org/pandas-docs/stable/indexing.html#indexing-view-versus-copy\n",
      "  \n"
     ]
    }
   ],
   "source": [
    "# #VOY POR AQUI. MONTAR FUNCION USANDO REGEX QUE BUSQUE M Y MULTIPLIQUE POR 1X10^6, ETC. + API PARA TIPOS DE CAMBIO\n",
    "\n",
    "# def valueMultiplier(df):\n",
    "#     x = re.findall('(\\d+)', df)\n",
    "    \n",
    "#     return x\n",
    "\n",
    "# data_companies_clean['Value Gross'] = data_companies_clean['total_money_raised'].apply(valueMultiplier)\n",
    "    "
   ]
  },
  {
   "cell_type": "code",
   "execution_count": 50,
   "metadata": {},
   "outputs": [],
   "source": [
    "#def findCurrency (m):\n",
    "#    currency_dict = {\n",
    "#        '$': 1\n",
    "#        '€': 1.12\n",
    "#        '£': 1.25\n",
    "#        'C$': 0.76\n",
    "#        'kr': 0.11\n",
    "#    }\n",
    "#for currency, value in findMonth.items():\n",
    "#    if currency in m:\n",
    "#        return int(value)\n",
    "#    return 0 \n",
    "#data_companies_clean['Currency type'] = data_companies_clean['total_money_raised'].apply(findCurrency)"
   ]
  },
  {
   "cell_type": "code",
   "execution_count": 69,
   "metadata": {},
   "outputs": [],
   "source": [
    "# data_companies_clean['a'] = [data_companies_clean['total_money_raised'].str.split('$', expand=True)]\n",
    "\n",
    "# display(data_companies_clean.head())"
   ]
  },
  {
   "cell_type": "code",
   "execution_count": null,
   "metadata": {},
   "outputs": [],
   "source": [
    "# def classifyCurrencies(df):\n",
    "#     money_type = []\n",
    "    \n",
    "#     for i in splitCurrencies(df):\n",
    "#         if i in currencies:\n",
    "#             money_type.append(i)\n",
    "#     return money_type"
   ]
  },
  {
   "cell_type": "code",
   "execution_count": 28,
   "metadata": {},
   "outputs": [
    {
     "name": "stdout",
     "output_type": "stream",
     "text": [
      "['$0', '$4', '$1', '$2', '$7', '$5', '$6', '$3', '$8', '$9', '€1', '£3', '€3', '€5', '€4', '£2', 'C$', '€8', '€2', '€9', '£1', '£4', '€6', '€7', '£5', '£7', 'kr', '£9', '£6', '£8']\n"
     ]
    }
   ],
   "source": [
    "# #tipos de monedas en el dataset\n",
    "# currencies_types=[]\n",
    "# for i in data_companies_clean['total_money_raised']:\n",
    "#     if i[0:2] not in currencies_types:\n",
    "#         currencies_types.append(i[0:2])\n",
    "\n",
    "# print(currencies_types)"
   ]
  },
  {
   "cell_type": "code",
   "execution_count": 49,
   "metadata": {},
   "outputs": [],
   "source": [
    "# currency=[]\n",
    "# for i in data_companies_clean['total_money_raised']:\n",
    "#     currency.append(i[0:2])\n",
    "\n"
   ]
  },
  {
   "cell_type": "code",
   "execution_count": 48,
   "metadata": {},
   "outputs": [
    {
     "data": {
      "text/html": [
       "<div>\n",
       "<style scoped>\n",
       "    .dataframe tbody tr th:only-of-type {\n",
       "        vertical-align: middle;\n",
       "    }\n",
       "\n",
       "    .dataframe tbody tr th {\n",
       "        vertical-align: top;\n",
       "    }\n",
       "\n",
       "    .dataframe thead th {\n",
       "        text-align: right;\n",
       "    }\n",
       "</style>\n",
       "<table border=\"1\" class=\"dataframe\">\n",
       "  <thead>\n",
       "    <tr style=\"text-align: right;\">\n",
       "      <th></th>\n",
       "      <th>Currency</th>\n",
       "    </tr>\n",
       "  </thead>\n",
       "  <tbody>\n",
       "    <tr>\n",
       "      <th>0</th>\n",
       "      <td>$0</td>\n",
       "    </tr>\n",
       "    <tr>\n",
       "      <th>1</th>\n",
       "      <td>$4</td>\n",
       "    </tr>\n",
       "    <tr>\n",
       "      <th>2</th>\n",
       "      <td>$1</td>\n",
       "    </tr>\n",
       "    <tr>\n",
       "      <th>3</th>\n",
       "      <td>$0</td>\n",
       "    </tr>\n",
       "    <tr>\n",
       "      <th>4</th>\n",
       "      <td>$0</td>\n",
       "    </tr>\n",
       "  </tbody>\n",
       "</table>\n",
       "</div>"
      ],
      "text/plain": [
       "  Currency\n",
       "0       $0\n",
       "1       $4\n",
       "2       $1\n",
       "3       $0\n",
       "4       $0"
      ]
     },
     "metadata": {},
     "output_type": "display_data"
    }
   ],
   "source": [
    "# currency_type = pd.DataFrame({'Currency':currency})\n",
    "# display(currency_type.head())"
   ]
  },
  {
   "cell_type": "code",
   "execution_count": null,
   "metadata": {},
   "outputs": [],
   "source": []
  },
  {
   "cell_type": "code",
   "execution_count": 30,
   "metadata": {},
   "outputs": [],
   "source": [
    "# def splitCurrencies(df):\n",
    "#     split = df.str.split('')\n",
    "#     return split\n",
    "\n",
    "\n"
   ]
  },
  {
   "cell_type": "code",
   "execution_count": 31,
   "metadata": {},
   "outputs": [
    {
     "ename": "AttributeError",
     "evalue": "'DataFrame' object has no attribute 'str'",
     "output_type": "error",
     "traceback": [
      "\u001b[0;31m---------------------------------------------------------------------------\u001b[0m",
      "\u001b[0;31mAttributeError\u001b[0m                            Traceback (most recent call last)",
      "\u001b[0;32m<ipython-input-31-ea823356efd6>\u001b[0m in \u001b[0;36m<module>\u001b[0;34m\u001b[0m\n\u001b[1;32m      6\u001b[0m     \u001b[0;32mreturn\u001b[0m \u001b[0mmoney_type\u001b[0m\u001b[0;34m\u001b[0m\u001b[0;34m\u001b[0m\u001b[0m\n\u001b[1;32m      7\u001b[0m \u001b[0;34m\u001b[0m\u001b[0m\n\u001b[0;32m----> 8\u001b[0;31m \u001b[0mclassifyCurrencies\u001b[0m\u001b[0;34m(\u001b[0m\u001b[0mdata_companies_clean\u001b[0m\u001b[0;34m[\u001b[0m\u001b[0;34m[\u001b[0m\u001b[0;34m'total_money_raised'\u001b[0m\u001b[0;34m]\u001b[0m\u001b[0;34m]\u001b[0m\u001b[0;34m)\u001b[0m\u001b[0;34m\u001b[0m\u001b[0;34m\u001b[0m\u001b[0m\n\u001b[0m",
      "\u001b[0;32m<ipython-input-31-ea823356efd6>\u001b[0m in \u001b[0;36mclassifyCurrencies\u001b[0;34m(df)\u001b[0m\n\u001b[1;32m      1\u001b[0m \u001b[0;32mdef\u001b[0m \u001b[0mclassifyCurrencies\u001b[0m\u001b[0;34m(\u001b[0m\u001b[0mdf\u001b[0m\u001b[0;34m)\u001b[0m\u001b[0;34m:\u001b[0m\u001b[0;34m\u001b[0m\u001b[0;34m\u001b[0m\u001b[0m\n\u001b[1;32m      2\u001b[0m     \u001b[0mmoney_type\u001b[0m \u001b[0;34m=\u001b[0m \u001b[0;34m[\u001b[0m\u001b[0;34m]\u001b[0m\u001b[0;34m\u001b[0m\u001b[0;34m\u001b[0m\u001b[0m\n\u001b[0;32m----> 3\u001b[0;31m     \u001b[0;32mfor\u001b[0m \u001b[0mi\u001b[0m \u001b[0;32min\u001b[0m \u001b[0msplitCurrencies\u001b[0m\u001b[0;34m(\u001b[0m\u001b[0mdf\u001b[0m\u001b[0;34m)\u001b[0m\u001b[0;34m:\u001b[0m\u001b[0;34m\u001b[0m\u001b[0;34m\u001b[0m\u001b[0m\n\u001b[0m\u001b[1;32m      4\u001b[0m         \u001b[0;32mif\u001b[0m \u001b[0mi\u001b[0m \u001b[0;32min\u001b[0m \u001b[0mcurrencies\u001b[0m\u001b[0;34m:\u001b[0m\u001b[0;34m\u001b[0m\u001b[0;34m\u001b[0m\u001b[0m\n\u001b[1;32m      5\u001b[0m             \u001b[0mmoney_type\u001b[0m\u001b[0;34m.\u001b[0m\u001b[0mappend\u001b[0m\u001b[0;34m(\u001b[0m\u001b[0mi\u001b[0m\u001b[0;34m)\u001b[0m\u001b[0;34m\u001b[0m\u001b[0;34m\u001b[0m\u001b[0m\n",
      "\u001b[0;32m<ipython-input-30-a3faa4b2769c>\u001b[0m in \u001b[0;36msplitCurrencies\u001b[0;34m(df)\u001b[0m\n\u001b[1;32m      1\u001b[0m \u001b[0;32mdef\u001b[0m \u001b[0msplitCurrencies\u001b[0m\u001b[0;34m(\u001b[0m\u001b[0mdf\u001b[0m\u001b[0;34m)\u001b[0m\u001b[0;34m:\u001b[0m\u001b[0;34m\u001b[0m\u001b[0;34m\u001b[0m\u001b[0m\n\u001b[0;32m----> 2\u001b[0;31m     \u001b[0msplit\u001b[0m \u001b[0;34m=\u001b[0m \u001b[0mdf\u001b[0m\u001b[0;34m.\u001b[0m\u001b[0mstr\u001b[0m\u001b[0;34m.\u001b[0m\u001b[0msplit\u001b[0m\u001b[0;34m(\u001b[0m\u001b[0;34m''\u001b[0m\u001b[0;34m)\u001b[0m\u001b[0;34m\u001b[0m\u001b[0;34m\u001b[0m\u001b[0m\n\u001b[0m\u001b[1;32m      3\u001b[0m     \u001b[0;32mreturn\u001b[0m \u001b[0msplit\u001b[0m\u001b[0;34m\u001b[0m\u001b[0;34m\u001b[0m\u001b[0m\n\u001b[1;32m      4\u001b[0m \u001b[0;34m\u001b[0m\u001b[0m\n\u001b[1;32m      5\u001b[0m \u001b[0;34m\u001b[0m\u001b[0m\n",
      "\u001b[0;32m~/Library/Python/3.7/lib/python/site-packages/pandas/core/generic.py\u001b[0m in \u001b[0;36m__getattr__\u001b[0;34m(self, name)\u001b[0m\n\u001b[1;32m   5065\u001b[0m             \u001b[0;32mif\u001b[0m \u001b[0mself\u001b[0m\u001b[0;34m.\u001b[0m\u001b[0m_info_axis\u001b[0m\u001b[0;34m.\u001b[0m\u001b[0m_can_hold_identifiers_and_holds_name\u001b[0m\u001b[0;34m(\u001b[0m\u001b[0mname\u001b[0m\u001b[0;34m)\u001b[0m\u001b[0;34m:\u001b[0m\u001b[0;34m\u001b[0m\u001b[0;34m\u001b[0m\u001b[0m\n\u001b[1;32m   5066\u001b[0m                 \u001b[0;32mreturn\u001b[0m \u001b[0mself\u001b[0m\u001b[0;34m[\u001b[0m\u001b[0mname\u001b[0m\u001b[0;34m]\u001b[0m\u001b[0;34m\u001b[0m\u001b[0;34m\u001b[0m\u001b[0m\n\u001b[0;32m-> 5067\u001b[0;31m             \u001b[0;32mreturn\u001b[0m \u001b[0mobject\u001b[0m\u001b[0;34m.\u001b[0m\u001b[0m__getattribute__\u001b[0m\u001b[0;34m(\u001b[0m\u001b[0mself\u001b[0m\u001b[0;34m,\u001b[0m \u001b[0mname\u001b[0m\u001b[0;34m)\u001b[0m\u001b[0;34m\u001b[0m\u001b[0;34m\u001b[0m\u001b[0m\n\u001b[0m\u001b[1;32m   5068\u001b[0m \u001b[0;34m\u001b[0m\u001b[0m\n\u001b[1;32m   5069\u001b[0m     \u001b[0;32mdef\u001b[0m \u001b[0m__setattr__\u001b[0m\u001b[0;34m(\u001b[0m\u001b[0mself\u001b[0m\u001b[0;34m,\u001b[0m \u001b[0mname\u001b[0m\u001b[0;34m,\u001b[0m \u001b[0mvalue\u001b[0m\u001b[0;34m)\u001b[0m\u001b[0;34m:\u001b[0m\u001b[0;34m\u001b[0m\u001b[0;34m\u001b[0m\u001b[0m\n",
      "\u001b[0;31mAttributeError\u001b[0m: 'DataFrame' object has no attribute 'str'"
     ]
    }
   ],
   "source": [
    "# def classifyCurrencies(df):\n",
    "#     money_type = []\n",
    "#     for i in splitCurrencies(df):\n",
    "#         if i in currencies:\n",
    "#             money_type.append(i)\n",
    "#     return money_type\n",
    "\n",
    "# classifyCurrencies(data_companies_clean[['total_money_raised']])"
   ]
  },
  {
   "cell_type": "code",
   "execution_count": 32,
   "metadata": {},
   "outputs": [
    {
     "name": "stderr",
     "output_type": "stream",
     "text": [
      "/usr/local/Cellar/ipython/7.3.0/libexec/vendor/lib/python3.7/site-packages/ipykernel_launcher.py:1: SettingWithCopyWarning: \n",
      "A value is trying to be set on a copy of a slice from a DataFrame.\n",
      "Try using .loc[row_indexer,col_indexer] = value instead\n",
      "\n",
      "See the caveats in the documentation: http://pandas.pydata.org/pandas-docs/stable/indexing.html#indexing-view-versus-copy\n",
      "  \"\"\"Entry point for launching an IPython kernel.\n"
     ]
    }
   ],
   "source": [
    "# data_companies_clean['currency']= data_companies_clean[['total_money_raised']].apply(splitCurrencies, result_type = 'expand', axis=1)\n"
   ]
  },
  {
   "cell_type": "code",
   "execution_count": 33,
   "metadata": {},
   "outputs": [
    {
     "data": {
      "text/html": [
       "<div>\n",
       "<style scoped>\n",
       "    .dataframe tbody tr th:only-of-type {\n",
       "        vertical-align: middle;\n",
       "    }\n",
       "\n",
       "    .dataframe tbody tr th {\n",
       "        vertical-align: top;\n",
       "    }\n",
       "\n",
       "    .dataframe thead th {\n",
       "        text-align: right;\n",
       "    }\n",
       "</style>\n",
       "<table border=\"1\" class=\"dataframe\">\n",
       "  <thead>\n",
       "    <tr style=\"text-align: right;\">\n",
       "      <th></th>\n",
       "      <th>alias_list</th>\n",
       "      <th>category_code</th>\n",
       "      <th>description</th>\n",
       "      <th>total_money_raised</th>\n",
       "      <th>founded_year</th>\n",
       "      <th>lat</th>\n",
       "      <th>long</th>\n",
       "      <th>currency</th>\n",
       "    </tr>\n",
       "  </thead>\n",
       "  <tbody>\n",
       "    <tr>\n",
       "      <th>4</th>\n",
       "      <td>None</td>\n",
       "      <td>web</td>\n",
       "      <td>None</td>\n",
       "      <td>$0</td>\n",
       "      <td>1999</td>\n",
       "      <td>37.506885</td>\n",
       "      <td>-122.247573</td>\n",
       "      <td>[, $, 0, ]</td>\n",
       "    </tr>\n",
       "    <tr>\n",
       "      <th>5</th>\n",
       "      <td></td>\n",
       "      <td>news</td>\n",
       "      <td>user driven social content website</td>\n",
       "      <td>$45M</td>\n",
       "      <td>2004</td>\n",
       "      <td>37.764726</td>\n",
       "      <td>-122.394523</td>\n",
       "      <td>[, $, 4, 5, M, ]</td>\n",
       "    </tr>\n",
       "    <tr>\n",
       "      <th>6</th>\n",
       "      <td></td>\n",
       "      <td>web</td>\n",
       "      <td>Geneology social network site</td>\n",
       "      <td>$16.5M</td>\n",
       "      <td>2006</td>\n",
       "      <td>34.090368</td>\n",
       "      <td>-118.393064</td>\n",
       "      <td>[, $, 1, 6, ., 5, M, ]</td>\n",
       "    </tr>\n",
       "    <tr>\n",
       "      <th>7</th>\n",
       "      <td>None</td>\n",
       "      <td>games_video</td>\n",
       "      <td>None</td>\n",
       "      <td>$0</td>\n",
       "      <td>0</td>\n",
       "      <td>34.025958</td>\n",
       "      <td>-118.379768</td>\n",
       "      <td>[, $, 0, ]</td>\n",
       "    </tr>\n",
       "    <tr>\n",
       "      <th>8</th>\n",
       "      <td>None</td>\n",
       "      <td>web</td>\n",
       "      <td></td>\n",
       "      <td>$0</td>\n",
       "      <td>1979</td>\n",
       "      <td>34.076179</td>\n",
       "      <td>-118.394170</td>\n",
       "      <td>[, $, 0, ]</td>\n",
       "    </tr>\n",
       "  </tbody>\n",
       "</table>\n",
       "</div>"
      ],
      "text/plain": [
       "  alias_list category_code                         description  \\\n",
       "4       None           web                                None   \n",
       "5                     news  user driven social content website   \n",
       "6                      web       Geneology social network site   \n",
       "7       None   games_video                                None   \n",
       "8       None           web                                       \n",
       "\n",
       "  total_money_raised  founded_year        lat        long  \\\n",
       "4                 $0          1999  37.506885 -122.247573   \n",
       "5               $45M          2004  37.764726 -122.394523   \n",
       "6             $16.5M          2006  34.090368 -118.393064   \n",
       "7                 $0             0  34.025958 -118.379768   \n",
       "8                 $0          1979  34.076179 -118.394170   \n",
       "\n",
       "                 currency  \n",
       "4              [, $, 0, ]  \n",
       "5        [, $, 4, 5, M, ]  \n",
       "6  [, $, 1, 6, ., 5, M, ]  \n",
       "7              [, $, 0, ]  \n",
       "8              [, $, 0, ]  "
      ]
     },
     "metadata": {},
     "output_type": "display_data"
    }
   ],
   "source": [
    "# display(data_companies_clean.head())"
   ]
  },
  {
   "cell_type": "code",
   "execution_count": 43,
   "metadata": {},
   "outputs": [
    {
     "name": "stdout",
     "output_type": "stream",
     "text": [
      "[]\n"
     ]
    }
   ],
   "source": []
  },
  {
   "cell_type": "code",
   "execution_count": null,
   "metadata": {},
   "outputs": [],
   "source": []
  }
 ],
 "metadata": {
  "kernelspec": {
   "display_name": "Python 3",
   "language": "python",
   "name": "python3"
  },
  "language_info": {
   "codemirror_mode": {
    "name": "ipython",
    "version": 3
   },
   "file_extension": ".py",
   "mimetype": "text/x-python",
   "name": "python",
   "nbconvert_exporter": "python",
   "pygments_lexer": "ipython3",
   "version": "3.7.2"
  }
 },
 "nbformat": 4,
 "nbformat_minor": 2
}
