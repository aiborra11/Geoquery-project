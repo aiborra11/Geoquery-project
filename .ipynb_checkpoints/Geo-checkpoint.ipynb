{
 "cells": [
  {
   "cell_type": "code",
   "execution_count": 1,
   "metadata": {},
   "outputs": [],
   "source": [
    "from pymongo import MongoClient\n",
    "import pandas as pd\n",
    "import pymongo\n",
    "import folium"
   ]
  },
  {
   "cell_type": "code",
   "execution_count": 2,
   "metadata": {},
   "outputs": [],
   "source": [
    "client = MongoClient('mongodb://localhost:27017/')\n",
    "db = client.companies\n",
    "data = db.data_companies_clean.find()"
   ]
  },
  {
   "cell_type": "code",
   "execution_count": 3,
   "metadata": {
    "scrolled": true
   },
   "outputs": [
    {
     "data": {
      "text/html": [
       "<div>\n",
       "<style scoped>\n",
       "    .dataframe tbody tr th:only-of-type {\n",
       "        vertical-align: middle;\n",
       "    }\n",
       "\n",
       "    .dataframe tbody tr th {\n",
       "        vertical-align: top;\n",
       "    }\n",
       "\n",
       "    .dataframe thead th {\n",
       "        text-align: right;\n",
       "    }\n",
       "</style>\n",
       "<table border=\"1\" class=\"dataframe\">\n",
       "  <thead>\n",
       "    <tr style=\"text-align: right;\">\n",
       "      <th></th>\n",
       "      <th>_id</th>\n",
       "      <th>alias_list</th>\n",
       "      <th>category_code</th>\n",
       "      <th>description</th>\n",
       "      <th>founded_year</th>\n",
       "      <th>lat</th>\n",
       "      <th>lng</th>\n",
       "      <th>main_office</th>\n",
       "      <th>total_money_raised</th>\n",
       "    </tr>\n",
       "  </thead>\n",
       "  <tbody>\n",
       "    <tr>\n",
       "      <th>0</th>\n",
       "      <td>5d2633ac797d7972f3178d9e</td>\n",
       "      <td></td>\n",
       "      <td>web</td>\n",
       "      <td>Life long learning content</td>\n",
       "      <td>2007</td>\n",
       "      <td>34.017606</td>\n",
       "      <td>-118.487267</td>\n",
       "      <td>{'type': 'Point', 'coordinates': [-118.487267,...</td>\n",
       "      <td>$21M</td>\n",
       "    </tr>\n",
       "    <tr>\n",
       "      <th>1</th>\n",
       "      <td>5d2633ac797d7972f3178d9f</td>\n",
       "      <td>None</td>\n",
       "      <td>web</td>\n",
       "      <td>None</td>\n",
       "      <td>2007</td>\n",
       "      <td>37.269175</td>\n",
       "      <td>-119.306607</td>\n",
       "      <td>{'type': 'Point', 'coordinates': [-119.306607,...</td>\n",
       "      <td>$100k</td>\n",
       "    </tr>\n",
       "    <tr>\n",
       "      <th>2</th>\n",
       "      <td>5d2633ac797d7972f3178da0</td>\n",
       "      <td></td>\n",
       "      <td>web</td>\n",
       "      <td>Social network for desktop software</td>\n",
       "      <td>2007</td>\n",
       "      <td>52.374523</td>\n",
       "      <td>4.894862</td>\n",
       "      <td>{'type': 'Point', 'coordinates': [4.8948623, 5...</td>\n",
       "      <td>$1M</td>\n",
       "    </tr>\n",
       "    <tr>\n",
       "      <th>3</th>\n",
       "      <td>5d2633ac797d7972f3178da1</td>\n",
       "      <td></td>\n",
       "      <td>web</td>\n",
       "      <td>Video guide for hotels</td>\n",
       "      <td>2007</td>\n",
       "      <td>48.856667</td>\n",
       "      <td>2.350987</td>\n",
       "      <td>{'type': 'Point', 'coordinates': [2.350987, 48...</td>\n",
       "      <td>$13.8M</td>\n",
       "    </tr>\n",
       "    <tr>\n",
       "      <th>4</th>\n",
       "      <td>5d2633ac797d7972f3178da2</td>\n",
       "      <td>None</td>\n",
       "      <td>web</td>\n",
       "      <td>None</td>\n",
       "      <td>2007</td>\n",
       "      <td>40.010492</td>\n",
       "      <td>-105.276843</td>\n",
       "      <td>{'type': 'Point', 'coordinates': [-105.276843,...</td>\n",
       "      <td>$315k</td>\n",
       "    </tr>\n",
       "  </tbody>\n",
       "</table>\n",
       "</div>"
      ],
      "text/plain": [
       "                        _id alias_list category_code  \\\n",
       "0  5d2633ac797d7972f3178d9e                      web   \n",
       "1  5d2633ac797d7972f3178d9f       None           web   \n",
       "2  5d2633ac797d7972f3178da0                      web   \n",
       "3  5d2633ac797d7972f3178da1                      web   \n",
       "4  5d2633ac797d7972f3178da2       None           web   \n",
       "\n",
       "                           description  founded_year        lat         lng  \\\n",
       "0           Life long learning content          2007  34.017606 -118.487267   \n",
       "1                                 None          2007  37.269175 -119.306607   \n",
       "2  Social network for desktop software          2007  52.374523    4.894862   \n",
       "3               Video guide for hotels          2007  48.856667    2.350987   \n",
       "4                                 None          2007  40.010492 -105.276843   \n",
       "\n",
       "                                         main_office total_money_raised  \n",
       "0  {'type': 'Point', 'coordinates': [-118.487267,...               $21M  \n",
       "1  {'type': 'Point', 'coordinates': [-119.306607,...              $100k  \n",
       "2  {'type': 'Point', 'coordinates': [4.8948623, 5...                $1M  \n",
       "3  {'type': 'Point', 'coordinates': [2.350987, 48...             $13.8M  \n",
       "4  {'type': 'Point', 'coordinates': [-105.276843,...              $315k  "
      ]
     },
     "metadata": {},
     "output_type": "display_data"
    }
   ],
   "source": [
    "data_comp = pd.DataFrame(data)\n",
    "display(data_comp.head())"
   ]
  },
  {
   "cell_type": "code",
   "execution_count": 4,
   "metadata": {},
   "outputs": [],
   "source": [
    "# def findNear(df,radio_max_meters = 2000):\n",
    "#     location = db.data_companies_clean.find({'main_office':{\n",
    "#         '$near':{\n",
    "#             '$geometry':df,\n",
    "#             '$maxDistance': radio_max_meters,\n",
    "#         }\n",
    "#     }\n",
    "#     })\n",
    "#     df1 = pd.DataFrame(location)\n",
    "#     return len(df1)\n",
    "# near_offices = findNear(data_comp['main_office'][0])"
   ]
  },
  {
   "cell_type": "code",
   "execution_count": 5,
   "metadata": {},
   "outputs": [
    {
     "data": {
      "text/plain": [
       "154"
      ]
     },
     "execution_count": 5,
     "metadata": {},
     "output_type": "execute_result"
    }
   ],
   "source": [
    "def findNear(df, radio_max_meters = 20):\n",
    "    lst =[]\n",
    "    for i in range(len(df)):\n",
    "        location = db.data_companies_clean.find({'main_office':{\n",
    "                                                 '$near': {\n",
    "                                                     '$geometry': df[i],\n",
    "                                                     '$maxDistance': radio_max_meters,\n",
    "                                                 }\n",
    "                                                }\n",
    "                                                })\n",
    "        \n",
    "        df2 = pd.DataFrame(location)\n",
    "        lst.append(len(df2))    \n",
    "    return lst\n",
    "\n",
    "near_offices = findNear(data_comp['main_office'])\n",
    "len(near_offices)"
   ]
  },
  {
   "cell_type": "code",
   "execution_count": 6,
   "metadata": {},
   "outputs": [],
   "source": [
    "data_comp['Near offices'] = pd.DataFrame(near_offices)"
   ]
  },
  {
   "cell_type": "code",
   "execution_count": 7,
   "metadata": {},
   "outputs": [
    {
     "data": {
      "text/html": [
       "<div>\n",
       "<style scoped>\n",
       "    .dataframe tbody tr th:only-of-type {\n",
       "        vertical-align: middle;\n",
       "    }\n",
       "\n",
       "    .dataframe tbody tr th {\n",
       "        vertical-align: top;\n",
       "    }\n",
       "\n",
       "    .dataframe thead th {\n",
       "        text-align: right;\n",
       "    }\n",
       "</style>\n",
       "<table border=\"1\" class=\"dataframe\">\n",
       "  <thead>\n",
       "    <tr style=\"text-align: right;\">\n",
       "      <th></th>\n",
       "      <th>_id</th>\n",
       "      <th>alias_list</th>\n",
       "      <th>category_code</th>\n",
       "      <th>description</th>\n",
       "      <th>founded_year</th>\n",
       "      <th>lat</th>\n",
       "      <th>lng</th>\n",
       "      <th>main_office</th>\n",
       "      <th>total_money_raised</th>\n",
       "      <th>Near offices</th>\n",
       "    </tr>\n",
       "  </thead>\n",
       "  <tbody>\n",
       "    <tr>\n",
       "      <th>0</th>\n",
       "      <td>5d2633ac797d7972f3178d9e</td>\n",
       "      <td></td>\n",
       "      <td>web</td>\n",
       "      <td>Life long learning content</td>\n",
       "      <td>2007</td>\n",
       "      <td>34.017606</td>\n",
       "      <td>-118.487267</td>\n",
       "      <td>{'type': 'Point', 'coordinates': [-118.487267,...</td>\n",
       "      <td>$21M</td>\n",
       "      <td>1</td>\n",
       "    </tr>\n",
       "    <tr>\n",
       "      <th>1</th>\n",
       "      <td>5d2633ac797d7972f3178d9f</td>\n",
       "      <td>None</td>\n",
       "      <td>web</td>\n",
       "      <td>None</td>\n",
       "      <td>2007</td>\n",
       "      <td>37.269175</td>\n",
       "      <td>-119.306607</td>\n",
       "      <td>{'type': 'Point', 'coordinates': [-119.306607,...</td>\n",
       "      <td>$100k</td>\n",
       "      <td>2</td>\n",
       "    </tr>\n",
       "    <tr>\n",
       "      <th>2</th>\n",
       "      <td>5d2633ac797d7972f3178da0</td>\n",
       "      <td></td>\n",
       "      <td>web</td>\n",
       "      <td>Social network for desktop software</td>\n",
       "      <td>2007</td>\n",
       "      <td>52.374523</td>\n",
       "      <td>4.894862</td>\n",
       "      <td>{'type': 'Point', 'coordinates': [4.8948623, 5...</td>\n",
       "      <td>$1M</td>\n",
       "      <td>1</td>\n",
       "    </tr>\n",
       "    <tr>\n",
       "      <th>3</th>\n",
       "      <td>5d2633ac797d7972f3178da1</td>\n",
       "      <td></td>\n",
       "      <td>web</td>\n",
       "      <td>Video guide for hotels</td>\n",
       "      <td>2007</td>\n",
       "      <td>48.856667</td>\n",
       "      <td>2.350987</td>\n",
       "      <td>{'type': 'Point', 'coordinates': [2.350987, 48...</td>\n",
       "      <td>$13.8M</td>\n",
       "      <td>2</td>\n",
       "    </tr>\n",
       "    <tr>\n",
       "      <th>4</th>\n",
       "      <td>5d2633ac797d7972f3178da2</td>\n",
       "      <td>None</td>\n",
       "      <td>web</td>\n",
       "      <td>None</td>\n",
       "      <td>2007</td>\n",
       "      <td>40.010492</td>\n",
       "      <td>-105.276843</td>\n",
       "      <td>{'type': 'Point', 'coordinates': [-105.276843,...</td>\n",
       "      <td>$315k</td>\n",
       "      <td>2</td>\n",
       "    </tr>\n",
       "  </tbody>\n",
       "</table>\n",
       "</div>"
      ],
      "text/plain": [
       "                        _id alias_list category_code  \\\n",
       "0  5d2633ac797d7972f3178d9e                      web   \n",
       "1  5d2633ac797d7972f3178d9f       None           web   \n",
       "2  5d2633ac797d7972f3178da0                      web   \n",
       "3  5d2633ac797d7972f3178da1                      web   \n",
       "4  5d2633ac797d7972f3178da2       None           web   \n",
       "\n",
       "                           description  founded_year        lat         lng  \\\n",
       "0           Life long learning content          2007  34.017606 -118.487267   \n",
       "1                                 None          2007  37.269175 -119.306607   \n",
       "2  Social network for desktop software          2007  52.374523    4.894862   \n",
       "3               Video guide for hotels          2007  48.856667    2.350987   \n",
       "4                                 None          2007  40.010492 -105.276843   \n",
       "\n",
       "                                         main_office total_money_raised  \\\n",
       "0  {'type': 'Point', 'coordinates': [-118.487267,...               $21M   \n",
       "1  {'type': 'Point', 'coordinates': [-119.306607,...              $100k   \n",
       "2  {'type': 'Point', 'coordinates': [4.8948623, 5...                $1M   \n",
       "3  {'type': 'Point', 'coordinates': [2.350987, 48...             $13.8M   \n",
       "4  {'type': 'Point', 'coordinates': [-105.276843,...              $315k   \n",
       "\n",
       "   Near offices  \n",
       "0             1  \n",
       "1             2  \n",
       "2             1  \n",
       "3             2  \n",
       "4             2  "
      ]
     },
     "execution_count": 7,
     "metadata": {},
     "output_type": "execute_result"
    }
   ],
   "source": [
    "data_comp.head()"
   ]
  },
  {
   "cell_type": "code",
   "execution_count": 8,
   "metadata": {},
   "outputs": [],
   "source": [
    "base_map = folium.Map(zoom_start=15)"
   ]
  },
  {
   "cell_type": "code",
   "execution_count": 9,
   "metadata": {},
   "outputs": [
    {
     "data": {
      "text/html": [
       "<div style=\"width:100%;\"><div style=\"position:relative;width:100%;height:0;padding-bottom:60%;\"><iframe src=\"data:text/html;charset=utf-8;base64,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\" style=\"position:absolute;width:100%;height:100%;left:0;top:0;border:none !important;\" allowfullscreen webkitallowfullscreen mozallowfullscreen></iframe></div></div>"
      ],
      "text/plain": [
       "<folium.folium.Map at 0x113b6ca20>"
      ]
     },
     "execution_count": 9,
     "metadata": {},
     "output_type": "execute_result"
    }
   ],
   "source": [
    "a = list(zip(data_comp['lat'], data_comp['lng']))\n",
    "for i in a:\n",
    "    b = folium.Marker(location=[i[0],i[1]]).add_to(base_map) \n",
    "    \n",
    "base_map"
   ]
  },
  {
   "cell_type": "code",
   "execution_count": 10,
   "metadata": {},
   "outputs": [],
   "source": [
    "from folium.plugins import FastMarkerCluster\n",
    "base_map_two = folium.Map(zoom_start=15)\n",
    "\n",
    "\n",
    "\n"
   ]
  },
  {
   "cell_type": "code",
   "execution_count": 11,
   "metadata": {},
   "outputs": [
    {
     "data": {
      "text/html": [
       "<div style=\"width:100%;\"><div style=\"position:relative;width:100%;height:0;padding-bottom:60%;\"><iframe src=\"data:text/html;charset=utf-8;base64,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\" style=\"position:absolute;width:100%;height:100%;left:0;top:0;border:none !important;\" allowfullscreen webkitallowfullscreen mozallowfullscreen></iframe></div></div>"
      ],
      "text/plain": [
       "<folium.folium.Map at 0x113b64860>"
      ]
     },
     "execution_count": 11,
     "metadata": {},
     "output_type": "execute_result"
    }
   ],
   "source": [
    "FastMarkerCluster(data=list(zip(data_comp['lat'].values, data_comp['lng'].values))).add_to(base_map_two)\n",
    "base_map_two"
   ]
  },
  {
   "cell_type": "code",
   "execution_count": 12,
   "metadata": {},
   "outputs": [],
   "source": [
    "import json\n",
    "import requests\n",
    "from dotenv import load_dotenv\n",
    "import os"
   ]
  },
  {
   "cell_type": "code",
   "execution_count": 13,
   "metadata": {},
   "outputs": [],
   "source": [
    "load_dotenv()\n",
    "if not \"KEYG\" in os.environ:\n",
    "    raise ValueError(\"You should pass a Google Key\")\n",
    "    \n",
    "google_key = os.environ[\"KEYG\"]"
   ]
  },
  {
   "cell_type": "code",
   "execution_count": 14,
   "metadata": {},
   "outputs": [],
   "source": [
    "BASE_URL = 'https://maps.googleapis.com/maps/api/place/nearbysearch'\n",
    "res = requests.get(\"{}/json?location=34.017606,-118.487267&radius=1500&type=school&key={}\".format(BASE_URL, google_key))\n",
    "\n",
    "\n",
    "\n"
   ]
  },
  {
   "cell_type": "code",
   "execution_count": 15,
   "metadata": {},
   "outputs": [],
   "source": [
    "locat = []\n",
    "for i in a:\n",
    "    locat.append(i)\n",
    "\n"
   ]
  },
  {
   "cell_type": "code",
   "execution_count": null,
   "metadata": {},
   "outputs": [],
   "source": [
    "asd = []\n",
    "for i in locat:\n",
    "    asd.append(requests.get(\"{}/json?location={},{}&radius=1500&type=school&key={}\".format(BASE_URL, i[0], i[1], google_key)))\n",
    "                 \n"
   ]
  },
  {
   "cell_type": "code",
   "execution_count": null,
   "metadata": {},
   "outputs": [],
   "source": [
    "asd_jsons = []\n",
    "for i in asd:\n",
    "    asd_jsons.append(i.json())\n"
   ]
  },
  {
   "cell_type": "code",
   "execution_count": null,
   "metadata": {},
   "outputs": [],
   "source": []
  },
  {
   "cell_type": "code",
   "execution_count": null,
   "metadata": {},
   "outputs": [],
   "source": [
    "#https://maps.googleapis.com/maps/api/place/nearbysearch/json?location=-33.8670522,151.1957362&radius=1500&type=restaurant&keyword=cruise&key=YOUR_API_KEY"
   ]
  },
  {
   "cell_type": "code",
   "execution_count": null,
   "metadata": {},
   "outputs": [],
   "source": []
  },
  {
   "cell_type": "code",
   "execution_count": null,
   "metadata": {},
   "outputs": [],
   "source": []
  },
  {
   "cell_type": "code",
   "execution_count": null,
   "metadata": {},
   "outputs": [],
   "source": []
  },
  {
   "cell_type": "code",
   "execution_count": 75,
   "metadata": {},
   "outputs": [],
   "source": [
    "BASE_URL = 'https://maps.googleapis.com/maps/api/place/nearbysearch/json?location='\n"
   ]
  },
  {
   "cell_type": "code",
   "execution_count": 71,
   "metadata": {},
   "outputs": [
    {
     "ename": "SyntaxError",
     "evalue": "unexpected EOF while parsing (<ipython-input-71-ebc51e01c322>, line 2)",
     "output_type": "error",
     "traceback": [
      "\u001b[0;36m  File \u001b[0;32m\"<ipython-input-71-ebc51e01c322>\"\u001b[0;36m, line \u001b[0;32m2\u001b[0m\n\u001b[0;31m    \u001b[0m\n\u001b[0m    ^\u001b[0m\n\u001b[0;31mSyntaxError\u001b[0m\u001b[0;31m:\u001b[0m unexpected EOF while parsing\n"
     ]
    }
   ],
   "source": [
    "res = requests.get('{}-33.8670522,151.1957362&radius=1500&type=restaurant&keyword=cruise&key={}'.format(BASE_URL, google_key)\n"
   ]
  },
  {
   "cell_type": "code",
   "execution_count": null,
   "metadata": {},
   "outputs": [],
   "source": [
    "BASE_URL = “https://maps.googleapis.com/maps/api/place/nearbysearch”"
   ]
  },
  {
   "cell_type": "code",
   "execution_count": null,
   "metadata": {},
   "outputs": [],
   "source": []
  }
 ],
 "metadata": {
  "kernelspec": {
   "display_name": "Python 3",
   "language": "python",
   "name": "python3"
  },
  "language_info": {
   "codemirror_mode": {
    "name": "ipython",
    "version": 3
   },
   "file_extension": ".py",
   "mimetype": "text/x-python",
   "name": "python",
   "nbconvert_exporter": "python",
   "pygments_lexer": "ipython3",
   "version": "3.7.2"
  }
 },
 "nbformat": 4,
 "nbformat_minor": 2
}
