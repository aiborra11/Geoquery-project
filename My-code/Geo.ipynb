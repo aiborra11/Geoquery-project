{
 "cells": [
  {
   "cell_type": "code",
   "execution_count": 1,
   "metadata": {},
   "outputs": [],
   "source": [
    "from pymongo import MongoClient\n",
    "import pandas as pd\n",
    "import pymongo\n",
    "import folium\n",
    "from folium import plugins\n",
    "from folium.plugins import MiniMap\n",
    "from folium.plugins import FastMarkerCluster\n",
    "import numpy as np\n",
    "import re\n",
    "import requests as req"
   ]
  },
  {
   "cell_type": "code",
   "execution_count": 2,
   "metadata": {},
   "outputs": [],
   "source": [
    "#Connecting the database with the queried data (geo_offices)\n",
    "\n",
    "client = MongoClient('mongodb://localhost:27017/')\n",
    "db = client.DBcompanies_cb\n",
    "data = db.companies_clean.find()"
   ]
  },
  {
   "cell_type": "code",
   "execution_count": 3,
   "metadata": {
    "scrolled": true
   },
   "outputs": [
    {
     "data": {
      "text/html": [
       "<div>\n",
       "<style scoped>\n",
       "    .dataframe tbody tr th:only-of-type {\n",
       "        vertical-align: middle;\n",
       "    }\n",
       "\n",
       "    .dataframe tbody tr th {\n",
       "        vertical-align: top;\n",
       "    }\n",
       "\n",
       "    .dataframe thead th {\n",
       "        text-align: right;\n",
       "    }\n",
       "</style>\n",
       "<table border=\"1\" class=\"dataframe\">\n",
       "  <thead>\n",
       "    <tr style=\"text-align: right;\">\n",
       "      <th></th>\n",
       "      <th>_id</th>\n",
       "      <th>amount_raised_k$</th>\n",
       "      <th>category_code</th>\n",
       "      <th>geopoint</th>\n",
       "      <th>lat</th>\n",
       "      <th>lng</th>\n",
       "      <th>name</th>\n",
       "      <th>number_of_employees</th>\n",
       "      <th>wealth</th>\n",
       "    </tr>\n",
       "  </thead>\n",
       "  <tbody>\n",
       "    <tr>\n",
       "      <th>0</th>\n",
       "      <td>5d62c53b087b7af24fa9918e</td>\n",
       "      <td>45000.0</td>\n",
       "      <td>news</td>\n",
       "      <td>{'type': 'Point', 'coordinates': [-122.394523,...</td>\n",
       "      <td>37.764726</td>\n",
       "      <td>-122.394523</td>\n",
       "      <td>Digg</td>\n",
       "      <td>60</td>\n",
       "      <td>0.172518</td>\n",
       "    </tr>\n",
       "    <tr>\n",
       "      <th>1</th>\n",
       "      <td>5d62c53b087b7af24fa9918f</td>\n",
       "      <td>39800.0</td>\n",
       "      <td>web</td>\n",
       "      <td>{'type': 'Point', 'coordinates': [-122.333253,...</td>\n",
       "      <td>47.603122</td>\n",
       "      <td>-122.333253</td>\n",
       "      <td>Wetpaint</td>\n",
       "      <td>47</td>\n",
       "      <td>0.133591</td>\n",
       "    </tr>\n",
       "    <tr>\n",
       "      <th>2</th>\n",
       "      <td>5d62c53b087b7af24fa99190</td>\n",
       "      <td>39800.0</td>\n",
       "      <td>web</td>\n",
       "      <td>{'type': 'Point', 'coordinates': [-73.9964312,...</td>\n",
       "      <td>40.723731</td>\n",
       "      <td>-73.996431</td>\n",
       "      <td>Wetpaint</td>\n",
       "      <td>47</td>\n",
       "      <td>0.133591</td>\n",
       "    </tr>\n",
       "    <tr>\n",
       "      <th>3</th>\n",
       "      <td>5d62c53b087b7af24fa99191</td>\n",
       "      <td>16500.0</td>\n",
       "      <td>web</td>\n",
       "      <td>{'type': 'Point', 'coordinates': [-118.393064,...</td>\n",
       "      <td>34.090368</td>\n",
       "      <td>-118.393064</td>\n",
       "      <td>Geni</td>\n",
       "      <td>18</td>\n",
       "      <td>0.046909</td>\n",
       "    </tr>\n",
       "    <tr>\n",
       "      <th>4</th>\n",
       "      <td>5d62c53b087b7af24fa99192</td>\n",
       "      <td>25800.0</td>\n",
       "      <td>news</td>\n",
       "      <td>{'type': 'Point', 'coordinates': [-122.404052,...</td>\n",
       "      <td>37.789634</td>\n",
       "      <td>-122.404052</td>\n",
       "      <td>Scribd</td>\n",
       "      <td>50</td>\n",
       "      <td>0.136301</td>\n",
       "    </tr>\n",
       "  </tbody>\n",
       "</table>\n",
       "</div>"
      ],
      "text/plain": [
       "                        _id  amount_raised_k$ category_code  \\\n",
       "0  5d62c53b087b7af24fa9918e           45000.0          news   \n",
       "1  5d62c53b087b7af24fa9918f           39800.0           web   \n",
       "2  5d62c53b087b7af24fa99190           39800.0           web   \n",
       "3  5d62c53b087b7af24fa99191           16500.0           web   \n",
       "4  5d62c53b087b7af24fa99192           25800.0          news   \n",
       "\n",
       "                                            geopoint        lat         lng  \\\n",
       "0  {'type': 'Point', 'coordinates': [-122.394523,...  37.764726 -122.394523   \n",
       "1  {'type': 'Point', 'coordinates': [-122.333253,...  47.603122 -122.333253   \n",
       "2  {'type': 'Point', 'coordinates': [-73.9964312,...  40.723731  -73.996431   \n",
       "3  {'type': 'Point', 'coordinates': [-118.393064,...  34.090368 -118.393064   \n",
       "4  {'type': 'Point', 'coordinates': [-122.404052,...  37.789634 -122.404052   \n",
       "\n",
       "       name  number_of_employees    wealth  \n",
       "0      Digg                   60  0.172518  \n",
       "1  Wetpaint                   47  0.133591  \n",
       "2  Wetpaint                   47  0.133591  \n",
       "3      Geni                   18  0.046909  \n",
       "4    Scribd                   50  0.136301  "
      ]
     },
     "execution_count": 3,
     "metadata": {},
     "output_type": "execute_result"
    }
   ],
   "source": [
    "#Creating the dataframe\n",
    "\n",
    "df_comp = pd.DataFrame(data)\n",
    "df_comp.head()"
   ]
  },
  {
   "cell_type": "code",
   "execution_count": 4,
   "metadata": {},
   "outputs": [
    {
     "name": "stdout",
     "output_type": "stream",
     "text": [
      "(2471, 9)\n",
      "RangeIndex(start=0, stop=2471, step=1)\n"
     ]
    }
   ],
   "source": [
    "print(df_comp.shape)\n",
    "print(df_comp.index)"
   ]
  },
  {
   "cell_type": "code",
   "execution_count": 5,
   "metadata": {},
   "outputs": [
    {
     "data": {
      "text/html": [
       "<div>\n",
       "<style scoped>\n",
       "    .dataframe tbody tr th:only-of-type {\n",
       "        vertical-align: middle;\n",
       "    }\n",
       "\n",
       "    .dataframe tbody tr th {\n",
       "        vertical-align: top;\n",
       "    }\n",
       "\n",
       "    .dataframe thead th {\n",
       "        text-align: right;\n",
       "    }\n",
       "</style>\n",
       "<table border=\"1\" class=\"dataframe\">\n",
       "  <thead>\n",
       "    <tr style=\"text-align: right;\">\n",
       "      <th></th>\n",
       "      <th>name</th>\n",
       "      <th>category_code</th>\n",
       "      <th>number_of_employees</th>\n",
       "      <th>amount_raised_k$</th>\n",
       "      <th>wealth</th>\n",
       "      <th>lat</th>\n",
       "      <th>lng</th>\n",
       "      <th>geopoint</th>\n",
       "    </tr>\n",
       "  </thead>\n",
       "  <tbody>\n",
       "    <tr>\n",
       "      <th>0</th>\n",
       "      <td>Digg</td>\n",
       "      <td>news</td>\n",
       "      <td>60</td>\n",
       "      <td>45000.0</td>\n",
       "      <td>0.172518</td>\n",
       "      <td>37.764726</td>\n",
       "      <td>-122.394523</td>\n",
       "      <td>{'type': 'Point', 'coordinates': [-122.394523,...</td>\n",
       "    </tr>\n",
       "    <tr>\n",
       "      <th>1</th>\n",
       "      <td>Wetpaint</td>\n",
       "      <td>web</td>\n",
       "      <td>47</td>\n",
       "      <td>39800.0</td>\n",
       "      <td>0.133591</td>\n",
       "      <td>47.603122</td>\n",
       "      <td>-122.333253</td>\n",
       "      <td>{'type': 'Point', 'coordinates': [-122.333253,...</td>\n",
       "    </tr>\n",
       "    <tr>\n",
       "      <th>2</th>\n",
       "      <td>Wetpaint</td>\n",
       "      <td>web</td>\n",
       "      <td>47</td>\n",
       "      <td>39800.0</td>\n",
       "      <td>0.133591</td>\n",
       "      <td>40.723731</td>\n",
       "      <td>-73.996431</td>\n",
       "      <td>{'type': 'Point', 'coordinates': [-73.9964312,...</td>\n",
       "    </tr>\n",
       "    <tr>\n",
       "      <th>3</th>\n",
       "      <td>Geni</td>\n",
       "      <td>web</td>\n",
       "      <td>18</td>\n",
       "      <td>16500.0</td>\n",
       "      <td>0.046909</td>\n",
       "      <td>34.090368</td>\n",
       "      <td>-118.393064</td>\n",
       "      <td>{'type': 'Point', 'coordinates': [-118.393064,...</td>\n",
       "    </tr>\n",
       "    <tr>\n",
       "      <th>4</th>\n",
       "      <td>Scribd</td>\n",
       "      <td>news</td>\n",
       "      <td>50</td>\n",
       "      <td>25800.0</td>\n",
       "      <td>0.136301</td>\n",
       "      <td>37.789634</td>\n",
       "      <td>-122.404052</td>\n",
       "      <td>{'type': 'Point', 'coordinates': [-122.404052,...</td>\n",
       "    </tr>\n",
       "  </tbody>\n",
       "</table>\n",
       "</div>"
      ],
      "text/plain": [
       "       name category_code  number_of_employees  amount_raised_k$    wealth  \\\n",
       "0      Digg          news                   60           45000.0  0.172518   \n",
       "1  Wetpaint           web                   47           39800.0  0.133591   \n",
       "2  Wetpaint           web                   47           39800.0  0.133591   \n",
       "3      Geni           web                   18           16500.0  0.046909   \n",
       "4    Scribd          news                   50           25800.0  0.136301   \n",
       "\n",
       "         lat         lng                                           geopoint  \n",
       "0  37.764726 -122.394523  {'type': 'Point', 'coordinates': [-122.394523,...  \n",
       "1  47.603122 -122.333253  {'type': 'Point', 'coordinates': [-122.333253,...  \n",
       "2  40.723731  -73.996431  {'type': 'Point', 'coordinates': [-73.9964312,...  \n",
       "3  34.090368 -118.393064  {'type': 'Point', 'coordinates': [-118.393064,...  \n",
       "4  37.789634 -122.404052  {'type': 'Point', 'coordinates': [-122.404052,...  "
      ]
     },
     "execution_count": 5,
     "metadata": {},
     "output_type": "execute_result"
    }
   ],
   "source": [
    "#Ordering the columns and dropping column id.\n",
    "\n",
    "data_comp = df_comp[['name', 'category_code', 'number_of_employees', 'amount_raised_k$', 'wealth', 'lat', 'lng', 'geopoint']]\n",
    "data_comp.head()\n"
   ]
  },
  {
   "cell_type": "code",
   "execution_count": 6,
   "metadata": {},
   "outputs": [],
   "source": [
    "#Querying near companies\n",
    "\n",
    "def nearComps(df, rad_max_meters=1000):\n",
    "    lst=[]\n",
    "    for i in range(len(df)): \n",
    "        near=db.companies_clean.find({'$and':[{\n",
    "                        \"geopoint\": {\n",
    "                            \"$near\": {\n",
    "                            \"$geometry\": df[i],\n",
    "                            \"$maxDistance\": rad_max_meters\n",
    "                            }\n",
    "                        }\n",
    "                    }]})\n",
    "        data=pd.DataFrame(near)\n",
    "        lst.append(data.shape[0])\n",
    "    return lst\n",
    "\n",
    "data_comp['offices_near']=nearComps(data_comp[\"geopoint\"])"
   ]
  },
  {
   "cell_type": "code",
   "execution_count": 9,
   "metadata": {},
   "outputs": [
    {
     "data": {
      "text/html": [
       "<div>\n",
       "<style scoped>\n",
       "    .dataframe tbody tr th:only-of-type {\n",
       "        vertical-align: middle;\n",
       "    }\n",
       "\n",
       "    .dataframe tbody tr th {\n",
       "        vertical-align: top;\n",
       "    }\n",
       "\n",
       "    .dataframe thead th {\n",
       "        text-align: right;\n",
       "    }\n",
       "</style>\n",
       "<table border=\"1\" class=\"dataframe\">\n",
       "  <thead>\n",
       "    <tr style=\"text-align: right;\">\n",
       "      <th></th>\n",
       "      <th>name</th>\n",
       "      <th>category_code</th>\n",
       "      <th>number_of_employees</th>\n",
       "      <th>amount_raised_k$</th>\n",
       "      <th>wealth</th>\n",
       "      <th>lat</th>\n",
       "      <th>lng</th>\n",
       "      <th>geopoint</th>\n",
       "      <th>offices_near</th>\n",
       "    </tr>\n",
       "  </thead>\n",
       "  <tbody>\n",
       "    <tr>\n",
       "      <th>0</th>\n",
       "      <td>Digg</td>\n",
       "      <td>news</td>\n",
       "      <td>60</td>\n",
       "      <td>45000.0</td>\n",
       "      <td>0.172518</td>\n",
       "      <td>37.764726</td>\n",
       "      <td>-122.394523</td>\n",
       "      <td>{'type': 'Point', 'coordinates': [-122.394523,...</td>\n",
       "      <td>6</td>\n",
       "    </tr>\n",
       "    <tr>\n",
       "      <th>1</th>\n",
       "      <td>Wetpaint</td>\n",
       "      <td>web</td>\n",
       "      <td>47</td>\n",
       "      <td>39800.0</td>\n",
       "      <td>0.133591</td>\n",
       "      <td>47.603122</td>\n",
       "      <td>-122.333253</td>\n",
       "      <td>{'type': 'Point', 'coordinates': [-122.333253,...</td>\n",
       "      <td>15</td>\n",
       "    </tr>\n",
       "    <tr>\n",
       "      <th>2</th>\n",
       "      <td>Wetpaint</td>\n",
       "      <td>web</td>\n",
       "      <td>47</td>\n",
       "      <td>39800.0</td>\n",
       "      <td>0.133591</td>\n",
       "      <td>40.723731</td>\n",
       "      <td>-73.996431</td>\n",
       "      <td>{'type': 'Point', 'coordinates': [-73.9964312,...</td>\n",
       "      <td>25</td>\n",
       "    </tr>\n",
       "    <tr>\n",
       "      <th>3</th>\n",
       "      <td>Geni</td>\n",
       "      <td>web</td>\n",
       "      <td>18</td>\n",
       "      <td>16500.0</td>\n",
       "      <td>0.046909</td>\n",
       "      <td>34.090368</td>\n",
       "      <td>-118.393064</td>\n",
       "      <td>{'type': 'Point', 'coordinates': [-118.393064,...</td>\n",
       "      <td>1</td>\n",
       "    </tr>\n",
       "    <tr>\n",
       "      <th>4</th>\n",
       "      <td>Scribd</td>\n",
       "      <td>news</td>\n",
       "      <td>50</td>\n",
       "      <td>25800.0</td>\n",
       "      <td>0.136301</td>\n",
       "      <td>37.789634</td>\n",
       "      <td>-122.404052</td>\n",
       "      <td>{'type': 'Point', 'coordinates': [-122.404052,...</td>\n",
       "      <td>67</td>\n",
       "    </tr>\n",
       "  </tbody>\n",
       "</table>\n",
       "</div>"
      ],
      "text/plain": [
       "       name category_code  number_of_employees  amount_raised_k$    wealth  \\\n",
       "0      Digg          news                   60           45000.0  0.172518   \n",
       "1  Wetpaint           web                   47           39800.0  0.133591   \n",
       "2  Wetpaint           web                   47           39800.0  0.133591   \n",
       "3      Geni           web                   18           16500.0  0.046909   \n",
       "4    Scribd          news                   50           25800.0  0.136301   \n",
       "\n",
       "         lat         lng                                           geopoint  \\\n",
       "0  37.764726 -122.394523  {'type': 'Point', 'coordinates': [-122.394523,...   \n",
       "1  47.603122 -122.333253  {'type': 'Point', 'coordinates': [-122.333253,...   \n",
       "2  40.723731  -73.996431  {'type': 'Point', 'coordinates': [-73.9964312,...   \n",
       "3  34.090368 -118.393064  {'type': 'Point', 'coordinates': [-118.393064,...   \n",
       "4  37.789634 -122.404052  {'type': 'Point', 'coordinates': [-122.404052,...   \n",
       "\n",
       "   offices_near  \n",
       "0             6  \n",
       "1            15  \n",
       "2            25  \n",
       "3             1  \n",
       "4            67  "
      ]
     },
     "execution_count": 9,
     "metadata": {},
     "output_type": "execute_result"
    }
   ],
   "source": [
    "data_comp.head()"
   ]
  },
  {
   "cell_type": "code",
   "execution_count": 10,
   "metadata": {},
   "outputs": [
    {
     "data": {
      "text/html": [
       "<div>\n",
       "<style scoped>\n",
       "    .dataframe tbody tr th:only-of-type {\n",
       "        vertical-align: middle;\n",
       "    }\n",
       "\n",
       "    .dataframe tbody tr th {\n",
       "        vertical-align: top;\n",
       "    }\n",
       "\n",
       "    .dataframe thead th {\n",
       "        text-align: right;\n",
       "    }\n",
       "</style>\n",
       "<table border=\"1\" class=\"dataframe\">\n",
       "  <thead>\n",
       "    <tr style=\"text-align: right;\">\n",
       "      <th></th>\n",
       "      <th>name</th>\n",
       "      <th>category_code</th>\n",
       "      <th>number_of_employees</th>\n",
       "      <th>amount_raised_k$</th>\n",
       "      <th>wealth</th>\n",
       "      <th>lat</th>\n",
       "      <th>lng</th>\n",
       "      <th>geopoint</th>\n",
       "      <th>offices_near</th>\n",
       "    </tr>\n",
       "  </thead>\n",
       "  <tbody>\n",
       "    <tr>\n",
       "      <th>1629</th>\n",
       "      <td>Green Apple Media</td>\n",
       "      <td>web</td>\n",
       "      <td>50</td>\n",
       "      <td>132000.0</td>\n",
       "      <td>0.158205</td>\n",
       "      <td>37.785271</td>\n",
       "      <td>-122.397582</td>\n",
       "      <td>{'type': 'Point', 'coordinates': [-122.397582,...</td>\n",
       "      <td>93</td>\n",
       "    </tr>\n",
       "    <tr>\n",
       "      <th>407</th>\n",
       "      <td>GotVoice</td>\n",
       "      <td>mobile</td>\n",
       "      <td>12</td>\n",
       "      <td>3000.0</td>\n",
       "      <td>0.025783</td>\n",
       "      <td>37.786464</td>\n",
       "      <td>-122.397819</td>\n",
       "      <td>{'type': 'Point', 'coordinates': [-122.397819,...</td>\n",
       "      <td>90</td>\n",
       "    </tr>\n",
       "    <tr>\n",
       "      <th>198</th>\n",
       "      <td>TrustedID</td>\n",
       "      <td>security</td>\n",
       "      <td>120</td>\n",
       "      <td>25000.0</td>\n",
       "      <td>0.326108</td>\n",
       "      <td>37.786240</td>\n",
       "      <td>-122.398970</td>\n",
       "      <td>{'type': 'Point', 'coordinates': [-122.39897, ...</td>\n",
       "      <td>89</td>\n",
       "    </tr>\n",
       "    <tr>\n",
       "      <th>166</th>\n",
       "      <td>Veodia</td>\n",
       "      <td>games_video</td>\n",
       "      <td>15</td>\n",
       "      <td>8300.0</td>\n",
       "      <td>0.036325</td>\n",
       "      <td>37.786906</td>\n",
       "      <td>-122.397672</td>\n",
       "      <td>{'type': 'Point', 'coordinates': [-122.397672,...</td>\n",
       "      <td>88</td>\n",
       "    </tr>\n",
       "    <tr>\n",
       "      <th>305</th>\n",
       "      <td>Covario</td>\n",
       "      <td>enterprise</td>\n",
       "      <td>100</td>\n",
       "      <td>16000.0</td>\n",
       "      <td>0.259780</td>\n",
       "      <td>37.787183</td>\n",
       "      <td>-122.397759</td>\n",
       "      <td>{'type': 'Point', 'coordinates': [-122.397759,...</td>\n",
       "      <td>86</td>\n",
       "    </tr>\n",
       "  </tbody>\n",
       "</table>\n",
       "</div>"
      ],
      "text/plain": [
       "                   name category_code  number_of_employees  amount_raised_k$  \\\n",
       "1629  Green Apple Media           web                   50          132000.0   \n",
       "407            GotVoice        mobile                   12            3000.0   \n",
       "198           TrustedID      security                  120           25000.0   \n",
       "166              Veodia   games_video                   15            8300.0   \n",
       "305             Covario    enterprise                  100           16000.0   \n",
       "\n",
       "        wealth        lat         lng  \\\n",
       "1629  0.158205  37.785271 -122.397582   \n",
       "407   0.025783  37.786464 -122.397819   \n",
       "198   0.326108  37.786240 -122.398970   \n",
       "166   0.036325  37.786906 -122.397672   \n",
       "305   0.259780  37.787183 -122.397759   \n",
       "\n",
       "                                               geopoint  offices_near  \n",
       "1629  {'type': 'Point', 'coordinates': [-122.397582,...            93  \n",
       "407   {'type': 'Point', 'coordinates': [-122.397819,...            90  \n",
       "198   {'type': 'Point', 'coordinates': [-122.39897, ...            89  \n",
       "166   {'type': 'Point', 'coordinates': [-122.397672,...            88  \n",
       "305   {'type': 'Point', 'coordinates': [-122.397759,...            86  "
      ]
     },
     "execution_count": 10,
     "metadata": {},
     "output_type": "execute_result"
    }
   ],
   "source": [
    "data_comp.sort_values('offices_near', ascending = False).head()"
   ]
  },
  {
   "cell_type": "code",
   "execution_count": 11,
   "metadata": {},
   "outputs": [],
   "source": [
    "#Making business with a very large companies is not very easy if your startup is big enough. I cannot see SpaceX buying a bunch of nanosatelites to a recent startup. Basically the young startup will not be able to produce the amount, neither deliver on time. \n",
    "#Therefore, it might be interesting to locate the bar/restaurant near to \"medium size startups\", if there are enough around.\n",
    "\n",
    "# small_compsdf = data_comp[data_comp['number_of_employees']<300]\n"
   ]
  },
  {
   "cell_type": "code",
   "execution_count": 21,
   "metadata": {},
   "outputs": [
    {
     "ename": "SyntaxError",
     "evalue": "invalid syntax (<ipython-input-21-e61e717eb96a>, line 15)",
     "output_type": "error",
     "traceback": [
      "\u001b[0;36m  File \u001b[0;32m\"<ipython-input-21-e61e717eb96a>\"\u001b[0;36m, line \u001b[0;32m15\u001b[0m\n\u001b[0;31m    }]})\u001b[0m\n\u001b[0m    ^\u001b[0m\n\u001b[0;31mSyntaxError\u001b[0m\u001b[0;31m:\u001b[0m invalid syntax\n"
     ]
    }
   ],
   "source": [
    "#Querying near companies\n",
    "\n",
    "def smallcomps(df, rad_max_meters=1000):\n",
    "    lst=[]\n",
    "    for i in range(len(df)): \n",
    "        near=db.companies_clean.find({'$and':[{\n",
    "                        \"geopoint\": {\n",
    "                            \"$near\": {\n",
    "                            \"$geometry\": df[i],\n",
    "                            \"$maxDistance\": rad_max_meters\n",
    "                            }\n",
    "                        },{\n",
    "                        'number_of_employees': data_comp['number_of_employees']<500,\n",
    "                    }\n",
    "                    }]})\n",
    "        data=pd.DataFrame(near)\n",
    "        lst.append(data.shape[0])\n",
    "    return lst\n",
    "\n",
    "data_comp['offices_near']=nearComps(data_comp[\"geopoint\"])"
   ]
  },
  {
   "cell_type": "code",
   "execution_count": 57,
   "metadata": {},
   "outputs": [
    {
     "ename": "ValueError",
     "evalue": "The truth value of a Series is ambiguous. Use a.empty, a.bool(), a.item(), a.any() or a.all().",
     "output_type": "error",
     "traceback": [
      "\u001b[0;31m---------------------------------------------------------------------------\u001b[0m",
      "\u001b[0;31mValueError\u001b[0m                                Traceback (most recent call last)",
      "\u001b[0;32m<ipython-input-57-700c20c42b64>\u001b[0m in \u001b[0;36m<module>\u001b[0;34m\u001b[0m\n\u001b[1;32m     17\u001b[0m     \u001b[0;32mreturn\u001b[0m \u001b[0mlst\u001b[0m\u001b[0;34m\u001b[0m\u001b[0;34m\u001b[0m\u001b[0m\n\u001b[1;32m     18\u001b[0m \u001b[0;34m\u001b[0m\u001b[0m\n\u001b[0;32m---> 19\u001b[0;31m \u001b[0msmall_compsdf\u001b[0m\u001b[0;34m[\u001b[0m\u001b[0;34m'small_offices'\u001b[0m\u001b[0;34m]\u001b[0m\u001b[0;34m=\u001b[0m\u001b[0mnearComps\u001b[0m\u001b[0;34m(\u001b[0m\u001b[0msmall_compsdf\u001b[0m\u001b[0;34m[\u001b[0m\u001b[0;34m\"geopoint\"\u001b[0m\u001b[0;34m]\u001b[0m\u001b[0;34m)\u001b[0m\u001b[0;34m\u001b[0m\u001b[0;34m\u001b[0m\u001b[0m\n\u001b[0m\u001b[1;32m     20\u001b[0m \u001b[0;34m\u001b[0m\u001b[0m\n",
      "\u001b[0;32m<ipython-input-57-700c20c42b64>\u001b[0m in \u001b[0;36mnearComps\u001b[0;34m(df, rad_max_meters)\u001b[0m\n\u001b[1;32m      4\u001b[0m     \u001b[0mlst\u001b[0m\u001b[0;34m=\u001b[0m\u001b[0;34m[\u001b[0m\u001b[0;34m]\u001b[0m\u001b[0;34m\u001b[0m\u001b[0;34m\u001b[0m\u001b[0m\n\u001b[1;32m      5\u001b[0m     \u001b[0;32mfor\u001b[0m \u001b[0mi\u001b[0m \u001b[0;32min\u001b[0m \u001b[0mrange\u001b[0m\u001b[0;34m(\u001b[0m\u001b[0mlen\u001b[0m\u001b[0;34m(\u001b[0m\u001b[0mdf\u001b[0m\u001b[0;34m)\u001b[0m\u001b[0;34m)\u001b[0m\u001b[0;34m:\u001b[0m\u001b[0;34m\u001b[0m\u001b[0;34m\u001b[0m\u001b[0m\n\u001b[0;32m----> 6\u001b[0;31m         \u001b[0;32mif\u001b[0m \u001b[0mdata_comp\u001b[0m\u001b[0;34m[\u001b[0m\u001b[0;34m'number_of_employees'\u001b[0m\u001b[0;34m]\u001b[0m\u001b[0;34m<\u001b[0m\u001b[0;36m50\u001b[0m\u001b[0;34m:\u001b[0m\u001b[0;34m\u001b[0m\u001b[0;34m\u001b[0m\u001b[0m\n\u001b[0m\u001b[1;32m      7\u001b[0m             near=db.companies_clean.find({'$and':[{\n\u001b[1;32m      8\u001b[0m                             \"geopoint\": {\n",
      "\u001b[0;32m~/Library/Python/3.7/lib/python/site-packages/pandas/core/generic.py\u001b[0m in \u001b[0;36m__nonzero__\u001b[0;34m(self)\u001b[0m\n\u001b[1;32m   1476\u001b[0m         raise ValueError(\"The truth value of a {0} is ambiguous. \"\n\u001b[1;32m   1477\u001b[0m                          \u001b[0;34m\"Use a.empty, a.bool(), a.item(), a.any() or a.all().\"\u001b[0m\u001b[0;34m\u001b[0m\u001b[0;34m\u001b[0m\u001b[0m\n\u001b[0;32m-> 1478\u001b[0;31m                          .format(self.__class__.__name__))\n\u001b[0m\u001b[1;32m   1479\u001b[0m \u001b[0;34m\u001b[0m\u001b[0m\n\u001b[1;32m   1480\u001b[0m     \u001b[0m__bool__\u001b[0m \u001b[0;34m=\u001b[0m \u001b[0m__nonzero__\u001b[0m\u001b[0;34m\u001b[0m\u001b[0;34m\u001b[0m\u001b[0m\n",
      "\u001b[0;31mValueError\u001b[0m: The truth value of a Series is ambiguous. Use a.empty, a.bool(), a.item(), a.any() or a.all()."
     ]
    }
   ],
   "source": [
    "#If the number of small comapnies (<50 employees) around is big enough, might be interesting to make them our target with the objecrtive of creating the restaurant for synergies. \n",
    "\n",
    "def nearComps(df, rad_max_meters=1000):\n",
    "    lst=[]\n",
    "    for i in range(len(df)):\n",
    "        if data_comp['number_of_employees']<50:\n",
    "            near=db.companies_clean.find({'$and':[{\n",
    "                            \"geopoint\": {\n",
    "                                \"$near\": {\n",
    "                                \"$geometry\": df[i],\n",
    "                                \"$maxDistance\": rad_max_meters\n",
    "                                }\n",
    "                            }\n",
    "                        }]})\n",
    "            data=pd.DataFrame(near)\n",
    "            lst.append(data.shape[0])\n",
    "    return lst\n",
    "\n",
    "small_compsdf['small_offices']=nearComps(small_compsdf[\"geopoint\"])\n",
    "\n"
   ]
  },
  {
   "cell_type": "code",
   "execution_count": null,
   "metadata": {},
   "outputs": [],
   "source": []
  },
  {
   "cell_type": "code",
   "execution_count": null,
   "metadata": {},
   "outputs": [],
   "source": []
  },
  {
   "cell_type": "code",
   "execution_count": null,
   "metadata": {},
   "outputs": [],
   "source": []
  },
  {
   "cell_type": "code",
   "execution_count": null,
   "metadata": {},
   "outputs": [],
   "source": []
  },
  {
   "cell_type": "code",
   "execution_count": 21,
   "metadata": {},
   "outputs": [],
   "source": [
    "# Heatmap\n",
    "latlng = data_comp[['lat', 'lng']].values\n",
    "\n",
    "# m = folium.Map(location=[40, -45], zoom_start=4)\n",
    "# m.add_child(plugins.HeatMap(latlng, radius=20))\n",
    "# m"
   ]
  },
  {
   "cell_type": "code",
   "execution_count": 22,
   "metadata": {},
   "outputs": [
    {
     "data": {
      "text/html": [
       "<div style=\"width:100%;\"><div style=\"position:relative;width:100%;height:0;padding-bottom:60%;\"><iframe src=\"data:text/html;charset=utf-8;base64,PCFET0NUWVBFIGh0bWw+CjxoZWFkPiAgICAKICAgIDxtZXRhIGh0dHAtZXF1aXY9ImNvbnRlbnQtdHlwZSIgY29udGVudD0idGV4dC9odG1sOyBjaGFyc2V0PVVURi04IiAvPgogICAgCiAgICAgICAgPHNjcmlwdD4KICAgICAgICAgICAgTF9OT19UT1VDSCA9IGZhbHNlOwogICAgICAgICAgICBMX0RJU0FCTEVfM0QgPSBmYWxzZTsKICAgICAgICA8L3NjcmlwdD4KICAgIAogICAgPHNjcmlwdCBzcmM9Imh0dHBzOi8vY2RuLmpzZGVsaXZyLm5ldC9ucG0vbGVhZmxldEAxLjQuMC9kaXN0L2xlYWZsZXQuanMiPjwvc2NyaXB0PgogICAgPHNjcmlwdCBzcmM9Imh0dHBzOi8vY29kZS5qcXVlcnkuY29tL2pxdWVyeS0xLjEyLjQubWluLmpzIj48L3NjcmlwdD4KICAgIDxzY3JpcHQgc3JjPSJodHRwczovL21heGNkbi5ib290c3RyYXBjZG4uY29tL2Jvb3RzdHJhcC8zLjIuMC9qcy9ib290c3RyYXAubWluLmpzIj48L3NjcmlwdD4KICAgIDxzY3JpcHQgc3JjPSJodHRwczovL2NkbmpzLmNsb3VkZmxhcmUuY29tL2FqYXgvbGlicy9MZWFmbGV0LmF3ZXNvbWUtbWFya2Vycy8yLjAuMi9sZWFmbGV0LmF3ZXNvbWUtbWFya2Vycy5qcyI+PC9zY3JpcHQ+CiAgICA8bGluayByZWw9InN0eWxlc2hlZXQiIGhyZWY9Imh0dHBzOi8vY2RuLmpzZGVsaXZyLm5ldC9ucG0vbGVhZmxldEAxLjQuMC9kaXN0L2xlYWZsZXQuY3NzIi8+CiAgICA8bGluayByZWw9InN0eWxlc2hlZXQiIGhyZWY9Imh0dHBzOi8vbWF4Y2RuLmJvb3RzdHJhcGNkbi5jb20vYm9vdHN0cmFwLzMuMi4wL2Nzcy9ib290c3RyYXAubWluLmNzcyIvPgogICAgPGxpbmsgcmVsPSJzdHlsZXNoZWV0IiBocmVmPSJodHRwczovL21heGNkbi5ib290c3RyYXBjZG4uY29tL2Jvb3RzdHJhcC8zLjIuMC9jc3MvYm9vdHN0cmFwLXRoZW1lLm1pbi5jc3MiLz4KICAgIDxsaW5rIHJlbD0ic3R5bGVzaGVldCIgaHJlZj0iaHR0cHM6Ly9tYXhjZG4uYm9vdHN0cmFwY2RuLmNvbS9mb250LWF3ZXNvbWUvNC42LjMvY3NzL2ZvbnQtYXdlc29tZS5taW4uY3NzIi8+CiAgICA8bGluayByZWw9InN0eWxlc2hlZXQiIGhyZWY9Imh0dHBzOi8vY2RuanMuY2xvdWRmbGFyZS5jb20vYWpheC9saWJzL0xlYWZsZXQuYXdlc29tZS1tYXJrZXJzLzIuMC4yL2xlYWZsZXQuYXdlc29tZS1tYXJrZXJzLmNzcyIvPgogICAgPGxpbmsgcmVsPSJzdHlsZXNoZWV0IiBocmVmPSJodHRwczovL3Jhd2Nkbi5naXRoYWNrLmNvbS9weXRob24tdmlzdWFsaXphdGlvbi9mb2xpdW0vbWFzdGVyL2ZvbGl1bS90ZW1wbGF0ZXMvbGVhZmxldC5hd2Vzb21lLnJvdGF0ZS5jc3MiLz4KICAgIDxzdHlsZT5odG1sLCBib2R5IHt3aWR0aDogMTAwJTtoZWlnaHQ6IDEwMCU7bWFyZ2luOiAwO3BhZGRpbmc6IDA7fTwvc3R5bGU+CiAgICA8c3R5bGU+I21hcCB7cG9zaXRpb246YWJzb2x1dGU7dG9wOjA7Ym90dG9tOjA7cmlnaHQ6MDtsZWZ0OjA7fTwvc3R5bGU+CiAgICAKICAgICAgICAgICAgPG1ldGEgbmFtZT0idmlld3BvcnQiIGNvbnRlbnQ9IndpZHRoPWRldmljZS13aWR0aCwKICAgICAgICAgICAgICAgIGluaXRpYWwtc2NhbGU9MS4wLCBtYXhpbXVtLXNjYWxlPTEuMCwgdXNlci1zY2FsYWJsZT1ubyIgLz4KICAgICAgICAgICAgPHN0eWxlPgogICAgICAgICAgICAgICAgI21hcF8wZDM4MjFjNTMzZTk0NWFiYjY3ODE4NGI1YWEzYmUwMyB7CiAgICAgICAgICAgICAgICAgICAgcG9zaXRpb246IHJlbGF0aXZlOwogICAgICAgICAgICAgICAgICAgIHdpZHRoOiAxMDAuMCU7CiAgICAgICAgICAgICAgICAgICAgaGVpZ2h0OiAxMDAuMCU7CiAgICAgICAgICAgICAgICAgICAgbGVmdDogMC4wJTsKICAgICAgICAgICAgICAgICAgICB0b3A6IDAuMCU7CiAgICAgICAgICAgICAgICB9CiAgICAgICAgICAgIDwvc3R5bGU+CiAgICAgICAgCiAgICA8c2NyaXB0IHNyYz0iaHR0cHM6Ly9jZG5qcy5jbG91ZGZsYXJlLmNvbS9hamF4L2xpYnMvbGVhZmxldC5tYXJrZXJjbHVzdGVyLzEuMS4wL2xlYWZsZXQubWFya2VyY2x1c3Rlci5qcyI+PC9zY3JpcHQ+CiAgICA8bGluayByZWw9InN0eWxlc2hlZXQiIGhyZWY9Imh0dHBzOi8vY2RuanMuY2xvdWRmbGFyZS5jb20vYWpheC9saWJzL2xlYWZsZXQubWFya2VyY2x1c3Rlci8xLjEuMC9NYXJrZXJDbHVzdGVyLmNzcyIvPgogICAgPGxpbmsgcmVsPSJzdHlsZXNoZWV0IiBocmVmPSJodHRwczovL2NkbmpzLmNsb3VkZmxhcmUuY29tL2FqYXgvbGlicy9sZWFmbGV0Lm1hcmtlcmNsdXN0ZXIvMS4xLjAvTWFya2VyQ2x1c3Rlci5EZWZhdWx0LmNzcyIvPgo8L2hlYWQ+Cjxib2R5PiAgICAKICAgIAogICAgICAgICAgICA8ZGl2IGNsYXNzPSJmb2xpdW0tbWFwIiBpZD0ibWFwXzBkMzgyMWM1MzNlOTQ1YWJiNjc4MTg0YjVhYTNiZTAzIiA+PC9kaXY+CiAgICAgICAgCjwvYm9keT4KPHNjcmlwdD4gICAgCiAgICAKICAgICAgICAgICAgdmFyIG1hcF8wZDM4MjFjNTMzZTk0NWFiYjY3ODE4NGI1YWEzYmUwMyA9IEwubWFwKAogICAgICAgICAgICAgICAgIm1hcF8wZDM4MjFjNTMzZTk0NWFiYjY3ODE4NGI1YWEzYmUwMyIsCiAgICAgICAgICAgICAgICB7CiAgICAgICAgICAgICAgICAgICAgY2VudGVyOiBbMCwgMF0sCiAgICAgICAgICAgICAgICAgICAgY3JzOiBMLkNSUy5FUFNHMzg1NywKICAgICAgICAgICAgICAgICAgICB6b29tOiAxLAogICAgICAgICAgICAgICAgICAgIHpvb21Db250cm9sOiB0cnVlLAogICAgICAgICAgICAgICAgICAgIHByZWZlckNhbnZhczogZmFsc2UsCiAgICAgICAgICAgICAgICB9CiAgICAgICAgICAgICk7CgogICAgICAgICAgICAKCiAgICAgICAgCiAgICAKICAgICAgICAgICAgdmFyIHRpbGVfbGF5ZXJfMDhjOTM0ODc1YTA1NDI4MWE5NWNmYzBiMWIzZTQ3NjAgPSBMLnRpbGVMYXllcigKICAgICAgICAgICAgICAgICJodHRwczovL3tzfS50aWxlLm9wZW5zdHJlZXRtYXAub3JnL3t6fS97eH0ve3l9LnBuZyIsCiAgICAgICAgICAgICAgICB7ImF0dHJpYnV0aW9uIjogIkRhdGEgYnkgXHUwMDI2Y29weTsgXHUwMDNjYSBocmVmPVwiaHR0cDovL29wZW5zdHJlZXRtYXAub3JnXCJcdTAwM2VPcGVuU3RyZWV0TWFwXHUwMDNjL2FcdTAwM2UsIHVuZGVyIFx1MDAzY2EgaHJlZj1cImh0dHA6Ly93d3cub3BlbnN0cmVldG1hcC5vcmcvY29weXJpZ2h0XCJcdTAwM2VPRGJMXHUwMDNjL2FcdTAwM2UuIiwgImRldGVjdFJldGluYSI6IGZhbHNlLCAibWF4TmF0aXZlWm9vbSI6IDE4LCAibWF4Wm9vbSI6IDE4LCAibWluWm9vbSI6IDAsICJub1dyYXAiOiBmYWxzZSwgIm9wYWNpdHkiOiAxLCAic3ViZG9tYWlucyI6ICJhYmMiLCAidG1zIjogZmFsc2V9CiAgICAgICAgICAgICkuYWRkVG8obWFwXzBkMzgyMWM1MzNlOTQ1YWJiNjc4MTg0YjVhYTNiZTAzKTsKICAgICAgICAKICAgIAogICAgICAgICAgICB2YXIgZmFzdF9tYXJrZXJfY2x1c3Rlcl9lNTE0NTNlZDM5YmM0ODI5OTEyOGRiZDRjZjdjMDVkOCA9IChmdW5jdGlvbigpewogICAgICAgICAgICAgICAgCiAgICAgICAgICAgICAgICB2YXIgY2FsbGJhY2sgPSBmdW5jdGlvbiAocm93KSB7CiAgICAgICAgICAgICAgICAgICAgdmFyIGljb24gPSBMLkF3ZXNvbWVNYXJrZXJzLmljb24oKTsKICAgICAgICAgICAgICAgICAgICB2YXIgbWFya2VyID0gTC5tYXJrZXIobmV3IEwuTGF0TG5nKHJvd1swXSwgcm93WzFdKSk7CiAgICAgICAgICAgICAgICAgICAgbWFya2VyLnNldEljb24oaWNvbik7CiAgICAgICAgICAgICAgICAgICAgcmV0dXJuIG1hcmtlcjsKICAgICAgICAgICAgICAgIH07CgogICAgICAgICAgICAgICAgdmFyIGRhdGEgPSBbWzQwLjcyMzczMDYsIC03My45OTY0MzEyXSwgWzM3LjY5MjkzNCwgLTEyMS45MDQ5NDVdLCBbNDcuNjAzMTIyLCAtMTIyLjMzMzI1M10sIFszNy43NjQ3MjYsIC0xMjIuMzk0NTIzXSwgWzM3LjY5MjkzNCwgLTEyMS45MDQ5NDVdLCBbMzcuNDE2MDUsIC0xMjIuMTUxODAxXSwgWzUzLjM0NDEwNCwgLTYuMjY3NDk0XSwgWzQwLjc1NTcxNjIsIC03My45NzkyNDY5XSwgWzM0LjA5MDM2OCwgLTExOC4zOTMwNjRdLCBbMzcuNzg5NjM0LCAtMTIyLjQwNDA1Ml0sIFszNy4yOTUwMDUsIC0xMjEuOTMwMDM1XSwgWzQwLjc1NzkyOSwgLTczLjk4NTUwNl0sIFszNy40MTg1MzEsIC0xMjIuMDI1NDg1XSwgWzM3LjM4Nzg0NSwgLTEyMi4wNTUxOTddLCBbMzcuNDA4ODAyLCAtMTIxLjk1Mzc3XSwgWzM3Ljc3ODYxMywgLTEyMi4zOTUyODldLCBbMzcuNzc5NTU4LCAtMTIyLjM5MzA0MV0sIFszNy43NzY4MDUyLCAtMTIyLjQxNjkyNDRdLCBbMzQuMDE3NjA2LCAtMTE4LjQ4NzI2N10sIFszNy43ODg0ODIsIC0xMjIuNDA5MTczXSwgWzQwLjcyNjA0LCAtNzMuOTk1NzIyXSwgWzM3LjQ4MDk5OSwgLTEyMi4xNzM4ODddLCBbMzMuNDI5ODU5LCAtMTExLjkzODczOV0sIFszNy40MjMzODk2LCAtMTIyLjA4OTk1MTJdLCBbNDAuNzI2MTU1LCAtNzMuOTk1NjI1XSwgWzQwLjcyMjY1NSwgLTczLjk5ODczXSwgWzM3LjM4NDk0OSwgLTEyMS45Njc2MV0sIFszNC4xNTUyMTEsIC0xMTguNzU2NjE4XSwgWzM3LjM3NDk5OCwgLTEyMS45Nzc4NTNdLCBbMzcuMjY5MTc1LCAtMTE5LjMwNjYwN10sIFszNy43ODYxODMsIC0xMjIuNDAyMTk1XSwgWzM3LjQ4NDYxOSwgLTEyMi4yMDY4OTNdLCBbMzQuMDEyNjM3OSwgLTExOC40OTUxNTVdLCBbNDcuNjIwOTgyLCAtMTIyLjM1OTM5N10sIFszNy40ODgzMzYsIC0xMjIuMjE3OTY0XSwgWzM3Ljc1ODExMywgLTEyMi40MTQ2ODldLCBbMzcuNDE4NTMxLCAtMTIyLjAyNTQ4NV0sIFszNy45MDA3NywgLTEyMi41MTE2ODddLCBbMzcuNzc5NTA3LCAtMTIyLjM5MDcxXSwgWzQ3LjYxNTMxMywgLTEyMi4zMjM0MDhdLCBbNDkuNjAyNjc3OCwgNi4xMzI5OTg1XSwgWzQyLjM1MDU3MSwgLTcxLjA3Njg2OV0sIFszNy41NjE4NzcsIC0xMjIuMzI1MjQ4XSwgWzM3LjQzNzMyOCwgLTEyMi4xNTk5MjhdLCBbMzcuNzc1MTk2LCAtMTIyLjQxOTIwNF0sIFs0MC43MTQzNTI4LCAtNzQuMDA1OTczMV0sIFs0Ny42MDMxMjIsIC0xMjIuMzMzMjUzXSwgWzM3Ljc3NTE5NiwgLTEyMi40MTkyMDRdLCBbMzcuNTUzMTIxLCAtMTIyLjMwMTUzNF0sIFszNy43NjE4MjQyLCAtMTIyLjM5ODU4NzFdLCBbMzcuNDIxOTE2NSwgLTEyMi4wNzgwNjMyXSwgWzM5LjA2Njg1LCAtODQuMzUxNTMyXSwgWzM3LjQ3OTk1MiwgLTEyMi4xNzg1NTddLCBbMzcuNDUxOTU4LCAtMTIyLjExNjAyNl0sIFs0MC40Mzc5ODUsIC04MC4wMDQxOTVdLCBbMzcuNzY2OTA5LCAtMTIyLjQwNjY3Nl0sIFszNy40NDI5NDksIC0xMjIuMTYxNV0sIFszNy43ODIyNjMsIC0xMjIuMzkyMTQyXSwgWzM3LjY2MzcyNzksIC0xMjEuODczMTgwNV0sIFszOC45NTkwMDgzLCAtNzcuMzU5Mjc0Nl0sIFs1MS41MTcwMzg1LCAtMC4xMzk0NzU5XSwgWzUxLjUyNzA5OSwgLTAuMTA0NDA4XSwgWzM3Ljc3OTU1OCwgLTEyMi4zOTMwNDFdLCBbMzcuMzIxNzk4LCAtMTIxLjk3OTQ1M10sIFszNy43ODg2NjgsIC0xMjIuNDAwNTU4XSwgWzUxLjUwMDE1MiwgLTAuMTI2MjM2XSwgWzM3Ljc3NTMsIC0xMjIuNDE4Nl0sIFs0MC43Mzk4MzMsIC03My45OTMxNThdLCBbNDIuMzQwODg5LCAtNzEuMDUxOTMxXSwgWzM2LjIwNDgyNCwgMTM4LjI1MjkyNF0sIFs0MS44ODkyMTc4LCAtODcuNjU1NzIzNF0sIFszNC4wNTA4ODcsIC0xMTguNDU5OTk1XSwgWzM3LjQ1MTAyNiwgLTEyMi4xODY3Nl0sIFszMC40MDc1NDUsIC05Ny43MTc2NjddLCBbMzcuNTM2MTcyLCAtMTIyLjMyNzMyM10sIFszNS42MTI2NzksIC05Ny41NzM2XSwgWzM0LjQyMDcxLCAtMTE5LjY0MTgyMV0sIFs0MC4zMDMwNSwgLTc5LjQ2MjcwM10sIFszNy41NTkwOSwgLTEyMi4zMjE4MzZdLCBbNTIuMzY0MDkzMywgNC44OTE5NDU3XSwgWzM3Ljc4NzY4MywgLTEyMi40MTA5NDNdLCBbMzcuNzc1MTk2LCAtMTIyLjQxOTIwNF0sIFszNy43OTIzOTQsIC0xMjIuNDAyMzQ5XSwgWzM3LjQ4NTg2NTQsIC0xMjIuMjI2MjYwNl0sIFszNy4zODQ2NTEsIC0xMjEuOTkyMTMyXSwgWzQ3LjYyMDcxNiwgLTEyMi4zNDc1MzNdLCBbMzcuMzIwMDUyLCAtMTIxLjg3NzYzNl0sIFs0Ny41OTk5MzM3LCAtMTIyLjMyNzY5NjJdLCBbMzcuMDkwMjQsIC05NS43MTI4OTFdLCBbNTEuNTAwMTUyLCAtMC4xMjYyMzZdLCBbNDAuNzU3OTI5LCAtNzMuOTg1NTA2XSwgWy0zMy43MjI1NzcsIDE1MC45ODE4MDFdLCBbNTkuMzE2Nzg0MywgMTguMTU4Mjc3N10sIFszNy4yOTQ0NjUsIC0xMjEuOTI3Njk2XSwgWy0yMy41NTg1ODQsIC00Ni42NzkyODddLCBbNDcuNjE5NjgsIC0xMjIuMzU2NzU2XSwgWzM3LjI4ODk3NCwgLTEyMS45MzU2ODhdLCBbMzQuMTU2ODAyLCAtMTE4LjMyNDk4N10sIFs0MC43MzExMzE3LCAtNzMuOTkxOTMxMV0sIFs0MC4wMTA0OTIsIC0xMDUuMjc2ODQzXSwgWzM3LjM5Mjc5NzUsIC0xMjIuMDcyNzc0OV0sIFszNC4wMTY3NiwgLTExOC40OTU1NjZdLCBbNDAuMjcwNjY2LCAtNzQuNzYxNDAzXSwgWzMxLjA0NjA1MSwgMzQuODUxNjEyXSwgWzQwLjc0MDI1MSwgLTczLjk5MDAwNF0sIFszNy40OTEzNTYsIC0xMjIuMjI4ODQzXSwgWzM0LjEwMTYxNywgLTExOC4zMjcwNzFdLCBbMzcuNzk0NjQ5LCAtMTIyLjM5OTY0Nl0sIFszOC4wNzI5MzY1LCAtMTIyLjE4Nzk2MzNdLCBbNDMuNzY5NjksIC03OS41NDk1NzddLCBbNDIuMzY0MDU5LCAtNzEuMDg5MDddLCBbMzcuNzk1NTU1LCAtMTIyLjQwMDcyOV0sIFszNS42NzI1MjEzLCAxMzkuNzMyNjc1NF0sIFszNy43OTA5OTgsIC0xMjIuMzk0NjY4XSwgWzM3Ljc4Njk0MiwgLTEyMi40MDEyNDVdLCBbNDIuMzU4OTIsIC03MS4wNTc4MV0sIFs0MC4wMTA0OTIsIC0xMDUuMjc2ODQzXSwgWzM3LjM5NDc5MSwgLTEyMS45NTU0NjNdLCBbMzcuNzg5NDg4LCAtMTIyLjM5NzU5M10sIFszNy4zMjA1MiwgLTEyMS45NDgzOTldLCBbMzQuMDc2MDYxLCAtMTE4LjM3Mjk1M10sIFszNy40MjcyMzUsIC0xMjIuMTQ1NzgzXSwgWzQyLjM4NTMyLCAtNzEuMjA3MDU1XSwgWzM0LjAxODI3NSwgLTExOC40OTUwMjVdLCBbNTUuNjk5MTIzLCAxMi41NDE0ODRdLCBbMzcuNzY2OTA5LCAtMTIyLjQwNjY3Nl0sIFszLjEzOTAwMywgMTAxLjY4Njg1NV0sIFszOS43NTUwOTIsIC0xMDQuOTg4MTIzXSwgWzM3LjA5MDI0LCAtOTUuNzEyODkxXSwgWzU1LjM3ODA1MSwgLTMuNDM1OTczXSwgWzM3LjA5MDI0LCAtOTUuNzEyODkxXSwgWzM3LjcxMDY3NywgLTEyMi4zOTMyM10sIFszNy43ODU2NDcsIC0xMjIuNDA1MjY1XSwgWzQyLjM1MDI3NCwgLTcxLjA1ODc2OF0sIFszNy4wOTAyNCwgLTk1LjcxMjg5MV0sIFszOS4wNDQ2OTQsIC05NC41OTc4OTZdLCBbNDAuNzQ4OTAxLCAtNzMuOTkyNDYzXSwgWzM3Ljc4ODY2LCAtMTIyLjQwMTQwNl0sIFsyNi41ODAwOTUsIC04MS44NzkwNjldLCBbNDguMTYzNTA5MiwgMTEuNTU4MjYwOV0sIFs1MS41MTE0NDAzLCAtMC4xMjI5MjEyXSwgWzQzLjY0NzQ1NTQsIC03OS4zOTUzNzQzXSwgWzQ4Ljg1MDYwNjUsIDIuMzc5NzgyNV0sIFszMS4yMjI2MjIsIDEyMS40NzcwMzg0XSwgWzMuMDQ2MTExLCAtNzUuMDY2MTExXSwgWzM1Ljg1NDQ4MywgLTc4LjgxNTYzNV0sIFs0MC43MDc5MjEsIC03NC4wMDQ3OTJdLCBbMzcuNzc1MTk2LCAtMTIyLjQxOTIwNF0sIFszNy43ODEyNjUsIC0xMjIuMzkzMjI5XSwgWzQwLjY0MzQzOCwgLTczLjg4NjQ1Ml0sIFszNy4zODcxMTQsIC0xMjEuOTczMjI4XSwgWzUwLjc5NjY0NSwgNC40MDA2MDRdLCBbNDQuODY1MjQzLCAtOTMuNDA5NDYyOV0sIFs0MC43NDQwNiwgLTc0LjAwNDU5Ml0sIFszNy40Mjc0NiwgLTEyMi4xNDM5MTVdLCBbMzQuMDMxMjc2LCAtMTE4LjQ1NjgwNl0sIFszNy43Nzk2MjQsIC0xMjIuMzkxMjM2XSwgWzQwLjc3NTUzNywgLTczLjk4MTcwOV0sIFs0MC4zNTc5NzgsIC0xMTEuNzc3NTMxXSwgWzM4LjAwMzM3NiwgLTc5LjQyMDkyNl0sIFszNy43NjQxNjksIC0xMjIuNDAyMDIxXSwgWzMzLjgxNzEsIC0xMTEuOTAzNV0sIFs0NS41MjQxMjc4LCAtMTIyLjY3NTQ0OF0sIFs0NS41MDY2NDMsIC03My41NjY2MzRdLCBbNDcuNjAxNTMxNSwgLTEyMi4zMzU5NDNdLCBbNDEuODkwMzc2LCAtODcuNjM0MDZdLCBbNDAuMDE2MjEsIC0xMDUuMjgxMzFdLCBbNjAuMTcwNTE0LCAyNC44MjcyMjRdLCBbNTEuNTE5ODE5LCAtMC4xMzYxNzRdLCBbMzcuNTY2ODc5LCAtMTIyLjMyMzg5NV0sIFszNy41ODAzMDQsIC0xMjIuMzQzNjc5XSwgWzMzLjAyMDgzMiwgLTExNy4wNzczMTFdLCBbMzcuNDE4NDkxLCAtMTIyLjA4NzQ0XSwgWzQ3LjYwMTExMjUsIC0xMjIuMzI5Mzk4NF0sIFs0MC43NDAzMzcsIC03My45OTMxMjddLCBbNDcuNjIwNzE2LCAtMTIyLjM0NzUzM10sIFszNy43ODM4OTgsIC0xMjIuMzk1MjM0XSwgWzU1LjM3ODA1MSwgLTMuNDM1OTczXSwgWzM3Ljg1NjMzMSwgLTEyMi40OTUyMjJdLCBbMzcuODYyMjA5LCAtMTIyLjI5ODE2OF0sIFszNy4zODYxNzUsIC0xMjIuMDgzNDg3XSwgWzM3LjA5MDI0LCAtOTUuNzEyODkxXSwgWzM3Ljc5Mjk2OCwgLTEyMi40MDQxNF0sIFszNC4wMTEzMzUsIC0xMTguNDY4NDU4XSwgWzQ3LjU5ODQ3NjcsIC0xMjIuMzMzMTQ2Nl0sIFszNy43ODI4MDksIC0xMjIuMzk0MzU0XSwgWzM3Ljc0NDI3NCwgLTEyMi40MjEzNDRdLCBbMzcuNTUzNzQzLCAtMTIyLjMwMDI0Nl0sIFszNy40NDUzMjYsIC0xMjIuMTYwNjcxXSwgWzQ5LjI1NDAzLCAtMTIzLjExNTIwOF0sIFs0NC44NzEzNzEsIC05My40MDc4MzddLCBbNDAuNjIxNTkxLCAtNzMuOTYwNzE3XSwgWzM3LjA5MDI0LCAtOTUuNzEyODkxXSwgWzM3LjM4ODA5NSwgLTEyMi4wODI3Nl0sIFszNy4yODUxMzMsIC0xMjEuOTMyOTYyXSwgWy0zNC43ODgwMzksIDEzOC42OTU5Mjg4XSwgWzM3LjU5MDA1NiwgLTEyMi4zNDc2NTRdLCBbNTEuNjA0OTIyLCAwLjIzOTg2Nl0sIFszNy40MzkzOCwgLTEyMi4xNTg4MDRdLCBbMzcuMzMyMjcxLCAtMTIyLjAwNjUzOV0sIFs0My42MTMxODQsIC0xMTYuMjA5MzU2XSwgWzM3Ljc4NjkwNiwgLTEyMi4zOTc2NzJdLCBbNTIuNTIzNDAyLCAxMy4zOTg2OTRdLCBbMzguODQ5MTksIC03Ny40NTgyXSwgWzQ3LjY0MzU4MywgLTEyMi4xMjg1ODVdLCBbNTIuMTk1NjY4LCAwLjEzMDY0N10sIFszNy44MzgyMjUsIC0xMjIuMjk2NDExXSwgWzQwLjMyMzkwMiwgLTExMS42ODE5Ml0sIFszMy45ODI0MzEsIC0xMTguNDI2NzA3XSwgWzMwLjI2OTQ1MiwgLTk3Ljc0MjY4Ml0sIFszNC4wMDY1NDg4LCAtMTE4LjM5MjM1NzhdLCBbMzIuOTAzMjQ4LCAtMTE3LjE3NTczM10sIFszNy4zOTkyMDgsIC0xMjEuOTc4OTVdLCBbMzguOTg0MTcyLCAtNzcuMDk1OTY1XSwgWzMzLjk5OTAwNCwgLTExOC40NzIyOTddLCBbMzcuMjgxNjUxLCAtMTIxLjk0MTE4NF0sIFs0Ny42MjA3MTYsIC0xMjIuMzQ3NTMzXSwgWzM5LjYxMzg1OSwgLTEwNC44OTQ5ODZdLCBbMzcuNzgyNzQsIC0xMjIuMzkwOTQ1XSwgWzM3LjU1ODMxNTksIC0xMjIuMjg2MjE4N10sIFszNy41MjA1OTIsIC0xMjIuMjU1OTA3XSwgWzQ3LjU5ODk2OCwgLTEyMi4zMzI5MDRdLCBbMzcuODQ1NDgxOSwgLTEyMi4yOTYzNDJdLCBbNDYuMjI3NjM4LCAyLjIxMzc0OV0sIFs0Mi4zNzUzOTIsIC03MS4xMTg0ODddLCBbNDAuOTA5Mzc4LCAtNzQuMDMzNzA3XSwgWzQ4Ljg3ODA1OTYsIDIuMzI4Mzg1M10sIFs0MC41MzI0NTcsIC03NC40NTM0NjZdLCBbNDguODc0NzA2NCwgMi4zMzA0MTYxXSwgWzQxLjkwNzY0NywgLTg3LjY0OTg3OF0sIFszNy43NzQ5Mjk1LCAtMTIyLjQxOTQxNTVdLCBbMzcuNzc5OTg3MiwgLTEyMi4zOTc1ODc4XSwgWzM3LjM4NjY2NSwgLTEyMi4wODQxNzFdLCBbMzIuODYzNDY2LCAtOTYuNzkxNzM5XSwgWzQxLjAzNTc0OSwgLTczLjg2NTI4N10sIFszNy44NjQyMjEsIC0xMjIuMjY1NDY2XSwgWzM3LjQ4NjM2OCwgLTEyMi4yMzAxMTZdLCBbMzIuMDU1NCwgMzQuNzU5NV0sIFszNy40MDUwOTg4LCAtMTIxLjk0Nzc2MzldLCBbMzcuNzg2MjQsIC0xMjIuMzk4OTddLCBbNDIuNTI0NTI3LCAtNzEuMTM3Nzg0XSwgWzMyLjkzOTY3MywgLTExNy4yNDA3OTldLCBbMzcuMzIwODQwMywgLTEyMS45NDc5MjIzXSwgWzM3LjMzMDUzNCwgLTEyMi4wMjg5NjFdLCBbNDIuMzg5NDEsIC03MS4xNDYwMTFdLCBbNDAuNzU0Njk4LCAtNzMuOTkyMTUyXSwgWzM3LjQwMjgwMiwgLTEyMi4xMTc0MThdLCBbMzcuMDkwMjQsIC05NS43MTI4OTFdLCBbMzcuMzg1MjI1LCAtMTIxLjk5MTkxMl0sIFszNy40OTY3MzcsIC0xMjIuMjQ1MzIzXSwgWzQ3LjYzOTkwMDYsIC0xMjIuMTkxNDI3NF0sIFszMy4wMjA1MjYsIC05Ni44NDg4MzZdLCBbMzcuNTU3NjM3LCAtMTIyLjI4NTcxNF0sIFszNy43OTg4NTMsIC0xMjIuMzk4NTk5XSwgWzM0LjA1MTM2OCwgLTExOC4yNTYzMDVdLCBbNTEuNTAwMTUyLCAtMC4xMjYyMzZdLCBbNTguNDE1NzU1LCAxNS42MjU0MTldLCBbNTMuNTU1NTU0LCA5Ljk4NzkzXSwgWzM3Ljc2NjkwOSwgLTEyMi40MDY2NzZdLCBbMjIuNTcyNjQ2LCA4OC4zNjM4OTVdLCBbNDIuMzYyMzMsIC03MS4wODE1MjddLCBbNDAuMDE2MjEsIC0xMDUuMjgxMzFdLCBbMzQuMDMxNzY0LCAtMTE4LjQ2MTg4NF0sIFszNy4yOTA2MDI3LCAtMTIxLjkzMTc4NTNdLCBbNDkuMjI1OTAxNywgMTYuNTY5MjgyMl0sIFs0Mi4wMjczMTksIC04OC4wNzk3NjNdLCBbMzkuMDQ0NTgyLCAtOTQuNTk3NTY3XSwgWzM3Ljg2NDI1NiwgLTEyMi4yNjY5NF0sIFs0Ny41ODE4MSwgLTEyMi4xNTQ4MzddLCBbMzguMjU3MDM1LCAtODUuNzE3MzkzXSwgWzM3Ljc4ODgyNywgLTEyMi4zODk0NF0sIFszMC4zODQ0NTMsIC05Ny43MDk4MDldLCBbMzguODkwNTUsIC05NC42NzE2NDRdLCBbMzguMDAzMzc2LCAtNzkuNDIwOTI2XSwgWzQ5LjI4NTE3MywgLTEyMy4wOTUyMzhdLCBbMzQuNDMxNDU0LCAtMTE5Ljg1NTQwNV0sIFszNy4zNzc2MjQsIC0xMjIuMTEzNzczXSwgWzQ3LjY1MDY3NCwgLTEyMi4zNDk4NjNdLCBbNDcuNjE1MzEzLCAtMTIyLjMyMzQwOF0sIFszNC4wOTg0NiwgLTExOC4zMzI4ODVdLCBbMTIuOTMzNjQ0LCA3Ny42Mjg1NzZdLCBbNDEuOTU1MDU0LCAtODcuNjczMDU5XSwgWzM3Ljc2MjUxMiwgLTEyMi40NjY0OV0sIFszOS44OTY3NCwgLTEwNS4wNzM1OV0sIFszNy40MDc3NTIsIC0xMjIuMTU0NTY1XSwgWzQ3LjYwOTc0NDksIC0xMjIuMTk2Njk5XSwgWzM5Ljg5Njc0LCAtMTA1LjA3MzU5XSwgWzM3LjM4Mzg0NCwgLTEyMS45MTgzMTldLCBbMzMuNjg5MTcxLCAtMTE3Ljg3NDIyMV0sIFs0Ny42NjI3NCwgLTEyMi4zMDA4NjNdLCBbNTEuNTIyMDA3MiwgLTAuMDc2NjAzNF0sIFs0OC4xMjQ4MjcsIDExLjU1NjQ1Ml0sIFszNC4wNjQ2MjksIC0xMTguNDY5MzE2XSwgWzUxLjUyNDg1OTgsIC0wLjA4MzYzMTFdLCBbMjIuMjc5OTkwNywgMTE0LjE1ODc5ODNdLCBbNDguODU3OTkzLCAyLjM4MTE1M10sIFs0MC43NTIzMjUsIC03My45ODg0NzddLCBbMzMuOTg0MDA0LCAtODQuMDkyNTk2XSwgWzI2LjUyNDA1OCwgLTgwLjA2NDE1OF0sIFs1Mi4zNjUwMDEsIDQuODkyOTAzXSwgWzM0LjA1MjE4NywgLTExOC4yNDM0MjVdLCBbNDAuNzM0MzYxNywgLTczLjk5MTA2NDddLCBbMzcuNzg2OTEsIC0xMjIuNDA0NDAzXSwgWzQwLjAxOTM3NiwgLTEwNS4yNzMzMTFdLCBbMzAuMjY3MiwgLTk3Ljc0MjMwNl0sIFszNi45Nzc5MDUsIC0xMjIuMDMzMzZdLCBbMzQuMTQ2NDM2LCAtMTE4LjE1MzEzNl0sIFs0Ny42MjA3MTYsIC0xMjIuMzQ3NTMzXSwgWzQzLjY1NDY3LCAtNzAuMjYyNDM0XSwgWzQwLjcyNTg4MywgLTc0LjAwNjE5Nl0sIFszNy40MTkwNjUzLCAtMTIxLjk3NDE5ODNdLCBbMzcuNDQ2ODIzLCAtMTIyLjE2MTUyM10sIFszNC4wNjk4NDk0LCAtMTE4LjQwNTQxODJdLCBbNTEuNTIzNjc2LCAtMC4xMDc4NDNdLCBbMzQuMDE2MzYyLCAtODQuMzIyNjg3XSwgWzM3LjMwODU5MSwgLTEyMi4wMzE0NzZdLCBbMzcuNzc2NjU4NywgLTEyMi4zOTU4NzVdLCBbNDguODY5MzEsIDIuMzI0NzgyXSwgWzQwLjYxMzIzLCAtODAuMTAxNTI3XSwgWzM3LjM3MTg2MSwgLTEyMS45OTkzMDZdLCBbNTYuMTMwMzY2LCAtMTA2LjM0Njc3MV0sIFs0MC43NDM2NjIsIC03My45ODQyNjhdLCBbMzcuNDUxMDEzLCAtMTIyLjEyMDY5OV0sIFs0OC44ODI2NDcsIDIuMzIyNTUxXSwgWzM4Ljk4OTI2MzksIC03Ny4wOTc4NDI0XSwgWzI5LjY1MDI0NjEsIC04Mi4zMjMwOTgxXSwgWzMzLjUwNjAzMzgsIC0xMTEuOTI2MTYxOF0sIFszNy44NzE2OCwgLTEyMi4yNjk0OTRdLCBbMzcuMzg2Nzc0LCAtMTIxLjk4NzY2MV0sIFszNy43ODkyNjg1LCAtMTIyLjM5NTE4NDRdLCBbMzcuNDI4MzczLCAtMTIyLjA5NzYwNF0sIFszMi45NTc2OTUsIC0xMTcuMTU4MjQ1XSwgWzQ0LjY0NTc1NiwgLTYzLjU3NDExXSwgWzM3Ljc4MTAwMiwgLTEyMi40MDY5MTJdLCBbNDAuNzQ0NjM5LCAtNzMuOTgzOTYzXSwgWzM0LjE5MDk5LCAtMTE4LjQ4NjQyOF0sIFszMC40ODYxODgsIC05Ny42NzExODhdLCBbLTMzLjg4NDY4NSwgMTUxLjIxNjQyN10sIFszNy41NDc2MywgLTEyMi4zMDc4ODddLCBbMzIuOTEyMDYzLCAtMTE3LjExNDgyN10sIFszNy4zODYzNzYsIC0xMjEuOTkxNDcxXSwgWzQwLjcxMTk4MiwgLTc0LjAwODYyMl0sIFs0NC4wNTk5MzYsIC0xMjEuMzA3ODM5XSwgWzM3LjU1NDEwNzMsIC0xMjEuOTc1Njc2NV0sIFs0MC44NTg3NTI0LCAtNzMuNzI1ODE5OV0sIFs0My42NjY5NTMsIC03OS4zODgyNzldLCBbMzcuNzc2NDY3LCAtMTIyLjM5NTc5Ml0sIFszOC42NzM5NzEsIC0xMjEuMDQ0NDJdLCBbNDEuOTgwNTkxLCAxMi41MDczNThdLCBbNDMuNzAzOTEsIC03OS40NTI2MDldLCBbMzQuMTQ4Mzc0LCAtMTE4LjEyMTgyMl0sIFs0MC43Mzg4MzIsIC03My45ODE1MzRdLCBbNDAuNzI2NjM3LCAtNzQuMDA1MTc3XSwgWzMyLjgzNzMxOCwgLTk3LjEwMzY0Nl0sIFs0MC43Mzk3OTQsIC03My45ODU4NzhdLCBbMzcuNzkwNDg1LCAtMTIyLjQwMDk0XSwgWzQwLjcxNzI0OCwgLTc0LjAwMjY2Ml0sIFs0MS44ODU4MywgLTg3LjY1NzM1NF0sIFszNy43OTU1MzA3LCAtMTIyLjQwMDU5ODNdLCBbNDIuMDQwODUxLCAtODcuNzUwNjQzXSwgWzUyLjQ5ODYxOTksIDEzLjQ0NjkwMzFdLCBbNDIuMjk5OTA1LCAtNzEuMjIxNjc1XSwgWzM3LjM5ODAyMiwgLTEyMi4wNDkxNDNdLCBbMzcuNzg3MTgzLCAtMTIyLjM5Nzc1OV0sIFszNy43ODkyNjgsIC0xMjIuMzk1MTg0XSwgWy0zNy44MDI2NTg3LCAxNDQuOTg2ODU0Nl0sIFs1Mi41MjkwNzUxLCAxMy40MTYxNTE0XSwgWzMzLjY3NjQ0NCwgLTExNy44NTg3XSwgWzM0LjAyNDQ1MywgLTExOC4zODA0MzddLCBbNDIuMjc4NTM1LCAtNzEuNzkwMTg1XSwgWzUyLjc4OTQ1LCAzNi40MjczNV0sIFszNy41NTkyNjcsIC0xMjIuMzAyMjUxXSwgWzM3LjQwMTU4LCAtMTIyLjA1MjE5OV0sIFszMi43NzUxMzYsIC0xMTcuMTM4MjY0XSwgWzQwLjc2MTk3OSwgLTc0LjAyNjAzM10sIFs1MS40MTQwNjMxLCAtMC4zMDE2NDU5XSwgWzM4Ljk4MzM5MywgLTc3LjQzNDEyOF0sIFs1OS4zMzI3ODgsIDE4LjA2NDQ4OF0sIFs0OC44OTc1ODgzLCAyLjI4MjcyMzJdLCBbNDAuNzE4ODcxLCAtNzQuMDAxMThdLCBbMzMuOTE4MTUxLCAtMTE4LjQxNzQ3XSwgWzM1Ljg2MTY2LCAxMDQuMTk1Mzk3XSwgWzM4LjcwNzIsIC0xMjEuMjhdLCBbMzkuOTA1NTU2LCAxMTYuMzk1ODMzXSwgWzM3LjU1MTI4MywgLTEyMi4wNjIyNjNdLCBbNDUuNjEwMjA4LCAtMTIyLjUwMDQ0OV0sIFs0My42NTM2NDcsIC03OS42MDQyMzldLCBbMzcuNDAxMjY0LCAtMTIyLjA1MzA0OV0sIFs1Ni4xNTQyOTIsIDEzLjgxMzMxM10sIFszNy4zMjM2NjgsIC0xMjIuMDA0MjA0XSwgWzM3LjU2MDA1ODUsIC0xMjIuMjcwMjQ5XSwgWzM3LjgwMDM1NiwgLTEyMi40MDI2MDldLCBbMzcuNjk0MjAyLCAtMTIxLjkyMTUzMl0sIFszNC4wNDM5NDgsIC0xMTguNDY4MjA0XSwgWzQwLjc0MzgwOCwgLTczLjk4MzYyNl0sIFsyNi40MDc0ODA5LCAtODAuMTE2OTg5NV0sIFsyMS4zMDgyOSwgLTE1Ny44MDg2MDI1XSwgWzM3Ljc1NTAxMiwgLTEyMi40MTgxMzddLCBbNDAuNzE1MDkyOCwgLTc0LjAxMDE4MTZdLCBbNDIuMzk3NDM1LCAtNzEuMjUyMTQ3XSwgWzM4Ljk1OTQxMiwgLTc3LjM1NjMyOF0sIFs0MC44MTA1LCAtODEuOTE0MjI4XSwgWzM3LjM2NjA2MiwgLTc5LjI4MjcyNV0sIFszNy41NTk2Mjc3LCAtMTIyLjI3MDk4NjhdLCBbMzcuNTY2NTM1LCAxMjYuOTc3OTY5Ml0sIFszNy40MjAzOTQ1LCAtMTIyLjA4NzIyNzRdLCBbMzcuMzk5NDgxLCAtMTIyLjEzNDU0MTddLCBbMzcuMzkxNzI3LCAtMTIyLjA3NzU5N10sIFs0MC43NjI0MTIsIC0xMTEuODg5MTM3XSwgWzUxLjUyMDA2MiwgLTAuMTU1NDc4XSwgWzMzLjYxNzAxNywgLTExMS45MDgyOTNdLCBbMzcuMzgxMDM0LCAtMTIxLjk3MTQ4N10sIFszNy41MTIzMTgsIC0xMjIuMjAwOTE0XSwgWzM0LjE0Mzg4NSwgLTExOC4xNTE1NDJdLCBbMzQuMDYyNTA0LCAtMTE4LjM1NDYwNV0sIFs0MC4wMTkyOTksIC0xMDUuMjc0NjI4XSwgWzQyLjM0MDY1MywgLTcxLjA2ODAwM10sIFs0MS4xMDk1MzQsIC03My43MjM5OTldLCBbMzkuOTkxOTE0LCAtNzUuMjkxNjgzXSwgWzM3LjM3OTM3MTgsIC0xMjIuMDEyNDQwNF0sIFszNy41OTI1ODQsIC0xMjIuMzY5Njc2XSwgWzMzLjkxNzAzMSwgLTExOC4zOTI1NjRdLCBbNTIuNDc5NTU0LCAtMS45MDMxODZdLCBbNDIuNDI3NDI4LCAtNzEuMTk5ODYzXSwgWzQzLjE1ODYyNiwgLTc3LjU4MzYyNl0sIFs0MC4yODEzMzgsIC0xMTEuNzY5NTE4XSwgWzM4LjkyMzQ1MywgLTc3LjIyNzUyNV0sIFszOS4xNDE1MTEsIC03Ny4yMDkzOTRdLCBbNDAuNjExNjg4MywgLTczLjgxOTUwM10sIFszNy4zNzg4ODQsIC0xMjIuMDEwNjkyXSwgWzM3LjMyMjM4NSwgLTEyMi4wMDg1NDldLCBbMzcuODM0NjYsIC0xMjIuMjkxOTQ0XSwgWzQwLjM1ODI5NCwgLTExMS43ODAyNDNdLCBbMzQuMDA3OTY3LCAtMTE4LjQ4OTY4MV0sIFszNC4wMTgzNDksIC0xMTguNDg2ODg5XSwgWzM3Ljg5MjMwMSwgLTEyMi4yNTYyMzldLCBbMzQuMDUyMTg3LCAtMTE4LjI0MzQyNV0sIFs0Ny42NjY3OTEsIC0xMjIuMTk5NTI1XSwgWzM3Ljc5NjE2NCwgLTEyMi40MjA5MDNdLCBbMzguOTEyNzkxLCAtNzcuMjIwMDQ4XSwgWzM3Ljc3Njg3OCwgLTEyMi40MDA5MzRdLCBbMTMuMDMzMzUzLCA3Ny41Nzg3NjhdLCBbNTEuNTI1NCwgLTAuMDgzNzI2XSwgWzQxLjMyMzk1NzcsIC03Mi45MjY4MDk0XSwgWzQwLjcyNDQyMSwgLTczLjk5NzAyNl0sIFszNy43Njc4NSwgLTEyMi4zOTI4MzldLCBbNDMuNzQ2MzI3LCAtNzkuNDA3MjE0XSwgWzUyLjQ4OTcsIDEzLjM4ODYxXSwgWzM5LjU5NzEwNjksIC0xMDQuODk0MjU1NF0sIFszNy4wOTAyNCwgLTk1LjcxMjg5MV0sIFs1MS41MTQxNTY2LCAtMC4wOTM0MjU0XSwgWzQwLjczODc5NDUsIC03My45OTM5MjEzXSwgWzI5LjQ3NDgsIC04MS4xMjc0XSwgWzQ1LjUyMjU0LCAtMTIyLjY3NTUzNl0sIFs0MS4yNTk3NTEsIC05NS45NDIzMzZdLCBbNTIuMjE1NTM4MiwgMC4xMjQwMjRdLCBbNDYuMDYwNzkyNiwgMTQuNDk3MjIxOF0sIFs0MC43NDEyNDg4LCAtNzMuOTkxMjUxOF0sIFszNS45OTk1ODYsIC03OC45MDY1XSwgWzM3Ljg2ODAwMiwgLTEyMi41MDAxMTFdLCBbNTYuODc5NjM1LCAyNC42MDMxODldLCBbNDAuNzUyMTQzLCAtNzMuOTkwNjc1XSwgWzU2LjQ2MTQyOCwgLTIuOTY4MTExXSwgWzQwLjAxMDQ5MiwgLTEwNS4yNzY4NDNdLCBbNDIuMzg5Nzk1LCAtNzEuMjM5Mjg2XSwgWzM3LjM3NDY1OSwgLTEyMS45NzAyMDldLCBbNDAuNzM4NDk5NywgLTczLjk5NTQ1ODVdLCBbMzcuNTU4MywgLTEyMi4zMDEzODVdLCBbNTAuODY2NDczLCA0LjM2NjA1Nl0sIFs0MS44NTc5MTUsIC04OC4zMjExNzFdLCBbNDIuMzYzMiwgLTcxLjA5MjM3OF0sIFszMy41Njg1MDksIC0xMTcuNzIzMjQ4XSwgWzMxLjE2OTAzNiwgLTEwMC4wNzY4ODhdLCBbNDAuNzM5OTMsIC03My45OTMwNDg5XSwgWzM0LjE1MzU4OCwgLTExOC40MjI0OTVdLCBbNDUuNTg3MjEyLCA5LjI4NTM3OF0sIFszMy45MzU4MDIsIC04NC4zNjQ5NDhdLCBbMzcuNzczNzI3LCAtMTIyLjQwMTUzN10sIFszMC4zMTYyMjYsIC05Ny43MTgxM10sIFs0Ny42MzQ3NDEsIC0xMjIuMzQwNDM1XSwgWzMzLjc0ODYsIC04NC4zODg0XSwgWzM2LjE4MDc1NywgLTExNS4yNDIyMDNdLCBbNDIuMzYyMzMsIC03MS4wODE1MjddLCBbMzguOTAxMjc5LCAtNzcuMDQzMTk0XSwgWy0zMy40MDQ4MjY3LCAtNzAuNTY3NzM5XSwgWy0zNy44MTM2MDMsIDE0NC45NjYxNl0sIFszMi4wNzA2MzkzLCAzNC43OTEzMDMxXSwgWy0zMy40MTQ5NTk5LCAtNzAuNjAzOTIyNl0sIFszNy43Nzg2MTMsIC0xMjIuMzk1Mjg5XSwgWzQzLjY3MDIzMywgLTc5LjM4Njc1NV0sIFs0Ni4yMDA3ODgzLCA2LjE1NTUwNDFdLCBbNDAuNzUzOTE4LCAtNzMuOTgxMjM3XSwgWzQ5LjI4NTk0MSwgLTEyMy4xMjAyOTJdLCBbMzAuMjY1MDA2LCAtOTcuNzQ2NjA4XSwgWzQwLjc1MjY3MiwgLTczLjk3NTkzXSwgWzQwLjc2MTg1NSwgLTczLjk4Mzc1NF0sIFs1MS4zOTkxMDEsIC0xLjMyNTMzN10sIFszNC4xNDY0MzYsIC0xMTguMTUzMTM2XSwgWzQwLjczNzcyMSwgLTczLjk4NzcyNV0sIFszNi4xODE2NTQsIC0xMTUuMDMzNDM3XSwgWzM5LjIwOTI5OSwgLTc2LjgyOTI5NV0sIFs1MS41MjEyMTc5LCAtMC4wODY5NzM2XSwgWzMzLjkwMTk4MTIsIC0xMTguMzgxMjE3M10sIFs1MS41MDQ4NSwgLTAuMDE4NjQ3XSwgWzM5LjYzMTE3NSwgLTg0LjE4MTE3NV0sIFs0MS44MDg0NTgsIC04OC4wNzMwMDhdLCBbNTIuMzYzNzc0NiwgNC44OTQ2MDcxXSwgWzM3Ljc2NzU2OSwgLTEyMi40MjIxNV0sIFs0My40NTk5Mzg4LCAtODAuNTE4NTM2N10sIFszNS4wNjEwOCwgLTEwMS4yNTY2NjNdLCBbNTIuMTk3NDcxLCAwLjEzMDU4OF0sIFs0OS4yODQ1MjEsIC0xMjMuMTA5OTMzXSwgWzM0LjA2MzQ0MSwgLTExOC4zNjU0M10sIFszNC4wNDQ5MzksIC0xMTguNDE5MDY3XSwgWzUxLjUyOTA2NjksIC0wLjA5NDkwODJdLCBbMzkuOTUyNTc2MiwgLTc1LjE2NTI1MThdLCBbNTUuOTQ4NjIsIC0zLjIxNTE0OV0sIFsyOC42ODIwNDIsIDc3LjA4NzUwMl0sIFs0NC4wNDk3MTksIC0xMjMuMDkzMTczXSwgWzUxLjQ5NDA2NywgLTAuMTQ2NjY1XSwgWzQ1LjM1MjI1NSwgLTc1LjgzNDE1MV0sIFs1MS4yMDkwNjgsIDYuNzYzMzA5XSwgWzQxLjM4ODc2OSwgMi4xMjk5NDg3XSwgWzQyLjY5NjQ0MSwgLTcxLjIxMTEyOV0sIFszNy43ODk4MDMsIC0xMjIuMzg5NzU3XSwgWzMyLjkxNTg1NiwgLTExNy4yMjg2NjNdLCBbMzcuNzc1MTk2LCAtMTIyLjQxOTIwNF0sIFszOC44Nzg1OTYsIC03Ny4xODUwNTddLCBbMTcuNDE1NDI5LCA3OC40MzQ0MjJdLCBbNDAuNzUzNSwgLTczLjk5ODYxNV0sIFs1OS4zNTc4ODk2LCAxOC4wNjcwMTA4XSwgWzUyLjUwOTI5OTUsIDEzLjM5MDA1OTZdLCBbNDAuNzI3NDI1LCAtNzQuMDA1NzEyNV0sIFs0MS40MDYzMzUsIDIuMTkyMDIzXSwgWzUxLjUyNjA0NzUsIC0wLjIwOTAxOV0sIFs1OS42MTA3NjUyLCAxNi41NDk3XSwgWzM2LjAzMDcwMiwgLTg2Ljc3NjA1MV0sIFs0OS4yODIxMDc1LCAtMTIzLjEwNzgwNDVdLCBbNDAuNzU5MjQzLCAtNzMuOTg0NTldLCBbMzYuMDA5ODI1LCAtNzguOTIyMDU1XSwgWzM3LjIyNjcwOSwgLTEyMS45ODE0N10sIFs1Mi4zNjcwMiwgNC44OTY0NjhdLCBbMzIuODYwODMxLCAtOTYuOTQwM10sIFs0MC43NDMyNjQsIC03My45MjM0MjddLCBbMzcuNDIxNzMxLCAtMTIxLjk1NzAxOF0sIFs0Ny42MDQyNzksIC0xMjIuMzM3NDM3XSwgWzM5Ljc4Njk0OCwgLTc1LjQ4NTQwN10sIFszMy42NTE2MjQsIC0xMTcuNzM5MjI3XSwgWzQwLjAxNjU4MiwgLTEwNS4yNTM2MDFdLCBbMzMuNTg1NzY3LCAtMTE3LjczMTI4M10sIFs0Mi4zNTQwMjMsIC03MS4wNTgwOTZdLCBbMzIuNzQ1OTk4LCAtMTE3LjE3MTgxOV0sIFs1My41NDA5NDEsIC0xMTMuNDkzNjk4XSwgWzQ1LjUxODAzOCwgLTEyMi42NzkzNF0sIFs1My4zMzc5MzUsIC02LjMyODY4XSwgWzQzLjYxMjQsIC0xMTYuMzkwOF0sIFszNC4wODU3NDksIC0xMTguMzQzNzkxXSwgWzQ5LjI4MzkzNSwgLTEyMy4xMTU5M10sIFs0MC43NDQ0MDIsIC03My45ODc5NDldLCBbLTM0LjkyNjAyNCwgMTM4LjYwNjQxOV0sIFs1MC42NTc3NTYzLCA0LjYyNjA0NDFdLCBbMzUuOTE0NzAyLCAtNzguOTAyNjE3XSwgWzQzLjY0Njg3MywgLTc5LjM5NTQ3MV0sIFs0MC43MDY3MjgsIC03NC4wMTI1MzNdLCBbMzcuNzg0MTM3LCAtMTIyLjQwODY0Nl0sIFszNy43NzEyMDgsIC0xMjIuNDE4MTI5XSwgWzM3Ljc4OTMyMTUsIC0xMjIuNDAxMzYyNF0sIFs0OC43NDkxMDE4LCAtMTIyLjQ3NzkxNzZdLCBbNDMuMDE0MDA2LCAtODEuMjgwMzY0XSwgWzQ3LjU4NDIyNCwgLTEyMi4xOTI5Ml0sIFs0MS4xNDY2OSwgLTczLjM2MzE4Ml0sIFs1Mi4yMDUxOTQsIDAuMTMwNzMzXSwgWzM0LjE4NjAwNSwgLTExOC42MDY4Ml0sIFszMC4yNjkwMjYyLCAtOTcuNzQ1NjcxNF0sIFs0MS44ODE5MjgzLCAtODcuNjQ0NTQ3M10sIFszMy4xMDg1NTksIC0xMTcuMjk4OTc5XSwgWzM3Ljc5MTI0MiwgLTEyMi4zOTcxMzNdLCBbMzcuNjI5MzkzLCAtMTIyLjQyNDk3NV0sIFszNS43ODY5NzUsIC03OC42NDcwMDNdLCBbNDMuMDU5NCwgLTc3LjQ2NzEyOV0sIFszMy45MjU3NTIsIC04NC4zNTAyMjddLCBbMzcuNDExODc3LCAtMTIyLjAxODI3N10sIFs0NS41MjM1MzUsIC03My41MjI4ODNdLCBbMzYuMDg5MDEsIC03OS45MjQxMTddLCBbNDIuMjE0NDgzLCAtNzEuMTg1OTY0XSwgWzUwLjM4MzUyNjQsIC0zLjYwMjcyNTZdLCBbMzkuOTUxMjk5MSwgLTc1LjE3OTg2OV0sIFszNy40Nzc2NTIsIC0xMjIuMjIzMzg0XSwgWzM3LjgxNDIwMiwgLTEyMi40Nzc5NTldLCBbNDAuNzU0Njk4LCAtNzMuOTkyMTUyXSwgWzM3LjI2OTE3NSwgLTExOS4zMDY2MDddLCBbMzMuOTE5MjU4MywgLTExOC4zOTUyOTY5XSwgWzM4LjYyNzIsIC05MC4xOTc4XSwgWzM3LjM3OTUyNTEsIC0xMjIuMDEwNjEzMV0sIFs0Mi4zNjc0OTg5LCAtNzEuMDc5Mzk1Ml0sIFs1NS44NjI4NzgsIC00LjI3MTE2NV0sIFszNy43ODcyMDQsIC0xMjIuMzk3ODg0XSwgWzMwLjM5Njk4OSwgLTk3LjczNTc2OF0sIFs0MS4zNzgwMzEsIC03My45MjUxOTRdLCBbMzIuMDU1NCwgMzQuNzU5NV0sIFszNy43Nzc1MTMsIC0xMjIuMzk3MDQ0XSwgWzEyLjg2OTM2LCA3NC44NDI1Nl0sIFszMy45NDQ3MTYsIC04NC4zMTgwNTldLCBbMzcuNzc0NjY5MywgLTEyMi40MTUxOTldLCBbNDEuODIzMTcyLCAxMi40NjE0MjVdLCBbNTEuNjMyNDA3LCAtMC4xOTc5MDJdLCBbMzcuMzcxOTA4LCAtMTIyLjExMTcxMV0sIFs0MS45MjQ4OTksIC04Ny42NDA0NDJdLCBbNDAuNjIyOTE5LCAtMTExLjkwMDkxN10sIFs0NC45MDkxOTg0LCAtOTMuMzQzOTI5MV0sIFs1MC45NDUyODksIDYuOTIxNTQ2XSwgWzUyLjUxOTIxMiwgMTMuNDAzMTA4XSwgWzIzLjcwOTkyMSwgOTAuNDA3MTQzXSwgWzUzLjU2MzU2NCwgOS45MjY0NzVdLCBbNDYuMjIzMTU3LCA2LjEyNDQyNF0sIFs1My41NTA1NzIsIDkuOTk3NjY5XSwgWzM3LjQzMTk0MSwgLTEyMi4xMDMwNzZdLCBbNTMuMzMwNDI4NiwgLTYuMzc1MjQ3OF0sIFszOC4wMDYyNzQ1LCAtMTIyLjUzMTU2NjVdLCBbNDEuODI4MzM2NCwgLTcxLjQxMzM1NDNdLCBbMzAuNDMyNDIxLCAtOTcuNzMyMDU5XSwgWzI4LjUwNjQxLCA3Ny4wODEyOF0sIFstMzMuODY3MTM5LCAxNTEuMjA3MTE0XSwgWzM3LjMyMzEyMywgLTEyMS45OTQ4MzVdLCBbMzkuNjUzMDU0LCAtMTA0Ljk1OTQ0Nl0sIFs0MC43NTc5MjksIC03My45ODU1MDZdLCBbMzcuNzg2NzM5MiwgLTEyMi40MDEzODc1XSwgWzM3LjQwNDk3MzEsIC0xMjIuMDMyMzUyNV0sIFs0OC4xMzYzMjYsIDExLjU2MjAyM10sIFs1Mi45NTE5OTcsIC0xLjE0Mjc3OF0sIFs1OS4zNDUxMjYsIDE4LjA1NzA2OV0sIFszNy40NDU2NjcsIC0xMjIuMTY2OTExXSwgWzQwLjc0NTU1NzksIC03My45ODIzNDQ5XSwgWzM3LjM5MDc1MywgLTEyMi4wMzk4NjVdLCBbNTEuNTUwNzU3LCAtMC4xMzA3NzJdLCBbNDEuMzk2NTUzLCAyLjE4OTI0MV0sIFs1Mi4yMDI1NDQsIDAuMTMxMjM3XSwgWzU3LjA0NzMwMiwgOS45NDU5NDRdLCBbMzcuNzc1MTk2LCAtMTIyLjQxOTIwNF0sIFszMy45ODUzOTksIC0xMTguMzg5NDUyXSwgWzQwLjc0NTUwNjgsIC03My45ODI2MjRdLCBbMzQuMDY3MTUzLCAtMTE4LjQwOTE2MV0sIFszNC4wNDg4NTcsIC0xMTguMjUxMzQzXSwgWzM0LjE1NTg2OSwgLTExOC4zMzUyOTJdLCBbMzQuMDgxNTIzOCwgLTExOC4zODI2NzQzXSwgWzQwLjk3Nzg1NSwgLTc2LjAyOTUxMV0sIFszNC4xMDE1NzgsIC0xMTguMzMzMzRdLCBbMzcuNTAzMDU1LCAtMTIyLjI5NTcwMV0sIFstMjMuNTQ4OTQzLCAtNDYuNjM4ODE4XSwgWzQ3LjM5MjExMSwgOC41NTA0ODFdLCBbNTEuNTAzMTg4LCAtMC4wOTE3ODRdLCBbMzcuMzE2NjUzLCAtMTIyLjA1MDc0XSwgWzI2LjExOTQwMywgLTgwLjE0MzM5NF0sIFs1My4zNDIwMiwgLTYuMjUwNjg0XSwgWzUxLjUxNDg5NywgLTAuMTMzNzZdLCBbMjYuMjMwNzEzNSwgLTgwLjE1OTQxODZdLCBbMzcuNDAwNDY1LCAtMTIyLjA3MzAwM10sIFszNy43ODcyNTEyLCAtMTIyLjQwMzk3NjhdLCBbMzIuNzE4Mzc5LCAtMTE3LjE2MDY2MV0sIFszNy43ODU3OTIsIC0xMjIuNDA1MDgxXSwgWzUxLjA0MjI5NiwgLTExNC4wNjA0NF0sIFs0Mi40ODExMzYsIC04My4yMDE5NjZdLCBbMzMuOTAzNTQ0LCAtMTE4LjI2NTY1NV0sIFsxMy4xNjIwNzU2LCA4MC4yNTg2NDA2XSwgWzI5LjczNTA4MiwgLTk1LjM5MDc1OF0sIFs0MS44ODMxOTUsIC04Ny42Mzg4MDddLCBbMzcuNTA2ODg1NCwgLTEyMi4yNDc1NzI5XSwgWzM5LjE2OTM5NywgLTc2LjgxMTUyNl0sIFszNy44NDg2NDEsIC0xMjIuMjg5NDk4XSwgWzQ1LjUxNDAwMSwgLTEyMi43NTQ1NzVdLCBbMzcuNzkxMTE4NiwgLTEyMi40MDExNzA2XSwgWzQ1LjYzMjU2LCAtMTIyLjQ2MjA5M10sIFszNy4zNzI1MDksIC0xMjIuMDM4MjA1XSwgWzMzLjc3NjE5OCwgLTg0LjM4NTI1N10sIFszNy40OTY1NCwgLTEyMi4yMjUxMjhdLCBbNDUuNTYwODk5LCAtOTQuMTU5NDUyXSwgWy0zNi44NjI3MDcsIDE3NC43NjA3NDldLCBbMzcuNzgwNTQsIC0xMjIuMzk2ODE4XSwgWzQzLjY0MzA4LCAtNzkuNDA2Nzc1XSwgWzQxLjYwMTY0NSwgLTg2LjI3NjA0XSwgWzM3Ljc5ODg1MywgLTEyMi4zOTg1OTldLCBbMzcuNDA1NDg1LCAtMTIxLjkxMDMwNV0sIFs0MC43MzEwNDc2LCAtNzQuMDA3ODEzNF0sIFszNy41NjA3NDcsIC0xMjIuMjg0MDAxXSwgWzM0LjE0NDI5OCwgLTExOC4xNjgxMDRdLCBbMzcuNjY3MzA0LCAtMTIyLjM4Mjc5Ml0sIFs0OS4yODQ5NzEsIC0xMjMuMTE1MzU2XSwgWzM2LjA5NjYsIC03OS4yNjYyNDZdLCBbNDAuNzQwMTYyLCAtNzMuOTkzMzY3XSwgWzQzLjY3MDIzMywgLTc5LjM4Njc1NV0sIFszMi45MjU1MDYsIC05Ni43OTM1MDVdLCBbMzAuMjY5MDA0LCAtOTcuNzQwMzk1XSwgWzM3Ljc4MTY4OSwgLTEyMi4zOTEwNjFdLCBbNDEuODgxODc2LCAtODcuNjM5NzEzXSwgWzM3Ljc5MDM0NiwgLTEyMi40MDE4NV0sIFs0NS41MzkwNjUsIC03My42MDk1MzJdLCBbMzcuNzgxMjY0LCAtMTIyLjM5MTUxNV0sIFs0MC43MjcxMDcsIC03NC4wMDc2NTVdLCBbMzUuODI4MTIxLCAtNzguNzg5MzU4XSwgWzUxLjA1MDMxNCwgMy43MTEwNV0sIFs1Mi4xMzI2MzMsIDUuMjkxMjY2XSwgWzEuMzE5NDU4LCAxMDMuODQ1OTA5XSwgWzM3Ljc3OTUwNywgLTEyMi4zOTA3MV0sIFszNy40OTI2ODUsIC0xMjIuMjI3NzY1XSwgWzQ5LjI4MDY2NSwgLTEyMy4xMDUzNDddLCBbMzQuMDc0OCwgLTExOC4yODg1MzZdLCBbNDIuNDE3MjgzLCAtNzEuMTgyNDg4XSwgWzUyLjUyMzQ4LCAxMy40MTE0OTRdLCBbMzcuNzgyMTAxLCAtMTIyLjM4OTUxOV0sIFszNy40MDMzMTUsIC0xMjIuMTQ1OTgxXSwgWzI4LjI2Mjc1NiwgLTgyLjcyODQ2Nl0sIFszNy43ODg2Njg1LCAtMTIyLjQwMDU1NzZdLCBbNDcuNjI2NDc5LCAtMTIyLjIwNTE0OV0sIFszMy44NjEwOTMsIC04NC4zMzk1MDZdLCBbMzMuNjQ3MTA1LCAtMTE3LjczNDI0XSwgWzQyLjU4NzgsIC03Mi42MDAzXSwgWzEuMjgwNTc0LCAxMDMuODIzOTJdLCBbMTIuOTc1NTMxLCA3Ny42NTM3MzldLCBbNDEuMzk1MDEzLCAtNzMuNjE0NTc3XSwgWzQwLjc1MzQ1NDksIC03My45NzI0ODg2XSwgWzM0LjA0ODU3MywgLTExOC4yNTk1N10sIFszNy40NTIwMjM5LCAtMTIyLjE3OTcwNTNdLCBbMzAuMjY1NTU3LCAtOTcuNzMxNTFdLCBbMzcuMzk4MDc2LCAtMTIxLjk3NzMzM10sIFszNC4wNTMwNCwgLTExOC40NjY0M10sIFs0OS4wMDk0NTUsIDguNDA3MTY3XSwgWzU1LjE2OTQzOCwgMjMuODgxMjc1XSwgWzQwLjY5NDk1NiwgLTc0LjU3NzU5OV0sIFszNy41Mzg0MTgsIC0xMjIuMjUyMTE1XSwgWzM3LjQxOTA0MSwgLTEyMi4wODc0NzFdLCBbNDMuNzEyMzA5LCAtNzkuMzk5NTM4XSwgWzU0LjQ1Nzk3MywgMTguNDU1MTc2XSwgWzQwLjAzMTAxNSwgLTEwNS4yMjc3NjRdLCBbMzcuNTgwMzA0LCAtMTIyLjM0MzY3OV0sIFszMC4yNjQyNTQsIC05Ny43NDEyOV0sIFs0MC43MDI4NDcsIC03My45OTA2ODFdLCBbNDIuMjc1MjYzLCAtNzEuMjQ3NjJdLCBbNDMuNzEyMzA5MiwgLTc5LjM5OTUzODRdLCBbNDAuNzUzODc3LCAtNzMuOTkxNTEyXSwgWzQ0Ljk2MjY5NywgLTkzLjI3OTkxMV0sIFs0NS40OTkyMTUsIC03My41NTk2MzFdLCBbMzguODc1ODc2LCAtNzcuMjIwNzc5XSwgWzQ1LjQ5NjM5NywgLTczLjU3MjE4MDJdLCBbMzcuNzk2MTY0LCAtMTIyLjQyMDkwM10sIFsxMi45MjQ5MDgsIDc3LjU1MDc5OF0sIFszOS4xMTYzMzMsIC03Ny4xODEzMDddLCBbNDEuMDI2NDM5LCAtNzMuNjI3MTE5Nl0sIFs0Ny44MTA5MTQsIC0xMjIuMjk1Njk3XSwgWzM5LjQxNDIyNiwgLTc3LjQxMDkzMV0sIFszMy41MjA0MjM2LCAtMTExLjkyNTg1NzFdLCBbMzUuMDg2Mzg4LCAtMTA2LjY0NjE4NV0sIFszOC44ODgzMDgsIC03Ny4wODc3OTJdLCBbMzIuNzQ0NDQsIC0xMTcuMjExNDcxXSwgWzQ4LjkwNjQ4MDQsIDIuMjg2MDQxOF0sIFsyNS44ODc0NjIsIC04MC4xNjYxNTVdLCBbNDIuMzY0MzY3LCAtNzEuMDc4OTc4XSwgWzMzLjgyNzQwNSwgLTExOC4zMzQzM10sIFszNy41NTgyNDUsIC0xMjIuMzAyNjU0XSwgWzQyLjM4NTMyLCAtNzEuMjA3MDU1XSwgWzMzLjk5NTk3NCwgLTExOC40NTY3MDldLCBbMzkuMDYwMSwgLTc3LjQ2NDAxOF0sIFszOS45NTYxMDEsIC04Mi45OTUyMjZdLCBbNTMuNTczNzYxLCAxMC4wNDU3OTZdLCBbNDYuMjM0MzE1LCAtNjMuMTI3ODQ1XSwgWzM3LjQ0NDMzMiwgLTEyMi4xNjEwMThdLCBbMjkuNTg0MDE3LCAtOTguNTcwMTg5XSwgWzUyLjUwMjY0MiwgMTMuNDQ2ODM0XSwgWzQyLjI3MjQ4NiwgLTcxLjQyNDk5Ml0sIFs1MS45MDk4MjA1LCA4LjQyMDAzMjFdLCBbMzcuNzg4NjcxNywgLTEyMi4zOTI3MjVdLCBbMzEuMDQ2MDUxLCAzNC44NTE2MTJdLCBbMzIuODUzNzc3NywgLTc5LjkyMDg2MzJdLCBbNTIuNTAwODg4LCAxMy40MjA4MTddLCBbNDAuNzY2NTIsIC04OS41NzE4MTNdLCBbNDMuNjg3MDE1NiwgLTc5LjM5OTA3OTVdLCBbMzQuMDA2NDA3LCAtMTE4LjM5MjQzMl0sIFs0OC44ODA1OCwgMi4yMzY1MTZdLCBbMzQuMDIyMTI5OSwgLTExOC4zOTU3NDNdLCBbNDguODcwNDA5NSwgMi4yMjQ2MzM5XSwgWzQwLjc0NDAzNCwgLTczLjk5MTAzNF0sIFs0NC40NjM4NDQsIC03My4xMjQ3OTNdLCBbMzguOTc2MzksIC03Ni41MDMxNzFdLCBbMzAuMzc5NTkzLCAtOTcuNzY1MzEzXSwgWzQwLjcyNjM0MiwgLTExMS44NTg4MzVdLCBbMzMuNjY2NDg2LCAtMTE3Ljc1NDgwN10sIFszMC40MjgzNzIsIC05Ny43NDE5MzddLCBbMzAuMjY2NywgLTk3Ljc0MjhdLCBbNTMuNTQ0NzExLCAtMTEzLjUxNTc2OV0sIFszNy4zMzI5NDgsIC0xMjEuODkwNTNdLCBbNTIuNTg4NTQ1LCAtMS44MzA4OTJdLCBbNDIuMzU2ODEyLCAtNzEuMDU4MTg1XSwgWy0zNC41ODkyODA4LCAtNTguNDMyOTddLCBbLTM4LjAwNjA5MTcsIC01Ny41NTgyNDQ0XSwgWzI5LjUxNjM1MiwgLTk4LjQzNjc2XSwgWzQwLjc0NTA2NCwgLTczLjk5MjYzN10sIFszMi4wNTU0LCAzNC43NTk1XSwgWzU5LjMzMjc4OCwgMTguMDY0NDg4XSwgWzM3Ljc3NTM5MiwgLTEyMi40MTIyMTRdLCBbNDIuNTg1OTUxLCAtODMuMTI2ODE0XSwgWzI4LjY0MjkzMywgNzcuMTgxNjM5XSwgWzM5LjA5ODkyNywgLTg0LjUxMDc1M10sIFszMi44NDI5NTgsIC0xMTcuMjcxNDYxXSwgWzM4Ljg2MTAzNSwgLTEwNC43MjI5MzJdLCBbNDIuNjAwNTYwNCwgLTcxLjMyNzc4NTRdLCBbNDguODcxOTc2LCAyLjMwMDY5XSwgWzM3Ljc2NDE2OSwgLTEyMi40MDIwMjFdLCBbMzguODYzOTk1LCAtNzcuMzc5NDc0XSwgWzQwLjc0MzU2MywgLTczLjk5MzI3NF0sIFstMzMuODYwNDA0LCAxNTEuMjA4NTg0XSwgWzU4LjQwODkyMiwgMTUuNjI2NDgxXSwgWzMyLjA4MDk2MywgLTgxLjA5NDIzMV0sIFs0OS4yNzUzMzIsIC0xMjMuMTIwODkzXSwgWzMzLjY0MjUyOSwgLTExMS45MDEzMzddLCBbNDAuNzc1ODU2LCAtNzMuNDI0MjI3XSwgWzM3Ljc4NDI0LCAtMTIyLjI3NDc3MV0sIFs0My42NTEwMSwgLTc5LjM4MTI1NF0sIFszMy40NDUwOTYsIC0xMTEuOTYwMDk0Ml0sIFs0Mi4zNTExMzcsIC03MS4wNzAzMjJdLCBbMzcuNjg3MTAwMSwgLTEyMS44OTU4ODc5XSwgWy0yNy40Njc4NzgsIDE1My4wNDcwNTJdLCBbLTMzLjg3MTA2MiwgMTUxLjIwNzAxNl0sIFszNy40MTg2MDk3LCAtMTIyLjA5Mzc2ODZdLCBbMzcuMzgzMzY4LCAtMTIxLjk4MDE4Nl0sIFs1Mi4zNzY3OTIsIDQuOTIwNTgyXSwgWzQxLjI1NjA1MiwgLTgyLjYxNjAzMl0sIFszMy4xMzIwOTksIC0xMTcuMjUzNzgzXSwgWzQyLjM4OTU1NywgLTcxLjI2MDUwOV0sIFs0MC43NTQyMTEsIC03My45NzkxN10sIFs0My4wMzI4MzMsIC04OS40MDU4Nl0sIFszMC4zNzU1NjMsIC05Ny43ODE5Ml0sIFszNy43ODc2NDYsIC0xMjIuNDAyNzU5XSwgWzUxLjUxMTk4ODMsIC0wLjEyNjAxNDZdLCBbMzMuMTAzMjUyLCAtMTE3LjI2Njc0OV0sIFs0MC43MjYyNDEyLCAtNzQuMDA3MzI3MV0sIFszMS4yMjQ1ODgsIDEyMS40ODAwMjldLCBbNDguODUwNjA2NSwgMi4zNzk3ODI1XSwgWzM3Ljc4NzgwMzcsIC0xMjIuNDAwMTU3OF0sIFs0NC41MTk1LCAtODguMDE5OV0sIFs0My44MzU2NDM0LCAtNzkuNDQxODU0M10sIFs0MC43MjA3NjQsIC03My45NTc5NjhdLCBbMTcuNDEzNjg3LCA3OC40NDQ0NzRdLCBbNDcuNjE3NzMyLCAtMTIyLjM1NzMxN10sIFs0OC4xMjgxMjA5LCAxMS41Njc3Mjg4XSwgWzM3LjQzOTM4LCAtMTIyLjE1ODgwNF0sIFszNy43ODg2NiwgLTEyMi40MDE0MDZdLCBbMzAuMDUwODM3LCAtOTUuMjMwNzg5XSwgWzMwLjM1OTI3MzcsIC04MS40MTI4NzA2XSwgWzQwLjEwMTg0NCwgLTgzLjExMzU4OF0sIFszNy43ODkzMzUsIC0xMjIuNDcyOF0sIFszNy40MDY0NTYsIC0xMjEuOTgzMTQ2XSwgWzUyLjM1NDA5OCwgNC44NjM2MDRdLCBbNDAuNTUzODQ1LCAtMy44OTk1MDhdLCBbNTkuNDM3MjE0LCAyNC43Njg2NjRdLCBbMzcuNTA2MjcyLCAtMTIyLjI0Njg2N10sIFs0MC40NTUyMTksIC0zLjY1MDcwM10sIFs1My4yNzQ1NDksIC02LjIxNTI3MV0sIFszOC45OTQ1MTcsIC03Ny4wMzExOTRdLCBbNDMuMDI3Mjc3LCAtODkuMzkyMjg0XSwgWzQzLjY0OTAzNiwgLTc5LjM5NDk3NF0sIFszMi45ODMzNjIxLCAtOTcuMTYwMjUyMl0sIFs0Mi4yMjg5NDYsIC03MS41MTg4OF0sIFszMC4zODIxNjgsIC05Ny43NDMxNDFdLCBbMzcuNzkxMDY4LCAtMTIyLjQwMTk0Ml0sIFs0Ny42MDE4MDMsIC0xMjIuMzMyMDg1XSwgWzMzLjkwMTk1NDMsIC0xMTguMzg3MjAxOF0sIFs0MC43NTQ3NjIsIC03My45ODg1NDNdLCBbMzAuMzk2OTE4LCAtODcuMjg5MzhdLCBbMTguOTk3ODU5NCwgNzIuODM2Nzc3Nl0sIFs0NC40NjgwNTUsIC03My4yMDc2NDFdLCBbNDIuNDg1MTkzLCAtNzYuNDU4NTUzXSwgWzMzLjIwMDc2MSwgLTk3LjEyMDU4N10sIFszMC4zODE1MjUsIC05Ny44MTA0ODRdLCBbMzIuOTg5NzIsIC05Ny4wMTA0MDhdLCBbNTEuNTE5MzY5LCAtMC42MzE4MTddLCBbNDIuMzkzNjYyLCAtNzEuMjU1ODU1XSwgWzM0LjIwODMwNCwgLTExOC4yMDkyNjNdLCBbNDMuNjI2OTY2OSwgLTc5LjU1ODkxMTJdLCBbNDEuODU3MjA0LCAtODcuNjIzOTIzXSwgWzUyLjM1NDUyNSwgNC45MTIxMDZdLCBbMzcuNzg3MDc2LCAtMTIyLjM5OTQxMl0sIFs0Ny42MTc4MzgsIC0xMjIuMzU2MDI3XSwgWzU5LjIxNTEyNywgMTAuOTI5MzM4XSwgWzQwLjcwNjI3MSwgLTc0LjAwOTI0Ml0sIFsyOC4wMjk5OCwgLTgyLjA0NTE3OF0sIFs0Ni40NDMzMDk2LCAtODEuMDA1NzM4Nl0sIFs0OC4xNDI3NzgsIDExLjUwNTM2Nl0sIFszNy40Mjk2NzQsIC0xMjIuMTAwMzMzXSwgWzQ1LjU5MTE2MywgNS45MjIyNF0sIFs0OC45Mjc2OTcsIDIuNTMxNDU3XSwgWzQ0LjI2OTA1NiwgLTg1LjQ2NTcyNV0sIFs0MC4zODIzMzgsIC0zLjc3Mzg0NF0sIFs1Mi41MjgzNjE0LCAxMy40MTI0NTYzXSwgWzIyLjMxMzY3NSwgMTE0LjE2OTI0MV0sIFs0MC4wMjU0NzksIC0xMDUuMjE5Mjk4XSwgWzM0LjA1Nzc1LCAtMTE4LjQxMzhdLCBbMzcuODU4NjI4LCAtMTIyLjI5MjU1NV0sIFs0MC4zNDUzNywgLTc0LjE4Nzk2N10sIFs0Mi4yOTUxMzcsIC03MS4yMDA2ODZdLCBbNDMuNjYxODI3LCAtNzkuNTk5NDJdLCBbNTEuNTEyOTE1LCAtMC4xNDcxXSwgWzQzLjYzNzMxMDEsIC03OS40MjU0NjAzXSwgWzMzLjQ2NTA2MywgLTExMS45MjYxMTJdLCBbNDMuNzEyOTMwNSwgNy4xMzQ2NTY3XSwgWzQyLjM2MjM2LCAtNzEuMDk5NjkyXSwgWzQyLjQ2MzcxOCwgLTgzLjM3ODA5M10sIFszNy43ODk5MDIsIC0xMjIuNDAwNzc5MV0sIFszMC4yNjg4NTIsIC05Ny43NDEyMl0sIFs0MC43MDQyMTMsIC03NC4wMDgyMDg5XSwgWzQ4LjgwNzcyMzMsIDIuMjk3MzYwN10sIFs0MC44MzgzMzgsIDE0LjIzNTg4OV0sIFszNy43ODk1MjQ4LCAtMTIyLjM4ODY1NjldLCBbMzAuMTgxNzA5LCAtOTcuODgwMjg2XSwgWzM3Ljc4OTMyLCAtMTIyLjM5MDA1OF0sIFs0Mi4zMzI3NywgLTcxLjU4OTg1XSwgWzI4LjYzNTMwOCwgNzcuMjI0OTZdLCBbLTMzLjQyNTM2LCAtNzAuNTY2NDY2XSwgWzQwLjc0NzI3LCAtNzMuOTgwMDY0XSwgWzQyLjYyNDQsIC04My4zMTgzXSwgWzQ4LjEzNzY5MywgMTUuMjc4NDQyXSwgWzEzLjExMzUyLCA4MC4xNTIxMzVdLCBbMjIuNTcyNjQ2LCA4OC4zNjM4OTVdLCBbNDAuNDU2MjA0LCAtMy44MTMxMjJdLCBbMzguODI1NDczLCAtNzcuMDU4NjU2XSwgWzMzLjc0ODIzNiwgLTExNy44MzY4OTldLCBbMzcuNzg5NzYsIC0xMjIuNDAyNTI0XSwgWzIxLjMwOTIwNywgLTE1Ny44NjI2NzhdLCBbNDAuNzU2MDU0LCAtNzMuOTg2OTUxXSwgWzEuMzI2NzI1LCAxMDMuODk0MTI0XSwgWzQ1LjQ3NTIwNiwgLTczLjU4MDc4Ml0sIFs0OC44NDc1NDg3LCAyLjI5OTIzNDhdLCBbNDAuNzI3NDM0LCAtNzMuOTQ0Nzk5NF0sIFszNy42NDIxODUsIC0xMjIuMTM2ODE5XSwgWzMzLjUwOTMsIC0xMTEuODk4NV0sIFszMi44OTQ1MDEsIC0xMTcuMTg4MzA0XSwgWzUxLjUyMTI0ODEsIC0wLjEwMjA4OTRdLCBbNTkuMzM1MTgzMywgMTguMDMzMzYwMV0sIFs1Mi41MzcyNzY1LCAxMy4zNzg3NDEzXSwgWzQyLjM1MDAyNywgLTcxLjA0OTIyNV0sIFsxLjI4MjEwMDgsIDEwMy44NTA4MzI3XSwgWzQwLjQ1OTYyNDIsIC0zLjY5MjMyODVdLCBbLTMzLjgzMDYwNiwgMTUxLjEzMjc4XSwgWy00MS4yOTY0NTQsIDE3NC43NzQ2ODJdLCBbNDkuNTk2NDY0LCAxMS4wMDM1MThdLCBbNDAuNDE2NzQxLCAtMy43MDMyNV0sIFs1NS42NzYyOTQsIDEyLjU2ODExNl0sIFszOC4zNDYwNDEsIC0wLjQ4NDc1Nl0sIFszNy4zODI2NCwgLTUuOTk2Mjk1XSwgWzM3Ljg4NDcyNywgLTQuNzc5MTUyXSwgWzM3LjU0NDk4NywgLTEyMi4yOTEzOTRdLCBbMzAuMjY5NTUsIC04MS41NjQ3MDldLCBbMzcuNTYxMTExLCAtMTIyLjI3MDQ4N10sIFs1MS40NjI5MDQsIC0wLjI2MzM3N10sIFsyMi41ODUwMjk2LCA4OC40MDAxMjgyXSwgWzQxLjg4NjIzLCAtODcuNjIzNzA0XSwgWzUwLjQ3NDgzMiwgMzAuNjgwNjUxXSwgWzMwLjM5MjAxOCwgLTk3Ljg0ODM0NV0sIFszMC4zOTU3MzIsIC05Ny43MzI1OTldLCBbNDEuMzkxNjc5MiwgMi4xNzc1NzA2XSwgWzMyLjc4MTA3OCwgLTk2Ljc5NzExMV0sIFszNy43NjQxNjMsIC0xMjIuNDY5MTMzXSwgWzM5LjA4MzIyLCAtNzguMjE4MjU0XSwgWzM0LjEwMDk3NCwgLTExOC4zMjY2NzJdLCBbNDAuNzAyOTksIC03My45ODM0NzFdLCBbMzAuMjY0MDQzLCAtOTcuNzQ0NzYyXSwgWzM2LjE2MjgsIC04Ni43ODFdLCBbNDcuNzY1NzU4LCAtMTIyLjE4NDMwNF0sIFs1MS41MDA0NDYsIC0wLjA4MTQ4Nl0sIFsxNy40NzQ5NTcsIDc4LjM3Njc2NV0sIFs1MS41MTc4MSwgLTAuMTg0MzU4XSwgWzMzLjAxMDM4MSwgLTk2LjcwNTEyN10sIFs0Mi45OTgzMTgsIC03MS40NjgwMDNdLCBbNTIuNTIxNjI3LCAxMy40MDQ2Ml0sIFs0Mi4zODkxMTksIC03MS41Mzg4MDJdLCBbNTEuMDA1NzE3LCAtMTE0LjEzMDI5Nl0sIFs0My42NzAyMzMsIC03OS4zODY3NTVdLCBbNTIuMDkxMzgxLCA1LjE0ODg5M10sIFszNy44MDU5ODg3LCAtMTIyLjQwOTkxNTRdLCBbNDEuODg2MDg4LCAtODcuNjI0OTgzXSwgWzM3LjMyNDgwMywgLTEyMS43NzE4NTNdLCBbNTEuNTAwMzk1LCAtMC4wODM3NDNdLCBbNTguOTAwODIyLCA1LjcwNTc3OF0sIFs1OS45NDk2NzksIDEwLjc2NDU1Ml0sIFs0MS4xMDQyMzksIC03NC4xNjQ1MDFdLCBbNDEuODk1ODU4LCAtODcuNjM1MTUzXSwgWzM3Ljc5NDA0MywgLTEyMi4zOTczNl0sIFs0Ny4zODQxOTksIDguNDkyNDUyXSwgWzQxLjg3Njc1LCAtODcuNjQwNDU4XSwgWzQyLjM2OTAwNywgLTcxLjExMDI3Nl0sIFsyMy43OTczMzMsIDkwLjQwMTQzMl0sIFs0Mi4yMzk4OCwgLTcxLjgzOTM0NF0sIFsyMi4zNzUzNzIsIDcwLjk2ODI0MV0sIFszOC45ODQ4ODEsIC03Ny4wOTI2OTRdLCBbMzcuNTU1Mjc3NiwgLTEyMi4yOTk3NTMyXSwgWzE3LjM4NTA0NCwgNzguNDg2NjcxXSwgWzM3Ljc5NzQzNSwgLTEyMi40MDMxNzVdLCBbMzcuNzc5NzI1NSwgLTEyMi40MDIwNTkzXSwgWzQ1LjUwMzA2LCAtNzMuNTU2MTMzXSwgWzUzLjM4NTAyOCwgLTIuMzU0MjM4XSwgWzQ3LjYyODg5NSwgLTEyMi4xMzg1MDddLCBbNTUuNzU1Nzg2LCAzNy42MTc2MzNdLCBbMzQuNDMzNTI2LCAtMTE5LjgwODQyOF0sIFszMi45MDIyNjYsIC0xMTcuMjA4MzRdLCBbMzQuMDUyMTA3LCAtMTE4LjM4NTI3MV0sIFs1Mi44NTI1NzUxLCAwLjE3MjYyNTFdLCBbNDAuNzM4MTM3LCAtNzQuMDA1OF0sIFszNy43ODE2ODksIC0xMjIuMzkxMDYxXSwgWzQyLjM5ODkxNiwgLTcxLjI1Mzk5OF0sIFszNy41NTYxNTIsIC0xMjIuMjgxNDg0XSwgWzMwLjIzMjIxNSwgLTkyLjgxMjU5Ml0sIFszNy42MzA1NTEsIC0xMjIuNDIyMTEzXSwgWzM3LjIzNTI5OCwgLTEyMS43ODI0MjRdLCBbMzcuNzkxMDY4LCAtMTIyLjQwMTk0Ml0sIFszOS43NTUxNTIsIC0xMDQuOTkwOTY4XSwgWzQzLjE1ODgyMSwgLTc3LjU4NTI5N10sIFsyOC40NDA0MzA4LCA3Ny4wNzg5MTk0XSwgWzQzLjg0MjQ2MSwgLTc5LjI5MTYxNl0sIFs1MS41MTE1MzA5LCAtMC4xMzkyNzY1XSwgWzQwLjc2NzY5LCAtNzMuOTgyNTU4XSwgWzM4LjgwMjM2NSwgLTc3LjA0NjQ5OF0sIFs1My41MjQ0MTksIC0yLjI1ODcxNF0sIFs1Mi4zNDA2MDksIDQuODcwMzEyXSwgWy0zMy44NzY2NTgsIDE1MS4yMTMzNjJdLCBbLTM2Ljg1MzQ3NjQsIDE3NC43ODYzODEzXSwgWzM1LjU4MzczOSwgLTgyLjYwNDY4NV0sIFszNy43ODkzMjE1LCAtMTIyLjQwMTM2MjRdLCBbMzMuODUwODIxLCAtODQuMzYxNjk0XSwgWzMyLjgzNjI3NywgLTk2LjgwNjU3OF0sIFsxMy42OTEwNjEsIC04OS4xOTg4MDhdLCBbMzcuMzg1ODkwMSwgLTEyMS45NzA4MDk1XSwgWzM5LjYwOTY3OTksIC0xMTkuNzE5NDM3N10sIFszMi45NzY0NTIsIC05Ni44NDM5NThdLCBbMzguMDI0NjYzLCAtMTIyLjU0NDY2NF0sIFszOS4wOTY0NjUsIC03NS41MzMwMzRdLCBbMzcuNzkxNjQ4LCAtMTIyLjQwMTI0MV0sIFszNy41MjQ3ODksIC0xMjIuMjU5MjMyXSwgWzQwLjc0NzAwMywgLTczLjk5MTU2Ml0sIFs1MS41MTgxMDcsIC0wLjEzNDA3OF0sIFs0NS40NjQ3MTUsIDkuMTgyMTIyXSwgWzUxLjUyMTI5LCAtMC4xMDk3OF0sIFs0Ny42NDkwOTA4LCAtMTIyLjM0NjY4NzddLCBbNDAuNzQxMTc5LCAtNzMuOTkzMTgyXSwgWzM3LjU5MTEyOSwgLTEyMi4zNDk2OThdLCBbMzcuNzcwNTA5NiwgLTEyMi40MDE1ODA3XSwgWzQxLjkwNzY5NiwgMTIuNDk2OTg1XSwgWzQ1LjM0Mjg0NSwgLTc1LjkxNzExOF0sIFs0Ny4zODk5MDksIDguNTE2MDQ5XSwgWzM5LjU3NTg3NSwgLTEwNC44NjE1OF0sIFszMy40NjY4MzEsIC0xMTcuNjkzNDc4XSwgWzM4LjkxOTA0MiwgLTEwNC43ODkyODldLCBbNTEuNTAzNjEyLCAtMC4yNTYyOF0sIFs1MS43NDgyMTksIC0wLjM0MTM3OV0sIFs0Mi4zOTg4NDU3LCAtNzEuMTQwNDk2MV0sIFs0Mi4xMzM5NzgsIDI0LjcxNDI2N10sIFs0MC43NDYzMzIsIC03My45ODI1OTZdLCBbMzkuNzMyNDE4NCwgLTEyMS44MjExODU2XSwgWzQwLjUzMTA1NSwgLTc0LjUxOTA0N10sIFszMy45MDI2OTYsIC0xMTguMzg3NTExXSwgWzQ1LjQ5NjU3MDMsIC03My41Njg3OTc0XSwgWzI3LjkzNzYwMywgLTgyLjI4NzEyOTNdLCBbMzMuNDkyNzE0LCAtMTExLjk4Njk0XSwgWzQ4LjQ5NDY4OCwgLTEyMy40MDc2NTRdLCBbMzMuNzQxMDk2NiwgLTExOC4wNDE0NjE1XSwgWzQwLjQyMDQ2LCAtMy42NzgxMjFdLCBbNDkuMjc1MzMyLCAtMTIzLjEyMDg5M10sIFszNC4xMjQwMzUsIC0xMTguMjU2NTk0XSwgWzI1LjkxMzI0MiwgLTgwLjMzMTc2NV0sIFs0MC43OTk3OCwgLTczLjcwMTA3OV0sIFszNy40MDc1NCwgLTEyMi4wMTA5NThdLCBbMzAuMzYxMjE2LCAtOTcuNzQ3NjM3XSwgWzQ2LjA0Mzg1MSwgMTQuNDk0NTQxXSwgWzQ1LjA0NTc3MiwgLTkzLjE5MDg4NV0sIFszMy40MjA5NTIsIC0xMTEuOTY4OTMyXSwgWzM0LjA3MDQzNiwgLTExOC4zNTA0ODZdLCBbMzcuNDIxNzI5LCAtMTIxLjk1NzAxOF0sIFszMi45MDkxMjMsIC05Ni43MjgzODFdLCBbMzkuOTA1NTU2LCAxMTYuMzk1ODMzXSwgWy0zMy44Nzg2ODQsIDE1MS4yMTIzMV0sIFszMC4zMDM3NDYsIC05Ny43NTg2MzldLCBbMzMuNDUxMjM1LCAtMTExLjk5MjUzXSwgWzUuMzMyLCAtNC4wMzA1XSwgWzQ3LjM3NzY2MywgOC41MjcwMDVdLCBbMzMuOTQ2Mjg1LCAtMTE4LjM4ODIzXSwgWzMzLjg1MjM4NCwgLTg0LjM4MDU2OF0sIFszNy4zOTA5MTgsIC0xMjIuMDgwODQzXSwgWzQyLjI5OTIwOSwgLTcxLjI3Nzc0OF0sIFsyNS44MTc2NzQsIC04MC4xODg3NF0sIFszMS4yMjIyMjIsIDEyMS40NzVdLCBbNDcuNTgyNjU4LCAtMTIyLjEzNTI4Ml0sIFs1OS4zOTc2MjksIDI0LjY1ODc2N10sIFszNy42MTIyMzEsIC05Ny4zNjQxMzhdLCBbNDUuNTA3MDE0LCA5LjIyOTg1NzddLCBbMzguNjUwMTY2OCwgLTkwLjI1OTg2ODRdLCBbNDEuODk3NTgxMywgMTIuNDk0MTMzNl0sIFs0MC43MjcyNTQ0LCAtNzQuMDA1NzE1Ml0sIFs0NS40MjczOTgyLCAtNzUuNjg5ODcxMV0sIFszMy41NTU4NzgsIC0xMTEuODk2MzIyOF0sIFszNy45MjYwMDkxLCAtMTIyLjUxNjI4OTJdLCBbNDEuODY0OTE3LCAtODcuNjI1MjcxXSwgWzEzLjA2NTA5MjUsIDgwLjIyODU1NjNdLCBbNDcuNTgwMjM1LCAtMTIyLjE0NTAzOF0sIFszNy4xNDU1NjUsIC05My4zMjI1MjddLCBbNDUuNDg3OTgsIC0xMjIuNjkyNjU0XSwgWzQzLjA5Mzg4NiwgLTcwLjc4NDc5OF0sIFs0MC43NDA0NDEsIC03My45OTMzNzZdLCBbMzkuOTMwMzU0LCAtMTA1LjA5MjIxOF0sIFs0MC4wNzUxNTYsIC03NS4yODUwNl0sIFs0MC4wMTczNTEzLCAtMTA1LjI3NzM0OTNdLCBbNDAuNzAzMjg4NCwgLTczLjk4Nzg1MjVdLCBbMzkuNzQ5NjcxLCAtMTA0Ljk5OTg0NDldLCBbNDAuNzI4MDk5MiwgLTczLjk5MzM4NDFdLCBbNTIuMjIyNzI3MywgNi44NzE5NDEyXSwgWzUyLjAyODkyOSwgNS4xNDI2NzRdLCBbNDcuNjE3NDUzMywgLTEyMi4yMDE2Njg1XSwgWzM3LjUyMjI4MSwgLTEyMi4yNTgxMzldLCBbMzcuNTg3Nzg5LCAtMTIyLjMzNDY0M10sIFs1MS40MDYyNDUsIC0xLjMzMTE5MzRdLCBbMzcuNzg5OTAyNywgLTEyMi40MDA3ODQ2XSwgWzM4Ljg1OTg3OSwgLTc3LjIxNDc1Nl0sIFszNS42NzQ2NzUxLCAtMTA1Ljk0ODQzNDRdLCBbNTEuNjQxNzAzLCAtMS43MTEzOThdLCBbMzcuNDQ4NTk4LCAtMTIyLjE1ODQ5N10sIFszNy43OTY4NDMsIC0xMjIuNDAwMzQ2XSwgWzQxLjk0MDM4LCAtODcuNjUzMThdLCBbMzUuMDE2NDcsIC04MC44NTIzMTddLCBbNDMuMzU5MDY1MiwgLTc5Ljc5NTU3MDJdLCBbMzQuMDExMzk2LCAtODQuNTk3MDcxXSwgWzQyLjY0MjQ1LCAtNzEuMzA1Nzc4XSwgWzQwLjMxNjMxNywgLTc0LjY2MTA5M10sIFszNy44NjQ0MzUsIC0xMjIuNDkwNTg2XSwgWzM3LjM4NDIzOSwgLTEyMi4wMTI0NzVdLCBbNDIuMzA5Mzk5LCAtNzEuNDM2MzU4XSwgWzM3LjUwMTA2NSwgLTEyMS45MzMxOTFdLCBbMjkuOTg1NTI4LCAtOTUuMzA4Mjk4OF0sIFs0MC43NTY0MzE4LCAtNzMuOTg3MTg0N10sIFsyNi4zODMwMzYsIC04MC4wOTc5MzNdLCBbMTIuOTcxNjA2LCA3Ny41OTQzNzZdLCBbNDAuNzc1MzA5LCAtNzMuOTgzNjU2XSwgWzM3LjMxMTAyODMsIC0xMjEuOTUwMTQzOV0sIFs1OS4zMzc4NjQsIDE4LjAzNjU4N10sIFszNi4xMzk5NiwgLTg2Ljc5NjM3N10sIFszNC43NDUzMTA0LCAtOTIuMjY0NzE2OV0sIFszNy41NjE4NzcsIC0xMjIuMzI1MjQ4XSwgWzM3Ljc5ODMxODEsIC0xMjIuNDAwMDAzMl0sIFs0Ny42NDk1OTA1LCAtMTIyLjM0OTc5NTZdLCBbNDQuODQ5Nzc2LCAtOTMuMTQwNjE5XSwgWzQwLjcwNzcyOSwgLTc0LjAwNzgwMV0sIFs1MS4wMDE4MzMsIC0xMTQuMDY4NTg5XSwgWzQzLjA1MzAxNzYsIC04NS41OTUwMzUzXSwgWzMzLjEzNjA1NSwgLTExNy4yOTQzMzZdLCBbMjcuMzM5NDk2LCAtODIuNDUyNTU0XSwgWzQ1LjUzNDkwNDIsIC0xMjIuNjY4NzYyOF0sIFs0NS40Njc4NzYsIC03My41NDI2Nl0sIFsyOC41NTMxNTQsIC04MS4zNjQ0MzhdLCBbMzcuNzc3MDkyLCAtMTIyLjM5MTAxMV0sIFszOC43Mzg1NDIsIC05LjE0NjI3M10sIFs0Ni40MTk0NjcsIDE1Ljg3NTIyNV0sIFs0Ny4xODA2NjMxLCA5LjUyMzYxMDJdLCBbNDAuMDU4NDQ4LCAtMTA1LjI3ODc4NV0sIFs1MS41MTM5NzU4LCAtMC4xMjMwMTI3XSwgWzEyLjkwOTM0MjYsIDc3LjU4MzM5NzldLCBbMjYuMTIwNzI2LCAtODAuMzcyODkzN10sIFszMy43OTI1MzUsIC04NC4zODYzODRdLCBbNTMuNDY1MDgyLCAtMi4zMzU2MDVdLCBbNTEuMTEwMzgxLCAxNy4wMTY0NDZdLCBbNTQuNjQ5NTc1LCAtNS45MTk2OTNdLCBbNDAuNzE5NDM2LCAtNzMuOTU0MzkxXSwgWzQwLjU1NDg4NywgLTc0LjQ2NDI4Nl0sIFsxMy4wNjA0MTYsIDgwLjI0OTYzNF0sIFszMy41ODMwOCwgLTExMS45ODMzNjRdLCBbNTMuNDczNjMsIC0yLjI0OTc1Ml0sIFszMy40MzAxMTEsIC04Ni43MDc4MDVdLCBbNDUuNjU3NDA5LCAxMi4yMjg2MV0sIFszMC4zNjk1ODYsIC05Ny45ODEzMzZdLCBbMzcuNTgwMDkzLCAtMTIyLjM0Nzc0NV0sIFszNy43ODcwOTIzLCAtMTIyLjM5OTk3MTldLCBbMzIuNzE3Nzk3LCAtMTE3LjE1ODc5M10sIFsyOC43NTcyMDIsIC04MS4zMzQ0NjRdLCBbNDAuNzMwNzYzLCAtNzQuMDAwODI3XSwgWzI1LjkxNjk4MiwgLTgwLjI5NDEzXSwgWzM0LjAwNTkxNCwgLTExOC40ODgxMjldLCBbNDQuNDc2Mzc5LCAtNzMuMjE1MTg3XSwgWzMyLjg0NzUyMSwgLTExNy4yNzQ2MDldLCBbMjQuOTA2ODI3OCwgNjcuMDgwNjIxOF0sIFs1MS4wNDYxNDIsIC0xMTQuMDgzNzEzXSwgWzEyLjUyNzM5NCwgNzguMjEyNDk0XSwgWzQzLjMxMDQwNjQsIC03MC45OTAzNDM4XSwgWzQwLjAxNDEyOSwgLTEwNS4yNTIzMDZdLCBbNTEuMzIxMzU0LCA0Ljk1ODczNl0sIFsyMi41ODIzMDMsIDg4LjQxNjE1Ml0sIFs0MC43NTM5MzEsIC03My45OTExMjNdLCBbNDAuNzA3NTQ5MiwgLTc0LjAwNTU5OTddLCBbNDEuODg5ODMyLCAtODcuNjI2NzE4XSwgWzM5LjA0MTc3OCwgLTc3LjExMDY3OF0sIFszOC45MDU5MjYsIC03Ny4wMzc4MjVdLCBbMzcuMzg2NDQxLCAtMTIyLjAxMjcwN10sIFszOS4xMDIxMDY1LCAtNzcuMTgzNDQzM10sIFs0My40NzQ2ODYsIC04MC41MjEyNDZdLCBbNTAuNzEwMjY3LCA3LjA2NjQ2OF0sIFszMy40MjY0MTgsIC0xMTEuOTM5Nl0sIFsyNy45MTMwMTEsIC04Mi43MDI0NDldLCBbMzcuNDE1NTY5OCwgLTEyMS45NDg2NTY3XSwgWzQ1LjQwOTExOCwgOS4xMjYyOTFdLCBbNDAuNzQ5NTc3LCAtNzMuOTkxNjQ4Nl0sIFs0NS40OTM4MDg2LCAtNzMuNTc0OTUzMV0sIFs0MS44ODk1NTYsIC04Ny42MjM4NjFdLCBbMzguMzQ5MTE0LCAtMC40ODkzMV0sIFs0MS4wNTg3MzMsIC03My41Mzk5XSwgWzQ1LjYyOTQ5OCwgMTEuNjg4NjY2XSwgWzQxLjkyOTMsIC04Ny42OTc4NzhdLCBbMzkuOTQyNzg4LCAtNzQuOTUwNDYyXSwgWzM5Ljk1MjMzMiwgLTc1LjE5NzYyNF0sIFs0Mi4xMjAxNDMsIC03Mi41NzQ4MDRdLCBbMzMuNDA3MzkyLCAtMTExLjg5MjA4NV0sIFs0Ny42NTc0MzUsIC0xMjIuMzI0ODYxXSwgWzEyLjk1NjEyOCwgNzcuNTkyMjY0XSwgWzQyLjQxNTY2MywgLTcxLjEyNzIyNl0sIFszMC4yNzI5MjA5LCAtOTcuNzQ0Mzg2M10sIFs0Ny42MjIyNjMsIC0xMjIuMzYzMjc2XSwgWzM3Ljg3MTA4NywgLTEyMi4yNzA5MTNdLCBbNDcuNjY3MTA1LCAtMTE3LjExMTIyMl0sIFs0MC43NTMwNCwgLTczLjk5ODEzNV0sIFs0Mi42MTk1MDIsIC03MS4zMjI4ODhdLCBbMzcuMzgxODQ0LCAtMTIxLjkyNDQzOV0sIFstMzMuODM2MzksIDE1MS4yMTA4NV0sIFszMy44MzE3OTY0LCAtODQuMzM5MTIzMV0sIFstMzguMzczMzEsIDE0NC44MTc2MjRdLCBbMzQuMTAzMDAzMiwgLTExOC40MTA0Njg0XSwgWzE3LjQ5ODA4MSwgNzguMzg5OTExXSwgWzE3LjQ5ODA4MSwgNzguMzg5OTExXSwgWy0zMy44NzYyMzksIDE1MS4yMTUyMDFdLCBbLTIzLjYyMDczOCwgLTQ2LjY5ODI2N10sIFs0MC43MjIxMTgsIC03My45OTczXSwgWzQwLjc0MzE1NywgLTc0LjAwNjUxM10sIFs0My42MzU1OSwgLTc5LjQyNDYyNV0sIFs0Ny42MTE3MTgsIC0xMjIuMzQ1ODc0XSwgWzQzLjc5MjIzMSwgMTEuMjcxNzg4XSwgWzUxLjUwOTkwNSwgLTAuMTQ1NDM4XSwgWzM0LjA0NTgyNjQsIC04NC4yOTc0NjU1XSwgWzM0LjA2NDI4NiwgLTExOC4zNzI2MzhdLCBbLTM3LjgxMjMzMiwgMTQ0Ljk2ODk1Nl0sIFszNy4zODM1MjYsIC0xMjIuMDEyODA4XSwgWy0yNy40NTg5ODksIDE1My4wNDMyMjhdLCBbMzQuNDIzNDAzLCAtMTE5LjcwNDQxNl0sIFs0NC45ODkxMjYsIC05My4yNzg2NjNdLCBbNDEuODkwNDQxLCAtODcuNjI5Mzc3XSwgWzMzLjgxMDUzNCwgLTExOC4xMDkyMDZdLCBbNDIuMjcyOTc5LCAtNzIuNjYzNDgyXSwgWzM3Ljc5MjgyMSwgLTEyMi40MDQwODZdLCBbMzQuMDU3MTY1LCAtMTE3LjE5NDE1Ml0sIFszNy41MDYyMDYsIC0xMjEuOTQ5MjQ3XSwgWy0zMy44ODQ2ODUsIDE1MS4yMTY0MjddLCBbMzcuNDA2NjIxLCAtMTIyLjEwODcxOV0sIFs1MS4wNjU4ODcsIDMuNzUzNTc1XSwgWzMwLjI4MDM2NCwgLTk3Ljc0MjQ3XSwgWzMwLjI2ODczNSwgLTk3Ljc0NTIwOV0sIFszMC4yNjg3MzUsIC05Ny43NDUyMDldLCBbNTMuMzA4MjU4LCAtNi4yMzg0NDNdLCBbNDEuMDQxMTE5NCwgLTczLjU0MTc0NF0sIFszMC4yNjQ0OTEsIC05Ny43Mjg0NTNdLCBbMzkuNzI5MywgLTEyMS44MzUxOTNdLCBbMzUuMjE4NDI4LCAtOTcuNDY0Nzg4XSwgWzQ1LjUwMjczMiwgLTczLjU1NjQ5XSwgWzQ4LjE2MDcxOCwgMTEuNTUzNzI1XSwgWzM3LjU5MDMzOSwgLTEyMi4zNDE3MTVdLCBbNDAuNzQwNTEyLCAtNzMuOTg3Nzk0XSwgWzM3Ljc3MDU3MDIsIC0xMjEuOTY0MjUwM10sIFszNy41MTgyMSwgLTEyMi4wNDQwMjVdLCBbNTkuMTk5NzY5MSwgOS42MTA3MjE3XSwgWzUxLjUxNDkxMywgLTAuMTM0NjM0XSwgWzUyLjEyNjYxNiwgNS4wMzgwNzhdLCBbMzcuNTcxMzE4LCAtMTIyLjI2Nzk2Ml0sIFsyMS4yNzg1OTgsIC0xNTcuODE0MjI1XSwgWzM3Ljc3OTYyNCwgLTEyMi4zOTEyMzZdLCBbMjIuNzI5MzksIDc1Ljg4MzE2OF0sIFs1OS45MTA3ODEsIDEwLjgxMjE4N10sIFstMjcuNjIxNTkyLCAxNTIuNzc4OTc2XSwgWzMyLjkxMzYwMSwgLTk2Ljg5MDQwNV0sIFs1OS4zNDc1NDcsIDE4LjA0MDI5Nl0sIFsyNS44MjU1MDMsIC04MC4xODc4MDVdLCBbNDAuMTEyOCwgLTg4LjI3MTA3NF0sIFszOC42Mjc1MjIsIC05MC4xOTg0MV0sIFszNC4wMTUzODYsIC0xMTguNDk1NzkyXSwgWzMzLjc3OTUwOSwgLTg0LjM2OTMzOV0sIFs1MS40MzIzMjA4LCAtMC45NzE3OTU1XSwgWzM1LjkyNDMwMSwgLTc4LjkyNzkxNF0sIFs0OC44NzExNzQsIDIuMzA4MDE5XSwgWzQ4Ljg2OTEzNjksIDIuMzYwMjIwMl0sIFszMy44NDQ2NDIsIC0xMTguMzU3ODgzXSwgWzI5LjU1MDAyNywgLTk1LjY5MzM0N10sIFszMi43NzQ5NDgsIC0xMTcuMTQzOTE3XSwgWzE3LjQzMzE3NSwgNzguMzEzODA3XSwgWzUxLjA0NzA1LCAzLjcyNzEzNF0sIFszNC4wNzM5NTg2LCAtMTE3LjQ0MDAxNTZdLCBbMzUuMjI2NywgLTgwLjg0MzRdLCBbMzguNzI3ODQsIDM1LjQ3NzQ1Nl0sIFszOC42NjEwOTksIC05MC40MjkxNjldLCBbMzIuODQwMTQsIC0xMTcuMTI0MjE0XSwgWzUwLjgzMzkzNSwgLTAuNzc5NDk3XSwgWzUwLjA5NTMxMiwgOS4wNDk5ODFdLCBbNDEuMzkyNzAxLCAyLjE1NjUzOF0sIFs0MC40Mzg0NDMsIC03OS45OTg0MjddLCBbNDAuMjUwMDk2LCAtMTExLjY0MzE3OV0sIFszOS45MjQwNTYsIC03NS4zODc5NDddLCBbNTEuNTE4MzcyNSwgLTAuMDc0MDY3OF0sIFs0MC43Njg2MTgsIC03My45NTY0NThdLCBbNDAuNjYyMzMyLCAtNzMuOTgyNjI5XSwgWzM3LjIyOTMzNSwgLTEyMS45NjY5MDhdLCBbMzIuODc3NDgzLCAtMTE3LjE4NTFdLCBbMzMuOTI2NjQ4NCwgLTExNy44NzcxMTkzXSwgWzQzLjY3ODc4MiwgLTc5LjQzOTMxNV0sIFs0MC4zOTA0NzIsIC03NC4yMjA4NTJdLCBbNDAuMTYzOTM3LCAtMTA1LjEwMjUxNl0sIFszOC44OTIwOTEsIC03Ny4wMjQwNTVdLCBbNDIuMzU4OTIsIC03MS4wNTc4MV0sIFszNy43ODc1OTczLCAtMTIyLjQwMzUzNjhdLCBbMzMuNDQ4MjYzLCAtMTEyLjA3MzgyMV0sIFszNy45MDYyNTcsIC0xMjIuMDY0MzIyXSwgWzEuMjg5NDA3LCAxMDMuODQ5OTYyXSwgWzQxLjMwMzY5NiwgLTcyLjc2ODg0Ml0sIFszMy42ODQ3ODIsIC0xMTcuODUxMDI4XSwgWzM3Ljc4MjE2MywgLTEyMi40MDA1OTFdLCBbMzIuOTA4NjAxLCAtMTE3LjA5MTE3Nl0sIFs0MC43NDk1NTk0LCAtNzMuOTkxNjYxN10sIFs0MC43MzgxNDMsIC03NC4wMDgxNTldLCBbMzQuMDkzMTYsIC0xMTguMzc4MzM1XSwgWzMyLjcxNTQxNCwgLTExNy4xNTg3OThdLCBbMzcuNDQ0MDk4LCAtMTIyLjE2MTI4N10sIFs0Ny4zODk5MDksIDguNTE2MDQ5XSwgWzM4Ljg0OTQ3LCAtOTQuODEwNDA4XSwgWzUxLjUxMTg4OSwgLTAuMTI3NzQzXSwgWzM0LjA5NjM1OSwgLTExOC4zNzEyNzldLCBbNjAuMTcxODIxLCAyNC45NDUxNjddLCBbMzcuMjMxODE1OSwgLTEyMS43ODIyMjc4XSwgWzM0LjE1MjQ0OSwgLTExOC4yNTQ1NzhdLCBbNTEuNTA3NDA0LCAtMC4xNDIzMjJdLCBbNDAuMTAyNjUsIC04OC4yNDM5NDVdLCBbMzguNTUyNzgyLCAtMTIxLjczNDc3OV0sIFszNy43NjMyOTMsIC0xMjIuNDEwNzUyXSwgWzUxLjkyMDE1MSwgNC40ODAxNjVdLCBbNDQuMzcxNDk2LCAtNzkuNjY4ODEzXSwgWzM3LjQ1ODc2NiwgLTEyMi4xNzI1MTldLCBbNTEuNDgwNjU3LCAtMC4yMDI3MzRdLCBbNDIuMzk4NDI0LCAtNzEuMTMwMjk3XSwgWzQ3LjY3OTMsIC0xMjIuMTc2MDM0XSwgWzM3LjY4NjY4NiwgLTEyMi4xMzc1MDFdLCBbNDUuNzkyNzE3LCA0LjgzMDA0OF0sIFszMy45ODg2ODcsIC0xMTguNDM5NTMyXSwgWzMzLjk4ODY4NywgLTExOC40Mzk1MzJdLCBbMzcuMzIwMDUyLCAtMTIxLjg3NzYzNl0sIFs1Mi4wMjU5ODQzLCA0LjY4MDU0NzNdLCBbMzQuMDU0MTA4MSwgLTExOC4yNTk1NTY5XSwgWzMzLjU4NDcyNywgLTExMS45MjY0NzVdLCBbNTIuNTMwODUxNiwgMTMuMzg0MjYwNV0sIFszNy4zNjk0NDUsIC0xMjEuOTY3MjIzXSwgWzQxLjU4NzUzOSwgLTkzLjYyNTQ5OV0sIFs0Mi4zNTEzMjc5LCAtNzEuMDc2NjcxN10sIFszNy41NzgzNDE3LCAtMTIyLjM0OTc1NDZdLCBbMzcuNzc3NzIsIC0xMjIuMzk1Nzg1XSwgWzM5Ljc0NTA5MiwgLTEwNS4xNTgyMDddLCBbNTAuOTQ3MTEyLCA2Ljg0MjEzM10sIFszOS45MDUyMjYzLCAtODYuMDU0NzAxNl0sIFsyNy45NDM2MzQsIC04Mi40NTU2Nl0sIFs0MS44MTU4MDUsIC03Mi4xNzEwNTddLCBbMzYuMDAyODkzLCAtNzguOTA0MDc1XSwgWzQxLjg3OTUzNSwgLTg3LjYyNDMzM10sIFs0MC43MTg4ODgsIC03NC4wMDExNjldLCBbNDAuNzQwMTQ1LCAtNzMuOTg1MjA3XSwgWzQwLjc4NDQ2MywgLTczLjcwOTY2NV0sIFszNC4xODk3LCAtMTE4LjEzMDNdLCBbNDMuNjQ0Njc4LCAtNzkuNTY3MjIxXSwgWzM0LjM5NDM0MywgLTExOS41MTIzMV0sIFszOC45MTU2MjE0LCAtNzcuMjI1MjM5M10sIFszOC45MTE5MDcsIC03Ny4yMTU3NzZdLCBbNDEuODg3MDMzLCAtODcuNjIwMjI5XSwgWzM4LjYyNzIsIC05MC4xOTc4XSwgWzQzLjMwNzU4LCA1LjM4NzM0NV0sIFs0Ny41Nzk4ODQsIC0xMjIuMTY4ODc3XSwgWzQzLjA5NTg0NSwgLTg5LjUxNTg3NF0sIFs0MS45NzU1NDMsIC04Ny43MTU0OThdLCBbNDIuNzE3NDI4LCAtODMuMjQzMjI0XSwgWzQ1LjQyMzEyODksIC03NS42OTY3MTZdLCBbNDguMjAyNzU4LCAxNi4zNTQ2MzddLCBbMjkuOTczOTk0LCAtOTAuMDgyMjAyXSwgWzI5LjcwNjI2LCAtOTUuNDQ0MDExXSwgWzQyLjE4NzM5NSwgLTg3LjgwMjA5NV0sIFs1My4zNTc0NDEyLCAtNi4yNTY3MTI1XSwgWzI2LjQ3MTE5OCwgLTgwLjE0Njg1OF0sIFs0My44MjU4NzQsIC0xMTEuNzgwOTU4XSwgWzM3LjM5MTE5OCwgLTEyMS45MzM5M10sIFs1My4wMTAyODMyLCAtNy4xMzYxMDQ0XSwgWzUwLjkzNjI5MTYsIDYuOTU2NjM0NV0sIFszOS4yNDcwMTUsIC04NC40NDk1MzldLCBbNDguOTc4MTcyOSwgMTIuMTkxNDEyMV0sIFszOS42MjYwNzIsIC0xMDQuODc5ODMzXSwgWzQwLjYzNTY3NiwgLTc1LjQ1NzUzOV0sIFs0MC4zMTkzODE2LCAtMTExLjY4MDgxOTldLCBbMjguNTQxMzYxLCAtODEuMzcyODU4XSwgWzUxLjUwMjc2NjksIC0wLjA5MjU2OTRdLCBbNDAuNzQ3ODE5LCAtNzMuOTgyNTQ0XSwgWzI2LjM5MjcwMTEsIC04MC4xMDk1NDY0XSwgWzMyLjg3MzA4MSwgLTExNy4yMTE3Mzk1XSwgWzM3LjgzMTcsIC0xMjIuMjg0NV0sIFs0MC4yNjI4OTU3LCAtNzUuMjIzMzYyOF0sIFsyNi4yNzI1NDEsIDUwLjIxMDI4XSwgWzAuMDk3NjI3LCAzNS41MDA3NTZdLCBbNTEuNTAzNzQ3MSwgLTAuMTAxMDgwMV0sIFszNC4wNjk5MDMsIC0xMTcuODQ4MDg5XSwgWzQxLjg5NjEyODIsIC04Ny42MzcxNjI4XSwgWzMzLjc0ODYsIC04NC4zODg0XSwgWzM3LjI5MTIyOCwgLTEyMS45MzM2NTFdLCBbNDcuNjE1MDQ0LCAtMTIyLjE3MTc1OF0sIFs0MS45MTA3MTUsIC03MS4wNjI0NjA5XSwgWzMzLjMyMDM5MiwgLTExMS45Nzk4MTNdLCBbNDEuODg1MTU0MiwgLTg3LjYyMjMxODNdLCBbNDQuMDU3NjYxLCAtMTIzLjEwODg4NF0sIFszNC4wNzY0MDQsIC0xMTguMzc1MDUzXSwgWzYwLjQ4NTYwNSwgMTUuNDM2MzAyXSwgWzU5LjMzMjc4OCwgMTguMDY0NDg4XSwgWzQxLjE4MjE1NSwgLTczLjE2MTA4M10sIFszNS4wMzk2MDYsIC04MC44NjA2NDddLCBbMjguNTg0Njg3NSwgNzcuMzE1OTI5Nl0sIFsyOC43NTgzOTk5LCA3Ny4xNTUzOTAzXSwgWzQwLjc0OTMxLCAtNzMuODIxMzIxXSwgWy0zMy40MjUzNiwgLTcwLjU2NjQ2Nl0sIFsyOC42MzUzMDgsIDc3LjIyNDk2XSwgWzM3Ljc4NzM5MzgsIC0xMjIuMzg4NDQxOV0sIFs0MC43MDcyNjgsIC03NC4wMDE3MjRdLCBbMzEuMjI0MzUzLCAxMjEuNDc1OTE2XSwgWzIyLjU3MjY0NiwgODguMzYzODk1XSwgWzUxLjUyNDEyNywgLTAuMDc2MjIzNV0sIFs0MC43NDQwMTQyLCAtNzMuOTg5NTg2XSwgWzMzLjg2Mjc0OCwgLTExOC4zOTg4NDFdLCBbLTMzLjkyNTY5LCAxOC40MTUzOV0sIFs0MS44NzI0OTM5LCAtODcuNjI3NDQ1MV0sIFs0MC4yMDc0MzEsIC03Ny4xOTk1NThdLCBbNDAuNzQ0NjE4LCAtNzMuOTg3NzY0XSwgWzQwLjc0NDIwMSwgLTczLjk4OTUwNV0sIFs0Mi40MzE2NTIsIC03MS40NTU2NThdLCBbNDEuMDY2MjgzNSwgLTczLjg2MjU0NTJdLCBbNDAuNzQ1MTU0NSwgLTczLjk4Njk1NDldLCBbNTEuMDI5NDE1LCA3Ljg1MDg2M10sIFs0OS40NjA1MzUxLCAxMS4wODIzOTUzXSwgWzMzLjc1NDQ4NywgLTg0LjM4OTY2M10sIFszNy43OTIzMDMsIC0xMjIuNDIzMTMyXSwgWzM3Ljc4MTI2MiwgLTEyMi4zOTQ5NThdLCBbNDMuMTk3NDc3LCAtNzcuNDk4OTZdLCBbMzcuODMxMjkzLCAtMTIyLjI4NjUwMl0sIFs1MC4wMzE0MiwgLTEyNS4yNDYwNDldLCBbNTIuNTMyNzU3LCAxMy40Mjg4NTVdLCBbNDAuNzQzMTY1LCAtNzMuOTkwODUzXSwgWzYwLjE3MDMwOTQsIDI0Ljk0MTAzNjhdLCBbNDAuMDkzMjQ1LCAtNzUuNDExNzQzXSwgWzQ4Ljg5MjY5ODgsIDIuMzE3OTYwMV0sIFs0MS44ODk4NTMsIC04Ny42MzU1NDMzXSwgWzQyLjY0NjkzNCwgLTgzLjIwNjAyOV0sIFs0MC43NDA4NzUzLCAtNzMuOTkyMDE3NF0sIFszMi43ODE5MjM5LCAtOTYuNzkwNTE0XSwgWzQzLjU2MTQ1MiwgMS40MjUxMDddLCBbMzQuMDMxMjM4OCwgLTExOC40NzM1MDYyXSwgWzUxLjU1OTY3LCAtMC4yNzk2NzZdLCBbMzcuNTI0NzI5LCAtMTIyLjI1ODAzN10sIFszOC45MDM4NTQsIC03Ny4wMzQ4NjddLCBbMjYuNjAwNzQyLCAtODEuOTkxMjMyXSwgWzM4LjkyNzU5NiwgLTEwNC44MzA3NzVdLCBbNDUuNTM4NjUxLCAtNzUuODE1NTQyXSwgWzM4Ljk4OTc4NjEsIC03Ny4wOTg5MjQ3XSwgWzQ0Ljg4MDQwNzcsIC0wLjUyNjQ0NjldLCBbMTMuMDYwMDYwNSwgODAuMTc0MTM1XSwgWzUxLjUyNDY2MTksIC0wLjA4MzA3NzJdLCBbMzAuMjQxOTY0LCAtOTcuNzgzMTkzXSwgWzQ3LjU4Mjc0MDYsIC0xMjIuMTM1MzU2MV0sIFs0MS44ODkxODMsIC04Ny42MzI1MTldLCBbNDEuMzg3NzgsIC04MS40NjM1MzhdLCBbNDAuNTQ4OTA1LCAtNzQuNDU0ODczXSwgWzQ1Ljc5MjQ3NDUsIDQuODIwNzM1M10sIFszOC40NjIzMDYsIDI3LjIwNzM2MV0sIFszNy43ODEzODYsIC0xMjIuNDIxNDA2XSwgWzQzLjA2ODAwNiwgLTg5LjM5MjU2XSwgWzM0LjA1MjE4NywgLTExOC4yNDM0MjVdLCBbNTEuNTM1MDY4MiwgLTAuMTQxNjU5Nl0sIFs0MS43ODk0MjAxLCAtODcuNTk2MjMxOV0sIFszNy40MDY4OCwgLTEyMS45ODAzNTNdLCBbMzQuMDI1Mzg2LCAtMTE4LjQwMTcyOV0sIFs1MC44ODI3MjUyLCA0LjQ1NDc4NTVdLCBbMTguNDkzOTY2MywgNzMuODEyNzY2N10sIFs0MC43NDQ1NDksIC03My45ODgwNzFdLCBbMTIuOTU2MTI3OCwgNzcuNTkyMjY0Ml0sIFs0Mi4zOTg4NzgxLCAtNzEuMjUzNzA1Nl0sIFs1MS41MTgzNTQxLCAtMC4xNTgxOTY4XSwgWzQ5LjI2MzU4OCwgLTEyMy4xMzg1NjVdLCBbMzMuNjUwNDIsIC0xMTcuNzQ3MDU1XSwgWy0zMy44NzE5OTI2LCAxNTEuMTkzNjAzOV0sIFszOS4zOTYxNSwgMjIuNzYzMDNdLCBbMzQuMjY3MDYxLCAtMTE4Ljg2NDUxM10sIFs0My42NTU5MTgyLCAtNzAuMjU0NDcxMl0sIFs1MS40NjU0MzIsIC0wLjE4MjU5XSwgWzQ4Ljg2OTYwNzYsIDIuMzc2MzYyMV0sIFszMi45ODEyNDcxLCAtOTYuODMwMzExMl0sIFs0OC40Mjk4NTYsIC0xMjMuMzU1ODUwN10sIFs1NS42NzM5NjE3LCAxMi41NjA1MzcyXSwgWzQyLjMzODkwNDQsIC03MS41OTAxMDNdLCBbNDIuMzU3MTE5LCAtNzEuMTg1ODYwNV0sIFs0Ny42MDI0MTU2LCAtMTIyLjMzMjYxNDVdLCBbMTguNTU4NDMxOCwgNzMuODIxMzIxM10sIFszOC42NDU2OTA3LCAtMTIxLjEyNjgzMDNdLCBbNTMuMDc4NTkyOCwgOC44MDg4ODIzXSwgWzI1LjI3MTEzOSwgNTUuMzA3NDg1XSwgWzQyLjU1NjU5OCwgLTcwLjk0NDk1MV0sIFs0My41NDY4MTUyLCAtODAuMjQ5OTg1OF0sIFszNC4wNzAxNjQsIC04NC4wNTg3MDhdLCBbNDcuODY1ODIsIDEzLjI2MTgyOV0sIFszOC44NzI2NjgsIC03Ny4zNjc5ODFdLCBbNDEuMzEzNDM3NywgLTcyLjkyMTY2MzddLCBbNTAuOTIxNTYzNSwgNS4zNTM4MDM4XSwgWzQwLjQyNzM2MTMsIC0xMTEuODk2NzIyNF0sIFs1MS41MTI0MjAxLCAtMC4xMzc0OTRdLCBbMjUuNzY5MTc0LCAtODAuMzMxNjgxXSwgWzUyLjEzMzI5NzMsIDIxLjA3MDkzNzVdLCBbNTMuNDgzNzA2NywgLTIuMjQzOTQ5Ml0sIFszNy44NDU0ODE5LCAtMTIyLjI5NjM0Ml0sIFs2NS4wNTY2MDEyLCAyNS40NDIxMjg2XSwgWzUwLjk1MTc0OTEsIDUuMzQ5OTcyOF0sIFs0NS4zNDc5NDYzLCAtNzUuOTIwMDE0Ml0sIFszNy43ODk4NDk5LCAtMTIyLjQwMDY4MzFdLCBbNDAuNzQ4NjM0LCAtNzMuOTk0MjAzXSwgWzUyLjMzNjExNywgNC44ODc2NDFdLCBbNDguODc2MjQwNywgMi4zNTAzNjg5XSwgWzM3LjQ3NzY1MiwgLTEyMi4yMjMzODRdLCBbNTEuMjQwMjU4NCwgLTAuNjEyNjQ3Ml0sIFs0OC44MzcyNzc2LCAyLjI0MzU1ODVdLCBbNTAuMTExNTExOCwgOC42ODA1MDU5XSwgWzQwLjc1NDYwOCwgLTczLjk3NDY3NF0sIFs0MC43NTY3OTksIC03My45NzYzNDc5XSwgWzM4Ljk4NjA4MjYsIC03Ny4wODYyNDg4XSwgWzM5LjY5MjYzLCAtMTA0Ljk1NTAxMl0sIFs0MS44OTI0MDMzLCAxMi40NzY0NzExXSwgWzQwLjI0NzMxNCwgLTc1LjIwMjMzNjFdLCBbMzUuODM5ODU0LCAtNzguNjQxMDgzM10sIFszNC4wNTIxODcsIC0xMTguMjQzNDI1XSwgWzM1LjA2NjQ4NywgLTgwLjc2NjgzMV0sIFs0OC44OTE5ODYsIDIuMzE5Mjg3XSwgWzQwLjc1MzczMzksIC03My45ODA3MzddLCBbNDguNzAwNDA5NywgMi4xOTA3Mzg4XSwgWy0zMy44ODM1NTc3LCAxNTEuMjA4NTk3NF0sIFs0OC44Njk2Mzg5LCAyLjM2OTkzM10sIFs0Ny45NzYzNzQ4LCAtNC4wOTkxOTI3XSwgWzM3Ljc3NTk0MjEsIC0xMjIuMzkzMTEzOV0sIFs0MS44OTA2MzcsIC04Ny42MjY5NzldLCBbNTkuMzM1OTgwNiwgMTguMDc1NTA2XSwgWzQwLjQyNzc0MDksIC03OS45NjU4NjVdLCBbMzkuNzQ2MDU1LCAtNzUuNTQ5OTgzXSwgWzI2LjI2MDM1MTYsIC04MC4yNDk5MzQ0XSwgWzM3LjM3OTI0ODYsIC0xMjIuMTE1MTI3NF0sIFszMC4yNzk5NSwgLTk3LjgwNzI3NF0sIFs0Ny42NTcyMjc3LCAtMTE3LjQxODA0MzldLCBbNDcuNjExMjE1LCAtMTIyLjM0MDg3NzZdLCBbMzYuNzc5MDk2LCAtMTE5LjY5NDkyOV0sIFstMzQuNTY4MzgwMywgLTU4LjQ0MzM1ODldLCBbMjguNDQwNDMwOCwgNzcuMDc4OTE5NF0sIFs1MC41NTIzNzA2LCA0LjI3MjIwNDJdLCBbNDguODU2NjE0LCAyLjM1MjIyMTldLCBbMzguOTA4NTAzNiwgLTEwNC44MjYzNjddLCBbMzcuNDE4NzAyMiwgLTEyMi4wODc0MTI5XSwgWzQwLjUyOTMyNTQsIC0xMDUuMTM3NTkwOF0sIFs0OC44NjUyMDM5LCAyLjM0OTg0MDhdLCBbNTkuOTEyODUwNywgMTAuNzM5Mjc1MV0sIFs1OS40MjE0NSwgMjQuODAyMTIzM10sIFs1Ni45NTgyNTMzLCAyNC4xMDgxNDk4XSwgWzU0LjcxMjY3NjgsIDI1LjI3MDE5OTldLCBbNjAuMjg0Mjk2NCwgMjQuODUzMTA3Nl0sIFs1MS41MjIwNzQ0LCAtMC4xMDk2MjE2XSwgWzQwLjQ1MTEzNjQsIC0zLjYwOTY2NDldLCBbNDUuNTA0NDA3LCAtMTIyLjY1NTU0NV0sIFs0OS4yNTk5Mjg0LCAtMTIyLjkxNTM2OTVdLCBbNDguODQ1MzA0OSwgMi4yODc2ODE0XSwgWzI5LjY4NTg5NywgLTk1LjMwODM5MV0sIFszNi4wNDYzODQ5LCAtOTUuOTU1MDI2NF0sIFszMy41MDI2MTIsIC0xMTEuOTMxNTY0OV0sIFszMy4wNzI2NjU1LCAtOTcuMDYyMjMwOV0sIFszNy41NzY4ODQxLCAtMTIyLjM0NjIxMzddLCBbNDAuNzQxODg3NywgLTc0LjAwNDc0NjZdLCBbNDAuNzU2MDU0LCAtNzMuOTg2OTUxXSwgWzM4LjkxNzIzNywgLTc3LjIzMjY1N10sIFstMzcuNjM5MzMzLCAxNDQuOTUwNDg2MV0sIFs0NS45Njg5OTg4LCAxMy42NDA5NjQ3XSwgWzQyLjQxNjQwNzEsIC03Mi40OTYwODY0XSwgWzM5LjAyODUsIC03Ni43MTI1XSwgWzQ3LjYxMjUxLCAtMTIyLjE5NjIyMzZdLCBbMzcuODYyNTkyLCAtMTIyLjQ5MzU2MV0sIFstMzcuODI4OTMxOSwgMTQ0Ljk1MzA5NTNdLCBbMS4yNzk2ODQsIDEwMy44NDI2NDZdLCBbMzcuOTQxNTEzNiwgMjMuNjg4MDM1NV0sIFs0OS41MzMyMzcxLCAyLjEzNDY1OTNdLCBbMzQuMTQ4MTk4LCAtMTE4Ljc2MjQ4N10sIFs0Mi40ODUxMDIsIC03MS4yMTE1NjhdLCBbNDEuMTQzNjA4LCAtNzMuNDI3NDM5XSwgWzQwLjc0NTUzNCwgLTczLjk5MDAzM10sIFszNC4wNzgxOTgsIC04NC4yNjIwNzJdLCBbMjguNDYzODUsIDc3LjAxNzgzOF0sIFs0MS41MTM5MTkzLCAtODEuNjc0NzI5NV0sIFs0MS44ODkxODMsIC04Ny42MzI1MTldLCBbNDQuNjY3MjM3MiwgNC43Njk0ODI5XSwgWzQ4Ljg1MjIxOCwgMi4zODY4ODMxXSwgWzUwLjA4MzI3OTEsIDguNjI5NDc3N10sIFs0OC44NzIwMzIsIDIuMzIxODE3M10sIFs2MC4yMTU2MzUsIDI0Ljg3MDM1NDJdLCBbNTMuNTg0NTUwNSwgMTAuMDE1NTUxXSwgWzQxLjQ5OTE0MzYsIC04MS42OTk0NTddLCBbNDEuMDg0ODY2LCAtODEuNTE2NDc0XSwgWzQxLjIzODAzOCwgLTk2LjE4MzAzM10sIFszNS45NzY4MDUsIC03OC45MDY4NDNdLCBbNDAuNzM1MDc0NywgLTc0LjE3MzkwNTddLCBbMzcuNzAwODYzLCAtMTIxLjg3OTQyMDZdLCBbNTMuMzgzMDU0OCwgLTEuNDY0Nzk1M10sIFszNy43MDA4Nzk0LCAtMTIxLjg3OTQyMDldLCBbNDAuMDkzMjQ1MSwgLTc1LjQxMTc0MzFdLCBbNDAuMzA3MjQyOCwgLTc1LjE0Mjg2MzJdLCBbNDkuNDYyNTc0LCA3LjY5MzQxOTRdLCBbNDcuNTc1MzAzNSwgLTEyMi4zMzQyNDk5XSwgWzMzLjg0NjYyLCAtODQuMzU2NTE3MV0sIFszOC41NTI3ODIsIC0xMjEuNzM0Nzc5XSwgWzU5LjMzNDc3LCAxOC4wNjQ2OTQyXSwgWzQwLjcyODM2OTYsIC03My45OTIzOTE4XSwgWzQ5LjU1MDc1NTcsIDguNjc1OTA5OF0sIFszMi44NjE1MDEsIC05Ni44MDUwOTldLCBbMzcuNTA3NjkxNSwgLTEyMS45NzQzMjc0XSwgWy0zNC41ODkyNDEyLCAtNTguNDM0Nzg5XSwgWzQ3LjY1MDQ1MTgsIC0xMjIuMzU0NTA4Nl0sIFs0Mi44NTY1MTUsIC03My43ODI3NzVdLCBbMzkuOTk3NzU0LCAtODMuMDQxNzgxXSwgWzM4LjY1NTE0MSwgLTEyMS4wNjk1MjVdLCBbNDEuMzIwNzEzMiwgLTk2LjA2MzUyMjVdLCBbMzQuNDIwMzE2LCAtMTE5LjY4ODQxMl0sIFszMy45ODEyMzU1LCAtMTE4LjQ0MDk3XSwgWzUzLjM2MzIzNzcsIC02LjMxMjIwMjFdLCBbMzguODYzMzg5LCAtNzcuMzM1MjY2XSwgWzQyLjI5MzI2MjYsIC04My44ODk3NDcyXSwgWzQxLjk2NTU4MDUsIC04Ny42NzQwNzc2XSwgWzM3LjQwNjIxNywgLTEyMS45NzY0NzNdLCBbNDEuMjY4NzM1LCAtOTYuMDg2MjQxXSwgWzM0LjE2ODE1MiwgLTExOC4zNjM3MjddLCBbNDEuNDA2MzM0NiwgMi4xOTIwMjMxXSwgWzM3LjUwNDMyOCwgLTEyMi4yMTk5NzldLCBbMzAuMzQxODY1LCAtOTcuNzU0NjQ0XSwgWzM3LjUzNDAzNjMsIC0xMjEuOTEzMTc2MV0sIFs0OS4wMTM4MDM1LCA4LjM4Mjg2OThdLCBbNTkuMzMyNzg4MSwgMTguMDY0NDg4MV0sIFszNy4zNjkzMDIsIC0xMjEuOTE4OTZdLCBbNDQuNDU1ODA2LCAtNzMuMjE3OTcxXSwgWzQxLjEzMDAyNCwgLTczLjkyODc5NV0sIFs0MC43NTgwNjg0LCAtNzMuNTI0MDczOF0sIFs0MC43NjQ1NzcyLCAtNzMuOTc5OTAwN10sIFs1Mi41MjczMDk4LCAxMy4zOTIyNDg3XSwgWzQzLjY0OTAwMDQsIC03OS4zNzIzMzM5XSwgWzM3LjU0NTUzNTUsIC0xMjIuMzIwODgwMl0sIFszNy40MjgwODc3LCAtMTIyLjE0MzM2OF0sIFs0NC44NjczNDMsIC03Mi4xMTQ0NDJdLCBbMzMuNDY4Mzk2LCAtMTEyLjA3NDg4N10sIFs0OS4yNTQwMjk5LCAtMTIzLjExNTIwNzVdLCBbNDAuNjYwNzQzNiwgLTczLjc3MDkzOThdLCBbMS4yOTcwNzksIDEwMy44NTU3NjM4XSwgWzQ4LjQzMTc3MTUsIC04OS4yMjI1NTE1XSwgWzI3LjQ0NTEzNSwgLTgyLjQ4NTA1N10sIFsyNy40NDUxMzUsIC04Mi40ODUwNTddLCBbMjcuNDQ1MTM1LCAtODIuNDg1MDU3XSwgWzQxLjYxMjkwMSwgLTg4LjIzMTI2NV0sIFsyNy40NDUxMzUsIC04Mi40ODUwNTddLCBbNDAuODQ1MzE3LCAtNzMuOTgwNDY4XSwgWzQxLjQ2MDU0NCwgLTg3LjM0NjMwNF0sIFs1OS40MDY0MTc0LCAxNy45MzQ4ODE4XSwgWzM4Ljk1MjI4OSwgLTc3LjM1MTAwNl0sIFs1MS41MDI1NTY1LCAtMy4xOTMyNjA1XSwgWzM3Ljc3MDA2NywgLTEyMi40MDc2MDNdLCBbMzcuNzg5Nzc4LCAtMTIyLjQwMTczNl0sIFs0MC43NTQzNDg5LCAtNzMuOTc4OTQ1MV0sIFszOS45NTI4MDEyLCAtNzUuMTY2ODYyNl0sIFszMy42Njk3NTgsIC0xMTcuODYyMDkzXSwgWzQyLjM1MDUxMjQsIC03MS4wNzU3OTUyXSwgWzI3LjQ0NTEzNSwgLTgyLjQ4NTA1N10sIFszMi45NTg2MzQsIC05Ni44MjM2NDFdLCBbNDAuNzU0MzQ4OSwgLTczLjk3ODk0NTFdLCBbMzMuNjcwMzk3LCAtMTE3Ljg2MjE1OF0sIFszOC44ODMyOTcsIC03Ny4xMTY4OTddLCBbNDAuNzU0MzQ4OSwgLTczLjk3ODk0NTFdLCBbNDEuMDMwODMsIC03My43NjExNzFdLCBbMzIuOTE3MzUzLCAtOTYuNzc1MjE4XSwgWzQwLjc1MDE3OSwgLTczLjk3NjAxOF0sIFszNy40NDE3LCAtMTIyLjE0MTddLCBbNTEuMzEzMDI0NywgOS40ODQyMzY5XSwgWzM3Ljc1ODExNDgsIC0xMjIuNDE4NDEwOF0sIFs0My4xNjc3MjQ3LCAwLjQxOTg0ODFdLCBbMzAuMDU3MSwgMzEuMjI3Ml0sIFsyNS4yNzExMzksIDU1LjMwNzQ4NV0sIFszMy43NTQ0ODcsIC04NC4zODk2NjNdLCBbMzcuNzkyNzk2LCAtMTIyLjQwMTM1M10sIFszNy4zMzQ1OTYsIC0xMjEuODkyOTFdLCBbMzIuMjI0MTMyLCAtMTEwLjk2NDI5N10sIFszMC4yNDU1MzUsIC05Ny44MDU2MjFdLCBbLTI1LjQzNDM1NjMsIC00OS4yODMyODg2XSwgWzMzLjEzNjQ3NCwgLTExNy4yNzQ4NDFdLCBbNTEuMzY3NDg0LCA3LjQ4MzMyMl0sIFs0MC43Mjc1MzMsIC03NC4yMzA3MDRdLCBbNDkuMjg0MzkzNiwgLTEyMy4xMDkyNjIyXSwgWzQ4Ljg2ODk1NjMsIDIuMzU1ODk2OV0sIFszNy40NDU5ODMyLCAtMTIyLjE0OTA1ODJdLCBbNDAuNzA1MTU1MSwgLTc0LjAxMTUxNzVdLCBbMzAuMzg5MDQyLCAtOTcuNzU2MjY0XSwgWzQ4Ljg1NDU3MzgsIDIuMzIxNjIyM10sIFszOC44MTQzMjksIC03Ny4wMzg2MDVdLCBbMzIuNzE2MTg5NiwgLTExNy4xNjg2OTddLCBbNTEuNTQ4MDg1NywgMC42NTUzMTY4XSwgWzQwLjQyMjU0ODcsIC0zLjY4MzAzMTZdLCBbNDIuMTM1MDY5OCwgLTg3Ljc1ODE2MDJdLCBbNDMuNjQzNTQxOCwgLTc5LjY0NTk3NTFdLCBbNDAuNjMyNzM0LCAtNzMuNzIwOTE2XSwgWzQwLjg0MTkyMjgsIC0xMjQuMDYyNTEyM10sIFs1My4zNDM4Mjk4LCAtNi4yNjg5NDY1XSwgWzU0LjY3NTY3NTEsIDI1LjI2ODEyMzddLCBbNDAuNzQyNDE2LCAtNzQuMTgyMTE4XSwgWzQyLjA1MjAwNCwgLTg4LjE0NDM5N10sIFszNS44NzcyNTI3LCAtNzguODM5MjQyN10sIFszMC4zMDQ1MDUsIC05Ny44Mjc2MTRdLCBbMzIuODUxODQ2LCAtMTE3LjE4NjAyXSwgWzQzLjUwNTg2NDYsIC04MC41Mjg0MjI2XSwgWzM1LjkzNzU2MTIsIC03OS4wMjUxNjY4XSwgWzQyLjM5MTM4OTIsIC03MS4yNzA5ODY5XSwgWzQzLjY1NTA4LCAtNzkuMzk3OTM2NF0sIFs0NS41MTkxNzksIC0xMjIuNjc3MDAxXSwgWzQyLjE2ODY1MDMsIC03MS4xMTAyNjczXSwgWzM5Ljc0NjI3MjgsIC0xMDQuOTkxMTU3Ml0sIFszNy40MDA0Njc1LCAtMTIxLjk4NTE1NDNdLCBbMzQuMTQyODM4OCwgLTExOC4xMzIzNzgzXSwgWzM3LjQxMjM3MDYsIC0xMjIuMDIxNjI3MV0sIFsxMy4wNDM3NzY4LCA4MC4xODM2ODldLCBbMzQuMTQyODM4OCwgLTExOC4xMzIzNzgzXSwgWzUxLjUxODEwMSwgLTAuNDY4NjE3XSwgWzM0LjAzOTM5MzEsIC0xMTguNjcwNzE1OF0sIFszNC4wOTc1NDQ2LCAtMTE4LjM2ODU5MzFdLCBbNDAuNzU3NzE2LCAtNzMuOTcyMzIxXSwgWzM0LjIxMDA5OSwgLTExOS4xMjYzNl0sIFszNC4wNDk3NjM4LCAtMTE4LjI0NzQyODddLCBbMTIuOTYxOTA4NCwgNzcuNjI5OTM2M10sIFsyNi4xMDI2Nzg4LCAtODAuMjUwMTE0NV0sIFs0Mi42NTU1MzAyLCAtNzEuMTQ1NTYxOF0sIFszNy40ODU4NjI5LCAtMTIyLjIwNjcyNjldLCBbMzAuNTEwMiwgLTk3LjcwNjddLCBbMzcuNTUzMTIxLCAtMTIyLjMwMTUzNF0sIFszNy4zODIxMzY4LCAtMTIxLjk3MDUwNV0sIFszMy44NDY2MiwgLTg0LjM1NjUxNzFdLCBbMzMuMTAzMjUxNiwgLTExNy4yNjY3NDk0XSwgWzQwLjcxODAzMywgLTExMS44MTEwNF0sIFszOS4zOTI2MTg4LCAtMTA0Ljg5NDM3NjddLCBbMzQuNjAwODk1LCAtMTEyLjQ1ODQ1NF0sIFsxLjM1MjMyMDIsIDEwMy44NDIyNTI2XSwgWzM0LjE1ODA3NzgsIC0xMTguNjM1NjMxOF0sIFs0MC44OTk3MiwgLTczLjM1MTIyOF0sIFstMjMuMTc5MDgwMSwgLTQ1Ljg4NzI0NzZdLCBbMzUuMjY3NTExNywgMTM5LjE4NzA3NDZdLCBbMjYuMTkwNjM0MywgLTk3LjY5MzI4MDRdLCBbMzkuOTQ0MzU1MiwgLTc1LjEyNTczODFdLCBbMzcuNDI5NTc5NCwgLTEyMS45MjI5ODQ4XSwgWzQxLjg5MDQyMSwgLTg3LjYzMDc2NV0sIFszNC4wMDI4MzczLCAtMTE4LjQ4NDQyMjhdLCBbMzcuNzg4NzEzNSwgLTEyMi4zOTI3MTQ1XSwgWzUyLjM1NDIzMTIsIDQuODc0NTc2Nl0sIFsyNi4xODc1NzA2LCAtODAuMTkxMjk4OF0sIFs0MC43MjY1MTcsIC03NC4wMzIxNzddLCBbNDEuODgyMzAxLCAtODcuNjM0MzExXSwgWzM3Ljc5MDA5OTIsIC0xMjIuNDAyMTk4OF0sIFs0OS44OTExMjY0LCAtOTcuMjE1Mjk1MV0sIFs0MC4wMTc5OTY0LCAtMTA1LjI4MDAyMjVdLCBbMzcuNzAwODc5NCwgLTEyMS44Nzk0MjA5XSwgWzM3Ljc2NTI3NTUsIC0xMjIuNDIwNDc4Ml0sIFszOS4yNzE3ODUsIC03Ni42MTEzNzldLCBbNDUuNDAxNDg2NiwgLTc1LjczMTgxMjddLCBbMzguODg3MjQ5LCAtNzcuMDAzMTg4XSwgWzM3Ljc3MDY1NywgLTEyMS45NjMzMjFdLCBbNDEuNzk2NzUsIC03Mi41NzQ2NzddLCBbMzcuNDE5MjMwOSwgLTEyMi4wODg3MDk3XSwgWzQyLjk3OTM2NywgLTc4Ljc5ODk0N10sIFs0MC41NTAwNywgLTc0LjQ1NjY4OV0sIFstMzQuNDcyNTU2MywgLTU4LjUxMjgyMTJdLCBbNDIuMzg5NDEwNCwgLTcxLjE0NjAxMDZdLCBbNDIuMzc3NTM1LCAtNzEuMTQ5MDU3XSwgWzMzLjc4MTI2MTQsIC04NC4zNjc1NjE3XSwgWzQwLjc1NjA1NCwgLTczLjk4Njk1MV0sIFszNS44MzQ3NDgsIC03OC44MTIzNDhdLCBbMzcuOTU3NDU3OSwgLTEyMi40OTk5MzUzXSwgWzUxLjAxOTg2NDIsIDMuNjgyMDc1Nl0sIFs0OS4yODA0NzE3LCAtMTIzLjEyNzA4OV0sIFszNi4xNjgwNTczLCAtMTE1LjE0MTM2ODVdLCBbMjYuOTMzMDk0MywgNzUuNzk2OTc5MV0sIFs0Mi41MTM3NjE5LCAtNzEuMjQzMjY2OF0sIFs0MS41NzEzMDI4LCAtOTAuNTYwODA2NF0sIFs0MC44MzMyMjgsIC03My42MjU1NTFdLCBbMjcuNzcwMjIxLCAtODIuNzM1ODk5XSwgWzEzLjcyNTUwMDEsIDEwMC41MjYwNzI5XSwgWzM3LjM2OTQ0NDEsIC0xMjEuOTY2Mjk5Nl0sIFs1MS41MzU5MDA4LCAtMC4yMDU1MDgxXSwgWzUyLjUxMjMzNzIsIDEzLjM5MzY2NjVdLCBbMzcuNDM3MzI4LCAtMTIyLjE1OTkyOF0sIFszOC44OTM5NzEsIC05NC42NzA1NDddLCBbMzMuNTE3MDA0LCAtMTEyLjA1NzY5OF0sIFs1MS43NTc3NDUzLCAtMS4yMTg2NzI0XSwgWzQwLjc2Mjg5NywgLTczLjk3NDcxNF0sIFszOS4yNzY5Nzc3LCAtNzYuNjEyOTc5MV0sIFszNy43ODUyNzEsIC0xMjIuMzk3NTgyXSwgWy0zNy44NTg2ODUsIDE0NC45ODMyNDNdLCBbNDEuNTEzNjUyLCAtODEuNjY2MTAxXSwgWzQyLjMxMzA0NywgLTcxLjIyMzI3XSwgWzQxLjY4MjA4MzMsIC0wLjg4NzQyMDFdLCBbNDMuMzQ1OTAxNSwgLTUuMzYxNzVdLCBbMzQuMDQzMTk3MywgLTExOC40NDU1ODRdLCBbNDAuNzUyNTM5LCAtNzMuOTg3ODcxXSwgWzM5LjQ1MDIxMDcsIC0wLjM5MjQ2NDZdLCBbNC41OTgwNTU2LCAtNzQuMDc1ODMzM10sIFs0Mi4yMzI1MTIsIC04My43NDY0NzQyXSwgWzQ4Ljc5MDAwMTQsIDIuNDc3MjUwNl0sIFszNy4zNjc0ODcsIC0xMjEuOTE3ODMzXSwgWzI2LjIwMzgyLCAtODAuMTU0MjEyXSwgWzQxLjg4NjUxMSwgLTg3LjYyNjc3N10sIFs1MS41MDY5MjA2LCAtMC4xMjQ5MzM3XSwgWzM3LjQ5ODg0MiwgLTEyMi4yMzk4MTVdLCBbMzcuMzQ5MjA5NywgLTEyMi4wMzI2MDE5XSwgWzQyLjQ4MzY2LCAtNzEuMjIxODc4XSwgWzM2LjI1MjMwMiwgLTExNS4xNzc1NTRdLCBbMzcuNTM3NDMyMiwgLTEyMi4zMjYyMDc0XSwgWzM3LjczNzYwOSwgLTEyMi40MzUzOTldLCBbMzguODA0NTU5LCAtNzcuMTY0Nzc2XSwgWzM3Ljg5ODM2NjUsIC0xMjIuMjc5NTY2N10sIFs0Mi4yNTU3MjM0LCAtNzEuODQ4ODE5NF0sIFs1Mi4xNDI0Njk1LCA1LjIwOTIwNzVdLCBbMjguNjcyMzIxLCAtODEuMzg0OTM5XSwgWzUwLjExMzY5NjQsIDguNjUwMzEwOF0sIFs0MC43MjAzMzEsIC03NC4wMDE0ODddLCBbMzcuMzAxNTExNSwgLTEyMS45MzAzNjE2XSwgWzM5LjY2MTE3MSwgLTEwNS4zNTIxNzRdLCBbMS4yOTA4MDEsIDEwMy43ODA3NDAzXSwgWzI4LjUzNjA1NjgsIDc3LjIwNzgyMDddLCBbMzkuMTM2OTAyLCAtNzcuMjIzMTg2XSwgWzM2LjkzOTcyMDYsIC0xMjEuNzc2ODQ0OV0sIFs0Mi4zNTE0ODU1LCAtNzEuMDU3Mjg3OV0sIFstMzcuOTk1MTcxOCwgLTU3LjU2MDUwNV0sIFs0MC43NjQyMzQ4LCAtNzMuOTcxNjk3XSwgWzUxLjUxMjM4MzMsIC0wLjExNTg4MzJdLCBbNTIuNDk0MzA3NCwgMTMuNDM0NDc0XSwgWzQyLjY5NTM0OCwgLTczLjg3ODkxM10sIFszNy43ODcwOTIzLCAtMTIyLjM5OTk3MTldLCBbNDEuMTE5NDUyLCAtNzQuMTE1ODUxXSwgWzMyLjc4MTA3OCwgLTk2Ljc5NzExMV0sIFs1MS4xOTc3NjM0LCA2LjY5MDY2OTldLCBbMzIuNzE4ODM0LCAtMTE3LjE2Mzg0MV0sIFs0MC4xMzg5NzksIC0xMDUuMTI0NDY1XSwgWzE4LjUzMDE2NDIsIDczLjgyOTk2NV0sIFszNC4xNDI4NzQsIC0xMTguNzQ0NTI1N10sIFstMzQuNjExNzgxLCAtNTguNDE3MzA5XSwgWzMzLjgzMDM3NzYsIC0xMTguMzg0MTc3N10sIFs0MS44ODU0MDgsIC04Ny42MjU2NzddLCBbMzIuOTYwMDUzLCAtOTYuODIyNzNdLCBbMzcuMzY3ODM4LCAtMTIxLjkxNTU5NF0sIFsyNS43NzQwODUsIC04MC4xMzkxNDNdLCBbNDguODY3NTY0MSwgMi4zNDM5OV0sIFs0NC43NDA4LCAtODUuNTk0OV0sIFs0MC43NDI5NTMzLCAtNzMuOTg0NDYxMV0sIFsyOS43NDA4NjgsIC05NS40ODUwMjIzXSwgWzM2LjE1ODg4NywgLTg2Ljc4MjA1Nl0sIFs0Mi4yOTQ1MTYsIC03MS4yMjY5MDEzXSwgWzE5LjAxNzY1NiwgNzIuODU2MTc4XSwgWzM3LjMxNzczNSwgLTEyMS45NDk0MTddLCBbMzUuODUzNTA5MiwgLTc4LjgyNjcxMTJdLCBbNDEuOTI2NjUzLCAtODcuODM1NzQ2XSwgWzQwLjQzNDY5MzUsIC0zLjY3ODI4MjldLCBbMzcuNzkzNDY0MywgLTEyMi4zOTc5NzEyXSwgWy0zNC42MDcwOTkzLCAtNTguMzY2NzMxOV0sIFs0MC43MzQ5ODg0LCAtNzMuNjM3NzE0XSwgWzM3Ljc4ODc5NiwgLTEyMi40MDk3MV0sIFs0My42NzAyMzMsIC03OS4zODY3NTVdLCBbMzcuNzk1MTQxLCAtMTIyLjQwMTE5NF0sIFszNC4yMTM5MjUsIC0xMTguNDg3MjM2XSwgWzI5Ljk3Mzk5NDEsIC05MC4wODIyMDE1XSwgWzMzLjY2MDk1NSwgLTExNy44Njc2NzldLCBbNDIuMzU0MjU3LCAtNzEuMDU2NjA1XSwgWzM3Ljc1ODExNDgsIC0xMjIuNDE4NDEwOF0sIFszMy4xMTE5NzM2LCAtOTYuODE1NzkzM10sIFstMzMuODcxMTE4LCAxNTAuODcwNV0sIFs1MS41MTk2MTM1LCAtMC4xMDIwMjY1XSwgWzQyLjQzNTIyMjIsIC03MS4yMzQ0NjAxXSwgWzQ4Ljg5MjEzOTYsIDIuMjg0NzQxOV0sIFs0MC42MDcwODk3LCAtMy42OTEyNzU0XSwgWzMzLjYzMTc5NywgLTExMS45MTAxMDddLCBbNDguNDI0NDg2NSwgLTEyMy4zNjM5MDldLCBbNDcuNjExODI3LCAtMTIyLjMzMTMwOF0sIFszMy45Nzk5NTYsIC0xMTguMzkzOTc5XSwgWzM4Ljg4NTIxLCAtNzYuOTk4NjQxXSwgWzQzLjE2MjAyMDMsIC03Ny42MTA1ODNdLCBbNDguODg4MDg2MiwgMi4zMjEwODQ1XSwgWzM0LjAxNjk2MSwgLTg0LjMyOTA4MV0sIFsxMi45NTkzODA1LCA3Ny42Mzc4NjE5XSwgWzI5Ljc0NTg2MSwgLTk1LjQ1Nzc5Nl0sIFs0NS41MTM4MDMyLCAtNzMuNTcyMjUyOV0sIFstMzQuOTA2MDEyNSwgLTU2LjE5MzI4NTddLCBbMTMuMDI5Mjc0MiwgODAuMjQ4MTUzMl0sIFsyNS43NzQyNTIsIC04MC4xOTAyNjJdLCBbLTIuMjAzODE2LCAtNzkuODk3NDUzXSwgWzQ1LjUyODkwOCwgLTEyMi44NDY2NjVdLCBbNDcuNzYyOTU5LCAtMTIyLjE4MjU4ODldLCBbMjguNjkxMTgxMSwgLTgxLjMxNDUxNzVdLCBbNTEuNTMxMjIzMiwgLTAuMTAzMzIzN10sIFs0MS4xMjgxOTg3LCAtNzMuOTQ0MTYwMl0sIFszNC4wODcxNzcsIC0xMTguMzgwNzc4NV0sIFs0My42NDIyNjAxLCAtNzkuMzc0ODg5NF0sIFszOC45OTMzMTU3LCAtOTUuNjk0MDE1MV0sIFszNy43NjkyMDUsIC0xMjEuOTY2Mzk1XSwgWzUzLjM4MDAxMDcsIC0xLjQ2MjkzMDFdLCBbNTEuOTIzNzU2NiwgNC40NzUxMjk4XSwgWzQxLjcyMjQxNCwgLTcyLjYxODk1OF0sIFs1NS42Nzc3MzMsIDEyLjU3MDMzOThdLCBbNDUuNTI1MSwgLTEyMi44MDk3XSwgWzQyLjI3NzQxNiwgLTgzLjczMzI3Nl0sIFszMy45Nzg4MjUsIC0xMTguMzk0ODg5XSwgWzMyLjIyMjE1NiwgLTExMC44MjU1MjVdLCBbMzcuNTM4NDE4NSwgLTEyMi4yNTIxMTVdLCBbNDAuNzE0MzUyOCwgLTc0LjAwNTk3MzFdLCBbNTIuMzcxMDE3OSwgNC45Mjc3Nzk5XSwgWzUxLjUwMDE1MjQsIC0wLjEyNjIzNjJdLCBbMzcuMzEwODcwMiwgLTEyMS45NTAxNDJdLCBbMzcuNDAwNDY1LCAtMTIyLjA3MzAwM10sIFszNy4yODcyODUsIC0xMjEuOTQyOTMyXSwgWzM5LjU2Mzg1NDUsIC04NC4yNzEyMDczXSwgWzM5LjIzNjU0OCwgLTc2LjgyODk0M10sIFs1NS45NDk2MiwgLTMuMTgzNDgzM10sIFsyOC41ODY1ODY5LCA3Ny4zMzYwMzE5XSwgWzM3LjY1MDE0MiwgLTEyMi40MDg1NjI3XSwgWzQwLjc1MjIyNCwgLTczLjk5MjExXSwgWzQwLjc1ODQ5MiwgLTczLjk4OTk4N10sIFszOS45OTMwMTksIC03NC4xNzE3NThdLCBbNDQuOTYyNTQsIC05My4xOTU5MzRdLCBbMzMuNTgxOTM3LCAtMTExLjk4MjY5NV0sIFszNy4yODA4NTIzLCAtMTIyLjAwMzE1MzFdLCBbMzQuMDQ4NDg5LCAtMTE3Ljc4ODM5NzVdLCBbMzcuNjYyMTIyOCwgLTEyMS45MDA5MzI5XSwgWzM0LjQxNDE3NywgLTExOS42ODg1NjVdLCBbMzkuMDIxNjYyLCAtNzcuNDc3NDFdLCBbNTEuNDUyMzMzNSwgNy4zNTU0MzY1XSwgWzUxLjUzMTIyMzIsIC0wLjEwMzMyMzddLCBbNDAuMzExOTQ2LCAtMTExLjY4NTAyMDddLCBbMzcuNDUxMzYyOSwgLTEyMi4xODQyMTEyXSwgWzQwLjQwMzU0MzcsIC03NC41MDgxMTE0XSwgWzQwLjczMzIwMSwgLTczLjk5MTUzNV0sIFszNC4wNjQ0NjM5LCAtMTE4LjM3MzA0MzJdLCBbMy4wNjgwMTU1LCAxMDEuNjg2MTg1MV0sIFs0Mi40ODcyMzIsIC03MS4yMDQzNzJdLCBbNTEuNTIwMDI3NywgLTAuNjUxMTU1XSwgWzQyLjcwODQ3OSwgLTcxLjQ2NDI5MV0sIFs1NS42NzQyMjUyLCAxMi41NDQyNDg4XSwgWzI3Ljg5OTk4NywgLTgyLjcyMjAyMV0sIFs0MC43NTY0Nzg2LCAtNzMuOTcwMjcxMV0sIFs0Mi41NzQzOTE1LCAtNzEuOTg2MjU0Nl0sIFsyOC42MzUzMDgsIDc3LjIyNDk2XSwgWzQ0Ljg2NDc4MiwgLTkzLjQwMTk4NF0sIFszOC45ODI1MzMyLCAtNzcuMDkzMjc5XSwgWzQwLjYxMTA3OTcsIC0xMTEuODUzNzE3XSwgWzQyLjE2Mzg3MTYsIC04LjYxMDU3MDNdLCBbNDcuNTQ0MzQxLCAtMTIyLjMzNDczMl0sIFs0Mi4zNTU4MTYsIC03MS4wNTg1MjFdLCBbMzIuOTg1MjIwMiwgLTk2LjgzMDE1NDNdLCBbMTAuODAyNDMwNCwgMTA2LjY0MTIwMjddLCBbMzcuNTU2MTcxMiwgLTEyMi4wNzgwNjMyXSwgWzMyLjkyOTM2NCwgLTk2Ljg0MjUxOF0sIFs0MC43NTI2NzIsIC03My45NzU5M10sIFs0MC43NTIwNzgsIC03My45OTQ3ODVdLCBbNTAuOTI3Mjk0MSwgNi45NzY0OTc4XSwgWzM5LjI3NDAzNCwgLTc2LjU5MDgyOTFdLCBbMzcuNzk2ODQ5MiwgLTEyMi40NTc2MjNdLCBbNTUuNjk2OTU1LCAxMi41MzE0MzYyXSwgWzMzLjkyODU0LCAtMTE4LjM5NzgxOF0sIFszMi43NDQ1NTEsIC0xMTcuMTI5NzhdLCBbMTIuOTcxNjA2LCA3Ny41OTQzNzZdLCBbNTIuNTI5NTkxNywgMTMuMzg0MzQ5XSwgWzUxLjIwNTc0OTUsIDQuMzkwNDMwMl0sIFszMy42MjUxNjUsIC0xMTEuODg3ODUzXSwgWy0yNi4xNDcwOTY2LCAyOC4wMzU0MzUyXSwgWzEzLjA0NDU0MjQsIDgwLjIxNTYxNjJdLCBbMzQuMTA3ODI0MSwgLTExOC43NTI2Njk5XSwgWzYwLjE2NTk4MTksIDI0Ljk0Mzg1NjhdLCBbNDYuMDMzNDMwOSwgMTQuNDgzNDAyOV0sIFs1MS41MTc4MTIzLCAtMC4xMTc5Nl0sIFs0Ny42NzY3NjIsIC0xMjIuMjA0OTE5Ml0sIFszNS44Mjk5MDk5LCAtNzguNzg2NTI5N10sIFs0MS44Nzk1MzUsIC04Ny42MjQzMzNdLCBbMzcuNDEzMzE5LCAtMTIxLjkxNjA2MDZdLCBbMzMuNDg3MDU2LCAtMTExLjkwOTgwNV0sIFs0MC43MjM3MTQsIC03My45OTY0Mzc2XSwgWzEzLjAwNTY0MDEsIDc3LjU2NTU0NjZdLCBbNDQuNzM2MjcyNCwgLTkyLjg0NTA1ODZdLCBbMzMuNTg0MjgxNiwgLTExNy43MzA2ODE3XSwgWzMzLjg2NTkxMzgsIC0xMTcuODg5NDg5OV0sIFszNy43ODYzMTcsIC0xMjIuNDIyNTAzXSwgWzM4Ljc5NzUzOCwgLTc3LjA0MjE3NV0sIFszMi44MDk4OTQsIC05Ni44MDQ0MjhdLCBbNDAuNzYxNTgxOCwgLTczLjk3MDYyNF0sIFszNy43ODk4MzMsIC0xMjIuNDA1ODYzXSwgWzQwLjc0NTQ5NzEsIC03My45ODI2MDQyXSwgWzQyLjM1ODkyLCAtNzEuMDU3ODFdLCBbNDMuNjcwMjMzLCAtNzkuMzg2NzU1XSwgWzQyLjY3NTE4ODgsIC03MS4xNDY5MDAzXSwgWzM5LjAwNDk5NCwgLTk0LjYwMjY3Ml0sIFs1MS41MjMyMjU1LCAtMC4xMDEwNTM1XSwgWzM0Ljg0OTI5NCwgLTgyLjM5OTYzMjVdLCBbMzMuNzgzNjgwMiwgLTExNi43NzMyMTYyXSwgWy0zMy44OTA4MzIsIDE1MS4yNDUwMl0sIFszNy41MTEyMjgsIC0xMjIuMjAwNjIyXSwgWzQwLjcxNTE0NSwgLTc0LjAwNTg5N10sIFs0MS40ODY1MDk5LCAtODEuNTI1NzExNl0sIFszMC4zNDI0MzYsIC05Ny43NTQzXSwgWzQ5LjIyOTE5NSwgLTEyMi45NDcyNDhdLCBbNTAuMDcyODE0MSwgMTQuNDQyNzUwNF0sIFs0MC4wNzUxNTYxLCAtNzUuMjg1MDYwMl0sIFs0MS41OTExMTEyLCAtODcuMzQyMTc3XSwgWzQwLjc3ODA2ODMsIC03My43MzI4MjUyXSwgWzI1Ljc5MTcxMDgsIC04MC4xMzg4Mjg3XSwgWzQ0LjQ0NzkyMzcsIDI2LjA5Nzg3OV0sIFs0OC43NTA1NDQ5LCAtMTIyLjQ4MDM3NzRdLCBbMzguODgzMjk3LCAtNzcuMTE2ODk3XSwgWzMzLjkzMzI1NDksIC04NC4zNTI4Njk3XSwgWzQyLjM1MDUxMjQsIC03MS4wNzU3OTUyXSwgWzQxLjg4MTYwNywgLTg3LjYzMjczNV0sIFszNC4wNTczNDYsIC0xMTguNDQ3MDc4XSwgWzQwLjc1NDM0ODksIC03My45Nzg5NDUxXSwgWzM3LjMzNDU5NiwgLTEyMS44OTI5MV0sIFs0Ni4xOTg2MjkyLCA2LjEzODIzMjRdLCBbMzcuNzg5Nzc4LCAtMTIyLjQwMTczNl0sIFszOS45NTI4MDEyLCAtNzUuMTY2ODYyNl0sIFs0MC43MjQ2MDQsIC03My45OTY4NzZdLCBbMzQuMTUyNzU5MywgLTExOC4yNTUxXSwgWzQzLjE3NzQyLCAtNzcuNzUxNF0sIFs0OC44ODM4ODQzLCA4LjUwOTMxNDJdLCBbMzMuNjY5NzU4LCAtMTE3Ljg2MjA5M10sIFszNy43OTgzMTgxLCAtMTIyLjQwMDAwMzJdLCBbNDcuNjAzMzY0LCAtMTIyLjMzMzM1OV0sIFs0Mi40ODcxNTA5LCAtNzEuMTk4NjMyOV0sIFs0Mi40MDQ5NDIsIC03MS4yNzIxNjMyXSwgWzQwLjU4Nzg2NSwgLTczLjk1NTI2MDddLCBbNDEuOTgxMTQ2OSwgLTg3LjgzODAxNzVdLCBbMzMuMTY5MDIzLCAtOTYuNjM4NzE0XSwgWzM5LjA4MzkxNiwgLTc3LjE1NjgyM10sIFszNi4wODkzODUsIC04Ni44MDk2ODZdLCBbMzcuMzgwNjUzLCAtMTIyLjExNTY5MzRdLCBbNDAuNzQ1NDA5OCwgLTczLjk4MjIyMTFdLCBbNTEuNTExOTQxOCwgLTAuMDkzNjY4OF0sIFs0MS4yNjAxNjYzLCAtOTYuMDc5MTQzNV0sIFs0MC43MjcyMTYsIC03My45OTQ3OTddLCBbMzkuMDY0NjQ3LCAtODQuNDYyMDIxXSwgWzMwLjM1NTI1OSwgLTk3Ljc5NjExNV0sIFszMy41NTQ5NDMsIC0xMTIuMDk4NTkyXSwgWzEzLjAyOTM0NjUsIDgwLjIxMjIyNzFdLCBbNDMuNDQ5Njk1NCwgLTgwLjQ4NzMyOF0sIFs0OC44NDE3NiwgMi4yMTUwOTddLCBbMzcuNzk3ODYyLCAtMTIyLjI3NzUwNl0sIFs0NS41MDI0NjgsIC0xMjIuNjc0OTk2XSwgWzQ1LjUzMDk2NDQsIC0xMjIuNjgwMzhdLCBbNDkuODc0MDA5NiwgOC42NjA1ODgxXSwgWzQwLjAzMDAxMSwgLTgzLjAxNTY0XSwgWzM3LjQxODkwNzMsIC0xMjIuMDg4NDI4Nl0sIFszOC45MDMzMjQsIC03Ny4wMzkzNDhdLCBbNDAuNzQzODM1NiwgLTczLjk4OTAxNDldLCBbNDcuOTMxMjYzLCAtMTIyLjI1NTEzNl0sIFszNC4wMzI0NjMyLCAtMTE4LjM5NTg2M10sIFszMy44MDU0MDE2LCAtMTE4LjMzNzY4NDJdLCBbMzkuMTQ4MTg1OSwgLTc2LjkwNjE3MzldLCBbMzcuMjkxMDY1LCAtMTIxLjkzNDE4XSwgWzQyLjEyMzU2MywgLTgwLjA4MTMxMThdLCBbNTEuNTEyMDMyLCAtMC43Mjg0NDldLCBbMzMuNjE2MjI4LCAtMTExLjg5ODA5MV0sIFs1MS41MjE5MTMxLCAtMC4wODMzNzQ3XSwgWzQwLjAzMzY3MTcsIC04NC4yMTAwNzAyXSwgWzQyLjUwODk2NCwgLTcxLjEzMjg3XSwgWzUxLjY3MTcxMSwgLTEuMjg5MDgyXSwgWzQyLjMwMDQyMjQsIC04My4wMDQzNTI1XSwgWzQyLjA4MzI4MDgsIC03MS40MDkyMTk3XSwgWzQ1LjgxNjEyOCwgMTUuODAxMjM2NV0sIFs0My41MDUyNzE3LCAxNi41MDE5NDk0XSwgWzQ1LjQ3NTU1MjEsIDkuMjE2OTkxOV0sIFsyMy4wNjYwNjYsIC04Mi4yOTI3Nzk2XSwgWzQ2LjA2MTg1ODIsIDE0LjUxMzU1OF0sIFszOS40NjEyNjc5LCAtMC4zOTgzNDU2XSwgWzI2LjI3MzcyODIsIC04MC4xODQxMzQ3XSwgWzQwLjQwMzMyMTcsIC0zLjY1MTAyNTRdLCBbNDMuMzQ4NDk1MSwgLTguNDA2OTUxNV0sIFszNC4wMjgxODIsIC0xMTguNDcyNTc3XSwgWzMzLjU3MjU4MTUsIC0xMTIuMDExODY2OV0sIFs1MC44MjU2MDM4LCA0LjM2NTI1ODRdLCBbMzMuNjYwOTEwMSwgLTExNy43MDcyMDAzXSwgWzUyLjAwNjY5NzMsIDguNTYwMzg3OF0sIFszNi43NDIzNDIsIC0xMTkuNzk1NDVdLCBbNTEuNDUxMTY4LCAtMi41ODY5MjcyXSwgWzQwLjc0ODI4LCAtNzMuOTg5Mjc2XSwgWzU2Ljk1NDkyNzQsIDI0LjE1MzI3NDFdLCBbMzcuNDc5MDI5OCwgLTEyMi4xNDg5NzMxXSwgWzUyLjUyODMxMTEsIDEzLjQxMjA5ODZdLCBbMzMuNjM3NjQ2LCAtMTE3LjYwNDAzXSwgWzUxLjUyOTIyNDUsIC0wLjA5MjEyMThdLCBbNTAuMDg3ODExNCwgMTQuNDIwNDU5OF0sIFs0MC40MzUzNzQ2LCAtMy42ODY1MzRdLCBbMzMuNTc5MjA0LCAtMTE3LjcyOTMzODNdLCBbNDcuNjQ5MzkyLCAtMTIyLjM0ODY4MzddLCBbNDAuNzM4NTY3LCAtNzMuOTg3MTk5XSwgWzQwLjA0NjQzMSwgLTc1LjM5MzQyXSwgWzQyLjYwMzEyNzcsIC04My4wMjk0NDAyXSwgWy0yNy40NzEzMjQsIDE1My4wMDQ3ODFdLCBbNDEuMDQwOTUyNywgLTczLjg3MzE4MzRdLCBbNDUuNjc5Mjk0LCAtMTExLjA0NjIzMV0sIFszNy43Nzg1NDUsIC0xMjIuNDM3NzE2XSwgWzM5Ljk1MTEwMTksIC03NS4xOTc4ODJdLCBbNDIuMzUzNDkxNSwgLTcxLjA1NjQ2NDVdLCBbNDcuNjg1OTA2MywgLTEyMi4xNDEwMjRdLCBbNDYuOTAzNzYwMiwgLTk2LjgwOTg3OThdLCBbMzkuNDQ0NDIxLCAtMTE5Ljc0OTcyMV0sIFs0My42NDkwNjMxLCAtNzkuMzc0OTY5OF0sIFs0Mi4zNzc0NjcsIC03MS40MDEzMDddLCBbNTUuOTM0MTUyLCAtMy4zMDkwODI1XSwgWzM3LjM4NzY0MiwgLTEyMS45MzAwNl0sIFs0OC44Nzc1MTk3LCAyLjMzNDI2Nl0sIFs0OC44MzA4MDkxLCAyLjMwMzIyMDFdLCBbNTMuNTYxNzM0MSwgOS45MjU1ODA2XSwgWzQyLjM0MDY1MzQsIC03MS4wNjgwMDI3XSwgWzM3LjM5NzMwMTgsIC0xMjIuMDU5NTYyM10sIFszMy42ODQyMDIsIC0xMTcuODQxNzQyXSwgWzQwLjcyMDM5MSwgLTczLjk5ODMxMzldLCBbMzMuOTU4NTcxNCwgLTgzLjk5MDI2NDhdLCBbMzMuOTU4NTcyNywgLTgzLjk5MDE0NjNdLCBbMjIuNTQ1ODkyOCwgODguMzQ3OTQzNl0sIFszNy43Nzg1NTEsIC0xMjIuMzkxNjg2XSwgWzMzLjYxNTY2MzQsIC0xMTEuODkzMTY0N10sIFs0NS41MTk0NzUsIC0xMjIuNjc1MjU1XSwgWzQwLjcwNzgzNDMsIC03NC4wMTM2NjA1XSwgWzI5LjgwNTgzODksIC05NS40MDkxNzY5XSwgWzQxLjg4NjYyNCwgLTg3LjYyNjc4NjddLCBbMzkuOTE1OTc0LCAtMTA1LjAwNDQxN10sIFs0Mi45MjUwOTY3LCAtNzEuNDYwNTY2MV0sIFszOC45MjE1NDcsIC03Ny4wNDE5NzZdLCBbNDcuNjEwMzAwOCwgLTEyMi4zMzk5NzgyXSwgWzM3LjM3Mzg3MjUsIC0xMjEuOTk3MzU0Nl0sIFs0NC4xNDgwMDM0LCAxMi4yMDkxMjY1XSwgWzM0LjAxNjgzOCwgLTExOC41MDA2MDNdLCBbNDQuOTc3NDgyLCAtOTMuMjY0MzUxXSwgWzM4LjkyOTU4MiwgLTk0LjY2MDM3NV0sIFszNy40OTQ1NjEsIC0xMjIuMjI5MDk3XSwgWzM2LjIxNTMyOSwgLTExNS4yMzY2Ml0sIFs0Mi4zNTAzMzc1LCAtNzEuMDYwNTk4NV0sIFszNC4xMDEyMTgxLCAtMTE4LjMyNTczOV0sIFs1OS45MTUyNTYsIDEwLjc2Mzc2NjhdLCBbMzQuMDUxNTA4LCAtMTE4LjI2MjIzM10sIFszOC4yMzIyMDEsIC0xMjIuMDgzMjI5XSwgWzM3LjM4OTM3OCwgLTEyMi4wNjcwOV0sIFs0MS4zOTQzNjcxLCAyLjE0OTE5NTFdLCBbNDAuNDQzMTYzNywgLTMuNzEyNTYxNV0sIFsyNy45NjY1NzMsIC04Mi43OTgyOV0sIFs1Mi41MjUzNTQsIDEzLjM5MTM2NTddLCBbMzguOTM3NTA1LCAtNzcuMDY1OTIzXSwgWy0yOC4wODU5NDUsIDE1My4zOTA5NDVdLCBbNTkuOTEzNzQ1OSwgMTAuNzk2MzgwOV0sIFs0MC44Mjc2MjcsIC03NC4xMDA4MV0sIFs1MS41MjUzNzY1LCAtMC4wODU2OTgyXSwgWy0zMS45NzgyMiwgMTE1Ljg5MDg0XSwgWzUxLjUwMDMyMDQsIC0wLjAxNzg2ODldLCBbMTMuMDM2OTgyOSwgNzcuNTY1OTc2NF0sIFs0Mi40MDk4NTMsIC03MS4yNTY0NjFdLCBbNDAuNzQwMzQsIC03NC4wMDcyMV0sIFstMjYuMTUwNjQ0NywgMjguMzM4OTE5M10sIFszNS45MTE3MzMsIC03OC45MDAxMDNdLCBbNDIuODEwNDUxLCAtNzAuODcyMDIyXSwgWzEzLjAxNDgyMywgNzcuNjUwMzEwNF0sIFszMi4wNTU0LCAzNC43NTk1XSwgWzM3LjQ0NjUzNSwgLTEyMi4xMTg3OTRdLCBbMzAuMzA3OTU1LCAtOTcuODI4NDA4XSwgWzM5LjU1NjExMzYsIC0xMDUuMTA5NzAyNV0sIFs0MC43MzM0MywgLTczLjk5MDk2N10sIFs0MC43NjE1ODE4LCAtNzMuOTcwNjI0XSwgWzQyLjk2MDIyNDksIC03OC43NTUyMDM1XSwgWzQ5LjI4NTE3MzMsIC0xMjMuMDk1MjM4MV0sIFszNy4zOTM4MzYsIC0xMjIuMDk5NDU0XSwgWzM1LjY5MDc4MDUsIC0xMDUuOTQ0ODYzOV0sIFszNy4zNzc0Mjk2LCAtMTIxLjk2MTg5MjhdLCBbMzcuODQyMzE2LCAtMTIyLjI5MDk1Ml0sIFs1MS4zMTgxMjAzLCAtMC41NjIzNTIyXSwgWzQ4Ljg3MjAzMiwgMi4zMjE4MTczXSwgWzQyLjczMzE1NCwgLTczLjY3OTUzNl0sIFszOS41NTkwNTUsIC04NC4yNjE4MV0sIFstMzQuMDUxOTE2LCAxNTAuNjk1ODJdLCBbLTMzLjc5ODY0MiwgMTUxLjE3ODk4NF0sIFs0NC45NTAwMjMyLCAtOTMuMDg3ODYyNl0sIFs0Ny42MjA5MTA3LCAtMTIyLjM2MTIzOV0sIFszNC4wMTg3MywgLTk3Ljk1NTUzOF0sIFstMjMuNTQ4OTQzMywgLTQ2LjYzODgxODJdLCBbNDQuOTk3Njk4LCAtOTMuNDQ4NDAxXSwgWzM3LjM4MjE2MiwgLTEyMi4wMzYzMDFdLCBbMzMuNjY1ODY5LCAtMTE3Ljg2OTU3NF0sIFszMC4zNzQ0MTQsIC05Ny43MjUyMDRdLCBbNDAuNzUwMTMxMSwgLTczLjk4MTI0MTddLCBbMzcuNzQwNTkzNiwgLTEyMi4zNzY0NzE0XSwgWzQwLjQ0ODk4NTQsIC03OS45OTc4Nzc1XSwgWzI4LjU2NjQ1OTksIDc3LjI3MTIwMTZdLCBbMzMuNTgxOTU0LCAtMTExLjg5OTkzNl0sIFs0OC44NTI0Nzc1LCAyLjM2NjAxMTddLCBbMzcuMzM1MDAzLCAtMTIxLjg5MDE1M10sIFs0Mi41MzE4MiwgLTcxLjEzNDM1OF0sIFsyOS43NDc0OTcsIC05NS40NzE1MTVdLCBbNDAuNDQ4OTg1NCwgLTc5Ljk5Nzg3NzVdLCBbMzMuNjcwMTg1LCAtMTE3Ljg1NjU4NF0sIFszMi40MTYxNzQsIC05MC4xNjMzMDA2XSwgWzUyLjA5ODE1NDYsIDQuMjcwMzk1M10sIFszMi43MTYwNDk3LCAtMTE3LjE1NzQyNTJdLCBbMzQuMDU3NTE5LCAtODQuMTcxNzNdLCBbMzcuNzkxMTI4LCAtMTIyLjM5ODEyNl0sIFs0OC44NzUyMzA1LCAyLjI5ODMzNzNdLCBbMzguOTU5NDEyNCwgLTc3LjM1NjMyNzldLCBbNDMuNzE2MTM1NCwgMTAuMzk2NTg0M10sIFs1MS4wMTk4NjQyLCAzLjY4MjA3NTZdLCBbNDguODk1MjcxMiwgMi40NDc2MzMxXSwgWzQ1LjQ2MzY4ODksIDkuMTg4MTQwOF0sIFsyNi4xOTQxNTgsIC04MS44MDUwMDddLCBbMzkuOTU4NzE2OSwgLTc1LjE1ODM4MDJdLCBbNDAuNDI3MjQ1MSwgLTMuNjc1NTE2Nl0sIFs0OC44MjAzNTM0LCA5LjIwMzE5MzldLCBbMzcuMzg5NjE1LCAtMTIyLjA1MDE3OV0sIFs0MC40MTU4MjM2LCAtMy42OTYyNzddLCBbNTAuNjg1MDkwMywgMTQuNTQwMzIzNF0sIFszMy42ODE2NjQsIC0xMTIuMDc5MDU1XSwgWzQwLjcwNDcwOCwgLTc0LjAwNTk5N10sIFszNy40NDg1OTgsIC0xMjIuMTU4NDk3XSwgWzM5LjYyMDg3MiwgLTEwNC45MDMzNjhdLCBbNDAuOTcxNzc1MywgLTczLjg3MjI0MTFdLCBbMzkuNzQyODYxLCAtMTA0Ljk2MzA3NV0sIFszNy43Nzg5OTEsIC0xMjIuNDAxODAzXSwgWzQzLjI1NDYxNTQsIC03OS44Njg1MzEzXSwgWzYzLjE2ODA3NDksIDE0LjU5OTIzMzJdLCBbNDAuMDk0OTIxLCAtODMuMTI3MTczXSwgWzMwLjIxMzUzMSwgLTk3LjgxNTAxMl0sIFs0MC43NTMwODAzLCAtNzMuOTc5MDgyMl0sIFszNy43NzI2NDAyLCAtMTIyLjQwOTkxNTRdLCBbNDIuMjgxNTY5LCAtODMuODEzOTE0XSwgWzQxLjg3NTAyNiwgLTg3LjYyODkzM10sIFs0NC43ODcxMTE2LCAtODUuNjM3ODA2Ml0sIFszNy40MDA0NjUsIC0xMjIuMDczMDAzXSwgWzQ3LjU1NDY3MTIsIDcuNjAzMTYyNl0sIFszMy45MzQ5MDA0LCAtODQuMzM3ODk1NV0sIFszMy45MzQ5MDA0LCAtODQuMzM3ODk1NV0sIFszNy40MTEwMDksIC0xMjIuMDA2MjY1XSwgWzM4Ljk1NDgxNTUsIC03Ny4zODg5MTldLCBbNDcuMjg0OTY2OSwgOC41NjU0NjE1XSwgWzU5LjQwMDcyMDQsIDE4LjA0MTgwNzJdLCBbNDguODU2NjY2NywgMi4zNTA5ODcxXSwgWzU5LjkxMjA5NDQsIDEwLjc1MzM3NTZdLCBbMzMuOTAzMDIyLCAtMTE4LjM4NjQ3MTJdLCBbMzcuMzgxMzQxLCAtMTIxLjk3NzA2NV0sIFs0MC43NTE5NjksIC03My45OTAzMV0sIFs0MS45NDQyNTY1LCAxMi41MzAwOTU3XSwgWzM3LjU2NzIxNjcsIDE1LjA2NTY4OTFdLCBbNDcuNjAwODAwOCwgLTEyMi4zMzQyNTg1XSwgWzQyLjM2MjIxNTQsIC03MS4yMDA4NDA4XSwgWzMwLjI4ODE1OSwgLTk3Ljc1MDE1NF0sIFs0Ny42MDMxNzYsIC0xMjIuMzMzMzA0NF0sIFszMy43NzYxOTc3LCAtODQuMzg1MjU3XSwgWzQ5LjQ3ODI1NTksIDguNDIwNjA4NV0sIFs1OS41MDY4MTQ3LCAxNC45NzE2MDE4XSwgWzUxLjUxNDkxOTcsIC0wLjEzNDYxMTJdLCBbMTIuOTMzMjQxOSwgNzcuNjI5NTU3N10sIFszOC45MTY3MzMsIC03Ny4wMzc2MTRdLCBbNDcuNjE0NjMzOCwgLTEyMi4zNDA4MTg3XSwgWzM0LjA0OTA1NzEsIC0xMTguMjU5MzE4MV0sIFs1MS41MjExNTA0LCAtMC4xMDM2MDIxXSwgWzM1Ljg2OTE0NzQsIC03OC42Mzk1NjY3XSwgWzQwLjU2NTAxNSwgLTc0LjMyODIwNl0sIFs0Mi44ODgxODgzLCAtOC41NDcwNDc2XSwgWzQ0Ljc3MTc0NjcsIDEwLjc3NzE2NjVdLCBbMzIuODQxNzkxLCAtMTE3LjI3NDYwMl0sIFszMi41MjE3NDQyLCAtMTE3LjAyNzQ5NDddLCBbMTkuNDE2NDMwOSwgLTk5LjE2NTEzOTVdLCBbNDguNzcxMDMxMSwgOS4xNzkxMzMxXSwgWzM3LjQ0NDUzMSwgLTEyMi4xNjMzNTJdLCBbNTAuNjcxMzMxNCwgNC42MTAyNDkyXSwgWzUxLjUyMzQyMDksIC0wLjEzOTg2MTRdLCBbLTMzLjgwNjM3MSwgMTUwLjkyMzM0NV0sIFszOS40MTQyLCAtNzcuNDEwNV0sIFszMC4yMzUwMzk5LCAtOTcuODAwMTI5OV0sIFsxLjI3OTE0NDksIDEwMy44NDQwODg4XSwgWzQzLjc3Mjg2MTgsIC03OS4zMzYxOTQ5XSwgWzUzLjU4NzA3MTQsIC0yLjMyMzA0NTNdLCBbNDUuNDg4NDE5LCAtMTIyLjY0MjE1Nl0sIFszMy45OTE3ODcsIC04NC4wNjg4MzVdLCBbMjcuMzg1OCwgLTgyLjQyM10sIFs0MC43MTI0MTUxLCAtNzQuMDA3NzY3XSwgWzIzLjI3NzExMDIsIDc3LjQ1ODkwMzJdLCBbMzQuMzAyNDU0LCAtMTE4LjQ2MDQzN10sIFs0MC41NTU4MTkyLCAtMy44OTc2OTQxXSwgWzM3Ljc4OTQ3MSwgLTEyMi40MDQxMTNdLCBbNDkuOTU0ODk5MywgMTEuNTc3ODM4N10sIFs1Mi4wODQ4NTI2LCA1LjE2ODI0NDldLCBbNDkuMjU2NzQ1LCAtMTIyLjg4NTYzMDVdLCBbNDMuNjg5NTA4LCAtNzIuMjcwODg1XSwgWzUwLjkyMjgxMDYsIDMuOTcxMjk2Ml0sIFszNy4xMTgyOTksIC03Ni40NjQ3MzU2XSwgWzYwLjE3MDg0MjksIDI0LjkyNzkzMzldLCBbNDcuNDM2OTg4LCAtMTIyLjIxNTg5Ml0sIFszNy40NDg0OTE0LCAtMTIyLjE4MDI4MTJdLCBbMjguMDMxODIxLCAtODIuNTA0ODAzXSwgWzMyLjg4NzYzMSwgLTk2Ljk3NDYxNF0sIFsyOC4xNzI0NjgsIC04Mi41Njg0OTRdLCBbNDEuNjc1MDAzOCwgLTg4LjA2NDIxNDVdLCBbMzMuNDI3Mzk3LCAtMTE3LjYxMzg2NV0sIFs0My42NDcwMzAzLCAtNzkuMzk0MTc2NF0sIFs0Ny44MjExNjM0LCAtMTIyLjMxODI2ODNdLCBbMTIuOTk1OTMzMiwgNzcuNjEwMjgxMV0sIFs0MC40NTgxNzgsIC0zLjY4NDU4OTRdLCBbLTIzLjU5MTA0MjEsIC00Ni42ODcyMDE4XSwgWzI1Ljk1NjA2LCAtODAuMTQ2MzI5XSwgWzMwLjU3NTg5NTgsIC04OC4xNDA3NzAxXSwgWzM3LjQyMDIwNzQsIC0xMjIuMDkzMzA1M10sIFszLjQyMzMxNTUsIC03Ni41MjQ1MzYxXSwgWzM4Ljk1NTI3OTcsIC03Ny4zMzgxODU1XSwgWzQyLjQ5NjMzOTksIC03MS4xMjY3MDAyXSwgWzM3LjQ0OTMxLCAtMTIyLjE2MDAxMV0sIFs0MC43NTY3OTksIC03My45NzYzNDc5XSwgWzUyLjM0MzUyMzksIDQuODY2ODU3XSwgWzQxLjgwODkwMDcsIC04OC4xMTMyODg0XSwgWzQyLjM1MTk4LCAtNzEuMDQ3NzM5XSwgWzM3LjU1MjI2MiwgLTEyMi4yOTIxNDZdLCBbNTMuMzQ0MTA0LCAtNi4yNjc0OTM3XSwgWzI1Ljc5MjI1MTYsIC04MC4xODkyOTA0XSwgWzMzLjQyMzM5MiwgLTExMi4wMDE2NDVdLCBbMzMuMTY0OTI2MywgLTExNy4zNDgzOTA2XSwgWzM3LjUxODYyMTUsIDE1LjA5MTY4MzldLCBbMzcuNDg3MjU5LCAtMTIyLjIzMjIxN10sIFs0MC42NzgyNjgsIC0xMTEuOTE1MzldLCBbNDAuMDc1MDk2LCAtNzUuNDI0MDJdLCBbMzkuMTY0Mjg3LCAtODYuNTI2OTA0XSwgWy0zNy44NTc2NzQsIDE0NS4wMzczMTldLCBbMzUuMjAxNjQ5LCAtMTA2LjYwNzk0N10sIFszNy43Nzk4NjgsIC0xMjIuMzkyMzQzXSwgWzM3LjkwMTg2NCwgLTEyMi4zMTM2NzNdLCBbMzkuODYyOTQyLCAtMTA1LjIwNjUwOV0sIFszNy40ODgzMzYsIC0xMjIuMjE3OTY0XSwgWzQ4Ljg0NTc1MSwgMi4yNzkwNzFdLCBbNjAuMTc1OTkwMSwgMjQuODAwNDMxNl0sIFs0MC40MTY1OTY3LCAtMy42OTkyNjY3XSwgWzUyLjIxODI3NTksIC0wLjg1OTA5MTldLCBbNDMuNjQ3ODE1NCwgLTc5LjM5MzAzN10sIFs0Mi41NDg4OTA3LCAtNzAuOTUyMjU0MV0sIFszOC41NTM2MzgsIC0xMjEuMzc2NDA3XSwgWzQwLjczOTk4LCAtNzMuOTkwNzQ3Ml0sIFszNy41NjA3ODEsIC0xMjIuMjg0MTE0XSwgWzUxLjUxMTUzMDksIC0wLjEzOTI3NjVdLCBbMzcuNzgyODYyLCAtMTIyLjM5MjM0Ml0sIFs1MS41NzU1Mjc3LCAtMC4xMzc5MTk5XSwgWzQwLjc0ODg3NjEsIC03My45ODE1NzkzXSwgWzI2LjIwMzEwOTQsIC04MC4xNTUwMTk5XSwgWzQwLjczNjIyMiwgLTc0LjAyOTc3XSwgWzQ1LjQ5NjEyMjcsIC03My41NzY3NDk5XSwgWzQ4LjEyMzQwODIsIDExLjYxMjA5NzNdLCBbNDYuNTIwNjI5MSwgNi42MzI4Mjc0XSwgWzQ3LjYyMjAyNDUsIC0xMjIuMzM1MDg0N10sIFszNC4xMDA1NywgLTgwLjk2MzczMl0sIFs0Mi4zNjc4NjI5LCAtNzEuMTk5ODM2NF0sIFszMi45NTg2MzQsIC05Ni44MjM2NDFdLCBbMzguODcyNjY4LCAtNzcuMzY3OTgxXSwgWzMzLjU3NzU2OSwgLTc4Ljk5OTM5MV0sIFs1Mi40MDY5OTg4LCAxMy4wNjI3MTk5XSwgWzM3LjM5NjU4NiwgLTEyMS45Mjg2MTldLCBbMzMuNjg4OSwgLTc4Ljg4NjddLCBbMzkuNTc3NTY1LCAtMTA0Ljg3OTY3NF0sIFszMi45MDEzMTcsIC0xMTcuMjAwNDkyXSwgWzQ3Ljg4NTQzMDIsIDExLjQ2Mjk2MDFdLCBbNTQuNTIwMTM1LCAxOC41NDE2MzQyXSwgWzMzLjkzOTE4MSwgLTg0LjEzNDA0N10sIFs0OC43MTkxMDQzLCAyLjI2MzkwMTVdLCBbMzAuNzMzMzE0OCwgNzYuNzc5NDE3OV0sIFszOS4yODE3MzQsIC03Ni41ODE4NjRdLCBbMzcuNDk5Nzg0NiwgLTEyMS45MzUwMTU3XSwgWzM3Ljc4MjQ2NzIsIC0xMjIuMzk0MjU0OV0sIFstMzcuOTkyNDE1NSwgLTU3LjU1MzgyMzhdLCBbNDAuNzYzODc2NCwgLTczLjg3MTMwOTldLCBbNTEuNDUxNTI4MywgLTIuMTMzNDU1NV0sIFszOS4yOTg3MzQsIC03Ni42MTY3NDddLCBbNDUuNjE5MzE4LCAtMTIyLjU0NDUzMl0sIFszMy4wNjA3NjQ0LCAtOTYuODA0OTldLCBbMjUuODEwNzQxMiwgLTgwLjE4NjY4MzRdLCBbNTEuNDYyMTA4LCAtMC4yOTU0NDFdLCBbNDAuNzYxNTgxOCwgLTczLjk3MDYyNF0sIFs0MS45NDk1MDI4LCAxMi40NTUzODU2XSwgWzM0LjA0Njc4OCwgLTg0LjMwMDkxNF0sIFs0MC43NDM4NzcsIC03My45ODYxOF0sIFs1MS4wMjMxNTYsIDMuNjY4NzM2NV0sIFsyNy42NDc2NTc3LCAtODAuMzgyMTA5Ml0sIFszMi45OTkxMjUsIC05Ni44MjgzMjldLCBbNDAuNzQzODc3LCAtNzMuOTg2MThdLCBbNDAuMDc5MTgsIC03NS40MTg2ODldLCBbNDcuMzMwNzQyMiwgLTEyMi41ODMzMTg5XSwgWzM3LjMzNzQwMiwgLTEyMS44OTQwOTldLCBbNDIuMzY1NjEyMywgLTcxLjA5MjIwMjJdLCBbMzcuMzgzMzY4LCAtMTIxLjk4MDE4Nl0sIFszMi44Njk2OTksIC03OS45MTgzMl0sIFs1My41NzcxNTE0LCAxMC4wMTE1OTI2XSwgWzUyLjUwOTIzMTIsIDEzLjM4ODM2MDZdLCBbMzQuMTUyMDExLCAtMTE4LjQ1NzYzMl0sIFs1Mi4yOTg2MDQyLCA0Ljk1NDkyMTFdLCBbNDMuMjkzMzgyOSwgLTk0LjIxOTEzODJdLCBbMzUuNzUyMjY2OCwgLTc4Ljc0MTI2NDJdLCBbNDAuMzY0MDQ1LCAtNzQuNjUxMjYyXSwgWzQ4Ljg3MTEwODksIDIuMzkzNTk4N10sIFszOC43NjY3MDQsIC05MC41ODU1MTNdLCBbNTEuNDk0MDc1NywgLTAuMTQ2NjU5XSwgWzQwLjcwNzk1NCwgLTc0LjAxMTExNF0sIFs0OS4xOTg4MTIsIC0xMjIuODQ1NzgzXSwgWzM0LjcxNjUxMTIsIC04Ni42OTE3MDE2XSwgWzM3Ljc3NTE5NiwgLTEyMi40MTkyMDRdLCBbMzUuODM1NjUsIC03OC44MTM5XSwgWzQwLjc1NjA1NCwgLTczLjk4Njk1MV0sIFs0MC40Mzg0MjMsIC04MC4wMDE5MzNdLCBbNDAuODA4MzIyLCAtNzMuMjU0NzY3XSwgWzUxLjU0MzMzNywgLTAuMTcyMzY0XSwgWzMzLjk1OTQ1MywgLTExNy43MjU2MDgzXSwgWzM3Ljc3NTIwNiwgLTEyMi40MTkyMDldLCBbMzMuNjU4NTQ2LCAtMTE3Ljg2NTk1XSwgWzQ4Ljg1MDIwNTYsIDIuMzY5ODAzM10sIFs0OS4yNjA4Mjc5LCAtMTIyLjkxNDU5MzZdLCBbNDguNjg0OTYzMSwgMS44NDU2OTY0XSwgWzM3LjMyMDA1MiwgLTEyMS44Nzc2MzZdLCBbNDEuNDk5NzEzLCAtODEuNjkzNzE2XSwgWzM3LjQ4NDEzLCAtMTIyLjE2OTQ3Ml0sIFs1Mi41MjM1Njc5LCAxMy4zOTE4MjIzXSwgWy0zMS45MTk5OCwgMTE1LjkwMTU0XSwgWy0yMy41OTc4NTQyLCAtNDYuNjgzNTYwNV0sIFstMjIuOTA2MzgyOSwgLTQzLjE3NzgzMDZdLCBbNDkuMjg3NjA0NSwgLTEyMy4xMjA4MTg0XSwgWzM3LjQwMDA2OTMsIC0xMjEuOTM2OTgyN10sIFs0MC4wMTQ2NDE3LCAtMTA1LjIzODcwMzJdLCBbMzcuNzg3MTMwNiwgLTEyMi40MDQxMDc1XSwgWzIyLjU5ODUzODksIDg4LjQwMjg2XSwgWzQ4LjgzMTg0OTcsIDIuMzM4OTg2NF0sIFsxMy4wODAxMjgsIDgwLjI1MTkyMjRdLCBbNDMuNzg5NjE4MSwgLTc5LjIzNTQzNzddLCBbNDIuMzQwNjUzNCwgLTcxLjA2ODAwMjddLCBbNDguMTE2Mjk2NSwgMTEuNjAxODQ5M10sIFs0MS4yNTU2MTE0LCAtNzQuMzU5ODkzM10sIFs1MS41MDMzMjM1LCAtMC4xMDY1NTYzXSwgWzQ3LjM2Mzk1NDgsIDguNTUzNDE1MV0sIFs0MC40MjY4NTgsIC0zLjcwMTUyMzddLCBbNDkuNzI0MjU3MSwgMTMuMzMzNTg4OF0sIFszMi44OTYxNDUsIC05Ni45MTYwMzNdLCBbMzQuMDA3OTY3LCAtMTE4LjQ4OTY4MV0sIFstMjcuNDU3NDg2MSwgMTUzLjAzMzY4Nl0sIFszOS43NDg4MTYzLCAtNzUuNTQ3NTc5NV0sIFszOS4xMTA2NTUsIC03Ny4xNTQ0NjZdLCBbMzcuMjg5MDE1OCwgLTEyMS43ODA5OTQzXSwgWzM2LjA2ODYwMDUsIC0xMTUuMTYyMjc5XSwgWzQ1LjQxMjQ1NiwgLTcxLjkzMjY5OF0sIFs1My41NjIyNjk4LCA5Ljk0OTAxMzldLCBbLTI4LjA0ODQyMiwgMTUzLjQzNzVdLCBbMzcuNjgxNzIzNiwgLTEyMS45MDMxOTExXSwgWzQxLjE5NTAxNywgLTk2LjA5NDI4NzJdLCBbMzYuMzUxOTgsIC0xMTkuMzY4NDYxXSwgWzQzLjc2ODgxNiwgLTc5LjQ2NjgyN10sIFsxMy4wNjA0MTYsIDgwLjI0OTYzNF0sIFszOS43MDg0MTEsIC0xMDUuMTM2ODQ1XSwgWzQyLjQ3MjE4LCAtNzEuMjYyNTA4XSwgWzMxLjIzNjY5ODMsIDEyMS40MTM3MjU3XSwgWzQzLjY0MjI2MDEsIC03OS4zNzQ4ODk0XSwgWzM5LjAxODMsIC03Ny4yMDg5XSwgWzMzLjY3MDgwNywgLTExNy42NzEzNDJdLCBbMTMuNzQyNDc1MiwgMTAwLjU1MTc2MDRdLCBbMTIuOTMyNzU1NCwgMTAwLjg4MjAxN10sIFs0NC41MTQzODM4LCAxMS40MDc3Mjc2XSwgWzQ4Ljg1NjY2NjcsIDIuMzUwOTg3MV0sIFs0Ny42MTM4MDQ1LCAtMTIyLjE5NDg5MTRdLCBbMjUuNjY1MzkzNCwgLTgwLjM5OTI2NTJdLCBbNDEuOTI1MTE5NiwgMTIuNDgzNDY5MV0sIFs1MS41MjAzMjY4LCAtMC4wOTk0NTk2XSwgWzMyLjkwMjU3NiwgLTExNy4yMTgxNjRdLCBbMzguNzE1NjA1LCAtNzUuMDc5NTI3XSwgWzM5LjE1NjQyNywgLTk0LjQ4MzMzNF0sIFs0NS42NjgwNjMxLCAtOTQuODE5OTY2Ml0sIFszNy41OTg0NzgsIC0xMjIuMzc2NTcyXSwgWzUxLjUxOTgxNiwgLTAuMTM2MTYxNl0sIFszNy40OTIwMiwgLTEyMS45NTIyMzldLCBbNDkuMjg3OTcxMiwgLTEyMy4xMjIwNTY5XSwgWzMyLjI1MzUxMSwgLTExMS4wMDUyNzFdLCBbLTI5Ljk1OTY0MTMsIC03MS4yNTU5NTU3XSwgWzM5LjkyNTM3MiwgLTEwNS4xMDQ3NTJdLCBbNTEuNTM5NTkxNCwgLTAuMTUyNTA0OF0sIFs1MS4wODUzNTUzLCAxNy4wMDgyNjNdLCBbMjYuMDYwNzQ5NywgLTgwLjE4OTkzNzFdLCBbMzQuMDMwNDc5LCAtMTE4LjM4MTQzMjldLCBbLTMzLjg2NzEzOSwgMTUxLjIwNzExNF0sIFs0Ny40OTg0MDU2LCAxOS4wNDA3NTc4XSwgWzUyLjM3MzgwMDcsIDQuODkwOTM0N10sIFs0MC40MTY3NDEzLCAtMy43MDMyNDk4XSwgWzQ4Ljg5NDMxMTUsIDIuMjg4MzE5XSwgWzU5LjMzMjc4ODEsIDE4LjA2NDQ4ODFdLCBbNDEuODk1NDY1NiwgMTIuNDgyMzI0M10sIFs0Mi4zNTM2NjgsIC03MS4zOTI5NzY5XSwgWzU5LjMzOTM5NDUsIDE4LjA1ODQyMV0sIFs0MS45MTc0NjM3LCAtODcuNjY2NDgzN10sIFszMy4wMzgyODg0LCAtOTYuODMwMDgzNl0sIFszNC45NzkwMTY4LCAtODUuMDk1NzY2Ml0sIFsyNi4xMzc5OTE0LCAtODAuNDE3NjU0Ml0sIFs0Mi4wMzAyNjYsIC03MS4yMzkyXSwgWzM4LjczMzY3NjMsIC05LjE0NjEwNDNdLCBbNTEuNTAwMTUyNCwgLTAuMTI2MjM2Ml0sIFszMy42MzMzNDc5LCAtMTE3LjczMjczNjNdLCBbMzcuNzIzODAzLCAtMTIyLjI0MDkzN10sIFs0MC4wMjA0MjEsIC0xMDUuMjM2MDExXSwgWzM3LjkyNDM1OTMsIC0xMjIuMDIzNjAzMl0sIFszNy40MTkyMzMsIC0xMjIuMDc4NjI5XSwgWzUxLjY1NjYzMTIsIDEyLjI1NjgwNDFdLCBbNTAuOTA2MDksIC0zLjQ4MTA5MDJdLCBbNTAuNzIxNDUzLCAtMy40OTgwNDZdLCBbNTEuNTIwOTM1OCwgLTAuMTQyNDA5NF0sIFs0MC43MjU0MTI5LCAtNzQuMDA0NTU0OV0sIFs0My43MDcxNDcsIC03OS4zOTYzODU4XSwgWzUxLjUyNDY2MTksIC0wLjA4MzA3NzJdLCBbLTYuOTAzMjQ3LCAxMDcuNjkwMzNdLCBbNDAuNzQ2NTE0LCAtNzMuOTkzMDM1XSwgWzUxLjgyMDU4MTUsIDAuMDExODYwOF0sIFszMi45OTQ4ODgsIC0xMTcuMDgyMDMyXSwgWzQ3LjY3NDkzMywgLTExNy4wOTEwOTNdLCBbNDAuMDQ1MjM4LCAtNzYuMzYyNTgzXSwgWzMwLjQzMzg1LCAtOTcuNzM5MzE2XSwgWzM4Ljg3MTIyMDUsIC03Ny4yMTc0MTZdLCBbNTIuNDk0NzI2NiwgMTMuMzk4NTA0XSwgWzQ4Ljg1NjY2NjcsIDIuMzUwOTg3MV0sIFszNC4wNTIyMzQyLCAtMTE4LjI0MzY4NDldLCBbNDcuNTk4NjU3LCAtMTIyLjMzNDYxNF0sIFszMC40Njc4OCwgLTkxLjEyOTYwNF0sIFszMi44Mzg2NDE0LCAtMTE3LjA5ODIxNl0sIFs0MC41OTMyMzg2LCAtMTA1LjA3NjY1MDFdLCBbNTIuMzk2NTYwMywgNC44NTE2OTY0XSwgWzQwLjc1MTg5MTksIC03My45ODc1OTIyXSwgWzMyLjgwMTQwMiwgLTExNy4yMzY1NThdLCBbNTEuNTIxNTI3OSwgLTAuMTAzODIxOV0sIFs0OC44NTY2NjY3LCAyLjM1MDk4NzFdLCBbNDUuNTI2NTcyMSwgLTEyMi42ODAyMjIzXSwgWzI4LjIyNjUwMjgsIC04MC42NzgyNjRdLCBbNDUuNjY4NjQ4NSwgLTExMS4wNjYyMzk2XSwgWzUxLjU1NzM4LCAtMC4yNzU0OF0sIFszNy40MzE0MDksIC0xMjIuMTA2NDldLCBbNTIuNTMyNTQ3MiwgMTMuNDA4OTk4Nl0sIFs0OC44NjU5OTU3LCAyLjM1MTgyNF0sIFs1My4yNjE1NTQzLCAxMC40MTgzNTg2XSwgWzUyLjM2NTc1NzgsIDQuODkyODcyMl0sIFs0OC44OTg4OTY4LCAyLjI4Nzc3Ml0sIFszNy43Njc1NzUsIC0xMjIuNDExMTU3XSwgWzQ0LjQ0NzkyMzcsIDI2LjA5Nzg3OV0sIFs1Mi41Mjc5MjU1LCAxMy4zODEzNTQyXSwgWzM5LjcyMDA4OCwgLTEwNS4xOTIzMTJdLCBbNDcuNjYxNDk1NCwgLTEyMi4wOTQzMTk4XSwgWzQ0LjIyNjQsIC0xMDUuNjA0XSwgWzUxLjUyMDEzMDksIC0wLjEzMjY4ODZdLCBbNDcuMzc2MzYyLCA4LjUxNDIxMjVdLCBbNDAuNDIyNjkxOCwgLTMuNjg4MzA3NF0sIFsxMy4xMTE1NTkyLCA4MC4yMjY3NDldLCBbNTAuMDg3ODExNCwgMTQuNDIwNDU5OF0sIFszNy43ODE2ODksIC0xMjIuMzkxMDYxXSwgWzM2LjA5MzQ2MzEsIC03OS40MzcyODUzXSwgWzM3LjY0NTQwMSwgLTEyMi4zOTQ0NjRdLCBbNTYuMTYxNzIwMSwgMTUuNTgzNTcwNl0sIFszMi4xOTgwNDU1LCAzNC44ODI0MjUzXSwgWzI5LjcxNzY3MywgLTk1LjQ1OTMwOF0sIFstMzQuNTYzMTg4MiwgLTU4LjQ1NDE5MjVdLCBbMzcuMjYyODgxNiwgLTEyMS45NjAyMTM0XSwgWzUxLjQ5NDA4OTgsIC0wLjE0MzM5OF0sIFs0Ny44MjI3LCAxMy4wNDE3ODhdLCBbNDAuNzU0OTM3LCAtNzMuOTg1NjQ3XSwgWzQwLjczMjIyNSwgLTc0LjAwOTMxMV0sIFstMzcuODEzMzM4NiwgMTQ0Ljk3MDgyMzRdLCBbNDIuMzU4OTIsIC03MS4wNTc4MV0sIFstMzkuNDkxNzMzLCAxNzYuOTE2MjgxXSwgWzI4LjYzNTMwOCwgNzcuMjI0OTZdLCBbNTUuNjQ3OTE2LCAzNy41Mjg5MDIzXSwgWzQyLjM5ODg2NjEsIC03MS4yNTM3ODFdLCBbNDAuNzg3MjkxNSwgLTc3LjgyNjgzODJdLCBbNDIuOTU4NTg3LCAtNzYuOTA4Nzk2XSwgWzEyLjkzNDY3MTYsIDc3LjYzMTc2MTJdLCBbNDQuODc0Mzk1MiwgLTAuNTc1NDI5NF0sIFszNy4zODM3NzcsIC0xMjEuOTYzNzA1XSwgWzMwLjI2NzE1MywgLTk3Ljc0MzA2MDhdLCBbMzAuMDM3OTk0LCAtODEuODE5OTA1XSwgWzUxLjAzNDM2MjQsIDEzLjc3NTk2NDRdLCBbMzcuMzQwMzI4NCwgLTEyMS44ODY0NDMzXSwgWzMyLjc4MTA3OCwgLTk2Ljc5NzExMV0sIFs0MC43NzA0MzcsIC03My45OTA0MjZdLCBbMzcuMzkzNTM2LCAtMTIyLjA3Njc0N10sIFs1OS4zMzI2Njk0LCAxOC4wNTIzMjUzXSwgWzMzLjY2NDcwNSwgLTExOC4wMTI1NTNdLCBbMzMuMDM1MywgLTk2LjkyNzRdLCBbNTIuNTE1NSwgLTguNDQ2OTJdLCBbNTEuNTAwMTUyNCwgLTAuMTI2MjM2Ml0sIFs0Mi4zMDAxODgsIC04OC4wMDIwMzVdLCBbLTMzLjg2NzEzOSwgMTUxLjIwNzExNF0sIFs0Mi4zOTUyNiwgLTcxLjI1NjM2OF0sIFszMi45NjcxNzksIC05Ni44MjEyNTZdLCBbNTEuNTI3MDU2OCwgLTAuMTA0Mzc2Nl0sIFs1NS45NDg1NTkxLCAtMy4yMTUxMzkzXSwgWzUxLjUxNTIwMjMsIC0wLjEzNjY4NjFdLCBbNDAuNzc2NjQxMiwgLTczLjk1MjE0NjhdLCBbNDguODc0NTk1MSwgMi4zMjEwNzM3XSwgWzU4LjE1NTc2OSwgNy45NTQzMjA2XSwgWzI5LjczODIzOSwgLTk1LjU3MjU4M10sIFs0MC43NDA4MDQyLCAtNzQuMDA3MTddLCBbNDAuNzQwMTU0NCwgLTczLjk4Njc0MTddLCBbMzcuMzM3NzU2LCAtMTIxLjg5NDM1XSwgWzQ3LjYzMjU3NjcsIC0xMjIuMTUzNzU3N10sIFszOC45NDkwMTMsIC03Ni44MzE3NTldLCBbMzguOTUwNzQ3OSwgLTc3LjM3MjY5OTddLCBbMzcuMzcwMjcsIC0xMjEuOTI0MDUzXSwgWzM3LjM4OTM3OCwgLTEyMi4wNjcwOV0sIFszOC45MTI4MjY2LCAtNzcuMjIwMDE2NF0sIFs0MC4xMzY4OTE3LCAtODIuOTQzMTEwNF0sIFs0NC44ODUwNzYsIC05My40MTU2ODJdLCBbNDAuNzQ1MDQ5NywgLTczLjk5MDA5ODRdLCBbMzAuMzU0NzY4LCAtOTcuNzk4MTUyXSwgWzM5LjI1Njk4OTgsIC03Ni42ODQyNjVdLCBbMjUuMTkxMDA1NSwgNTUuMjM3MzgwM10sIFs0OC44Mjc4NDQ0LCAyLjEyNTUwMjVdLCBbNDIuMDU1MTQyNCwgLTg3Ljc0MzUyNzhdLCBbNDEuODgwMTY5LCAtODcuNjI0OTI2XSwgWzQyLjQ4MjE4NywgLTgzLjI4NzAxXSwgWzM3Ljc5MDE1MywgLTEyMi4zOTg2NjldLCBbNDAuNzQ4MzQ4NywgLTczLjk4NDYxNV0sIFsyNi4xMTk0MDI3LCAtODAuMTQzMzkzOF0sIFszOC44NDc3MDEzLCAtNzcuMzAxMjhdLCBbMzcuNTk5MTMxLCAtMTIyLjM2ODI4MV0sIFszNy4yMzg5MTYsIC0xMjEuOTczNzE4XSwgWzMzLjkyMDcyMSwgLTExOC4zOTYxMzM4XSwgWzI5LjczMzc2OCwgLTk1LjU3MDg2N10sIFszOC44MTQ1NjYsIC03Ny4wNDk5NzhdLCBbNDQuOTQ4Nzg2LCAtOTMuMTYxMDM4XSwgWzQxLjk4MDgzMzUsIC04Ny45ODI1NzMyXSwgWzI4LjYzODI0MzMsIDc3LjA3MzcxNDldLCBbNTMuMzMzNTIyNSwgLTYuMjQ0MjcwMV0sIFs1MS41MTczNTYsIC0wLjEwMzc3NDJdLCBbNDAuMDIzMDA0NywgLTEwNS4yNTMyODQxXSwgWzQyLjM0MTg5OSwgLTcxLjA2NTkyNF0sIFszOS42MTIyMjMsIC03NS42OTY3MDZdLCBbNDMuNjUwMjk5NCwgLTc5LjM3NjI2ODhdLCBbMzcuOTY1NTU4LCAtMTIyLjA3NzMzNV0sIFs0My41MDQxNzE1LCAtNzkuNjcxMTMwOF0sIFs1MC40MzMzMzQ0LCA3LjgwNDg4ODNdLCBbMzguOTYwMzgxLCAtNzcuMDg0ODExXSwgWzM3LjMyMzM0NSwgLTEyMi4wMjk5NTRdLCBbNDEuODI5MjI5LCAtNzEuNDIxMDU5XSwgWzM0LjAxMzcxNTEsIC0xMTguNDY2MDU5N10sIFszOC45MDQzNDU0LCAtNzcuNDI3NjcwMl0sIFs0OC43ODE4NzEzLCA5LjE3NzMwNDNdLCBbMzguOTQ1MjY0OCwgLTc3LjMxNTA4OTddLCBbNDIuMzY3Mjg3MywgLTcxLjA4MTQ0NjZdLCBbLTMzLjg2ODg5OCwgMTUxLjIwMjk2Nl0sIFs0MC45MDg2MDE0LCAtNzMuMDQ2NDMwOV0sIFszNy4yNDk2MzQ2LCAtMTIxLjk2NjU5MzJdLCBbMzcuNDA1NDc0LCAtMTIxLjkxODI0OF0sIFszMy44MzkxNzU2LCAtMTE4LjM4OTUxNDRdLCBbMzcuMzg0MjA2LCAtMTIxLjk5MjgwNV0sIFszNC4xNTA4NCwgLTExOC40NDg3MDNdLCBbMzcuNDY0MjQsIC0xMjEuOTIxMDY5XSwgWzM3LjQwOTk5ODUsIC0xMjIuMDAxODcyNV0sIFszNy4zMTk4NTExLCAtMTIyLjA1MDQyODNdLCBbMzcuNDAyODk1LCAtMTIxLjkwNTQyNl0sIFszNy40MjA2ODEsIC0xMjEuOTUxNTU2XSwgWzM3LjM5NTQ3LCAtMTIyLjAyNzE5XSwgWzQwLjc1MjE0MywgLTczLjk5MDY3NV0sIFszMy42NDk0NzUsIC0xMTcuODQ5MTcyXSwgWzQxLjMyNzkxNzYsIC03My4yNDM1NTIyXSwgWzM0LjA0NTQ5OSwgLTExOC40NzAzNl0sIFszMy43MDI2MywgLTExNy44NjUwNzFdLCBbNDAuMTkyMzI5NSwgLTc1LjEwNjkyMzJdLCBbMjkuNzE5OTA2LCAtOTUuNDk1MDE2M10sIFszOS45MzE0NzEsIC03NS4wNjcxMzVdLCBbMzQuMDEzMjY2LCAtMTE4LjQ5MDI2OV0sIFs0MS44ODA2MjU4LCAtODcuNjM1NjA2Nl0sIFs0Mi4yMDAzNjQ1LCAtODcuOTAyNDkyOF0sIFszMy4xNDEyMTI0LCAtMTE3LjMyMDUxMjNdLCBbMzMuOTkzMzI1NywgLTExOC4zOTg3ODQyXSwgWzMzLjczNTc4LCAtMTE3LjkzNTI4Ml0sIFszMy4xNDEyMTI0LCAtMTE3LjMyMDUxMjNdLCBbMzguMDA4ODI1MSwgMjMuNzU5MzMxXSwgWzI4LjA5MDM1MSwgLTgwLjYyMzc1Ml0sIFs0MC43MjYxNiwgLTc0LjAwNjAyM10sIFsyNi41Nzk0OTQsIC04MS44NzkzMTldLCBbLTMzLjgxNTIxNywgMTUxLjAwMjMyNF0sIFszNy41NTkwOSwgLTEyMi4zMjE4MzZdLCBbMzcuNDAzNTIzNywgLTEyMS45ODAxNDQxXSwgWzQ4Ljg2OTk5NDcsIDIuMzQwNjk1NF0sIFszOS45NjQzOTUsIC03NC44OTY0MDJdLCBbNTkuNjE3MzY0LCAxNi41NTk1MzkzXSwgWzQ5LjI4MjQ1NTEsIC0xMjMuMTA5MjE3XSwgWzM2LjA3NjI4OCwgLTc5Ljk2NTM0M10sIFszOC43OTc3OTIsIC03Ny4wNzU3Ml0sIFs1NC4zMjM3MzgsIDEwLjE2NjUxNTJdLCBbMzUuODk2OTA2NCwgLTc4LjY4MDY3ODRdLCBbMzcuNTUzMTIxLCAtMTIyLjMwMTUzNF0sIFs1MC44Mzk5NywgNC4zNDY0NzIxXSwgWzMzLjgwNjUyNSwgLTExNy44ODIzMTRdLCBbMzMuMTMyNTY3LCAtMTE3LjI5Mjc0Nl0sIFsyNi43MDUzMzEsIC04MC4wNDEzOTVdXTsKICAgICAgICAgICAgICAgIHZhciBjbHVzdGVyID0gTC5tYXJrZXJDbHVzdGVyR3JvdXAoeyJyYWRpdXMiOiAyMDAwMDAwMH0pOwoKICAgICAgICAgICAgICAgIGZvciAodmFyIGkgPSAwOyBpIDwgZGF0YS5sZW5ndGg7IGkrKykgewogICAgICAgICAgICAgICAgICAgIHZhciByb3cgPSBkYXRhW2ldOwogICAgICAgICAgICAgICAgICAgIHZhciBtYXJrZXIgPSBjYWxsYmFjayhyb3cpOwogICAgICAgICAgICAgICAgICAgIG1hcmtlci5hZGRUbyhjbHVzdGVyKTsKICAgICAgICAgICAgICAgIH0KCiAgICAgICAgICAgICAgICBjbHVzdGVyLmFkZFRvKG1hcF8wZDM4MjFjNTMzZTk0NWFiYjY3ODE4NGI1YWEzYmUwMyk7CiAgICAgICAgICAgICAgICByZXR1cm4gY2x1c3RlcjsKICAgICAgICAgICAgfSkoKTsKICAgICAgICAKPC9zY3JpcHQ+\" style=\"position:absolute;width:100%;height:100%;left:0;top:0;border:none !important;\" allowfullscreen webkitallowfullscreen mozallowfullscreen></iframe></div></div>"
      ],
      "text/plain": [
       "<folium.folium.Map at 0x1122fbcf8>"
      ]
     },
     "execution_count": 22,
     "metadata": {},
     "output_type": "execute_result"
    }
   ],
   "source": [
    "#Cluster map\n",
    "\n",
    "m2 = folium.Map(zoom_start=15)\n",
    "FastMarkerCluster(latlng, radius = 20000000).add_to(m2)\n",
    "m2\n"
   ]
  },
  {
   "cell_type": "code",
   "execution_count": null,
   "metadata": {},
   "outputs": [],
   "source": []
  },
  {
   "cell_type": "code",
   "execution_count": 23,
   "metadata": {},
   "outputs": [],
   "source": [
    "# from pandas.io.json import json_normalize\n",
    "# json_normalize(data_comp['geopoint'])"
   ]
  },
  {
   "cell_type": "code",
   "execution_count": 30,
   "metadata": {},
   "outputs": [
    {
     "ename": "OperationFailure",
     "evalue": "error processing query: ns=DBcompanies_cb.geo_officesTree: GEONEAR  field=geo_point maxdist=2000 isNearSphere=0\nSort: {}\nProj: {}\n planner returned error: unable to find index for $geoNear query",
     "output_type": "error",
     "traceback": [
      "\u001b[0;31m---------------------------------------------------------------------------\u001b[0m",
      "\u001b[0;31mOperationFailure\u001b[0m                          Traceback (most recent call last)",
      "\u001b[0;32m<ipython-input-30-4448f2c2bfd5>\u001b[0m in \u001b[0;36m<module>\u001b[0;34m\u001b[0m\n\u001b[1;32m     28\u001b[0m \u001b[0;34m\u001b[0m\u001b[0m\n\u001b[1;32m     29\u001b[0m \u001b[0;34m\u001b[0m\u001b[0m\n\u001b[0;32m---> 30\u001b[0;31m \u001b[0mdata_comp\u001b[0m\u001b[0;34m[\u001b[0m\u001b[0;34m\"old_near\"\u001b[0m\u001b[0;34m]\u001b[0m\u001b[0;34m=\u001b[0m\u001b[0mfind_old\u001b[0m\u001b[0;34m(\u001b[0m\u001b[0mdata_comp\u001b[0m\u001b[0;34m[\u001b[0m\u001b[0;34m\"geopoint\"\u001b[0m\u001b[0;34m]\u001b[0m\u001b[0;34m)\u001b[0m\u001b[0;34m\u001b[0m\u001b[0;34m\u001b[0m\u001b[0m\n\u001b[0m",
      "\u001b[0;32m<ipython-input-30-4448f2c2bfd5>\u001b[0m in \u001b[0;36mfind_old\u001b[0;34m(df1, radio_max_meters)\u001b[0m\n\u001b[1;32m     23\u001b[0m                         }\n\u001b[1;32m     24\u001b[0m                     }]})\n\u001b[0;32m---> 25\u001b[0;31m         \u001b[0mtempdf\u001b[0m\u001b[0;34m=\u001b[0m\u001b[0mpd\u001b[0m\u001b[0;34m.\u001b[0m\u001b[0mDataFrame\u001b[0m\u001b[0;34m(\u001b[0m\u001b[0mold\u001b[0m\u001b[0;34m)\u001b[0m\u001b[0;34m\u001b[0m\u001b[0;34m\u001b[0m\u001b[0m\n\u001b[0m\u001b[1;32m     26\u001b[0m         \u001b[0mlista\u001b[0m\u001b[0;34m.\u001b[0m\u001b[0mappend\u001b[0m\u001b[0;34m(\u001b[0m\u001b[0mtempdf\u001b[0m\u001b[0;34m.\u001b[0m\u001b[0mshape\u001b[0m\u001b[0;34m[\u001b[0m\u001b[0;36m0\u001b[0m\u001b[0;34m]\u001b[0m\u001b[0;34m)\u001b[0m\u001b[0;34m\u001b[0m\u001b[0;34m\u001b[0m\u001b[0m\n\u001b[1;32m     27\u001b[0m     \u001b[0;32mreturn\u001b[0m \u001b[0mlista\u001b[0m\u001b[0;34m\u001b[0m\u001b[0;34m\u001b[0m\u001b[0m\n",
      "\u001b[0;32m~/Library/Python/3.7/lib/python/site-packages/pandas/core/frame.py\u001b[0m in \u001b[0;36m__init__\u001b[0;34m(self, data, index, columns, dtype, copy)\u001b[0m\n\u001b[1;32m    428\u001b[0m               and not isinstance(data, string_and_binary_types)):\n\u001b[1;32m    429\u001b[0m             \u001b[0;32mif\u001b[0m \u001b[0;32mnot\u001b[0m \u001b[0misinstance\u001b[0m\u001b[0;34m(\u001b[0m\u001b[0mdata\u001b[0m\u001b[0;34m,\u001b[0m \u001b[0mcompat\u001b[0m\u001b[0;34m.\u001b[0m\u001b[0mSequence\u001b[0m\u001b[0;34m)\u001b[0m\u001b[0;34m:\u001b[0m\u001b[0;34m\u001b[0m\u001b[0;34m\u001b[0m\u001b[0m\n\u001b[0;32m--> 430\u001b[0;31m                 \u001b[0mdata\u001b[0m \u001b[0;34m=\u001b[0m \u001b[0mlist\u001b[0m\u001b[0;34m(\u001b[0m\u001b[0mdata\u001b[0m\u001b[0;34m)\u001b[0m\u001b[0;34m\u001b[0m\u001b[0;34m\u001b[0m\u001b[0m\n\u001b[0m\u001b[1;32m    431\u001b[0m             \u001b[0;32mif\u001b[0m \u001b[0mlen\u001b[0m\u001b[0;34m(\u001b[0m\u001b[0mdata\u001b[0m\u001b[0;34m)\u001b[0m \u001b[0;34m>\u001b[0m \u001b[0;36m0\u001b[0m\u001b[0;34m:\u001b[0m\u001b[0;34m\u001b[0m\u001b[0;34m\u001b[0m\u001b[0m\n\u001b[1;32m    432\u001b[0m                 \u001b[0;32mif\u001b[0m \u001b[0mis_list_like\u001b[0m\u001b[0;34m(\u001b[0m\u001b[0mdata\u001b[0m\u001b[0;34m[\u001b[0m\u001b[0;36m0\u001b[0m\u001b[0;34m]\u001b[0m\u001b[0;34m)\u001b[0m \u001b[0;32mand\u001b[0m \u001b[0mgetattr\u001b[0m\u001b[0;34m(\u001b[0m\u001b[0mdata\u001b[0m\u001b[0;34m[\u001b[0m\u001b[0;36m0\u001b[0m\u001b[0;34m]\u001b[0m\u001b[0;34m,\u001b[0m \u001b[0;34m'ndim'\u001b[0m\u001b[0;34m,\u001b[0m \u001b[0;36m1\u001b[0m\u001b[0;34m)\u001b[0m \u001b[0;34m==\u001b[0m \u001b[0;36m1\u001b[0m\u001b[0;34m:\u001b[0m\u001b[0;34m\u001b[0m\u001b[0;34m\u001b[0m\u001b[0m\n",
      "\u001b[0;32m/usr/local/lib/python3.7/site-packages/pymongo/cursor.py\u001b[0m in \u001b[0;36mnext\u001b[0;34m(self)\u001b[0m\n\u001b[1;32m   1223\u001b[0m         \u001b[0;32mif\u001b[0m \u001b[0mself\u001b[0m\u001b[0;34m.\u001b[0m\u001b[0m__empty\u001b[0m\u001b[0;34m:\u001b[0m\u001b[0;34m\u001b[0m\u001b[0;34m\u001b[0m\u001b[0m\n\u001b[1;32m   1224\u001b[0m             \u001b[0;32mraise\u001b[0m \u001b[0mStopIteration\u001b[0m\u001b[0;34m\u001b[0m\u001b[0;34m\u001b[0m\u001b[0m\n\u001b[0;32m-> 1225\u001b[0;31m         \u001b[0;32mif\u001b[0m \u001b[0mlen\u001b[0m\u001b[0;34m(\u001b[0m\u001b[0mself\u001b[0m\u001b[0;34m.\u001b[0m\u001b[0m__data\u001b[0m\u001b[0;34m)\u001b[0m \u001b[0;32mor\u001b[0m \u001b[0mself\u001b[0m\u001b[0;34m.\u001b[0m\u001b[0m_refresh\u001b[0m\u001b[0;34m(\u001b[0m\u001b[0;34m)\u001b[0m\u001b[0;34m:\u001b[0m\u001b[0;34m\u001b[0m\u001b[0;34m\u001b[0m\u001b[0m\n\u001b[0m\u001b[1;32m   1226\u001b[0m             \u001b[0;32mif\u001b[0m \u001b[0mself\u001b[0m\u001b[0;34m.\u001b[0m\u001b[0m__manipulate\u001b[0m\u001b[0;34m:\u001b[0m\u001b[0;34m\u001b[0m\u001b[0;34m\u001b[0m\u001b[0m\n\u001b[1;32m   1227\u001b[0m                 \u001b[0m_db\u001b[0m \u001b[0;34m=\u001b[0m \u001b[0mself\u001b[0m\u001b[0;34m.\u001b[0m\u001b[0m__collection\u001b[0m\u001b[0;34m.\u001b[0m\u001b[0mdatabase\u001b[0m\u001b[0;34m\u001b[0m\u001b[0;34m\u001b[0m\u001b[0m\n",
      "\u001b[0;32m/usr/local/lib/python3.7/site-packages/pymongo/cursor.py\u001b[0m in \u001b[0;36m_refresh\u001b[0;34m(self)\u001b[0m\n\u001b[1;32m   1138\u001b[0m                                   \u001b[0mself\u001b[0m\u001b[0;34m.\u001b[0m\u001b[0m__session\u001b[0m\u001b[0;34m,\u001b[0m\u001b[0;34m\u001b[0m\u001b[0;34m\u001b[0m\u001b[0m\n\u001b[1;32m   1139\u001b[0m                                   self.__collection.database.client)\n\u001b[0;32m-> 1140\u001b[0;31m             \u001b[0mself\u001b[0m\u001b[0;34m.\u001b[0m\u001b[0m__send_message\u001b[0m\u001b[0;34m(\u001b[0m\u001b[0mq\u001b[0m\u001b[0;34m)\u001b[0m\u001b[0;34m\u001b[0m\u001b[0;34m\u001b[0m\u001b[0m\n\u001b[0m\u001b[1;32m   1141\u001b[0m         \u001b[0;32melif\u001b[0m \u001b[0mself\u001b[0m\u001b[0;34m.\u001b[0m\u001b[0m__id\u001b[0m\u001b[0;34m:\u001b[0m  \u001b[0;31m# Get More\u001b[0m\u001b[0;34m\u001b[0m\u001b[0;34m\u001b[0m\u001b[0m\n\u001b[1;32m   1142\u001b[0m             \u001b[0;32mif\u001b[0m \u001b[0mself\u001b[0m\u001b[0;34m.\u001b[0m\u001b[0m__limit\u001b[0m\u001b[0;34m:\u001b[0m\u001b[0;34m\u001b[0m\u001b[0;34m\u001b[0m\u001b[0m\n",
      "\u001b[0;32m/usr/local/lib/python3.7/site-packages/pymongo/cursor.py\u001b[0m in \u001b[0;36m__send_message\u001b[0;34m(self, operation)\u001b[0m\n\u001b[1;32m   1008\u001b[0m                 \u001b[0mfirst\u001b[0m \u001b[0;34m=\u001b[0m \u001b[0mdocs\u001b[0m\u001b[0;34m[\u001b[0m\u001b[0;36m0\u001b[0m\u001b[0;34m]\u001b[0m\u001b[0;34m\u001b[0m\u001b[0;34m\u001b[0m\u001b[0m\n\u001b[1;32m   1009\u001b[0m                 \u001b[0mclient\u001b[0m\u001b[0;34m.\u001b[0m\u001b[0m_receive_cluster_time\u001b[0m\u001b[0;34m(\u001b[0m\u001b[0mfirst\u001b[0m\u001b[0;34m,\u001b[0m \u001b[0mself\u001b[0m\u001b[0;34m.\u001b[0m\u001b[0m__session\u001b[0m\u001b[0;34m)\u001b[0m\u001b[0;34m\u001b[0m\u001b[0;34m\u001b[0m\u001b[0m\n\u001b[0;32m-> 1010\u001b[0;31m                 \u001b[0mhelpers\u001b[0m\u001b[0;34m.\u001b[0m\u001b[0m_check_command_response\u001b[0m\u001b[0;34m(\u001b[0m\u001b[0mfirst\u001b[0m\u001b[0;34m)\u001b[0m\u001b[0;34m\u001b[0m\u001b[0;34m\u001b[0m\u001b[0m\n\u001b[0m\u001b[1;32m   1011\u001b[0m         \u001b[0;32mexcept\u001b[0m \u001b[0mOperationFailure\u001b[0m \u001b[0;32mas\u001b[0m \u001b[0mexc\u001b[0m\u001b[0;34m:\u001b[0m\u001b[0;34m\u001b[0m\u001b[0;34m\u001b[0m\u001b[0m\n\u001b[1;32m   1012\u001b[0m             \u001b[0mself\u001b[0m\u001b[0;34m.\u001b[0m\u001b[0m__killed\u001b[0m \u001b[0;34m=\u001b[0m \u001b[0;32mTrue\u001b[0m\u001b[0;34m\u001b[0m\u001b[0;34m\u001b[0m\u001b[0m\n",
      "\u001b[0;32m/usr/local/lib/python3.7/site-packages/pymongo/helpers.py\u001b[0m in \u001b[0;36m_check_command_response\u001b[0;34m(response, msg, allowable_errors, parse_write_concern_error)\u001b[0m\n\u001b[1;32m    153\u001b[0m \u001b[0;34m\u001b[0m\u001b[0m\n\u001b[1;32m    154\u001b[0m             \u001b[0mmsg\u001b[0m \u001b[0;34m=\u001b[0m \u001b[0mmsg\u001b[0m \u001b[0;32mor\u001b[0m \u001b[0;34m\"%s\"\u001b[0m\u001b[0;34m\u001b[0m\u001b[0;34m\u001b[0m\u001b[0m\n\u001b[0;32m--> 155\u001b[0;31m             \u001b[0;32mraise\u001b[0m \u001b[0mOperationFailure\u001b[0m\u001b[0;34m(\u001b[0m\u001b[0mmsg\u001b[0m \u001b[0;34m%\u001b[0m \u001b[0merrmsg\u001b[0m\u001b[0;34m,\u001b[0m \u001b[0mcode\u001b[0m\u001b[0;34m,\u001b[0m \u001b[0mresponse\u001b[0m\u001b[0;34m)\u001b[0m\u001b[0;34m\u001b[0m\u001b[0;34m\u001b[0m\u001b[0m\n\u001b[0m\u001b[1;32m    156\u001b[0m \u001b[0;34m\u001b[0m\u001b[0m\n\u001b[1;32m    157\u001b[0m \u001b[0;34m\u001b[0m\u001b[0m\n",
      "\u001b[0;31mOperationFailure\u001b[0m: error processing query: ns=DBcompanies_cb.geo_officesTree: GEONEAR  field=geo_point maxdist=2000 isNearSphere=0\nSort: {}\nProj: {}\n planner returned error: unable to find index for $geoNear query"
     ]
    }
   ],
   "source": [
    "# def findNear(df,radio_max_meters = 2000):\n",
    "#     location = db.geo_offices.find({'main_office':{\n",
    "#         '$near':{\n",
    "#             '$geometry':df,\n",
    "#             '$maxDistance': radio_max_meters,\n",
    "#         }\n",
    "#     }\n",
    "#     })\n",
    "#     df1 = pd.DataFrame(location)\n",
    "#     return len(df1)\n",
    "# near_offices = findNear(data_comp['main_office'][0])\n",
    "\n",
    "\n",
    "def find_old(df1, radio_max_meters=2000):\n",
    "    lista=[]\n",
    "    for i in range(len(df1)): \n",
    "        old=db.offices_ok.find({'$and':[{\n",
    "                        \"geo_point\": {\n",
    "                            \"$near\": {\n",
    "                                \"$geometry\": df1[i],\n",
    "                                \"$maxDistance\": radio_max_meters,\n",
    "                            }\n",
    "                        }\n",
    "                    },{\n",
    "                        'is_young':0\n",
    "                    }]})\n",
    "        tempdf=pd.DataFrame(old)\n",
    "        lista.append(tempdf.shape[0])\n",
    "    return lista\n"
   ]
  },
  {
   "cell_type": "code",
   "execution_count": 27,
   "metadata": {},
   "outputs": [
    {
     "ename": "OperationFailure",
     "evalue": "error processing query: ns=DBcompanies_cb.geo_officesTree: GEONEAR  field=geo_point maxdist=20 isNearSphere=0\nSort: {}\nProj: {}\n planner returned error: unable to find index for $geoNear query",
     "output_type": "error",
     "traceback": [
      "\u001b[0;31m---------------------------------------------------------------------------\u001b[0m",
      "\u001b[0;31mOperationFailure\u001b[0m                          Traceback (most recent call last)",
      "\u001b[0;32m<ipython-input-27-2e355e2d94a6>\u001b[0m in \u001b[0;36m<module>\u001b[0;34m\u001b[0m\n\u001b[1;32m     15\u001b[0m     \u001b[0;32mreturn\u001b[0m \u001b[0mlst\u001b[0m\u001b[0;34m\u001b[0m\u001b[0;34m\u001b[0m\u001b[0m\n\u001b[1;32m     16\u001b[0m \u001b[0;34m\u001b[0m\u001b[0m\n\u001b[0;32m---> 17\u001b[0;31m \u001b[0mdata_comp\u001b[0m\u001b[0;34m[\u001b[0m\u001b[0;34m'Near'\u001b[0m\u001b[0;34m]\u001b[0m \u001b[0;34m=\u001b[0m \u001b[0mfindNear\u001b[0m\u001b[0;34m(\u001b[0m\u001b[0mdata_comp\u001b[0m\u001b[0;34m[\u001b[0m\u001b[0;34m'geopoint'\u001b[0m\u001b[0;34m]\u001b[0m\u001b[0;34m)\u001b[0m\u001b[0;34m\u001b[0m\u001b[0;34m\u001b[0m\u001b[0m\n\u001b[0m\u001b[1;32m     18\u001b[0m \u001b[0mlen\u001b[0m\u001b[0;34m(\u001b[0m\u001b[0mnear_offices\u001b[0m\u001b[0;34m)\u001b[0m\u001b[0;34m\u001b[0m\u001b[0;34m\u001b[0m\u001b[0m\n\u001b[1;32m     19\u001b[0m \u001b[0;34m\u001b[0m\u001b[0m\n",
      "\u001b[0;32m<ipython-input-27-2e355e2d94a6>\u001b[0m in \u001b[0;36mfindNear\u001b[0;34m(df, radio_max_meters)\u001b[0m\n\u001b[1;32m     11\u001b[0m                     }]})\n\u001b[1;32m     12\u001b[0m \u001b[0;34m\u001b[0m\u001b[0m\n\u001b[0;32m---> 13\u001b[0;31m         \u001b[0mdf2\u001b[0m \u001b[0;34m=\u001b[0m \u001b[0mpd\u001b[0m\u001b[0;34m.\u001b[0m\u001b[0mDataFrame\u001b[0m\u001b[0;34m(\u001b[0m\u001b[0mlocation\u001b[0m\u001b[0;34m)\u001b[0m\u001b[0;34m\u001b[0m\u001b[0;34m\u001b[0m\u001b[0m\n\u001b[0m\u001b[1;32m     14\u001b[0m         \u001b[0mlst\u001b[0m\u001b[0;34m.\u001b[0m\u001b[0mappend\u001b[0m\u001b[0;34m(\u001b[0m\u001b[0mlen\u001b[0m\u001b[0;34m(\u001b[0m\u001b[0mdf2\u001b[0m\u001b[0;34m)\u001b[0m\u001b[0;34m)\u001b[0m\u001b[0;34m\u001b[0m\u001b[0;34m\u001b[0m\u001b[0m\n\u001b[1;32m     15\u001b[0m     \u001b[0;32mreturn\u001b[0m \u001b[0mlst\u001b[0m\u001b[0;34m\u001b[0m\u001b[0;34m\u001b[0m\u001b[0m\n",
      "\u001b[0;32m~/Library/Python/3.7/lib/python/site-packages/pandas/core/frame.py\u001b[0m in \u001b[0;36m__init__\u001b[0;34m(self, data, index, columns, dtype, copy)\u001b[0m\n\u001b[1;32m    428\u001b[0m               and not isinstance(data, string_and_binary_types)):\n\u001b[1;32m    429\u001b[0m             \u001b[0;32mif\u001b[0m \u001b[0;32mnot\u001b[0m \u001b[0misinstance\u001b[0m\u001b[0;34m(\u001b[0m\u001b[0mdata\u001b[0m\u001b[0;34m,\u001b[0m \u001b[0mcompat\u001b[0m\u001b[0;34m.\u001b[0m\u001b[0mSequence\u001b[0m\u001b[0;34m)\u001b[0m\u001b[0;34m:\u001b[0m\u001b[0;34m\u001b[0m\u001b[0;34m\u001b[0m\u001b[0m\n\u001b[0;32m--> 430\u001b[0;31m                 \u001b[0mdata\u001b[0m \u001b[0;34m=\u001b[0m \u001b[0mlist\u001b[0m\u001b[0;34m(\u001b[0m\u001b[0mdata\u001b[0m\u001b[0;34m)\u001b[0m\u001b[0;34m\u001b[0m\u001b[0;34m\u001b[0m\u001b[0m\n\u001b[0m\u001b[1;32m    431\u001b[0m             \u001b[0;32mif\u001b[0m \u001b[0mlen\u001b[0m\u001b[0;34m(\u001b[0m\u001b[0mdata\u001b[0m\u001b[0;34m)\u001b[0m \u001b[0;34m>\u001b[0m \u001b[0;36m0\u001b[0m\u001b[0;34m:\u001b[0m\u001b[0;34m\u001b[0m\u001b[0;34m\u001b[0m\u001b[0m\n\u001b[1;32m    432\u001b[0m                 \u001b[0;32mif\u001b[0m \u001b[0mis_list_like\u001b[0m\u001b[0;34m(\u001b[0m\u001b[0mdata\u001b[0m\u001b[0;34m[\u001b[0m\u001b[0;36m0\u001b[0m\u001b[0;34m]\u001b[0m\u001b[0;34m)\u001b[0m \u001b[0;32mand\u001b[0m \u001b[0mgetattr\u001b[0m\u001b[0;34m(\u001b[0m\u001b[0mdata\u001b[0m\u001b[0;34m[\u001b[0m\u001b[0;36m0\u001b[0m\u001b[0;34m]\u001b[0m\u001b[0;34m,\u001b[0m \u001b[0;34m'ndim'\u001b[0m\u001b[0;34m,\u001b[0m \u001b[0;36m1\u001b[0m\u001b[0;34m)\u001b[0m \u001b[0;34m==\u001b[0m \u001b[0;36m1\u001b[0m\u001b[0;34m:\u001b[0m\u001b[0;34m\u001b[0m\u001b[0;34m\u001b[0m\u001b[0m\n",
      "\u001b[0;32m/usr/local/lib/python3.7/site-packages/pymongo/cursor.py\u001b[0m in \u001b[0;36mnext\u001b[0;34m(self)\u001b[0m\n\u001b[1;32m   1223\u001b[0m         \u001b[0;32mif\u001b[0m \u001b[0mself\u001b[0m\u001b[0;34m.\u001b[0m\u001b[0m__empty\u001b[0m\u001b[0;34m:\u001b[0m\u001b[0;34m\u001b[0m\u001b[0;34m\u001b[0m\u001b[0m\n\u001b[1;32m   1224\u001b[0m             \u001b[0;32mraise\u001b[0m \u001b[0mStopIteration\u001b[0m\u001b[0;34m\u001b[0m\u001b[0;34m\u001b[0m\u001b[0m\n\u001b[0;32m-> 1225\u001b[0;31m         \u001b[0;32mif\u001b[0m \u001b[0mlen\u001b[0m\u001b[0;34m(\u001b[0m\u001b[0mself\u001b[0m\u001b[0;34m.\u001b[0m\u001b[0m__data\u001b[0m\u001b[0;34m)\u001b[0m \u001b[0;32mor\u001b[0m \u001b[0mself\u001b[0m\u001b[0;34m.\u001b[0m\u001b[0m_refresh\u001b[0m\u001b[0;34m(\u001b[0m\u001b[0;34m)\u001b[0m\u001b[0;34m:\u001b[0m\u001b[0;34m\u001b[0m\u001b[0;34m\u001b[0m\u001b[0m\n\u001b[0m\u001b[1;32m   1226\u001b[0m             \u001b[0;32mif\u001b[0m \u001b[0mself\u001b[0m\u001b[0;34m.\u001b[0m\u001b[0m__manipulate\u001b[0m\u001b[0;34m:\u001b[0m\u001b[0;34m\u001b[0m\u001b[0;34m\u001b[0m\u001b[0m\n\u001b[1;32m   1227\u001b[0m                 \u001b[0m_db\u001b[0m \u001b[0;34m=\u001b[0m \u001b[0mself\u001b[0m\u001b[0;34m.\u001b[0m\u001b[0m__collection\u001b[0m\u001b[0;34m.\u001b[0m\u001b[0mdatabase\u001b[0m\u001b[0;34m\u001b[0m\u001b[0;34m\u001b[0m\u001b[0m\n",
      "\u001b[0;32m/usr/local/lib/python3.7/site-packages/pymongo/cursor.py\u001b[0m in \u001b[0;36m_refresh\u001b[0;34m(self)\u001b[0m\n\u001b[1;32m   1138\u001b[0m                                   \u001b[0mself\u001b[0m\u001b[0;34m.\u001b[0m\u001b[0m__session\u001b[0m\u001b[0;34m,\u001b[0m\u001b[0;34m\u001b[0m\u001b[0;34m\u001b[0m\u001b[0m\n\u001b[1;32m   1139\u001b[0m                                   self.__collection.database.client)\n\u001b[0;32m-> 1140\u001b[0;31m             \u001b[0mself\u001b[0m\u001b[0;34m.\u001b[0m\u001b[0m__send_message\u001b[0m\u001b[0;34m(\u001b[0m\u001b[0mq\u001b[0m\u001b[0;34m)\u001b[0m\u001b[0;34m\u001b[0m\u001b[0;34m\u001b[0m\u001b[0m\n\u001b[0m\u001b[1;32m   1141\u001b[0m         \u001b[0;32melif\u001b[0m \u001b[0mself\u001b[0m\u001b[0;34m.\u001b[0m\u001b[0m__id\u001b[0m\u001b[0;34m:\u001b[0m  \u001b[0;31m# Get More\u001b[0m\u001b[0;34m\u001b[0m\u001b[0;34m\u001b[0m\u001b[0m\n\u001b[1;32m   1142\u001b[0m             \u001b[0;32mif\u001b[0m \u001b[0mself\u001b[0m\u001b[0;34m.\u001b[0m\u001b[0m__limit\u001b[0m\u001b[0;34m:\u001b[0m\u001b[0;34m\u001b[0m\u001b[0;34m\u001b[0m\u001b[0m\n",
      "\u001b[0;32m/usr/local/lib/python3.7/site-packages/pymongo/cursor.py\u001b[0m in \u001b[0;36m__send_message\u001b[0;34m(self, operation)\u001b[0m\n\u001b[1;32m   1008\u001b[0m                 \u001b[0mfirst\u001b[0m \u001b[0;34m=\u001b[0m \u001b[0mdocs\u001b[0m\u001b[0;34m[\u001b[0m\u001b[0;36m0\u001b[0m\u001b[0;34m]\u001b[0m\u001b[0;34m\u001b[0m\u001b[0;34m\u001b[0m\u001b[0m\n\u001b[1;32m   1009\u001b[0m                 \u001b[0mclient\u001b[0m\u001b[0;34m.\u001b[0m\u001b[0m_receive_cluster_time\u001b[0m\u001b[0;34m(\u001b[0m\u001b[0mfirst\u001b[0m\u001b[0;34m,\u001b[0m \u001b[0mself\u001b[0m\u001b[0;34m.\u001b[0m\u001b[0m__session\u001b[0m\u001b[0;34m)\u001b[0m\u001b[0;34m\u001b[0m\u001b[0;34m\u001b[0m\u001b[0m\n\u001b[0;32m-> 1010\u001b[0;31m                 \u001b[0mhelpers\u001b[0m\u001b[0;34m.\u001b[0m\u001b[0m_check_command_response\u001b[0m\u001b[0;34m(\u001b[0m\u001b[0mfirst\u001b[0m\u001b[0;34m)\u001b[0m\u001b[0;34m\u001b[0m\u001b[0;34m\u001b[0m\u001b[0m\n\u001b[0m\u001b[1;32m   1011\u001b[0m         \u001b[0;32mexcept\u001b[0m \u001b[0mOperationFailure\u001b[0m \u001b[0;32mas\u001b[0m \u001b[0mexc\u001b[0m\u001b[0;34m:\u001b[0m\u001b[0;34m\u001b[0m\u001b[0;34m\u001b[0m\u001b[0m\n\u001b[1;32m   1012\u001b[0m             \u001b[0mself\u001b[0m\u001b[0;34m.\u001b[0m\u001b[0m__killed\u001b[0m \u001b[0;34m=\u001b[0m \u001b[0;32mTrue\u001b[0m\u001b[0;34m\u001b[0m\u001b[0;34m\u001b[0m\u001b[0m\n",
      "\u001b[0;32m/usr/local/lib/python3.7/site-packages/pymongo/helpers.py\u001b[0m in \u001b[0;36m_check_command_response\u001b[0;34m(response, msg, allowable_errors, parse_write_concern_error)\u001b[0m\n\u001b[1;32m    153\u001b[0m \u001b[0;34m\u001b[0m\u001b[0m\n\u001b[1;32m    154\u001b[0m             \u001b[0mmsg\u001b[0m \u001b[0;34m=\u001b[0m \u001b[0mmsg\u001b[0m \u001b[0;32mor\u001b[0m \u001b[0;34m\"%s\"\u001b[0m\u001b[0;34m\u001b[0m\u001b[0;34m\u001b[0m\u001b[0m\n\u001b[0;32m--> 155\u001b[0;31m             \u001b[0;32mraise\u001b[0m \u001b[0mOperationFailure\u001b[0m\u001b[0;34m(\u001b[0m\u001b[0mmsg\u001b[0m \u001b[0;34m%\u001b[0m \u001b[0merrmsg\u001b[0m\u001b[0;34m,\u001b[0m \u001b[0mcode\u001b[0m\u001b[0;34m,\u001b[0m \u001b[0mresponse\u001b[0m\u001b[0;34m)\u001b[0m\u001b[0;34m\u001b[0m\u001b[0;34m\u001b[0m\u001b[0m\n\u001b[0m\u001b[1;32m    156\u001b[0m \u001b[0;34m\u001b[0m\u001b[0m\n\u001b[1;32m    157\u001b[0m \u001b[0;34m\u001b[0m\u001b[0m\n",
      "\u001b[0;31mOperationFailure\u001b[0m: error processing query: ns=DBcompanies_cb.geo_officesTree: GEONEAR  field=geo_point maxdist=20 isNearSphere=0\nSort: {}\nProj: {}\n planner returned error: unable to find index for $geoNear query"
     ]
    }
   ],
   "source": [
    "def findNear(df, radio_max_meters = 20):\n",
    "    lst =[]\n",
    "    for i in range(len(df)):\n",
    "        location = db.data_companies_clean.find({'main_office':{\n",
    "                                                 '$near': {\n",
    "                                                 '$geometry': df[i],\n",
    "                                                 '$maxDistance': radio_max_meters,\n",
    "                                                 }\n",
    "                                                }\n",
    "                                                })\n",
    "        \n",
    "        df2 = pd.DataFrame(location)\n",
    "        lst.append(len(df2))    \n",
    "    return lst\n",
    "\n",
    "near_offices = findNear(data_comp['main_office'])\n",
    "len(near_offices)"
   ]
  },
  {
   "cell_type": "code",
   "execution_count": null,
   "metadata": {},
   "outputs": [],
   "source": [
    "data_comp['Near offices'] = pd.DataFrame(near_offices)"
   ]
  },
  {
   "cell_type": "code",
   "execution_count": null,
   "metadata": {},
   "outputs": [],
   "source": [
    "data_comp.head()"
   ]
  },
  {
   "cell_type": "code",
   "execution_count": null,
   "metadata": {},
   "outputs": [],
   "source": [
    "base_map = folium.Map(zoom_start=15)"
   ]
  },
  {
   "cell_type": "code",
   "execution_count": null,
   "metadata": {},
   "outputs": [],
   "source": [
    "a = list(zip(data_comp['lat'], data_comp['lng']))\n",
    "for i in a:\n",
    "    b = folium.Marker(location=[i[0],i[1]]).add_to(base_map) \n",
    "    \n",
    "base_map"
   ]
  },
  {
   "cell_type": "code",
   "execution_count": null,
   "metadata": {},
   "outputs": [],
   "source": [
    "from folium.plugins import FastMarkerCluster\n",
    "base_map_two = folium.Map(zoom_start=15)\n",
    "\n",
    "FastMarkerCluster(data=list(zip(data_comp['lat'].values, data_comp['lng'].values))).add_to(base_map_two)\n",
    "base_map_two\n",
    "\n"
   ]
  },
  {
   "cell_type": "code",
   "execution_count": null,
   "metadata": {},
   "outputs": [],
   "source": []
  },
  {
   "cell_type": "code",
   "execution_count": null,
   "metadata": {},
   "outputs": [],
   "source": [
    "import json\n",
    "import requests\n",
    "from dotenv import load_dotenv\n",
    "import os"
   ]
  },
  {
   "cell_type": "code",
   "execution_count": null,
   "metadata": {},
   "outputs": [],
   "source": [
    "load_dotenv()\n",
    "if not \"KEYG\" in os.environ:\n",
    "    raise ValueError(\"You should pass a Google Key\")\n",
    "    \n",
    "google_key = os.environ[\"KEYG\"]"
   ]
  },
  {
   "cell_type": "code",
   "execution_count": null,
   "metadata": {},
   "outputs": [],
   "source": [
    "BASE_URL = 'https://maps.googleapis.com/maps/api/place/nearbysearch'\n",
    "res = requests.get(\"{}/json?location=34.017606,-118.487267&radius=1500&type=school&key={}\".format(BASE_URL, google_key))\n",
    "\n",
    "\n",
    "\n"
   ]
  },
  {
   "cell_type": "code",
   "execution_count": null,
   "metadata": {},
   "outputs": [],
   "source": [
    "locat = []\n",
    "for i in a:\n",
    "    locat.append(i)\n",
    "\n"
   ]
  },
  {
   "cell_type": "code",
   "execution_count": null,
   "metadata": {},
   "outputs": [],
   "source": [
    "asd = []\n",
    "for i in locat:\n",
    "    asd.append(requests.get(\"{}/json?location={},{}&radius=1500&type=school&key={}\".format(BASE_URL, i[0], i[1], google_key)))\n",
    "                 \n"
   ]
  },
  {
   "cell_type": "code",
   "execution_count": null,
   "metadata": {},
   "outputs": [],
   "source": [
    "asd_jsons = []\n",
    "for i in asd:\n",
    "    asd_jsons.append(i.json())\n"
   ]
  },
  {
   "cell_type": "code",
   "execution_count": null,
   "metadata": {},
   "outputs": [],
   "source": []
  },
  {
   "cell_type": "code",
   "execution_count": null,
   "metadata": {},
   "outputs": [],
   "source": [
    "#https://maps.googleapis.com/maps/api/place/nearbysearch/json?location=-33.8670522,151.1957362&radius=1500&type=restaurant&keyword=cruise&key=YOUR_API_KEY"
   ]
  },
  {
   "cell_type": "code",
   "execution_count": null,
   "metadata": {},
   "outputs": [],
   "source": []
  },
  {
   "cell_type": "code",
   "execution_count": null,
   "metadata": {},
   "outputs": [],
   "source": []
  },
  {
   "cell_type": "code",
   "execution_count": null,
   "metadata": {},
   "outputs": [],
   "source": []
  },
  {
   "cell_type": "code",
   "execution_count": null,
   "metadata": {},
   "outputs": [],
   "source": [
    "BASE_URL = 'https://maps.googleapis.com/maps/api/place/nearbysearch/json?location='\n"
   ]
  },
  {
   "cell_type": "code",
   "execution_count": null,
   "metadata": {},
   "outputs": [],
   "source": [
    "res = requests.get('{}-33.8670522,151.1957362&radius=1500&type=restaurant&keyword=cruise&key={}'.format(BASE_URL, google_key)\n"
   ]
  },
  {
   "cell_type": "code",
   "execution_count": null,
   "metadata": {},
   "outputs": [],
   "source": [
    "BASE_URL = “https://maps.googleapis.com/maps/api/place/nearbysearch”"
   ]
  },
  {
   "cell_type": "code",
   "execution_count": null,
   "metadata": {},
   "outputs": [],
   "source": []
  }
 ],
 "metadata": {
  "kernelspec": {
   "display_name": "Python 3",
   "language": "python",
   "name": "python3"
  },
  "language_info": {
   "codemirror_mode": {
    "name": "ipython",
    "version": 3
   },
   "file_extension": ".py",
   "mimetype": "text/x-python",
   "name": "python",
   "nbconvert_exporter": "python",
   "pygments_lexer": "ipython3",
   "version": "3.7.2"
  }
 },
 "nbformat": 4,
 "nbformat_minor": 2
}
