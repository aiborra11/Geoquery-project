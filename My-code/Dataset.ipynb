{
 "cells": [
  {
   "cell_type": "code",
   "execution_count": 1,
   "metadata": {},
   "outputs": [],
   "source": [
    "from pymongo import MongoClient\n",
    "import pandas as pd\n",
    "import pymongo\n",
    "from pandas.io.json import json_normalize\n",
    "import re\n",
    "import numpy as np\n",
    "import requests\n"
   ]
  },
  {
   "cell_type": "markdown",
   "metadata": {},
   "source": [
    "First query using mongo"
   ]
  },
  {
   "cell_type": "markdown",
   "metadata": {},
   "source": [
    "<img src=\"../images/mongoquery.png\">"
   ]
  },
  {
   "cell_type": "code",
   "execution_count": 2,
   "metadata": {},
   "outputs": [],
   "source": [
    "#Connecting the database with the queried data (companies_cb)\n",
    "\n",
    "def mongo_connect(host):             #mongodb://localhost:27017/\n",
    "    client = MongoClient(host)\n",
    "    db = client.DBcompanies_cb\n",
    "    data = db.companies_cb\n",
    "    return data\n"
   ]
  },
  {
   "cell_type": "code",
   "execution_count": 3,
   "metadata": {},
   "outputs": [],
   "source": [
    "data = mongo_connect('mongodb://localhost:27017/')"
   ]
  },
  {
   "cell_type": "code",
   "execution_count": 4,
   "metadata": {},
   "outputs": [],
   "source": [
    "#Query to receive all the required data for my analysis. (I know we should query everything at the same place (pymongo or mongodb compass), but was interested in trying both to learn.).\n",
    "\n",
    "def mongo_query(data, min_employee, max_employee):\n",
    "    one_office =  data.find({'$and': [\n",
    "        {'offices': {'$exists': True}},\n",
    "        {'offices': {'$ne': None}},\n",
    "        #     {'number_of_employees':{'$exists':True}}\n",
    "        {'number_of_employees': {'$gte': min_employee}},        #10\n",
    "        {'number_of_employees': {'$lte': max_employee}},        #51\n",
    "        {'offices.latitude': {'$ne': None}},\n",
    "        {'offices.longitude': {'$ne': None}},\n",
    "        {'offices.latitude': {'$exists': True}},\n",
    "        {'offices.longitude': {'$exists': True}}\n",
    "\n",
    "    ]})\n",
    "\n",
    "    return pd.DataFrame(one_office)\n"
   ]
  },
  {
   "cell_type": "code",
   "execution_count": 5,
   "metadata": {},
   "outputs": [],
   "source": [
    "one_office = mongo_query(data, 10, 51)"
   ]
  },
  {
   "cell_type": "code",
   "execution_count": 6,
   "metadata": {},
   "outputs": [],
   "source": [
    "#Merge deadpool related columns into 1 and fill blanks with NaN values.\n",
    "def deadpooled_finder(df):\n",
    "    df['deadpooled'] = df[df.columns[10:13]].apply(lambda x: ','.join(x.dropna().astype(str)),\n",
    "                                                                           axis=1).replace(r'^\\s*$', np.nan, regex=True)\n",
    "    return df['deadpooled']\n"
   ]
  },
  {
   "cell_type": "code",
   "execution_count": 7,
   "metadata": {},
   "outputs": [],
   "source": [
    "one_office['deadpooled'] = deadpooled_finder(one_office)"
   ]
  },
  {
   "cell_type": "code",
   "execution_count": 8,
   "metadata": {},
   "outputs": [],
   "source": [
    "#Select alive companies. If they have 'deadpoled' data I understand they are dead. \n",
    "def alives_finder(df):\n",
    "    return df[pd.isnull(df['deadpooled'])]\n"
   ]
  },
  {
   "cell_type": "code",
   "execution_count": 9,
   "metadata": {},
   "outputs": [],
   "source": [
    "one_office = alives_finder(one_office)"
   ]
  },
  {
   "cell_type": "code",
   "execution_count": 10,
   "metadata": {},
   "outputs": [],
   "source": [
    "def columns_drop(df, col):\n",
    "    return df[[x for x in df.columns if x != col]]"
   ]
  },
  {
   "cell_type": "markdown",
   "metadata": {},
   "source": [
    "# Beaware when pipelines\n"
   ]
  },
  {
   "cell_type": "code",
   "execution_count": 11,
   "metadata": {},
   "outputs": [
    {
     "data": {
      "text/plain": [
       "Index(['_id', 'acquisition', 'acquisitions', 'alias_list', 'blog_feed_url',\n",
       "       'blog_url', 'category_code', 'competitions', 'created_at',\n",
       "       'crunchbase_url', 'deadpooled_day', 'deadpooled_month',\n",
       "       'deadpooled_url', 'deadpooled_year', 'description', 'email_address',\n",
       "       'external_links', 'founded_day', 'founded_month', 'founded_year',\n",
       "       'funding_rounds', 'homepage_url', 'image', 'investments', 'ipo',\n",
       "       'milestones', 'name', 'number_of_employees', 'offices', 'overview',\n",
       "       'partners', 'permalink', 'phone_number', 'products', 'providerships',\n",
       "       'relationships', 'screenshots', 'tag_list', 'total_money_raised',\n",
       "       'twitter_username', 'updated_at', 'video_embeds', 'deadpooled'],\n",
       "      dtype='object')"
      ]
     },
     "execution_count": 11,
     "metadata": {},
     "output_type": "execute_result"
    }
   ],
   "source": [
    "one_office.columns"
   ]
  },
  {
   "cell_type": "code",
   "execution_count": 12,
   "metadata": {},
   "outputs": [],
   "source": [
    "def relevant_columns(df):\n",
    "        return pd.DataFrame(df[['name', 'category_code', 'number_of_employees', 'offices','total_money_raised']])\n",
    "\n",
    "    \n"
   ]
  },
  {
   "cell_type": "code",
   "execution_count": 13,
   "metadata": {},
   "outputs": [],
   "source": [
    "# data = pd.DataFrame(one_office[['name', 'category_code', 'founded_year', 'number_of_employees', 'offices','total_money_raised', 'deadpooled']])\n",
    "data = relevant_columns(one_office)\n"
   ]
  },
  {
   "cell_type": "code",
   "execution_count": 14,
   "metadata": {},
   "outputs": [],
   "source": [
    "#Dropping columns we no longer need.\n",
    "\n",
    "# data = columns_drop(data, 'deadpooled')\n",
    "# data = columns_drop(data, 'founded_year')\n"
   ]
  },
  {
   "cell_type": "code",
   "execution_count": 15,
   "metadata": {},
   "outputs": [],
   "source": [
    "#Finding out the different types of currencies we can find along the dataset.\n",
    "\n",
    "currencies_types=[]\n",
    "for i in data['total_money_raised']:\n",
    "    if i[0:2] not in currencies_types:\n",
    "        currencies_types.append(i[0:2])\n",
    "\n"
   ]
  },
  {
   "cell_type": "code",
   "execution_count": 16,
   "metadata": {},
   "outputs": [],
   "source": [
    "#Converting symbols into string values for future uses.\n",
    "def currency_converter(df):\n",
    "    currency_type = {'C$': 'CAD',\n",
    "                '$': 'USD',\n",
    "                '€': 'EUR',\n",
    "                '£': 'GBP',\n",
    "                '¥': 'JPY',\n",
    "                'kr': 'SEK'}\n",
    "    for symb, name in currency_type.items():\n",
    "        if symb in df:\n",
    "#             a = df.replace(symb,'')\n",
    "            return name\n",
    "\n",
    "data['currency'] = data['total_money_raised'].apply(currency_converter)\n",
    "\n"
   ]
  },
  {
   "cell_type": "code",
   "execution_count": 17,
   "metadata": {},
   "outputs": [],
   "source": [
    "#Deleting currency symbols.\n",
    "\n",
    "def symbol_deleter(df):\n",
    "    currency_type = {'C$': 'CAD',\n",
    "                '$': 'USD',\n",
    "                '€': 'EUR',\n",
    "                '£': 'GBP',\n",
    "                '¥': 'JPY',\n",
    "                'kr': 'SEK'}\n",
    "    for symb, name in currency_type.items():\n",
    "        if symb in df:\n",
    "            return df.replace(symb, \"\")\n",
    "\n",
    "data['total_money_raised'] = data['total_money_raised'].apply(symbol_deleter)"
   ]
  },
  {
   "cell_type": "code",
   "execution_count": 18,
   "metadata": {},
   "outputs": [],
   "source": [
    "#Converting \"total_money_raised\" into integers.\n",
    "def money_converter(df):\n",
    "    amount_type = dict(k='E3', M='E6', B='E9')\n",
    "    return pd.to_numeric(df.replace(amount_type, regex=True)).astype(float)\n",
    "    \n"
   ]
  },
  {
   "cell_type": "code",
   "execution_count": 19,
   "metadata": {},
   "outputs": [],
   "source": [
    "data['amount_raised'] = money_converter(data['total_money_raised'])"
   ]
  },
  {
   "cell_type": "code",
   "execution_count": 20,
   "metadata": {},
   "outputs": [],
   "source": [
    "#Create a dictionary with the needed exchange rates using an API to obtain real data.\n",
    "def api_rates(url):\n",
    "    response = requests.get(url)\n",
    "    api_data = response.json()\n",
    "    api_dataframe = pd.DataFrame(json_normalize(api_data))\n",
    "    api_dict = {\n",
    "            'CAD':api_dataframe['rates.CAD'][0],\n",
    "            'EUR':api_dataframe['rates.EUR'][0],\n",
    "            'GBP':api_dataframe['rates.GBP'][0],\n",
    "            'JPY':api_dataframe['rates.JPY'][0],\n",
    "            'SEK':api_dataframe['rates.SEK'][0],\n",
    "            'USD':1\n",
    "            }\n",
    "    return api_dict"
   ]
  },
  {
   "cell_type": "code",
   "execution_count": 21,
   "metadata": {},
   "outputs": [],
   "source": [
    "api_dict = api_rates('https://api.exchangerate-api.com/v4/latest/USD')"
   ]
  },
  {
   "cell_type": "code",
   "execution_count": 22,
   "metadata": {},
   "outputs": [],
   "source": [
    "#Set the currency valuation for every company.\n",
    "\n",
    "def currency_rate(df):\n",
    "    return pd.to_numeric(df.replace(api_dict, regex=True))\n",
    "\n",
    "data['currency'] = currency_rate(data['currency'])"
   ]
  },
  {
   "cell_type": "code",
   "execution_count": 23,
   "metadata": {},
   "outputs": [],
   "source": [
    "#Standarize all valuations into one currency ($) and convert them into millions.\n",
    "\n",
    "def normalizator(df):\n",
    "    return ((df['amount_raised']/df['currency'])/1000).round(2)\n",
    "\n",
    "data['amount_raised_k$'] = normalizator(data)"
   ]
  },
  {
   "cell_type": "code",
   "execution_count": 24,
   "metadata": {},
   "outputs": [],
   "source": [
    "#Dropping more columns\n",
    "\n",
    "data = columns_drop(data, 'total_money_raised')\n",
    "data = columns_drop(data, 'currency')\n",
    "data = columns_drop(data, 'amount_raised')"
   ]
  },
  {
   "cell_type": "code",
   "execution_count": 25,
   "metadata": {},
   "outputs": [],
   "source": [
    "#There are some companies which have >1 offices. Separate them into different rows. \n",
    "\n",
    "def office_splitter(df):\n",
    "    office_split = pd.DataFrame(df['offices'].tolist()).stack().reset_index(level=1, drop=True).rename('office')\n",
    "    return df.merge(office_split, left_index=True, right_index=True).reset_index()\n",
    "office_merged = office_splitter(data)"
   ]
  },
  {
   "cell_type": "code",
   "execution_count": 26,
   "metadata": {},
   "outputs": [],
   "source": [
    "#Dropping column offices since now we have it splitted into different rows already.\n",
    "\n",
    "office_merged = columns_drop(office_merged, 'offices')"
   ]
  },
  {
   "cell_type": "code",
   "execution_count": 27,
   "metadata": {},
   "outputs": [
    {
     "data": {
      "text/plain": [
       "100"
      ]
     },
     "execution_count": 27,
     "metadata": {},
     "output_type": "execute_result"
    }
   ],
   "source": [
    "#Check if there are duplicated values into the 'office' column\n",
    "\n",
    "find_duplicated = json_normalize(office_merged['office'])\n",
    "find_duplicated.duplicated().sum()\n"
   ]
  },
  {
   "cell_type": "code",
   "execution_count": 28,
   "metadata": {},
   "outputs": [
    {
     "data": {
      "text/html": [
       "<div>\n",
       "<style scoped>\n",
       "    .dataframe tbody tr th:only-of-type {\n",
       "        vertical-align: middle;\n",
       "    }\n",
       "\n",
       "    .dataframe tbody tr th {\n",
       "        vertical-align: top;\n",
       "    }\n",
       "\n",
       "    .dataframe thead th {\n",
       "        text-align: right;\n",
       "    }\n",
       "</style>\n",
       "<table border=\"1\" class=\"dataframe\">\n",
       "  <thead>\n",
       "    <tr style=\"text-align: right;\">\n",
       "      <th></th>\n",
       "      <th>index</th>\n",
       "      <th>name</th>\n",
       "      <th>category_code</th>\n",
       "      <th>number_of_employees</th>\n",
       "      <th>amount_raised_k$</th>\n",
       "      <th>office</th>\n",
       "    </tr>\n",
       "  </thead>\n",
       "  <tbody>\n",
       "    <tr>\n",
       "      <th>0</th>\n",
       "      <td>0</td>\n",
       "      <td>Wetpaint</td>\n",
       "      <td>web</td>\n",
       "      <td>47</td>\n",
       "      <td>39800.0</td>\n",
       "      <td>{'description': '', 'address1': '710 - 2nd Ave...</td>\n",
       "    </tr>\n",
       "    <tr>\n",
       "      <th>1</th>\n",
       "      <td>0</td>\n",
       "      <td>Wetpaint</td>\n",
       "      <td>web</td>\n",
       "      <td>47</td>\n",
       "      <td>39800.0</td>\n",
       "      <td>{'description': '', 'address1': '270 Lafayette...</td>\n",
       "    </tr>\n",
       "    <tr>\n",
       "      <th>2</th>\n",
       "      <td>1</td>\n",
       "      <td>Geni</td>\n",
       "      <td>web</td>\n",
       "      <td>18</td>\n",
       "      <td>16500.0</td>\n",
       "      <td>{'description': 'Headquarters', 'address1': '9...</td>\n",
       "    </tr>\n",
       "    <tr>\n",
       "      <th>3</th>\n",
       "      <td>2</td>\n",
       "      <td>Scribd</td>\n",
       "      <td>news</td>\n",
       "      <td>50</td>\n",
       "      <td>25800.0</td>\n",
       "      <td>{'description': 'HQ', 'address1': '539 Bryant ...</td>\n",
       "    </tr>\n",
       "    <tr>\n",
       "      <th>4</th>\n",
       "      <td>3</td>\n",
       "      <td>MeetMoi</td>\n",
       "      <td>social</td>\n",
       "      <td>15</td>\n",
       "      <td>5580.0</td>\n",
       "      <td>{'description': None, 'address1': '', 'address...</td>\n",
       "    </tr>\n",
       "  </tbody>\n",
       "</table>\n",
       "</div>"
      ],
      "text/plain": [
       "   index      name category_code  number_of_employees  amount_raised_k$  \\\n",
       "0      0  Wetpaint           web                   47           39800.0   \n",
       "1      0  Wetpaint           web                   47           39800.0   \n",
       "2      1      Geni           web                   18           16500.0   \n",
       "3      2    Scribd          news                   50           25800.0   \n",
       "4      3   MeetMoi        social                   15            5580.0   \n",
       "\n",
       "                                              office  \n",
       "0  {'description': '', 'address1': '710 - 2nd Ave...  \n",
       "1  {'description': '', 'address1': '270 Lafayette...  \n",
       "2  {'description': 'Headquarters', 'address1': '9...  \n",
       "3  {'description': 'HQ', 'address1': '539 Bryant ...  \n",
       "4  {'description': None, 'address1': '', 'address...  "
      ]
     },
     "execution_count": 28,
     "metadata": {},
     "output_type": "execute_result"
    }
   ],
   "source": [
    "office_merged.head()"
   ]
  },
  {
   "cell_type": "code",
   "execution_count": 29,
   "metadata": {},
   "outputs": [],
   "source": [
    "# Deleting duplicates\n",
    "\n",
    "def duplicates_remover(df):\n",
    "    df['duplicates'] = df['office'].astype(str)\n",
    "    return df.drop_duplicates('duplicates', keep = 'first')\n",
    "\n",
    "office_merged = duplicates_remover(office_merged)\n",
    "office_merged = columns_drop(office_merged, 'duplicates')\n",
    "\n"
   ]
  },
  {
   "cell_type": "code",
   "execution_count": 30,
   "metadata": {},
   "outputs": [
    {
     "data": {
      "text/plain": [
       "0"
      ]
     },
     "execution_count": 30,
     "metadata": {},
     "output_type": "execute_result"
    }
   ],
   "source": [
    "find_duplicated1 = json_normalize(office_merged['office'])\n",
    "find_duplicated1.duplicated().sum()\n"
   ]
  },
  {
   "cell_type": "code",
   "execution_count": 31,
   "metadata": {},
   "outputs": [],
   "source": [
    "#I assume companies who have raised more money will pay higher income to their employees. But do not forget the number of employees is important.\n",
    "def wealthy(df):\n",
    "    wealth = pd.DataFrame((np.log(df['amount_raised_k$']).astype(str).replace('-inf','1').astype(float)*df['number_of_employees']))\n",
    "    divisor = wealth.max()\n",
    "    return wealth/divisor\n"
   ]
  },
  {
   "cell_type": "code",
   "execution_count": 32,
   "metadata": {},
   "outputs": [
    {
     "name": "stderr",
     "output_type": "stream",
     "text": [
      "/usr/local/Cellar/ipython/7.3.0/libexec/vendor/lib/python3.7/site-packages/ipykernel_launcher.py:3: RuntimeWarning: divide by zero encountered in log\n",
      "  This is separate from the ipykernel package so we can avoid doing imports until\n"
     ]
    }
   ],
   "source": [
    "office_merged['wealth'] = wealthy(office_merged)"
   ]
  },
  {
   "cell_type": "code",
   "execution_count": 33,
   "metadata": {},
   "outputs": [
    {
     "data": {
      "text/html": [
       "<div>\n",
       "<style scoped>\n",
       "    .dataframe tbody tr th:only-of-type {\n",
       "        vertical-align: middle;\n",
       "    }\n",
       "\n",
       "    .dataframe tbody tr th {\n",
       "        vertical-align: top;\n",
       "    }\n",
       "\n",
       "    .dataframe thead th {\n",
       "        text-align: right;\n",
       "    }\n",
       "</style>\n",
       "<table border=\"1\" class=\"dataframe\">\n",
       "  <thead>\n",
       "    <tr style=\"text-align: right;\">\n",
       "      <th></th>\n",
       "      <th>index</th>\n",
       "      <th>name</th>\n",
       "      <th>category_code</th>\n",
       "      <th>number_of_employees</th>\n",
       "      <th>amount_raised_k$</th>\n",
       "      <th>office</th>\n",
       "      <th>wealth</th>\n",
       "    </tr>\n",
       "  </thead>\n",
       "  <tbody>\n",
       "    <tr>\n",
       "      <th>1226</th>\n",
       "      <td>1209</td>\n",
       "      <td>Green Apple Media</td>\n",
       "      <td>web</td>\n",
       "      <td>50</td>\n",
       "      <td>132000.0</td>\n",
       "      <td>{'description': 'Emporis GmbH', 'address1': 'A...</td>\n",
       "      <td>1.000000</td>\n",
       "    </tr>\n",
       "    <tr>\n",
       "      <th>237</th>\n",
       "      <td>259</td>\n",
       "      <td>CLEAR</td>\n",
       "      <td>travel</td>\n",
       "      <td>50</td>\n",
       "      <td>116000.0</td>\n",
       "      <td>{'description': None, 'address1': 'PO Box 4831...</td>\n",
       "      <td>0.989041</td>\n",
       "    </tr>\n",
       "    <tr>\n",
       "      <th>1230</th>\n",
       "      <td>1213</td>\n",
       "      <td>CouponCabin</td>\n",
       "      <td>web</td>\n",
       "      <td>50</td>\n",
       "      <td>54000.0</td>\n",
       "      <td>{'description': 'HQ', 'address1': '80 Airport ...</td>\n",
       "      <td>0.924192</td>\n",
       "    </tr>\n",
       "    <tr>\n",
       "      <th>380</th>\n",
       "      <td>405</td>\n",
       "      <td>Aster Data Systems</td>\n",
       "      <td>analytics</td>\n",
       "      <td>50</td>\n",
       "      <td>53000.0</td>\n",
       "      <td>{'description': None, 'address1': '1021 E. 7th...</td>\n",
       "      <td>0.922607</td>\n",
       "    </tr>\n",
       "    <tr>\n",
       "      <th>1260</th>\n",
       "      <td>1240</td>\n",
       "      <td>Mantara</td>\n",
       "      <td>software</td>\n",
       "      <td>50</td>\n",
       "      <td>50600.0</td>\n",
       "      <td>{'description': 'ClerkDogs', 'address1': '', '...</td>\n",
       "      <td>0.918676</td>\n",
       "    </tr>\n",
       "    <tr>\n",
       "      <th>28</th>\n",
       "      <td>32</td>\n",
       "      <td>Socialtext</td>\n",
       "      <td>enterprise</td>\n",
       "      <td>50</td>\n",
       "      <td>46800.0</td>\n",
       "      <td>{'description': 'Corporate Headquarters', 'add...</td>\n",
       "      <td>0.912055</td>\n",
       "    </tr>\n",
       "    <tr>\n",
       "      <th>977</th>\n",
       "      <td>983</td>\n",
       "      <td>Movidius</td>\n",
       "      <td>semiconductor</td>\n",
       "      <td>50</td>\n",
       "      <td>46500.0</td>\n",
       "      <td>{'description': 'Headquarters', 'address1': '1...</td>\n",
       "      <td>0.911510</td>\n",
       "    </tr>\n",
       "    <tr>\n",
       "      <th>26</th>\n",
       "      <td>30</td>\n",
       "      <td>ooma</td>\n",
       "      <td>hardware</td>\n",
       "      <td>47</td>\n",
       "      <td>81300.0</td>\n",
       "      <td>{'description': None, 'address1': '855 Oak Gro...</td>\n",
       "      <td>0.901361</td>\n",
       "    </tr>\n",
       "    <tr>\n",
       "      <th>1164</th>\n",
       "      <td>1149</td>\n",
       "      <td>Apprenda</td>\n",
       "      <td>enterprise</td>\n",
       "      <td>51</td>\n",
       "      <td>31000.0</td>\n",
       "      <td>{'description': 'Headquarters', 'address1': '3...</td>\n",
       "      <td>0.894663</td>\n",
       "    </tr>\n",
       "    <tr>\n",
       "      <th>1165</th>\n",
       "      <td>1149</td>\n",
       "      <td>Apprenda</td>\n",
       "      <td>enterprise</td>\n",
       "      <td>51</td>\n",
       "      <td>31000.0</td>\n",
       "      <td>{'description': 'Regional Office', 'address1':...</td>\n",
       "      <td>0.894663</td>\n",
       "    </tr>\n",
       "  </tbody>\n",
       "</table>\n",
       "</div>"
      ],
      "text/plain": [
       "      index                name  category_code  number_of_employees  \\\n",
       "1226   1209   Green Apple Media            web                   50   \n",
       "237     259               CLEAR         travel                   50   \n",
       "1230   1213         CouponCabin            web                   50   \n",
       "380     405  Aster Data Systems      analytics                   50   \n",
       "1260   1240             Mantara       software                   50   \n",
       "28       32          Socialtext     enterprise                   50   \n",
       "977     983            Movidius  semiconductor                   50   \n",
       "26       30                ooma       hardware                   47   \n",
       "1164   1149            Apprenda     enterprise                   51   \n",
       "1165   1149            Apprenda     enterprise                   51   \n",
       "\n",
       "      amount_raised_k$                                             office  \\\n",
       "1226          132000.0  {'description': 'Emporis GmbH', 'address1': 'A...   \n",
       "237           116000.0  {'description': None, 'address1': 'PO Box 4831...   \n",
       "1230           54000.0  {'description': 'HQ', 'address1': '80 Airport ...   \n",
       "380            53000.0  {'description': None, 'address1': '1021 E. 7th...   \n",
       "1260           50600.0  {'description': 'ClerkDogs', 'address1': '', '...   \n",
       "28             46800.0  {'description': 'Corporate Headquarters', 'add...   \n",
       "977            46500.0  {'description': 'Headquarters', 'address1': '1...   \n",
       "26             81300.0  {'description': None, 'address1': '855 Oak Gro...   \n",
       "1164           31000.0  {'description': 'Headquarters', 'address1': '3...   \n",
       "1165           31000.0  {'description': 'Regional Office', 'address1':...   \n",
       "\n",
       "        wealth  \n",
       "1226  1.000000  \n",
       "237   0.989041  \n",
       "1230  0.924192  \n",
       "380   0.922607  \n",
       "1260  0.918676  \n",
       "28    0.912055  \n",
       "977   0.911510  \n",
       "26    0.901361  \n",
       "1164  0.894663  \n",
       "1165  0.894663  "
      ]
     },
     "execution_count": 33,
     "metadata": {},
     "output_type": "execute_result"
    }
   ],
   "source": [
    "office_merged.sort_values('wealth', ascending = False).head(10)"
   ]
  },
  {
   "cell_type": "code",
   "execution_count": 34,
   "metadata": {},
   "outputs": [
    {
     "data": {
      "text/plain": [
       "software            396\n",
       "web                 299\n",
       "advertising         144\n",
       "other               105\n",
       "mobile              104\n",
       "enterprise           93\n",
       "consulting           90\n",
       "games_video          87\n",
       "ecommerce            76\n",
       "public_relations     66\n",
       "network_hosting      59\n",
       "search               57\n",
       "hardware             40\n",
       "analytics            17\n",
       "security             11\n",
       "biotech              10\n",
       "social                8\n",
       "messaging             8\n",
       "education             7\n",
       "music                 6\n",
       "finance               6\n",
       "news                  6\n",
       "cleantech             6\n",
       "real_estate           5\n",
       "health                3\n",
       "travel                3\n",
       "photo_video           2\n",
       "sports                2\n",
       "medical               1\n",
       "fashion               1\n",
       "nanotech              1\n",
       "semiconductor         1\n",
       "dtype: int64"
      ]
     },
     "execution_count": 34,
     "metadata": {},
     "output_type": "execute_result"
    }
   ],
   "source": [
    "#Analysing data. Which kind of companies do we have:\n",
    "\n",
    "a = pd.get_dummies(office_merged['category_code'])\n",
    "a.sum().sort_values(ascending = False)"
   ]
  },
  {
   "cell_type": "code",
   "execution_count": 35,
   "metadata": {},
   "outputs": [],
   "source": [
    "def hot_encoder(df, category):\n",
    "    lst = []\n",
    "    for i in df:\n",
    "        if i == category:\n",
    "            lst.append(1)\n",
    "        else:\n",
    "            lst.append(0)\n",
    "    return lst\n",
    "\n",
    "office_merged['news_agencies'] = hot_encoder(office_merged['category_code'], 'news')"
   ]
  },
  {
   "cell_type": "code",
   "execution_count": 36,
   "metadata": {},
   "outputs": [],
   "source": [
    "#Function to convert the info within offices into a geopoint.\n",
    "\n",
    "def geopoint(data):\n",
    "    data = data['office']\n",
    "    principal = None\n",
    "    if data['latitude'] and data['longitude']:                   #Make sure there is data\n",
    "        principal = {\n",
    "            \"type\":\"Point\",\n",
    "            \"coordinates\":[data['longitude'], data['latitude']]\n",
    "        }\n",
    "\n",
    "    return {\n",
    "        \"lat\": data['latitude'],\n",
    "        \"lng\": data['longitude'],\n",
    "        \"geopoint\": principal\n",
    "    }\n",
    "\n",
    "geopoint = office_merged.apply(geopoint, result_type=\"expand\", axis=1).dropna()\n"
   ]
  },
  {
   "cell_type": "code",
   "execution_count": 37,
   "metadata": {},
   "outputs": [],
   "source": [
    "#Concatenating data with geopoints\n",
    "def concatenator(df1, df2):\n",
    "    return pd.concat([df1, df2], axis=1)\n"
   ]
  },
  {
   "cell_type": "code",
   "execution_count": 38,
   "metadata": {},
   "outputs": [],
   "source": [
    "offices_geo = concatenator(office_merged, geopoint)"
   ]
  },
  {
   "cell_type": "code",
   "execution_count": 39,
   "metadata": {},
   "outputs": [
    {
     "data": {
      "text/html": [
       "<div>\n",
       "<style scoped>\n",
       "    .dataframe tbody tr th:only-of-type {\n",
       "        vertical-align: middle;\n",
       "    }\n",
       "\n",
       "    .dataframe tbody tr th {\n",
       "        vertical-align: top;\n",
       "    }\n",
       "\n",
       "    .dataframe thead th {\n",
       "        text-align: right;\n",
       "    }\n",
       "</style>\n",
       "<table border=\"1\" class=\"dataframe\">\n",
       "  <thead>\n",
       "    <tr style=\"text-align: right;\">\n",
       "      <th></th>\n",
       "      <th>index</th>\n",
       "      <th>name</th>\n",
       "      <th>category_code</th>\n",
       "      <th>number_of_employees</th>\n",
       "      <th>amount_raised_k$</th>\n",
       "      <th>office</th>\n",
       "      <th>wealth</th>\n",
       "      <th>news_agencies</th>\n",
       "      <th>geopoint</th>\n",
       "      <th>lat</th>\n",
       "      <th>lng</th>\n",
       "    </tr>\n",
       "  </thead>\n",
       "  <tbody>\n",
       "    <tr>\n",
       "      <th>0</th>\n",
       "      <td>0</td>\n",
       "      <td>Wetpaint</td>\n",
       "      <td>web</td>\n",
       "      <td>47</td>\n",
       "      <td>39800.0</td>\n",
       "      <td>{'description': '', 'address1': '710 - 2nd Ave...</td>\n",
       "      <td>0.844415</td>\n",
       "      <td>0</td>\n",
       "      <td>{'type': 'Point', 'coordinates': [-122.333253,...</td>\n",
       "      <td>47.603122</td>\n",
       "      <td>-122.333253</td>\n",
       "    </tr>\n",
       "    <tr>\n",
       "      <th>1</th>\n",
       "      <td>0</td>\n",
       "      <td>Wetpaint</td>\n",
       "      <td>web</td>\n",
       "      <td>47</td>\n",
       "      <td>39800.0</td>\n",
       "      <td>{'description': '', 'address1': '270 Lafayette...</td>\n",
       "      <td>0.844415</td>\n",
       "      <td>0</td>\n",
       "      <td>{'type': 'Point', 'coordinates': [-73.9964312,...</td>\n",
       "      <td>40.723731</td>\n",
       "      <td>-73.996431</td>\n",
       "    </tr>\n",
       "    <tr>\n",
       "      <th>2</th>\n",
       "      <td>1</td>\n",
       "      <td>Geni</td>\n",
       "      <td>web</td>\n",
       "      <td>18</td>\n",
       "      <td>16500.0</td>\n",
       "      <td>{'description': 'Headquarters', 'address1': '9...</td>\n",
       "      <td>0.296509</td>\n",
       "      <td>0</td>\n",
       "      <td>{'type': 'Point', 'coordinates': [-118.393064,...</td>\n",
       "      <td>34.090368</td>\n",
       "      <td>-118.393064</td>\n",
       "    </tr>\n",
       "    <tr>\n",
       "      <th>3</th>\n",
       "      <td>2</td>\n",
       "      <td>Scribd</td>\n",
       "      <td>news</td>\n",
       "      <td>50</td>\n",
       "      <td>25800.0</td>\n",
       "      <td>{'description': 'HQ', 'address1': '539 Bryant ...</td>\n",
       "      <td>0.861548</td>\n",
       "      <td>1</td>\n",
       "      <td>{'type': 'Point', 'coordinates': [-122.404052,...</td>\n",
       "      <td>37.789634</td>\n",
       "      <td>-122.404052</td>\n",
       "    </tr>\n",
       "    <tr>\n",
       "      <th>4</th>\n",
       "      <td>3</td>\n",
       "      <td>MeetMoi</td>\n",
       "      <td>social</td>\n",
       "      <td>15</td>\n",
       "      <td>5580.0</td>\n",
       "      <td>{'description': None, 'address1': '', 'address...</td>\n",
       "      <td>0.219505</td>\n",
       "      <td>0</td>\n",
       "      <td>{'type': 'Point', 'coordinates': [-73.985506, ...</td>\n",
       "      <td>40.757929</td>\n",
       "      <td>-73.985506</td>\n",
       "    </tr>\n",
       "  </tbody>\n",
       "</table>\n",
       "</div>"
      ],
      "text/plain": [
       "   index      name category_code  number_of_employees  amount_raised_k$  \\\n",
       "0      0  Wetpaint           web                   47           39800.0   \n",
       "1      0  Wetpaint           web                   47           39800.0   \n",
       "2      1      Geni           web                   18           16500.0   \n",
       "3      2    Scribd          news                   50           25800.0   \n",
       "4      3   MeetMoi        social                   15            5580.0   \n",
       "\n",
       "                                              office    wealth  news_agencies  \\\n",
       "0  {'description': '', 'address1': '710 - 2nd Ave...  0.844415              0   \n",
       "1  {'description': '', 'address1': '270 Lafayette...  0.844415              0   \n",
       "2  {'description': 'Headquarters', 'address1': '9...  0.296509              0   \n",
       "3  {'description': 'HQ', 'address1': '539 Bryant ...  0.861548              1   \n",
       "4  {'description': None, 'address1': '', 'address...  0.219505              0   \n",
       "\n",
       "                                            geopoint        lat         lng  \n",
       "0  {'type': 'Point', 'coordinates': [-122.333253,...  47.603122 -122.333253  \n",
       "1  {'type': 'Point', 'coordinates': [-73.9964312,...  40.723731  -73.996431  \n",
       "2  {'type': 'Point', 'coordinates': [-118.393064,...  34.090368 -118.393064  \n",
       "3  {'type': 'Point', 'coordinates': [-122.404052,...  37.789634 -122.404052  \n",
       "4  {'type': 'Point', 'coordinates': [-73.985506, ...  40.757929  -73.985506  "
      ]
     },
     "execution_count": 39,
     "metadata": {},
     "output_type": "execute_result"
    }
   ],
   "source": [
    "offices_geo.head()"
   ]
  },
  {
   "cell_type": "code",
   "execution_count": 40,
   "metadata": {},
   "outputs": [],
   "source": [
    "#Dropping columns we no longer need\n",
    "\n",
    "offices_geo = columns_drop(offices_geo, 'office')\n",
    "offices_geo = columns_drop(offices_geo, 'index')"
   ]
  },
  {
   "cell_type": "code",
   "execution_count": 41,
   "metadata": {},
   "outputs": [
    {
     "data": {
      "text/html": [
       "<div>\n",
       "<style scoped>\n",
       "    .dataframe tbody tr th:only-of-type {\n",
       "        vertical-align: middle;\n",
       "    }\n",
       "\n",
       "    .dataframe tbody tr th {\n",
       "        vertical-align: top;\n",
       "    }\n",
       "\n",
       "    .dataframe thead th {\n",
       "        text-align: right;\n",
       "    }\n",
       "</style>\n",
       "<table border=\"1\" class=\"dataframe\">\n",
       "  <thead>\n",
       "    <tr style=\"text-align: right;\">\n",
       "      <th></th>\n",
       "      <th>name</th>\n",
       "      <th>category_code</th>\n",
       "      <th>number_of_employees</th>\n",
       "      <th>amount_raised_k$</th>\n",
       "      <th>wealth</th>\n",
       "      <th>news_agencies</th>\n",
       "      <th>geopoint</th>\n",
       "      <th>lat</th>\n",
       "      <th>lng</th>\n",
       "    </tr>\n",
       "  </thead>\n",
       "  <tbody>\n",
       "    <tr>\n",
       "      <th>0</th>\n",
       "      <td>Wetpaint</td>\n",
       "      <td>web</td>\n",
       "      <td>47</td>\n",
       "      <td>39800.0</td>\n",
       "      <td>0.844415</td>\n",
       "      <td>0</td>\n",
       "      <td>{'type': 'Point', 'coordinates': [-122.333253,...</td>\n",
       "      <td>47.603122</td>\n",
       "      <td>-122.333253</td>\n",
       "    </tr>\n",
       "    <tr>\n",
       "      <th>1</th>\n",
       "      <td>Wetpaint</td>\n",
       "      <td>web</td>\n",
       "      <td>47</td>\n",
       "      <td>39800.0</td>\n",
       "      <td>0.844415</td>\n",
       "      <td>0</td>\n",
       "      <td>{'type': 'Point', 'coordinates': [-73.9964312,...</td>\n",
       "      <td>40.723731</td>\n",
       "      <td>-73.996431</td>\n",
       "    </tr>\n",
       "    <tr>\n",
       "      <th>2</th>\n",
       "      <td>Geni</td>\n",
       "      <td>web</td>\n",
       "      <td>18</td>\n",
       "      <td>16500.0</td>\n",
       "      <td>0.296509</td>\n",
       "      <td>0</td>\n",
       "      <td>{'type': 'Point', 'coordinates': [-118.393064,...</td>\n",
       "      <td>34.090368</td>\n",
       "      <td>-118.393064</td>\n",
       "    </tr>\n",
       "    <tr>\n",
       "      <th>3</th>\n",
       "      <td>Scribd</td>\n",
       "      <td>news</td>\n",
       "      <td>50</td>\n",
       "      <td>25800.0</td>\n",
       "      <td>0.861548</td>\n",
       "      <td>1</td>\n",
       "      <td>{'type': 'Point', 'coordinates': [-122.404052,...</td>\n",
       "      <td>37.789634</td>\n",
       "      <td>-122.404052</td>\n",
       "    </tr>\n",
       "    <tr>\n",
       "      <th>4</th>\n",
       "      <td>MeetMoi</td>\n",
       "      <td>social</td>\n",
       "      <td>15</td>\n",
       "      <td>5580.0</td>\n",
       "      <td>0.219505</td>\n",
       "      <td>0</td>\n",
       "      <td>{'type': 'Point', 'coordinates': [-73.985506, ...</td>\n",
       "      <td>40.757929</td>\n",
       "      <td>-73.985506</td>\n",
       "    </tr>\n",
       "  </tbody>\n",
       "</table>\n",
       "</div>"
      ],
      "text/plain": [
       "       name category_code  number_of_employees  amount_raised_k$    wealth  \\\n",
       "0  Wetpaint           web                   47           39800.0  0.844415   \n",
       "1  Wetpaint           web                   47           39800.0  0.844415   \n",
       "2      Geni           web                   18           16500.0  0.296509   \n",
       "3    Scribd          news                   50           25800.0  0.861548   \n",
       "4   MeetMoi        social                   15            5580.0  0.219505   \n",
       "\n",
       "   news_agencies                                           geopoint  \\\n",
       "0              0  {'type': 'Point', 'coordinates': [-122.333253,...   \n",
       "1              0  {'type': 'Point', 'coordinates': [-73.9964312,...   \n",
       "2              0  {'type': 'Point', 'coordinates': [-118.393064,...   \n",
       "3              1  {'type': 'Point', 'coordinates': [-122.404052,...   \n",
       "4              0  {'type': 'Point', 'coordinates': [-73.985506, ...   \n",
       "\n",
       "         lat         lng  \n",
       "0  47.603122 -122.333253  \n",
       "1  40.723731  -73.996431  \n",
       "2  34.090368 -118.393064  \n",
       "3  37.789634 -122.404052  \n",
       "4  40.757929  -73.985506  "
      ]
     },
     "execution_count": 41,
     "metadata": {},
     "output_type": "execute_result"
    }
   ],
   "source": [
    "offices_geo.head()"
   ]
  },
  {
   "cell_type": "code",
   "execution_count": 42,
   "metadata": {},
   "outputs": [
    {
     "data": {
      "text/plain": [
       "(1726, 9)"
      ]
     },
     "execution_count": 42,
     "metadata": {},
     "output_type": "execute_result"
    }
   ],
   "source": [
    "offices_geo.shape"
   ]
  },
  {
   "cell_type": "code",
   "execution_count": 45,
   "metadata": {},
   "outputs": [],
   "source": [
    "def json_creator(df, name):\n",
    "    return df.to_json(f'../data/{name}.json', orient=\"records\")\n"
   ]
  },
  {
   "cell_type": "code",
   "execution_count": 46,
   "metadata": {},
   "outputs": [],
   "source": [
    "json_creator(offices_geo, 'geoffices')"
   ]
  },
  {
   "cell_type": "markdown",
   "metadata": {},
   "source": [
    "Create the new collection in mongodb compass (geo_offices in my case) and import the geoffices.json writting the following comand into the terminal:\n",
    "\n",
    "**mongoimport --db DBcompanies_cb --collection companies_clean --file geoffices.json --jsonArray**\n",
    "\n",
    "Now move into the indexes area inside mongodb compass and create an index selecting the 'geopoint' column and 2dsphere. The result should look like this:"
   ]
  },
  {
   "cell_type": "markdown",
   "metadata": {},
   "source": [
    "![geoindex](../images/index.png)"
   ]
  },
  {
   "cell_type": "code",
   "execution_count": null,
   "metadata": {},
   "outputs": [],
   "source": []
  }
 ],
 "metadata": {
  "kernelspec": {
   "display_name": "Python 3",
   "language": "python",
   "name": "python3"
  },
  "language_info": {
   "codemirror_mode": {
    "name": "ipython",
    "version": 3
   },
   "file_extension": ".py",
   "mimetype": "text/x-python",
   "name": "python",
   "nbconvert_exporter": "python",
   "pygments_lexer": "ipython3",
   "version": "3.7.2"
  }
 },
 "nbformat": 4,
 "nbformat_minor": 2
}
