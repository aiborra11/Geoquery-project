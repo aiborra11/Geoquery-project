{
 "cells": [
  {
   "cell_type": "code",
   "execution_count": 1,
   "metadata": {},
   "outputs": [],
   "source": [
    "from pymongo import MongoClient\n",
    "import pandas as pd\n",
    "import pymongo\n",
    "from pandas.io.json import json_normalize\n",
    "import re\n",
    "import numpy as np\n",
    "import requests\n"
   ]
  },
  {
   "cell_type": "markdown",
   "metadata": {},
   "source": [
    "First query using mongo"
   ]
  },
  {
   "cell_type": "markdown",
   "metadata": {},
   "source": [
    "<img src=\"images/mongoquery.png\" width=\"800\" />"
   ]
  },
  {
   "cell_type": "code",
   "execution_count": 2,
   "metadata": {},
   "outputs": [],
   "source": [
    "#Connecting the database with the queried data (data_companies_clean)\n",
    "\n",
    "client = MongoClient('mongodb://localhost:27017/')\n",
    "db = client.DBcompanies_cb\n",
    "data = db.companies_cb"
   ]
  },
  {
   "cell_type": "code",
   "execution_count": 3,
   "metadata": {},
   "outputs": [],
   "source": [
    "#Query using Pymongo to receive all the required data for my analysis. (I know we should query everything at the same place (pymongo or mongodb compass), but was interested in trying both to learn.).\n",
    "\n",
    "\n",
    "one_office = db.companies_cb.find({'$and':[\n",
    "    {'offices':{'$exists':True}},\n",
    "    {'offices':{'$ne': None}},\n",
    "#     {'number_of_employees':{'$exists':True}}\n",
    "    {'number_of_employees':{'$gte': 10}},\n",
    "    {'offices.latitude':{'$ne':None}},\n",
    "    {'offices.longitude':{'$ne':None}},\n",
    "    {'offices.latitude':{'$exists':True}},\n",
    "    {'offices.longitude':{'$exists':True}}\n",
    "    \n",
    "]})\n"
   ]
  },
  {
   "cell_type": "code",
   "execution_count": 4,
   "metadata": {},
   "outputs": [],
   "source": [
    "#Create first dataframe and show the columns we have.\n",
    "\n",
    "one_office = pd.DataFrame(one_office)\n"
   ]
  },
  {
   "cell_type": "code",
   "execution_count": 6,
   "metadata": {},
   "outputs": [],
   "source": [
    "#Merge deadpool related columns into 1 and fill blanks with NaN values.\n",
    "\n",
    "one_office['deadpooled'] = one_office[one_office.columns[10:13]].apply(lambda x: ','.join(x.dropna().astype(str)), axis=1).replace(r'^\\s*$', np.nan, regex=True)\n"
   ]
  },
  {
   "cell_type": "code",
   "execution_count": 7,
   "metadata": {},
   "outputs": [],
   "source": [
    "#Select relevant columns for the project.\n",
    "\n",
    "data = pd.DataFrame(one_office[['name', 'category_code', 'founded_year', 'number_of_employees', 'offices','total_money_raised', 'deadpooled']])\n"
   ]
  },
  {
   "cell_type": "code",
   "execution_count": 8,
   "metadata": {},
   "outputs": [],
   "source": [
    "#Select alive companies. If they have 'deadpoled' data I understand they are dead. \n",
    "\n",
    "data = data[pd.isnull(data['deadpooled'])]\n"
   ]
  },
  {
   "cell_type": "code",
   "execution_count": 9,
   "metadata": {},
   "outputs": [],
   "source": [
    "def columns_drop(df, col):\n",
    "    return df[[x for x in df.columns if x != col]]"
   ]
  },
  {
   "cell_type": "code",
   "execution_count": 10,
   "metadata": {},
   "outputs": [],
   "source": [
    "#Dropping columns we no longer need.\n",
    "\n",
    "data = columns_drop(data, 'deadpooled')\n",
    "data = columns_drop(data, 'founded_year')\n"
   ]
  },
  {
   "cell_type": "code",
   "execution_count": 11,
   "metadata": {},
   "outputs": [],
   "source": [
    "#Finding out the different types of currencies we can find along the dataset.\n",
    "\n",
    "currencies_types=[]\n",
    "for i in data['total_money_raised']:\n",
    "    if i[0:2] not in currencies_types:\n",
    "        currencies_types.append(i[0:2])\n",
    "\n"
   ]
  },
  {
   "cell_type": "code",
   "execution_count": 12,
   "metadata": {},
   "outputs": [],
   "source": [
    "#Converting symbols into string values for future uses.\n",
    "\n",
    "currency_type = {'C$': 'CAD',\n",
    "                '$': 'USD',\n",
    "                '€': 'EUR',\n",
    "                '£': 'GBP',\n",
    "                '¥': 'JPY',\n",
    "                'kr': 'SEK'}\n",
    "\n",
    "def currency_converter(df):\n",
    "    for symb, name in currency_type.items():\n",
    "        if symb in df:\n",
    "            a = df.replace(symb,'')\n",
    "            return name\n",
    "\n",
    "data['currency'] = data['total_money_raised'].apply(currency_converter)\n",
    "\n"
   ]
  },
  {
   "cell_type": "code",
   "execution_count": 13,
   "metadata": {},
   "outputs": [],
   "source": [
    "#Deleting currency symbols.\n",
    "\n",
    "def symbol_deleter(df):\n",
    "    for symb, name in currency_type.items():\n",
    "        if symb in df:\n",
    "            return df.replace(symb, \"\")\n",
    "\n",
    "data['total_money_raised'] = data['total_money_raised'].apply(symbol_deleter)"
   ]
  },
  {
   "cell_type": "code",
   "execution_count": 14,
   "metadata": {},
   "outputs": [],
   "source": [
    "#Converting \"total_money_raised\" into integers.\n",
    "\n",
    "amount_type = dict(k='E3', M='E6', B='E9')\n",
    "data['amount_raised'] = pd.to_numeric(data['total_money_raised'].replace(amount_type, regex=True)).astype(float)\n",
    "\n"
   ]
  },
  {
   "cell_type": "code",
   "execution_count": 15,
   "metadata": {},
   "outputs": [],
   "source": [
    "#Create a dictionary with the needed exchange rates using an API to obtain real data.\n",
    "url = 'https://api.exchangerate-api.com/v4/latest/USD'\n",
    "\n",
    "# Requesting data...\n",
    "\n",
    "response = requests.get(url)\n",
    "api_data = response.json()\n",
    "\n",
    "api_dataframe = pd.DataFrame(json_normalize(api_data))\n",
    "api_dict = {'CAD':api_dataframe['rates.CAD'][0],\n",
    "            'EUR':api_dataframe['rates.EUR'][0],\n",
    "            'GBP':api_dataframe['rates.GBP'][0],\n",
    "            'JPY':api_dataframe['rates.JPY'][0],\n",
    "            'SEK':api_dataframe['rates.SEK'][0],\n",
    "            'USD':1\n",
    "    }\n"
   ]
  },
  {
   "cell_type": "code",
   "execution_count": 16,
   "metadata": {},
   "outputs": [],
   "source": [
    "#Set the currency valuation for every company.\n",
    "\n",
    "def currency_rate(df):\n",
    "    return pd.to_numeric(df.replace(api_dict, regex=True))\n",
    "\n",
    "data['currency'] = currency_rate(data['currency'])"
   ]
  },
  {
   "cell_type": "code",
   "execution_count": 17,
   "metadata": {},
   "outputs": [],
   "source": [
    "#Standarize all valuations into one currency ($) and convert them into millions.\n",
    "\n",
    "def normalizator(df):\n",
    "    return ((df['amount_raised']/df['currency'])/1000).round(2)\n",
    "\n",
    "data['amount_raised_k$'] = normalizator(data)"
   ]
  },
  {
   "cell_type": "code",
   "execution_count": 18,
   "metadata": {},
   "outputs": [],
   "source": [
    "#Dropping more columns\n",
    "\n",
    "data = columns_drop(data, 'total_money_raised')\n",
    "data = columns_drop(data, 'currency')\n",
    "data = columns_drop(data, 'amount_raised')"
   ]
  },
  {
   "cell_type": "code",
   "execution_count": 19,
   "metadata": {},
   "outputs": [
    {
     "data": {
      "text/html": [
       "<div>\n",
       "<style scoped>\n",
       "    .dataframe tbody tr th:only-of-type {\n",
       "        vertical-align: middle;\n",
       "    }\n",
       "\n",
       "    .dataframe tbody tr th {\n",
       "        vertical-align: top;\n",
       "    }\n",
       "\n",
       "    .dataframe thead th {\n",
       "        text-align: right;\n",
       "    }\n",
       "</style>\n",
       "<table border=\"1\" class=\"dataframe\">\n",
       "  <thead>\n",
       "    <tr style=\"text-align: right;\">\n",
       "      <th></th>\n",
       "      <th>address1</th>\n",
       "      <th>address2</th>\n",
       "      <th>city</th>\n",
       "      <th>country_code</th>\n",
       "      <th>description</th>\n",
       "      <th>latitude</th>\n",
       "      <th>longitude</th>\n",
       "      <th>state_code</th>\n",
       "      <th>zip_code</th>\n",
       "    </tr>\n",
       "  </thead>\n",
       "  <tbody>\n",
       "    <tr>\n",
       "      <th>0</th>\n",
       "      <td>1601 Willow Road</td>\n",
       "      <td></td>\n",
       "      <td>Menlo Park</td>\n",
       "      <td>USA</td>\n",
       "      <td>Headquarters</td>\n",
       "      <td>37.416050</td>\n",
       "      <td>-122.151801</td>\n",
       "      <td>CA</td>\n",
       "      <td>94025</td>\n",
       "    </tr>\n",
       "    <tr>\n",
       "      <th>1</th>\n",
       "      <td></td>\n",
       "      <td></td>\n",
       "      <td>Dublin</td>\n",
       "      <td>IRL</td>\n",
       "      <td>Europe HQ</td>\n",
       "      <td>53.344104</td>\n",
       "      <td>-6.267494</td>\n",
       "      <td>None</td>\n",
       "      <td></td>\n",
       "    </tr>\n",
       "    <tr>\n",
       "      <th>2</th>\n",
       "      <td>340 Madison Ave</td>\n",
       "      <td></td>\n",
       "      <td>New York</td>\n",
       "      <td>USA</td>\n",
       "      <td>New York</td>\n",
       "      <td>40.755716</td>\n",
       "      <td>-73.979247</td>\n",
       "      <td>NY</td>\n",
       "      <td>10017</td>\n",
       "    </tr>\n",
       "  </tbody>\n",
       "</table>\n",
       "</div>"
      ],
      "text/plain": [
       "           address1 address2        city country_code   description  \\\n",
       "0  1601 Willow Road           Menlo Park          USA  Headquarters   \n",
       "1                                 Dublin          IRL     Europe HQ   \n",
       "2   340 Madison Ave             New York          USA      New York   \n",
       "\n",
       "    latitude   longitude state_code zip_code  \n",
       "0  37.416050 -122.151801         CA    94025  \n",
       "1  53.344104   -6.267494       None           \n",
       "2  40.755716  -73.979247         NY    10017  "
      ]
     },
     "execution_count": 19,
     "metadata": {},
     "output_type": "execute_result"
    }
   ],
   "source": [
    "#Inspect info provided inside 'offices' column\n",
    "\n",
    "c = pd.DataFrame(json_normalize(data['offices'][4]))\n",
    "c"
   ]
  },
  {
   "cell_type": "code",
   "execution_count": 20,
   "metadata": {},
   "outputs": [],
   "source": [
    "#There are some companies which have >1 offices. Separate them into different rows. \n",
    "\n",
    "data2 = data.copy()\n",
    "office_split = pd.DataFrame(data2['offices'].tolist()).stack().reset_index(level=1, drop=True).rename('office')\n",
    "office_merged = data2.merge(office_split, left_index=True, right_index=True).reset_index()\n"
   ]
  },
  {
   "cell_type": "code",
   "execution_count": 21,
   "metadata": {},
   "outputs": [
    {
     "data": {
      "text/html": [
       "<div>\n",
       "<style scoped>\n",
       "    .dataframe tbody tr th:only-of-type {\n",
       "        vertical-align: middle;\n",
       "    }\n",
       "\n",
       "    .dataframe tbody tr th {\n",
       "        vertical-align: top;\n",
       "    }\n",
       "\n",
       "    .dataframe thead th {\n",
       "        text-align: right;\n",
       "    }\n",
       "</style>\n",
       "<table border=\"1\" class=\"dataframe\">\n",
       "  <thead>\n",
       "    <tr style=\"text-align: right;\">\n",
       "      <th></th>\n",
       "      <th>address1</th>\n",
       "      <th>address2</th>\n",
       "      <th>city</th>\n",
       "      <th>country_code</th>\n",
       "      <th>description</th>\n",
       "      <th>latitude</th>\n",
       "      <th>longitude</th>\n",
       "      <th>state_code</th>\n",
       "      <th>zip_code</th>\n",
       "    </tr>\n",
       "  </thead>\n",
       "  <tbody>\n",
       "    <tr>\n",
       "      <th>0</th>\n",
       "      <td>1601 Willow Road</td>\n",
       "      <td></td>\n",
       "      <td>Menlo Park</td>\n",
       "      <td>USA</td>\n",
       "      <td>Headquarters</td>\n",
       "      <td>37.416050</td>\n",
       "      <td>-122.151801</td>\n",
       "      <td>CA</td>\n",
       "      <td>94025</td>\n",
       "    </tr>\n",
       "    <tr>\n",
       "      <th>1</th>\n",
       "      <td></td>\n",
       "      <td></td>\n",
       "      <td>Dublin</td>\n",
       "      <td>IRL</td>\n",
       "      <td>Europe HQ</td>\n",
       "      <td>53.344104</td>\n",
       "      <td>-6.267494</td>\n",
       "      <td>None</td>\n",
       "      <td></td>\n",
       "    </tr>\n",
       "    <tr>\n",
       "      <th>2</th>\n",
       "      <td>340 Madison Ave</td>\n",
       "      <td></td>\n",
       "      <td>New York</td>\n",
       "      <td>USA</td>\n",
       "      <td>New York</td>\n",
       "      <td>40.755716</td>\n",
       "      <td>-73.979247</td>\n",
       "      <td>NY</td>\n",
       "      <td>10017</td>\n",
       "    </tr>\n",
       "  </tbody>\n",
       "</table>\n",
       "</div>"
      ],
      "text/plain": [
       "           address1 address2        city country_code   description  \\\n",
       "0  1601 Willow Road           Menlo Park          USA  Headquarters   \n",
       "1                                 Dublin          IRL     Europe HQ   \n",
       "2   340 Madison Ave             New York          USA      New York   \n",
       "\n",
       "    latitude   longitude state_code zip_code  \n",
       "0  37.416050 -122.151801         CA    94025  \n",
       "1  53.344104   -6.267494       None           \n",
       "2  40.755716  -73.979247         NY    10017  "
      ]
     },
     "execution_count": 21,
     "metadata": {},
     "output_type": "execute_result"
    }
   ],
   "source": [
    "#Checking the values are correct and belong to each company\n",
    "\n",
    "d = pd.DataFrame(json_normalize(office_merged['offices'][5]))\n",
    "d"
   ]
  },
  {
   "cell_type": "code",
   "execution_count": 22,
   "metadata": {},
   "outputs": [],
   "source": [
    "#Dropping column offices since now we have it splitted into different rows already.\n",
    "\n",
    "office_merged = columns_drop(office_merged, 'offices')"
   ]
  },
  {
   "cell_type": "code",
   "execution_count": 23,
   "metadata": {},
   "outputs": [
    {
     "data": {
      "text/plain": [
       "145"
      ]
     },
     "execution_count": 23,
     "metadata": {},
     "output_type": "execute_result"
    }
   ],
   "source": [
    "#Check if there are duplicated values into the 'office' column\n",
    "\n",
    "find_duplicated = json_normalize(office_merged['office'])\n",
    "find_duplicated.duplicated().sum()\n"
   ]
  },
  {
   "cell_type": "code",
   "execution_count": 24,
   "metadata": {},
   "outputs": [],
   "source": [
    "# Deleting duplicates\n",
    "\n",
    "def duplicates_remover(df):\n",
    "    office_merged['duplicates'] = df.astype(str)\n",
    "    return office_merged.drop_duplicates('duplicates', keep = 'first')\n",
    "\n",
    "office_merged = duplicates_remover(office_merged['office'])\n",
    "office_merged = columns_drop(office_merged, 'duplicates')\n",
    "\n"
   ]
  },
  {
   "cell_type": "code",
   "execution_count": 26,
   "metadata": {},
   "outputs": [
    {
     "data": {
      "text/plain": [
       "0"
      ]
     },
     "execution_count": 26,
     "metadata": {},
     "output_type": "execute_result"
    }
   ],
   "source": [
    "find_duplicated1 = json_normalize(office_merged['office'])\n",
    "find_duplicated1.duplicated().sum()\n"
   ]
  },
  {
   "cell_type": "code",
   "execution_count": 27,
   "metadata": {},
   "outputs": [
    {
     "name": "stderr",
     "output_type": "stream",
     "text": [
      "/usr/local/Cellar/ipython/7.3.0/libexec/vendor/lib/python3.7/site-packages/ipykernel_launcher.py:3: RuntimeWarning: divide by zero encountered in log\n",
      "  This is separate from the ipykernel package so we can avoid doing imports until\n"
     ]
    }
   ],
   "source": [
    "#I assume companies who have raised more money will pay higher income to their employees. But do not forget the number of employees is important.\n",
    "\n",
    "office_merged['wealth'] = pd.DataFrame((np.log(office_merged['amount_raised_k$']).astype(str).replace('-inf','1').astype(float)*office_merged['number_of_employees']))\n"
   ]
  },
  {
   "cell_type": "code",
   "execution_count": 28,
   "metadata": {},
   "outputs": [],
   "source": [
    "#Converting into numbers we can understand. Max value = 1, min value = close to 0 = 2.73...e-06\n",
    "\n",
    "divisor = office_merged['wealth'].max()\n",
    "office_merged['wealth'] = office_merged['wealth']/divisor"
   ]
  },
  {
   "cell_type": "code",
   "execution_count": 29,
   "metadata": {},
   "outputs": [
    {
     "data": {
      "text/html": [
       "<div>\n",
       "<style scoped>\n",
       "    .dataframe tbody tr th:only-of-type {\n",
       "        vertical-align: middle;\n",
       "    }\n",
       "\n",
       "    .dataframe tbody tr th {\n",
       "        vertical-align: top;\n",
       "    }\n",
       "\n",
       "    .dataframe thead th {\n",
       "        text-align: right;\n",
       "    }\n",
       "</style>\n",
       "<table border=\"1\" class=\"dataframe\">\n",
       "  <thead>\n",
       "    <tr style=\"text-align: right;\">\n",
       "      <th></th>\n",
       "      <th>index</th>\n",
       "      <th>name</th>\n",
       "      <th>category_code</th>\n",
       "      <th>number_of_employees</th>\n",
       "      <th>amount_raised_k$</th>\n",
       "      <th>office</th>\n",
       "      <th>wealth</th>\n",
       "    </tr>\n",
       "  </thead>\n",
       "  <tbody>\n",
       "    <tr>\n",
       "      <th>102</th>\n",
       "      <td>96</td>\n",
       "      <td>PayPal</td>\n",
       "      <td>finance</td>\n",
       "      <td>300000</td>\n",
       "      <td>197000.0</td>\n",
       "      <td>{'description': '', 'address1': '181 Fremont S...</td>\n",
       "      <td>1.000000</td>\n",
       "    </tr>\n",
       "    <tr>\n",
       "      <th>564</th>\n",
       "      <td>552</td>\n",
       "      <td>Comcast</td>\n",
       "      <td>games_video</td>\n",
       "      <td>100000</td>\n",
       "      <td>725000.0</td>\n",
       "      <td>{'description': '', 'address1': 'Tyrconnell Pa...</td>\n",
       "      <td>0.368960</td>\n",
       "    </tr>\n",
       "    <tr>\n",
       "      <th>2796</th>\n",
       "      <td>2542</td>\n",
       "      <td>General Dynamics</td>\n",
       "      <td>transportation</td>\n",
       "      <td>92900</td>\n",
       "      <td>84900.0</td>\n",
       "      <td>{'description': '', 'address1': '2434 Lincoln ...</td>\n",
       "      <td>0.288286</td>\n",
       "    </tr>\n",
       "    <tr>\n",
       "      <th>980</th>\n",
       "      <td>933</td>\n",
       "      <td>MetaCarta</td>\n",
       "      <td>mobile</td>\n",
       "      <td>99999</td>\n",
       "      <td>10000.0</td>\n",
       "      <td>{'description': 'Main Office', 'address1': '86...</td>\n",
       "      <td>0.251833</td>\n",
       "    </tr>\n",
       "    <tr>\n",
       "      <th>891</th>\n",
       "      <td>861</td>\n",
       "      <td>Xerox</td>\n",
       "      <td>hardware</td>\n",
       "      <td>57400</td>\n",
       "      <td>1100000.0</td>\n",
       "      <td>{'description': 'Main Office', 'address1': 'Tr...</td>\n",
       "      <td>0.218326</td>\n",
       "    </tr>\n",
       "    <tr>\n",
       "      <th>14</th>\n",
       "      <td>11</td>\n",
       "      <td>Cisco</td>\n",
       "      <td>network_hosting</td>\n",
       "      <td>63000</td>\n",
       "      <td>2500.0</td>\n",
       "      <td>{'description': 'Headquarters', 'address1': '1...</td>\n",
       "      <td>0.134776</td>\n",
       "    </tr>\n",
       "    <tr>\n",
       "      <th>454</th>\n",
       "      <td>448</td>\n",
       "      <td>IBM</td>\n",
       "      <td>software</td>\n",
       "      <td>388000</td>\n",
       "      <td>0.0</td>\n",
       "      <td>{'description': 'HQ', 'address1': '149 New Mon...</td>\n",
       "      <td>0.106090</td>\n",
       "    </tr>\n",
       "    <tr>\n",
       "      <th>95</th>\n",
       "      <td>89</td>\n",
       "      <td>Sony</td>\n",
       "      <td>hardware</td>\n",
       "      <td>180500</td>\n",
       "      <td>0.0</td>\n",
       "      <td>{'description': '', 'address1': '1919 S Bascom...</td>\n",
       "      <td>0.049354</td>\n",
       "    </tr>\n",
       "    <tr>\n",
       "      <th>439</th>\n",
       "      <td>432</td>\n",
       "      <td>LG</td>\n",
       "      <td>hardware</td>\n",
       "      <td>177000</td>\n",
       "      <td>0.0</td>\n",
       "      <td>{'description': '', 'address1': '450 National ...</td>\n",
       "      <td>0.048397</td>\n",
       "    </tr>\n",
       "    <tr>\n",
       "      <th>764</th>\n",
       "      <td>748</td>\n",
       "      <td>VMware</td>\n",
       "      <td>software</td>\n",
       "      <td>13500</td>\n",
       "      <td>369000.0</td>\n",
       "      <td>{'description': None, 'address1': '215 First S...</td>\n",
       "      <td>0.047317</td>\n",
       "    </tr>\n",
       "  </tbody>\n",
       "</table>\n",
       "</div>"
      ],
      "text/plain": [
       "      index              name    category_code  number_of_employees  \\\n",
       "102      96            PayPal          finance               300000   \n",
       "564     552           Comcast      games_video               100000   \n",
       "2796   2542  General Dynamics   transportation                92900   \n",
       "980     933         MetaCarta           mobile                99999   \n",
       "891     861             Xerox         hardware                57400   \n",
       "14       11             Cisco  network_hosting                63000   \n",
       "454     448               IBM         software               388000   \n",
       "95       89              Sony         hardware               180500   \n",
       "439     432                LG         hardware               177000   \n",
       "764     748            VMware         software                13500   \n",
       "\n",
       "      amount_raised_k$                                             office  \\\n",
       "102           197000.0  {'description': '', 'address1': '181 Fremont S...   \n",
       "564           725000.0  {'description': '', 'address1': 'Tyrconnell Pa...   \n",
       "2796           84900.0  {'description': '', 'address1': '2434 Lincoln ...   \n",
       "980            10000.0  {'description': 'Main Office', 'address1': '86...   \n",
       "891          1100000.0  {'description': 'Main Office', 'address1': 'Tr...   \n",
       "14              2500.0  {'description': 'Headquarters', 'address1': '1...   \n",
       "454                0.0  {'description': 'HQ', 'address1': '149 New Mon...   \n",
       "95                 0.0  {'description': '', 'address1': '1919 S Bascom...   \n",
       "439                0.0  {'description': '', 'address1': '450 National ...   \n",
       "764           369000.0  {'description': None, 'address1': '215 First S...   \n",
       "\n",
       "        wealth  \n",
       "102   1.000000  \n",
       "564   0.368960  \n",
       "2796  0.288286  \n",
       "980   0.251833  \n",
       "891   0.218326  \n",
       "14    0.134776  \n",
       "454   0.106090  \n",
       "95    0.049354  \n",
       "439   0.048397  \n",
       "764   0.047317  "
      ]
     },
     "execution_count": 29,
     "metadata": {},
     "output_type": "execute_result"
    }
   ],
   "source": [
    "office_merged.sort_values('wealth', ascending = False).head(10)"
   ]
  },
  {
   "cell_type": "code",
   "execution_count": 30,
   "metadata": {},
   "outputs": [],
   "source": [
    "#Function to convert the info within offices into a geopoint.\n",
    "\n",
    "def geopoint(data):\n",
    "    data = data['office']\n",
    "    principal = None\n",
    "    if data['latitude'] and data['longitude']:                   #Make sure there is data\n",
    "        principal = {\n",
    "            \"type\":\"Point\",\n",
    "            \"coordinates\":[data['longitude'], data['latitude']]\n",
    "        }\n",
    "\n",
    "    return {\n",
    "        \"lat\": data['latitude'],\n",
    "        \"lng\": data['longitude'],\n",
    "        \"geopoint\": principal\n",
    "    }\n",
    "\n",
    "geopoint = office_merged.apply(geopoint, result_type=\"expand\", axis=1).dropna()\n"
   ]
  },
  {
   "cell_type": "code",
   "execution_count": 31,
   "metadata": {},
   "outputs": [],
   "source": [
    "#Concatenating data with geopoints\n",
    "\n",
    "offices_geo = pd.concat([office_merged, geopoint], axis=1)\n"
   ]
  },
  {
   "cell_type": "code",
   "execution_count": 32,
   "metadata": {},
   "outputs": [],
   "source": [
    "#Dropping columns we no longer need\n",
    "\n",
    "offices_geo = columns_drop(offices_geo, 'office')\n",
    "offices_geo = columns_drop(offices_geo, 'index')"
   ]
  },
  {
   "cell_type": "code",
   "execution_count": 33,
   "metadata": {},
   "outputs": [
    {
     "data": {
      "text/html": [
       "<div>\n",
       "<style scoped>\n",
       "    .dataframe tbody tr th:only-of-type {\n",
       "        vertical-align: middle;\n",
       "    }\n",
       "\n",
       "    .dataframe tbody tr th {\n",
       "        vertical-align: top;\n",
       "    }\n",
       "\n",
       "    .dataframe thead th {\n",
       "        text-align: right;\n",
       "    }\n",
       "</style>\n",
       "<table border=\"1\" class=\"dataframe\">\n",
       "  <thead>\n",
       "    <tr style=\"text-align: right;\">\n",
       "      <th></th>\n",
       "      <th>name</th>\n",
       "      <th>category_code</th>\n",
       "      <th>number_of_employees</th>\n",
       "      <th>amount_raised_k$</th>\n",
       "      <th>wealth</th>\n",
       "      <th>geopoint</th>\n",
       "      <th>lat</th>\n",
       "      <th>lng</th>\n",
       "    </tr>\n",
       "  </thead>\n",
       "  <tbody>\n",
       "    <tr>\n",
       "      <th>0</th>\n",
       "      <td>Wetpaint</td>\n",
       "      <td>web</td>\n",
       "      <td>47</td>\n",
       "      <td>39800.0</td>\n",
       "      <td>0.000136</td>\n",
       "      <td>{'type': 'Point', 'coordinates': [-122.333253,...</td>\n",
       "      <td>47.603122</td>\n",
       "      <td>-122.333253</td>\n",
       "    </tr>\n",
       "    <tr>\n",
       "      <th>1</th>\n",
       "      <td>Wetpaint</td>\n",
       "      <td>web</td>\n",
       "      <td>47</td>\n",
       "      <td>39800.0</td>\n",
       "      <td>0.000136</td>\n",
       "      <td>{'type': 'Point', 'coordinates': [-73.9964312,...</td>\n",
       "      <td>40.723731</td>\n",
       "      <td>-73.996431</td>\n",
       "    </tr>\n",
       "    <tr>\n",
       "      <th>2</th>\n",
       "      <td>AdventNet</td>\n",
       "      <td>enterprise</td>\n",
       "      <td>600</td>\n",
       "      <td>0.0</td>\n",
       "      <td>0.000164</td>\n",
       "      <td>{'type': 'Point', 'coordinates': [-121.904945,...</td>\n",
       "      <td>37.692934</td>\n",
       "      <td>-121.904945</td>\n",
       "    </tr>\n",
       "    <tr>\n",
       "      <th>3</th>\n",
       "      <td>Zoho</td>\n",
       "      <td>software</td>\n",
       "      <td>1600</td>\n",
       "      <td>0.0</td>\n",
       "      <td>0.000437</td>\n",
       "      <td>{'type': 'Point', 'coordinates': [-121.904945,...</td>\n",
       "      <td>37.692934</td>\n",
       "      <td>-121.904945</td>\n",
       "    </tr>\n",
       "    <tr>\n",
       "      <th>4</th>\n",
       "      <td>Digg</td>\n",
       "      <td>news</td>\n",
       "      <td>60</td>\n",
       "      <td>45000.0</td>\n",
       "      <td>0.000176</td>\n",
       "      <td>{'type': 'Point', 'coordinates': [-122.394523,...</td>\n",
       "      <td>37.764726</td>\n",
       "      <td>-122.394523</td>\n",
       "    </tr>\n",
       "  </tbody>\n",
       "</table>\n",
       "</div>"
      ],
      "text/plain": [
       "        name category_code  number_of_employees  amount_raised_k$    wealth  \\\n",
       "0   Wetpaint           web                   47           39800.0  0.000136   \n",
       "1   Wetpaint           web                   47           39800.0  0.000136   \n",
       "2  AdventNet    enterprise                  600               0.0  0.000164   \n",
       "3       Zoho      software                 1600               0.0  0.000437   \n",
       "4       Digg          news                   60           45000.0  0.000176   \n",
       "\n",
       "                                            geopoint        lat         lng  \n",
       "0  {'type': 'Point', 'coordinates': [-122.333253,...  47.603122 -122.333253  \n",
       "1  {'type': 'Point', 'coordinates': [-73.9964312,...  40.723731  -73.996431  \n",
       "2  {'type': 'Point', 'coordinates': [-121.904945,...  37.692934 -121.904945  \n",
       "3  {'type': 'Point', 'coordinates': [-121.904945,...  37.692934 -121.904945  \n",
       "4  {'type': 'Point', 'coordinates': [-122.394523,...  37.764726 -122.394523  "
      ]
     },
     "execution_count": 33,
     "metadata": {},
     "output_type": "execute_result"
    }
   ],
   "source": [
    "offices_geo.head()"
   ]
  },
  {
   "cell_type": "code",
   "execution_count": 39,
   "metadata": {},
   "outputs": [],
   "source": [
    "offices_geo.to_json('./data/geoffices.json', orient=\"records\")\n"
   ]
  },
  {
   "cell_type": "markdown",
   "metadata": {},
   "source": [
    "Create the new collection in mongodb compass (geo_offices in my case) and import the geoffices.json writting the following comand into the terminal:\n",
    "\n",
    "**mongoimport --db DBcompanies_cb --collection geo_offices --file geoffices.json --jsonArray**\n",
    "\n",
    "Now move into the indexes area inside mongodb compass and create an index selecting the 'geopoint' column and 2dsphere. The result should look like this:"
   ]
  },
  {
   "cell_type": "markdown",
   "metadata": {},
   "source": [
    "<img src=\"images/index.png\" width='800' />"
   ]
  },
  {
   "cell_type": "code",
   "execution_count": null,
   "metadata": {},
   "outputs": [],
   "source": []
  }
 ],
 "metadata": {
  "kernelspec": {
   "display_name": "Python 3",
   "language": "python",
   "name": "python3"
  },
  "language_info": {
   "codemirror_mode": {
    "name": "ipython",
    "version": 3
   },
   "file_extension": ".py",
   "mimetype": "text/x-python",
   "name": "python",
   "nbconvert_exporter": "python",
   "pygments_lexer": "ipython3",
   "version": "3.7.2"
  }
 },
 "nbformat": 4,
 "nbformat_minor": 2
}
