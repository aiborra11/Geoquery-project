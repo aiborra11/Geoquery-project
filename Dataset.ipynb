{
 "cells": [
  {
   "cell_type": "code",
   "execution_count": 1,
   "metadata": {},
   "outputs": [],
   "source": [
    "from pymongo import MongoClient\n",
    "import pandas as pd\n",
    "import pymongo\n",
    "from pandas.io.json import json_normalize\n",
    "import re\n",
    "import numpy as np\n",
    "import requests\n"
   ]
  },
  {
   "cell_type": "code",
   "execution_count": 2,
   "metadata": {},
   "outputs": [],
   "source": [
    "# #Connecting the database with the queried data (data_companies_clean)\n",
    "# client = MongoClient('mongodb://localhost:27017/')\n",
    "# db = client.companies\n",
    "# data = db.data_companies_clean\n"
   ]
  },
  {
   "cell_type": "markdown",
   "metadata": {},
   "source": [
    "First query using mongo"
   ]
  },
  {
   "cell_type": "markdown",
   "metadata": {},
   "source": [
    "<img src=\"images/mongoquery.png\">"
   ]
  },
  {
   "cell_type": "code",
   "execution_count": null,
   "metadata": {},
   "outputs": [],
   "source": [
    "#Connecting the database with the queried data (data_companies_clean)\n",
    "\n",
    "client = MongoClient('mongodb://localhost:27017/')\n",
    "db = client.DBcompanies_cb\n",
    "data = db.companies_cb"
   ]
  },
  {
   "cell_type": "code",
   "execution_count": 4,
   "metadata": {},
   "outputs": [],
   "source": [
    "#Query to receive all the essential data for my analysis. \n",
    "\n",
    "one_office = db.companies_cb.find({'$and':[\n",
    "    {'offices':{'$exists':True}},\n",
    "    {'offices':{'$ne': None}},\n",
    "#     {'number_of_employees':{'$exists':True}}\n",
    "    {'number_of_employees':{'$gte': 10}}\n",
    "]})\n"
   ]
  },
  {
   "cell_type": "code",
   "execution_count": 5,
   "metadata": {},
   "outputs": [],
   "source": [
    "#Create first dataframe and show the columns we have.\n",
    "\n",
    "one_office = pd.DataFrame(one_office)"
   ]
  },
  {
   "cell_type": "code",
   "execution_count": 6,
   "metadata": {},
   "outputs": [],
   "source": [
    "#Merge deadpool related columns into 1 and fill blanks with NaN values.\n",
    "\n",
    "one_office['deadpooled'] = one_office[one_office.columns[10:13]].apply(lambda x: ','.join(x.dropna().astype(str)), axis=1).replace(r'^\\s*$', np.nan, regex=True)\n"
   ]
  },
  {
   "cell_type": "code",
   "execution_count": 7,
   "metadata": {},
   "outputs": [],
   "source": [
    "#Select relevant columns for the project.\n",
    "\n",
    "data = pd.DataFrame(one_office[['name', 'category_code', 'founded_year', 'number_of_employees', 'offices','total_money_raised', 'deadpooled']])\n"
   ]
  },
  {
   "cell_type": "code",
   "execution_count": 8,
   "metadata": {},
   "outputs": [],
   "source": [
    "#Select alive companies. If they have 'deadpoled' data I understand they are dead. \n",
    "\n",
    "data = data[pd.isnull(data['deadpooled'])]\n"
   ]
  },
  {
   "cell_type": "code",
   "execution_count": 9,
   "metadata": {},
   "outputs": [],
   "source": [
    "def columns_drop(df, col):\n",
    "    return df[[x for x in df.columns if x != col]]"
   ]
  },
  {
   "cell_type": "code",
   "execution_count": 10,
   "metadata": {},
   "outputs": [
    {
     "data": {
      "text/html": [
       "<div>\n",
       "<style scoped>\n",
       "    .dataframe tbody tr th:only-of-type {\n",
       "        vertical-align: middle;\n",
       "    }\n",
       "\n",
       "    .dataframe tbody tr th {\n",
       "        vertical-align: top;\n",
       "    }\n",
       "\n",
       "    .dataframe thead th {\n",
       "        text-align: right;\n",
       "    }\n",
       "</style>\n",
       "<table border=\"1\" class=\"dataframe\">\n",
       "  <thead>\n",
       "    <tr style=\"text-align: right;\">\n",
       "      <th></th>\n",
       "      <th>name</th>\n",
       "      <th>category_code</th>\n",
       "      <th>number_of_employees</th>\n",
       "      <th>offices</th>\n",
       "      <th>total_money_raised</th>\n",
       "    </tr>\n",
       "  </thead>\n",
       "  <tbody>\n",
       "    <tr>\n",
       "      <th>0</th>\n",
       "      <td>Wetpaint</td>\n",
       "      <td>web</td>\n",
       "      <td>47</td>\n",
       "      <td>[{'description': '', 'address1': '710 - 2nd Av...</td>\n",
       "      <td>$39.8M</td>\n",
       "    </tr>\n",
       "    <tr>\n",
       "      <th>1</th>\n",
       "      <td>AdventNet</td>\n",
       "      <td>enterprise</td>\n",
       "      <td>600</td>\n",
       "      <td>[{'description': 'Headquarters', 'address1': '...</td>\n",
       "      <td>$0</td>\n",
       "    </tr>\n",
       "    <tr>\n",
       "      <th>2</th>\n",
       "      <td>Zoho</td>\n",
       "      <td>software</td>\n",
       "      <td>1600</td>\n",
       "      <td>[{'description': 'Headquarters', 'address1': '...</td>\n",
       "      <td>$0</td>\n",
       "    </tr>\n",
       "    <tr>\n",
       "      <th>3</th>\n",
       "      <td>Digg</td>\n",
       "      <td>news</td>\n",
       "      <td>60</td>\n",
       "      <td>[{'description': None, 'address1': '135 Missis...</td>\n",
       "      <td>$45M</td>\n",
       "    </tr>\n",
       "    <tr>\n",
       "      <th>4</th>\n",
       "      <td>Facebook</td>\n",
       "      <td>social</td>\n",
       "      <td>5299</td>\n",
       "      <td>[{'description': 'Headquarters', 'address1': '...</td>\n",
       "      <td>$2.43B</td>\n",
       "    </tr>\n",
       "  </tbody>\n",
       "</table>\n",
       "</div>"
      ],
      "text/plain": [
       "        name category_code  number_of_employees  \\\n",
       "0   Wetpaint           web                   47   \n",
       "1  AdventNet    enterprise                  600   \n",
       "2       Zoho      software                 1600   \n",
       "3       Digg          news                   60   \n",
       "4   Facebook        social                 5299   \n",
       "\n",
       "                                             offices total_money_raised  \n",
       "0  [{'description': '', 'address1': '710 - 2nd Av...             $39.8M  \n",
       "1  [{'description': 'Headquarters', 'address1': '...                 $0  \n",
       "2  [{'description': 'Headquarters', 'address1': '...                 $0  \n",
       "3  [{'description': None, 'address1': '135 Missis...               $45M  \n",
       "4  [{'description': 'Headquarters', 'address1': '...             $2.43B  "
      ]
     },
     "execution_count": 10,
     "metadata": {},
     "output_type": "execute_result"
    }
   ],
   "source": [
    "#Dropping columns we no longer need.\n",
    "\n",
    "data = columns_drop(data, 'deadpooled')\n",
    "data = columns_drop(data, 'founded_year')\n",
    "data.head()"
   ]
  },
  {
   "cell_type": "code",
   "execution_count": 11,
   "metadata": {},
   "outputs": [
    {
     "name": "stdout",
     "output_type": "stream",
     "text": [
      "['$3', '$0', '$4', '$2', '$1', '$6', '$5', '$7', '$8', '$9', '€1', '€3', 'C$', '€4', '£2', '€8', '€5', '€9', '€2', '£3', '£1', '£4', '€6', '€7', '£7', '¥2', 'kr', '¥4', '¥1', '£5', '£6', '£9']\n"
     ]
    }
   ],
   "source": [
    "#Finding out the different types of currencies we can find along the dataset.\n",
    "\n",
    "currencies_types=[]\n",
    "for i in data['total_money_raised']:\n",
    "    if i[0:2] not in currencies_types:\n",
    "        currencies_types.append(i[0:2])\n",
    "\n",
    "print(currencies_types)"
   ]
  },
  {
   "cell_type": "code",
   "execution_count": 12,
   "metadata": {},
   "outputs": [],
   "source": [
    "#Converting symbols into string values for future uses.\n",
    "\n",
    "currency_type = {'C$': 'CAD',\n",
    "                '$': 'USD',\n",
    "                '€': 'EUR',\n",
    "                '£': 'GBP',\n",
    "                '¥': 'JPY',\n",
    "                'kr': 'SEK'}\n",
    "\n",
    "def currency_converter(df):\n",
    "    for symb, name in currency_type.items():\n",
    "        if symb in df:\n",
    "            a = df.replace(symb,'')\n",
    "            return name\n",
    "\n",
    "data['currency'] = data['total_money_raised'].apply(currency_converter)\n",
    "\n"
   ]
  },
  {
   "cell_type": "code",
   "execution_count": 13,
   "metadata": {},
   "outputs": [],
   "source": [
    "#Deleting currency symbols.\n",
    "\n",
    "def symbol_deleter(df):\n",
    "    for symb, name in currency_type.items():\n",
    "        if symb in df:\n",
    "            return df.replace(symb, \"\")\n",
    "\n",
    "data['total_money_raised'] = data['total_money_raised'].apply(symbol_deleter)"
   ]
  },
  {
   "cell_type": "code",
   "execution_count": 14,
   "metadata": {},
   "outputs": [],
   "source": [
    "#Converting \"total_money_raised\" into integers.\n",
    "\n",
    "amount_type = dict(k='E3', M='E6', B='E9')\n",
    "data['amount_raised'] = pd.to_numeric(data['total_money_raised'].replace(amount_type, regex=True)).astype(float)\n",
    "\n"
   ]
  },
  {
   "cell_type": "code",
   "execution_count": 15,
   "metadata": {},
   "outputs": [
    {
     "data": {
      "text/plain": [
       "{'CAD': 1.329868,\n",
       " 'EUR': 0.901207,\n",
       " 'GBP': 0.82387,\n",
       " 'JPY': 106.45378,\n",
       " 'SEK': 9.652291,\n",
       " 'USD': 1}"
      ]
     },
     "execution_count": 15,
     "metadata": {},
     "output_type": "execute_result"
    }
   ],
   "source": [
    "#Create a dictionary with the needed exchange rates using an API to obtain real data.\n",
    "url = 'https://api.exchangerate-api.com/v4/latest/USD'\n",
    "\n",
    "# Requesting data...\n",
    "\n",
    "response = requests.get(url)\n",
    "api_data = response.json()\n",
    "\n",
    "api_dataframe = pd.DataFrame(json_normalize(api_data))\n",
    "api_dict = {'CAD':api_dataframe['rates.CAD'][0],\n",
    "            'EUR':api_dataframe['rates.EUR'][0],\n",
    "            'GBP':api_dataframe['rates.GBP'][0],\n",
    "            'JPY':api_dataframe['rates.JPY'][0],\n",
    "            'SEK':api_dataframe['rates.SEK'][0],\n",
    "            'USD':1\n",
    "    }\n",
    "api_dict"
   ]
  },
  {
   "cell_type": "code",
   "execution_count": 16,
   "metadata": {},
   "outputs": [],
   "source": [
    "#Set the currency valuation for every company.\n",
    "\n",
    "def currency_rate(df):\n",
    "    return pd.to_numeric(df.replace(api_dict, regex=True))\n",
    "data['currency'] = currency_rate(data['currency'])"
   ]
  },
  {
   "cell_type": "code",
   "execution_count": 17,
   "metadata": {},
   "outputs": [],
   "source": [
    "#Standarize all valuations into one currency ($) and convert them into millions.\n",
    "\n",
    "def normalizator(df):\n",
    "    return ((df['amount_raised']/df['currency'])/1000000).round(2)\n",
    "\n",
    "data['amount_raised_M$'] = normalizator(data)"
   ]
  },
  {
   "cell_type": "code",
   "execution_count": 18,
   "metadata": {},
   "outputs": [],
   "source": [
    "#Dropping more columns\n",
    "\n",
    "data = columns_drop(data, 'total_money_raised')\n",
    "data = columns_drop(data, 'currency')\n",
    "data = columns_drop(data, 'amount_raised')"
   ]
  },
  {
   "cell_type": "code",
   "execution_count": 19,
   "metadata": {},
   "outputs": [
    {
     "data": {
      "text/html": [
       "<div>\n",
       "<style scoped>\n",
       "    .dataframe tbody tr th:only-of-type {\n",
       "        vertical-align: middle;\n",
       "    }\n",
       "\n",
       "    .dataframe tbody tr th {\n",
       "        vertical-align: top;\n",
       "    }\n",
       "\n",
       "    .dataframe thead th {\n",
       "        text-align: right;\n",
       "    }\n",
       "</style>\n",
       "<table border=\"1\" class=\"dataframe\">\n",
       "  <thead>\n",
       "    <tr style=\"text-align: right;\">\n",
       "      <th></th>\n",
       "      <th>address1</th>\n",
       "      <th>address2</th>\n",
       "      <th>city</th>\n",
       "      <th>country_code</th>\n",
       "      <th>description</th>\n",
       "      <th>latitude</th>\n",
       "      <th>longitude</th>\n",
       "      <th>state_code</th>\n",
       "      <th>zip_code</th>\n",
       "    </tr>\n",
       "  </thead>\n",
       "  <tbody>\n",
       "    <tr>\n",
       "      <th>0</th>\n",
       "      <td>1601 Willow Road</td>\n",
       "      <td></td>\n",
       "      <td>Menlo Park</td>\n",
       "      <td>USA</td>\n",
       "      <td>Headquarters</td>\n",
       "      <td>37.416050</td>\n",
       "      <td>-122.151801</td>\n",
       "      <td>CA</td>\n",
       "      <td>94025</td>\n",
       "    </tr>\n",
       "    <tr>\n",
       "      <th>1</th>\n",
       "      <td></td>\n",
       "      <td></td>\n",
       "      <td>Dublin</td>\n",
       "      <td>IRL</td>\n",
       "      <td>Europe HQ</td>\n",
       "      <td>53.344104</td>\n",
       "      <td>-6.267494</td>\n",
       "      <td>None</td>\n",
       "      <td></td>\n",
       "    </tr>\n",
       "    <tr>\n",
       "      <th>2</th>\n",
       "      <td>340 Madison Ave</td>\n",
       "      <td></td>\n",
       "      <td>New York</td>\n",
       "      <td>USA</td>\n",
       "      <td>New York</td>\n",
       "      <td>40.755716</td>\n",
       "      <td>-73.979247</td>\n",
       "      <td>NY</td>\n",
       "      <td>10017</td>\n",
       "    </tr>\n",
       "  </tbody>\n",
       "</table>\n",
       "</div>"
      ],
      "text/plain": [
       "           address1 address2        city country_code   description  \\\n",
       "0  1601 Willow Road           Menlo Park          USA  Headquarters   \n",
       "1                                 Dublin          IRL     Europe HQ   \n",
       "2   340 Madison Ave             New York          USA      New York   \n",
       "\n",
       "    latitude   longitude state_code zip_code  \n",
       "0  37.416050 -122.151801         CA    94025  \n",
       "1  53.344104   -6.267494       None           \n",
       "2  40.755716  -73.979247         NY    10017  "
      ]
     },
     "execution_count": 19,
     "metadata": {},
     "output_type": "execute_result"
    }
   ],
   "source": [
    "#Inspect info provided inside 'offices' column\n",
    "\n",
    "c = pd.DataFrame(json_normalize(data['offices'][4]))\n",
    "c"
   ]
  },
  {
   "cell_type": "code",
   "execution_count": 20,
   "metadata": {},
   "outputs": [],
   "source": [
    "#There are some companies which have >1 offices. Separate them into different rows. \n",
    "\n",
    "data2 = data.copy()\n",
    "office_split = pd.DataFrame(data2['offices'].tolist()).stack().reset_index(level=1, drop=True).rename('office')\n",
    "office_merged = data2.merge(office_split, left_index=True, right_index=True).reset_index()\n"
   ]
  },
  {
   "cell_type": "code",
   "execution_count": 21,
   "metadata": {},
   "outputs": [
    {
     "data": {
      "text/html": [
       "<div>\n",
       "<style scoped>\n",
       "    .dataframe tbody tr th:only-of-type {\n",
       "        vertical-align: middle;\n",
       "    }\n",
       "\n",
       "    .dataframe tbody tr th {\n",
       "        vertical-align: top;\n",
       "    }\n",
       "\n",
       "    .dataframe thead th {\n",
       "        text-align: right;\n",
       "    }\n",
       "</style>\n",
       "<table border=\"1\" class=\"dataframe\">\n",
       "  <thead>\n",
       "    <tr style=\"text-align: right;\">\n",
       "      <th></th>\n",
       "      <th>address1</th>\n",
       "      <th>address2</th>\n",
       "      <th>city</th>\n",
       "      <th>country_code</th>\n",
       "      <th>description</th>\n",
       "      <th>latitude</th>\n",
       "      <th>longitude</th>\n",
       "      <th>state_code</th>\n",
       "      <th>zip_code</th>\n",
       "    </tr>\n",
       "  </thead>\n",
       "  <tbody>\n",
       "    <tr>\n",
       "      <th>0</th>\n",
       "      <td>1601 Willow Road</td>\n",
       "      <td></td>\n",
       "      <td>Menlo Park</td>\n",
       "      <td>USA</td>\n",
       "      <td>Headquarters</td>\n",
       "      <td>37.416050</td>\n",
       "      <td>-122.151801</td>\n",
       "      <td>CA</td>\n",
       "      <td>94025</td>\n",
       "    </tr>\n",
       "    <tr>\n",
       "      <th>1</th>\n",
       "      <td></td>\n",
       "      <td></td>\n",
       "      <td>Dublin</td>\n",
       "      <td>IRL</td>\n",
       "      <td>Europe HQ</td>\n",
       "      <td>53.344104</td>\n",
       "      <td>-6.267494</td>\n",
       "      <td>None</td>\n",
       "      <td></td>\n",
       "    </tr>\n",
       "    <tr>\n",
       "      <th>2</th>\n",
       "      <td>340 Madison Ave</td>\n",
       "      <td></td>\n",
       "      <td>New York</td>\n",
       "      <td>USA</td>\n",
       "      <td>New York</td>\n",
       "      <td>40.755716</td>\n",
       "      <td>-73.979247</td>\n",
       "      <td>NY</td>\n",
       "      <td>10017</td>\n",
       "    </tr>\n",
       "  </tbody>\n",
       "</table>\n",
       "</div>"
      ],
      "text/plain": [
       "           address1 address2        city country_code   description  \\\n",
       "0  1601 Willow Road           Menlo Park          USA  Headquarters   \n",
       "1                                 Dublin          IRL     Europe HQ   \n",
       "2   340 Madison Ave             New York          USA      New York   \n",
       "\n",
       "    latitude   longitude state_code zip_code  \n",
       "0  37.416050 -122.151801         CA    94025  \n",
       "1  53.344104   -6.267494       None           \n",
       "2  40.755716  -73.979247         NY    10017  "
      ]
     },
     "execution_count": 21,
     "metadata": {},
     "output_type": "execute_result"
    }
   ],
   "source": [
    "#Checking the values are correct and belong to each company\n",
    "\n",
    "d = pd.DataFrame(json_normalize(office_merged['offices'][5]))\n",
    "d"
   ]
  },
  {
   "cell_type": "code",
   "execution_count": 22,
   "metadata": {},
   "outputs": [
    {
     "name": "stdout",
     "output_type": "stream",
     "text": [
      "4406\n",
      "5856\n"
     ]
    }
   ],
   "source": [
    "print(len(data))\n",
    "print(len(office_merged))"
   ]
  },
  {
   "cell_type": "code",
   "execution_count": 23,
   "metadata": {},
   "outputs": [],
   "source": [
    "#Count the number of offices every company has\n",
    "\n",
    "offices_number = office_merged['name'].groupby(office_merged['name'], sort=False).count()\n"
   ]
  },
  {
   "cell_type": "code",
   "execution_count": 24,
   "metadata": {},
   "outputs": [
    {
     "data": {
      "text/html": [
       "<div>\n",
       "<style scoped>\n",
       "    .dataframe tbody tr th:only-of-type {\n",
       "        vertical-align: middle;\n",
       "    }\n",
       "\n",
       "    .dataframe tbody tr th {\n",
       "        vertical-align: top;\n",
       "    }\n",
       "\n",
       "    .dataframe thead th {\n",
       "        text-align: right;\n",
       "    }\n",
       "</style>\n",
       "<table border=\"1\" class=\"dataframe\">\n",
       "  <thead>\n",
       "    <tr style=\"text-align: right;\">\n",
       "      <th></th>\n",
       "      <th>index</th>\n",
       "      <th>name</th>\n",
       "      <th>category_code</th>\n",
       "      <th>number_of_employees</th>\n",
       "      <th>offices</th>\n",
       "      <th>amount_raised_M$</th>\n",
       "      <th>office</th>\n",
       "    </tr>\n",
       "  </thead>\n",
       "  <tbody>\n",
       "    <tr>\n",
       "      <th>0</th>\n",
       "      <td>0</td>\n",
       "      <td>Wetpaint</td>\n",
       "      <td>web</td>\n",
       "      <td>47</td>\n",
       "      <td>[{'description': '', 'address1': '710 - 2nd Av...</td>\n",
       "      <td>39.8</td>\n",
       "      <td>{'description': '', 'address1': '710 - 2nd Ave...</td>\n",
       "    </tr>\n",
       "    <tr>\n",
       "      <th>1</th>\n",
       "      <td>0</td>\n",
       "      <td>Wetpaint</td>\n",
       "      <td>web</td>\n",
       "      <td>47</td>\n",
       "      <td>[{'description': '', 'address1': '710 - 2nd Av...</td>\n",
       "      <td>39.8</td>\n",
       "      <td>{'description': '', 'address1': '270 Lafayette...</td>\n",
       "    </tr>\n",
       "    <tr>\n",
       "      <th>2</th>\n",
       "      <td>1</td>\n",
       "      <td>AdventNet</td>\n",
       "      <td>enterprise</td>\n",
       "      <td>600</td>\n",
       "      <td>[{'description': 'Headquarters', 'address1': '...</td>\n",
       "      <td>0.0</td>\n",
       "      <td>{'description': 'Headquarters', 'address1': '4...</td>\n",
       "    </tr>\n",
       "    <tr>\n",
       "      <th>3</th>\n",
       "      <td>2</td>\n",
       "      <td>Zoho</td>\n",
       "      <td>software</td>\n",
       "      <td>1600</td>\n",
       "      <td>[{'description': 'Headquarters', 'address1': '...</td>\n",
       "      <td>0.0</td>\n",
       "      <td>{'description': 'Headquarters', 'address1': '4...</td>\n",
       "    </tr>\n",
       "    <tr>\n",
       "      <th>4</th>\n",
       "      <td>3</td>\n",
       "      <td>Digg</td>\n",
       "      <td>news</td>\n",
       "      <td>60</td>\n",
       "      <td>[{'description': None, 'address1': '135 Missis...</td>\n",
       "      <td>45.0</td>\n",
       "      <td>{'description': None, 'address1': '135 Mississ...</td>\n",
       "    </tr>\n",
       "    <tr>\n",
       "      <th>5</th>\n",
       "      <td>4</td>\n",
       "      <td>Facebook</td>\n",
       "      <td>social</td>\n",
       "      <td>5299</td>\n",
       "      <td>[{'description': 'Headquarters', 'address1': '...</td>\n",
       "      <td>2430.0</td>\n",
       "      <td>{'description': 'Headquarters', 'address1': '1...</td>\n",
       "    </tr>\n",
       "    <tr>\n",
       "      <th>6</th>\n",
       "      <td>4</td>\n",
       "      <td>Facebook</td>\n",
       "      <td>social</td>\n",
       "      <td>5299</td>\n",
       "      <td>[{'description': 'Headquarters', 'address1': '...</td>\n",
       "      <td>2430.0</td>\n",
       "      <td>{'description': 'Europe HQ', 'address1': '', '...</td>\n",
       "    </tr>\n",
       "    <tr>\n",
       "      <th>7</th>\n",
       "      <td>4</td>\n",
       "      <td>Facebook</td>\n",
       "      <td>social</td>\n",
       "      <td>5299</td>\n",
       "      <td>[{'description': 'Headquarters', 'address1': '...</td>\n",
       "      <td>2430.0</td>\n",
       "      <td>{'description': 'New York', 'address1': '340 M...</td>\n",
       "    </tr>\n",
       "    <tr>\n",
       "      <th>8</th>\n",
       "      <td>5</td>\n",
       "      <td>Geni</td>\n",
       "      <td>web</td>\n",
       "      <td>18</td>\n",
       "      <td>[{'description': 'Headquarters', 'address1': '...</td>\n",
       "      <td>16.5</td>\n",
       "      <td>{'description': 'Headquarters', 'address1': '9...</td>\n",
       "    </tr>\n",
       "  </tbody>\n",
       "</table>\n",
       "</div>"
      ],
      "text/plain": [
       "   index       name category_code  number_of_employees  \\\n",
       "0      0   Wetpaint           web                   47   \n",
       "1      0   Wetpaint           web                   47   \n",
       "2      1  AdventNet    enterprise                  600   \n",
       "3      2       Zoho      software                 1600   \n",
       "4      3       Digg          news                   60   \n",
       "5      4   Facebook        social                 5299   \n",
       "6      4   Facebook        social                 5299   \n",
       "7      4   Facebook        social                 5299   \n",
       "8      5       Geni           web                   18   \n",
       "\n",
       "                                             offices  amount_raised_M$  \\\n",
       "0  [{'description': '', 'address1': '710 - 2nd Av...              39.8   \n",
       "1  [{'description': '', 'address1': '710 - 2nd Av...              39.8   \n",
       "2  [{'description': 'Headquarters', 'address1': '...               0.0   \n",
       "3  [{'description': 'Headquarters', 'address1': '...               0.0   \n",
       "4  [{'description': None, 'address1': '135 Missis...              45.0   \n",
       "5  [{'description': 'Headquarters', 'address1': '...            2430.0   \n",
       "6  [{'description': 'Headquarters', 'address1': '...            2430.0   \n",
       "7  [{'description': 'Headquarters', 'address1': '...            2430.0   \n",
       "8  [{'description': 'Headquarters', 'address1': '...              16.5   \n",
       "\n",
       "                                              office  \n",
       "0  {'description': '', 'address1': '710 - 2nd Ave...  \n",
       "1  {'description': '', 'address1': '270 Lafayette...  \n",
       "2  {'description': 'Headquarters', 'address1': '4...  \n",
       "3  {'description': 'Headquarters', 'address1': '4...  \n",
       "4  {'description': None, 'address1': '135 Mississ...  \n",
       "5  {'description': 'Headquarters', 'address1': '1...  \n",
       "6  {'description': 'Europe HQ', 'address1': '', '...  \n",
       "7  {'description': 'New York', 'address1': '340 M...  \n",
       "8  {'description': 'Headquarters', 'address1': '9...  "
      ]
     },
     "execution_count": 24,
     "metadata": {},
     "output_type": "execute_result"
    }
   ],
   "source": [
    "office_merged.head(9)"
   ]
  },
  {
   "cell_type": "code",
   "execution_count": 25,
   "metadata": {},
   "outputs": [],
   "source": [
    "#Dropping column offices since now we have it splitted into different rows already.\n",
    "\n",
    "office_merged = columns_drop(office_merged, 'offices')"
   ]
  },
  {
   "cell_type": "code",
   "execution_count": 26,
   "metadata": {},
   "outputs": [
    {
     "data": {
      "text/html": [
       "<div>\n",
       "<style scoped>\n",
       "    .dataframe tbody tr th:only-of-type {\n",
       "        vertical-align: middle;\n",
       "    }\n",
       "\n",
       "    .dataframe tbody tr th {\n",
       "        vertical-align: top;\n",
       "    }\n",
       "\n",
       "    .dataframe thead th {\n",
       "        text-align: right;\n",
       "    }\n",
       "</style>\n",
       "<table border=\"1\" class=\"dataframe\">\n",
       "  <thead>\n",
       "    <tr style=\"text-align: right;\">\n",
       "      <th></th>\n",
       "      <th>address1</th>\n",
       "      <th>address2</th>\n",
       "      <th>city</th>\n",
       "      <th>country_code</th>\n",
       "      <th>description</th>\n",
       "      <th>latitude</th>\n",
       "      <th>longitude</th>\n",
       "      <th>state_code</th>\n",
       "      <th>zip_code</th>\n",
       "    </tr>\n",
       "  </thead>\n",
       "  <tbody>\n",
       "    <tr>\n",
       "      <th>0</th>\n",
       "      <td>710 - 2nd Avenue</td>\n",
       "      <td>Suite 1100</td>\n",
       "      <td>Seattle</td>\n",
       "      <td>USA</td>\n",
       "      <td></td>\n",
       "      <td>47.603122</td>\n",
       "      <td>-122.333253</td>\n",
       "      <td>WA</td>\n",
       "      <td>98104</td>\n",
       "    </tr>\n",
       "    <tr>\n",
       "      <th>1</th>\n",
       "      <td>270 Lafayette Street</td>\n",
       "      <td>Suite 505</td>\n",
       "      <td>New York</td>\n",
       "      <td>USA</td>\n",
       "      <td></td>\n",
       "      <td>40.723731</td>\n",
       "      <td>-73.996431</td>\n",
       "      <td>NY</td>\n",
       "      <td>10012</td>\n",
       "    </tr>\n",
       "    <tr>\n",
       "      <th>2</th>\n",
       "      <td>4900 Hopyard Rd.</td>\n",
       "      <td>Suite 310</td>\n",
       "      <td>Pleasanton</td>\n",
       "      <td>USA</td>\n",
       "      <td>Headquarters</td>\n",
       "      <td>37.692934</td>\n",
       "      <td>-121.904945</td>\n",
       "      <td>CA</td>\n",
       "      <td>94588</td>\n",
       "    </tr>\n",
       "    <tr>\n",
       "      <th>3</th>\n",
       "      <td>4900 Hopyard Rd</td>\n",
       "      <td>Suite 310</td>\n",
       "      <td>Pleasanton</td>\n",
       "      <td>USA</td>\n",
       "      <td>Headquarters</td>\n",
       "      <td>37.692934</td>\n",
       "      <td>-121.904945</td>\n",
       "      <td>CA</td>\n",
       "      <td>94588</td>\n",
       "    </tr>\n",
       "    <tr>\n",
       "      <th>4</th>\n",
       "      <td>135 Mississippi St</td>\n",
       "      <td></td>\n",
       "      <td>San Francisco</td>\n",
       "      <td>USA</td>\n",
       "      <td>None</td>\n",
       "      <td>37.764726</td>\n",
       "      <td>-122.394523</td>\n",
       "      <td>CA</td>\n",
       "      <td>94107</td>\n",
       "    </tr>\n",
       "  </tbody>\n",
       "</table>\n",
       "</div>"
      ],
      "text/plain": [
       "               address1    address2           city country_code   description  \\\n",
       "0      710 - 2nd Avenue  Suite 1100        Seattle          USA                 \n",
       "1  270 Lafayette Street   Suite 505       New York          USA                 \n",
       "2      4900 Hopyard Rd.   Suite 310     Pleasanton          USA  Headquarters   \n",
       "3       4900 Hopyard Rd   Suite 310     Pleasanton          USA  Headquarters   \n",
       "4    135 Mississippi St              San Francisco          USA          None   \n",
       "\n",
       "    latitude   longitude state_code zip_code  \n",
       "0  47.603122 -122.333253         WA    98104  \n",
       "1  40.723731  -73.996431         NY    10012  \n",
       "2  37.692934 -121.904945         CA    94588  \n",
       "3  37.692934 -121.904945         CA    94588  \n",
       "4  37.764726 -122.394523         CA    94107  "
      ]
     },
     "execution_count": 26,
     "metadata": {},
     "output_type": "execute_result"
    }
   ],
   "source": [
    "j = json_normalize(office_merged['office'])\n",
    "j.head()"
   ]
  },
  {
   "cell_type": "code",
   "execution_count": 27,
   "metadata": {},
   "outputs": [
    {
     "data": {
      "text/html": [
       "<div>\n",
       "<style scoped>\n",
       "    .dataframe tbody tr th:only-of-type {\n",
       "        vertical-align: middle;\n",
       "    }\n",
       "\n",
       "    .dataframe tbody tr th {\n",
       "        vertical-align: top;\n",
       "    }\n",
       "\n",
       "    .dataframe thead th {\n",
       "        text-align: right;\n",
       "    }\n",
       "</style>\n",
       "<table border=\"1\" class=\"dataframe\">\n",
       "  <thead>\n",
       "    <tr style=\"text-align: right;\">\n",
       "      <th></th>\n",
       "      <th>index</th>\n",
       "      <th>name</th>\n",
       "      <th>category_code</th>\n",
       "      <th>number_of_employees</th>\n",
       "      <th>amount_raised_M$</th>\n",
       "      <th>office</th>\n",
       "    </tr>\n",
       "  </thead>\n",
       "  <tbody>\n",
       "    <tr>\n",
       "      <th>0</th>\n",
       "      <td>0</td>\n",
       "      <td>Wetpaint</td>\n",
       "      <td>web</td>\n",
       "      <td>47</td>\n",
       "      <td>39.8</td>\n",
       "      <td>{'description': '', 'address1': '710 - 2nd Ave...</td>\n",
       "    </tr>\n",
       "    <tr>\n",
       "      <th>1</th>\n",
       "      <td>0</td>\n",
       "      <td>Wetpaint</td>\n",
       "      <td>web</td>\n",
       "      <td>47</td>\n",
       "      <td>39.8</td>\n",
       "      <td>{'description': '', 'address1': '270 Lafayette...</td>\n",
       "    </tr>\n",
       "    <tr>\n",
       "      <th>2</th>\n",
       "      <td>1</td>\n",
       "      <td>AdventNet</td>\n",
       "      <td>enterprise</td>\n",
       "      <td>600</td>\n",
       "      <td>0.0</td>\n",
       "      <td>{'description': 'Headquarters', 'address1': '4...</td>\n",
       "    </tr>\n",
       "    <tr>\n",
       "      <th>3</th>\n",
       "      <td>2</td>\n",
       "      <td>Zoho</td>\n",
       "      <td>software</td>\n",
       "      <td>1600</td>\n",
       "      <td>0.0</td>\n",
       "      <td>{'description': 'Headquarters', 'address1': '4...</td>\n",
       "    </tr>\n",
       "    <tr>\n",
       "      <th>4</th>\n",
       "      <td>3</td>\n",
       "      <td>Digg</td>\n",
       "      <td>news</td>\n",
       "      <td>60</td>\n",
       "      <td>45.0</td>\n",
       "      <td>{'description': None, 'address1': '135 Mississ...</td>\n",
       "    </tr>\n",
       "    <tr>\n",
       "      <th>5</th>\n",
       "      <td>4</td>\n",
       "      <td>Facebook</td>\n",
       "      <td>social</td>\n",
       "      <td>5299</td>\n",
       "      <td>2430.0</td>\n",
       "      <td>{'description': 'Headquarters', 'address1': '1...</td>\n",
       "    </tr>\n",
       "    <tr>\n",
       "      <th>6</th>\n",
       "      <td>4</td>\n",
       "      <td>Facebook</td>\n",
       "      <td>social</td>\n",
       "      <td>5299</td>\n",
       "      <td>2430.0</td>\n",
       "      <td>{'description': 'Europe HQ', 'address1': '', '...</td>\n",
       "    </tr>\n",
       "    <tr>\n",
       "      <th>7</th>\n",
       "      <td>4</td>\n",
       "      <td>Facebook</td>\n",
       "      <td>social</td>\n",
       "      <td>5299</td>\n",
       "      <td>2430.0</td>\n",
       "      <td>{'description': 'New York', 'address1': '340 M...</td>\n",
       "    </tr>\n",
       "    <tr>\n",
       "      <th>8</th>\n",
       "      <td>5</td>\n",
       "      <td>Geni</td>\n",
       "      <td>web</td>\n",
       "      <td>18</td>\n",
       "      <td>16.5</td>\n",
       "      <td>{'description': 'Headquarters', 'address1': '9...</td>\n",
       "    </tr>\n",
       "  </tbody>\n",
       "</table>\n",
       "</div>"
      ],
      "text/plain": [
       "   index       name category_code  number_of_employees  amount_raised_M$  \\\n",
       "0      0   Wetpaint           web                   47              39.8   \n",
       "1      0   Wetpaint           web                   47              39.8   \n",
       "2      1  AdventNet    enterprise                  600               0.0   \n",
       "3      2       Zoho      software                 1600               0.0   \n",
       "4      3       Digg          news                   60              45.0   \n",
       "5      4   Facebook        social                 5299            2430.0   \n",
       "6      4   Facebook        social                 5299            2430.0   \n",
       "7      4   Facebook        social                 5299            2430.0   \n",
       "8      5       Geni           web                   18              16.5   \n",
       "\n",
       "                                              office  \n",
       "0  {'description': '', 'address1': '710 - 2nd Ave...  \n",
       "1  {'description': '', 'address1': '270 Lafayette...  \n",
       "2  {'description': 'Headquarters', 'address1': '4...  \n",
       "3  {'description': 'Headquarters', 'address1': '4...  \n",
       "4  {'description': None, 'address1': '135 Mississ...  \n",
       "5  {'description': 'Headquarters', 'address1': '1...  \n",
       "6  {'description': 'Europe HQ', 'address1': '', '...  \n",
       "7  {'description': 'New York', 'address1': '340 M...  \n",
       "8  {'description': 'Headquarters', 'address1': '9...  "
      ]
     },
     "execution_count": 27,
     "metadata": {},
     "output_type": "execute_result"
    }
   ],
   "source": [
    "office_merged.head(9)"
   ]
  },
  {
   "cell_type": "code",
   "execution_count": 28,
   "metadata": {},
   "outputs": [
    {
     "data": {
      "text/plain": [
       "328"
      ]
     },
     "execution_count": 28,
     "metadata": {},
     "output_type": "execute_result"
    }
   ],
   "source": [
    "#Check if there are duplicated values into the 'office' column\n",
    "\n",
    "find_duplicated = json_normalize(office_merged['office'])\n",
    "find_duplicated.duplicated().sum()\n"
   ]
  },
  {
   "cell_type": "code",
   "execution_count": 29,
   "metadata": {},
   "outputs": [],
   "source": [
    "# Deleting duplicates\n",
    "\n",
    "def duplicates_remover(df):\n",
    "    office_merged['duplicates'] = df.astype(str)\n",
    "    return office_merged.drop_duplicates('duplicates', keep = 'first')\n",
    "\n",
    "office_merged = duplicates_remover(office_merged['office'])\n",
    "office_merged = columns_drop(office_merged, 'duplicates')\n",
    "\n"
   ]
  },
  {
   "cell_type": "code",
   "execution_count": 31,
   "metadata": {},
   "outputs": [
    {
     "data": {
      "text/plain": [
       "5528"
      ]
     },
     "execution_count": 31,
     "metadata": {},
     "output_type": "execute_result"
    }
   ],
   "source": [
    "find_duplicated1 = json_normalize(office_merged['office'])\n",
    "find_duplicated1.duplicated().sum()\n",
    "len(office_merged['office'])"
   ]
  },
  {
   "cell_type": "code",
   "execution_count": 33,
   "metadata": {},
   "outputs": [
    {
     "data": {
      "text/html": [
       "<div>\n",
       "<style scoped>\n",
       "    .dataframe tbody tr th:only-of-type {\n",
       "        vertical-align: middle;\n",
       "    }\n",
       "\n",
       "    .dataframe tbody tr th {\n",
       "        vertical-align: top;\n",
       "    }\n",
       "\n",
       "    .dataframe thead th {\n",
       "        text-align: right;\n",
       "    }\n",
       "</style>\n",
       "<table border=\"1\" class=\"dataframe\">\n",
       "  <thead>\n",
       "    <tr style=\"text-align: right;\">\n",
       "      <th></th>\n",
       "      <th>index</th>\n",
       "      <th>name</th>\n",
       "      <th>category_code</th>\n",
       "      <th>number_of_employees</th>\n",
       "      <th>amount_raised_M$</th>\n",
       "      <th>office</th>\n",
       "    </tr>\n",
       "  </thead>\n",
       "  <tbody>\n",
       "    <tr>\n",
       "      <th>0</th>\n",
       "      <td>0</td>\n",
       "      <td>Wetpaint</td>\n",
       "      <td>web</td>\n",
       "      <td>47</td>\n",
       "      <td>39.8</td>\n",
       "      <td>{'description': '', 'address1': '710 - 2nd Ave...</td>\n",
       "    </tr>\n",
       "    <tr>\n",
       "      <th>1</th>\n",
       "      <td>0</td>\n",
       "      <td>Wetpaint</td>\n",
       "      <td>web</td>\n",
       "      <td>47</td>\n",
       "      <td>39.8</td>\n",
       "      <td>{'description': '', 'address1': '270 Lafayette...</td>\n",
       "    </tr>\n",
       "    <tr>\n",
       "      <th>2</th>\n",
       "      <td>1</td>\n",
       "      <td>AdventNet</td>\n",
       "      <td>enterprise</td>\n",
       "      <td>600</td>\n",
       "      <td>0.0</td>\n",
       "      <td>{'description': 'Headquarters', 'address1': '4...</td>\n",
       "    </tr>\n",
       "    <tr>\n",
       "      <th>3</th>\n",
       "      <td>2</td>\n",
       "      <td>Zoho</td>\n",
       "      <td>software</td>\n",
       "      <td>1600</td>\n",
       "      <td>0.0</td>\n",
       "      <td>{'description': 'Headquarters', 'address1': '4...</td>\n",
       "    </tr>\n",
       "    <tr>\n",
       "      <th>4</th>\n",
       "      <td>3</td>\n",
       "      <td>Digg</td>\n",
       "      <td>news</td>\n",
       "      <td>60</td>\n",
       "      <td>45.0</td>\n",
       "      <td>{'description': None, 'address1': '135 Mississ...</td>\n",
       "    </tr>\n",
       "  </tbody>\n",
       "</table>\n",
       "</div>"
      ],
      "text/plain": [
       "   index       name category_code  number_of_employees  amount_raised_M$  \\\n",
       "0      0   Wetpaint           web                   47              39.8   \n",
       "1      0   Wetpaint           web                   47              39.8   \n",
       "2      1  AdventNet    enterprise                  600               0.0   \n",
       "3      2       Zoho      software                 1600               0.0   \n",
       "4      3       Digg          news                   60              45.0   \n",
       "\n",
       "                                              office  \n",
       "0  {'description': '', 'address1': '710 - 2nd Ave...  \n",
       "1  {'description': '', 'address1': '270 Lafayette...  \n",
       "2  {'description': 'Headquarters', 'address1': '4...  \n",
       "3  {'description': 'Headquarters', 'address1': '4...  \n",
       "4  {'description': None, 'address1': '135 Mississ...  "
      ]
     },
     "execution_count": 33,
     "metadata": {},
     "output_type": "execute_result"
    }
   ],
   "source": [
    "office_merged.head()"
   ]
  },
  {
   "cell_type": "code",
   "execution_count": 38,
   "metadata": {},
   "outputs": [],
   "source": [
    "data3 = office_merged.copy()"
   ]
  },
  {
   "cell_type": "code",
   "execution_count": 41,
   "metadata": {},
   "outputs": [
    {
     "name": "stderr",
     "output_type": "stream",
     "text": [
      "/usr/local/Cellar/ipython/7.3.0/libexec/vendor/lib/python3.7/site-packages/ipykernel_launcher.py:3: RuntimeWarning: divide by zero encountered in log\n",
      "  This is separate from the ipykernel package so we can avoid doing imports until\n"
     ]
    }
   ],
   "source": [
    "#I assume companies who have raised more, will pay higher income to their employees.\n",
    "\n",
    "test = np.log(data3['amount_raised_M$'])"
   ]
  },
  {
   "cell_type": "code",
   "execution_count": null,
   "metadata": {},
   "outputs": [],
   "source": []
  },
  {
   "cell_type": "code",
   "execution_count": null,
   "metadata": {},
   "outputs": [],
   "source": []
  },
  {
   "cell_type": "code",
   "execution_count": 45,
   "metadata": {},
   "outputs": [],
   "source": [
    "#Weighting most interesting values: 2. log ('amount_raised_M')*\"number_of_employees\":\n",
    "\n",
    "lst = []\n",
    "for i in test:\n",
    "    if i <0:\n",
    "        lst.append(i)\n",
    "        "
   ]
  },
  {
   "cell_type": "code",
   "execution_count": 47,
   "metadata": {},
   "outputs": [
    {
     "data": {
      "text/plain": [
       "3822"
      ]
     },
     "execution_count": 47,
     "metadata": {},
     "output_type": "execute_result"
    }
   ],
   "source": [
    "len(lst)"
   ]
  },
  {
   "cell_type": "code",
   "execution_count": 48,
   "metadata": {},
   "outputs": [
    {
     "data": {
      "text/plain": [
       "5528"
      ]
     },
     "execution_count": 48,
     "metadata": {},
     "output_type": "execute_result"
    }
   ],
   "source": []
  },
  {
   "cell_type": "code",
   "execution_count": 28,
   "metadata": {},
   "outputs": [],
   "source": [
    "# #Function to convert the info within offices into columns.\n",
    "# def latlong(data):\n",
    "#     data = data['offices']\n",
    "#     principal = None\n",
    "#     if data[0]['latitude'] and data[0]['longitude']:                   #Check there is data\n",
    "#         principal = {\n",
    "#             \"type\":\"Point\",\n",
    "#             \"coordinates\":[data[0]['longitude'], data[0]['latitude']]\n",
    "#         }\n",
    "\n",
    "#     return {\n",
    "#         \"totalOffices\": len(data),\n",
    "#         \"lat\": data[0]['latitude'],\n",
    "#         \"lng\": data[0]['longitude'],\n",
    "#         \"main_office (geoquery)\": principal\n",
    "#     }\n",
    "\n",
    "# data_latlong = data[[\"offices\"]].apply(latlong, result_type=\"expand\", axis=1).dropna()\n"
   ]
  },
  {
   "cell_type": "code",
   "execution_count": null,
   "metadata": {},
   "outputs": [],
   "source": []
  },
  {
   "cell_type": "code",
   "execution_count": null,
   "metadata": {},
   "outputs": [],
   "source": []
  },
  {
   "cell_type": "code",
   "execution_count": null,
   "metadata": {},
   "outputs": [],
   "source": [
    "#Concatenate all data\n",
    "data = pd.concat([data, data_latlong], axis = 1)\n"
   ]
  },
  {
   "cell_type": "code",
   "execution_count": null,
   "metadata": {},
   "outputs": [],
   "source": [
    "data = data[[x for x in data.columns if x !='deadpooled' and x != 'offices']]"
   ]
  },
  {
   "cell_type": "code",
   "execution_count": null,
   "metadata": {},
   "outputs": [],
   "source": [
    "data.head()"
   ]
  },
  {
   "cell_type": "code",
   "execution_count": null,
   "metadata": {},
   "outputs": [],
   "source": [
    "a = json_normalize(data['main_office (geoquery)'][0])\n",
    "a"
   ]
  },
  {
   "cell_type": "code",
   "execution_count": null,
   "metadata": {},
   "outputs": [],
   "source": [
    "data.dtypes"
   ]
  },
  {
   "cell_type": "code",
   "execution_count": null,
   "metadata": {},
   "outputs": [],
   "source": [
    "data.fillna(0).head()"
   ]
  },
  {
   "cell_type": "code",
   "execution_count": null,
   "metadata": {},
   "outputs": [],
   "source": [
    "data['founded_year'].astype(int)"
   ]
  },
  {
   "cell_type": "code",
   "execution_count": null,
   "metadata": {},
   "outputs": [],
   "source": [
    "def fixints(col):\n",
    "    data[col].fillna(0, inplace = True)\n",
    "    data[col] = data[col].astype(int)\n",
    "    return data[col]\n",
    "\n",
    "data = fixints ('founded_year')"
   ]
  },
  {
   "cell_type": "code",
   "execution_count": null,
   "metadata": {},
   "outputs": [],
   "source": [
    "# data_cols = data_companies_1office[['alias_list', 'category_code','description', 'total_money_raised','founded_year','offices', 'deadpooled_year', 'deadpooled_day', 'deadpooled_month',\n",
    "#        'deadpooled_url' ]]"
   ]
  },
  {
   "cell_type": "code",
   "execution_count": null,
   "metadata": {},
   "outputs": [],
   "source": [
    "def latlong(data):\n",
    "    data = data['offices']\n",
    "#    return (len(data),data[0]['latitude'],data[0]['longitude'])\n",
    "\n",
    "    # Only create the geoJSON object if all geodata is available\n",
    "    principal = None\n",
    "    if data[0]['latitude'] and data[0]['longitude']:\n",
    "        principal = {\n",
    "            \"type\":\"Point\",\n",
    "            \"coordinates\":[data[0]['longitude'], data[0]['latitude']]\n",
    "        }\n",
    "\n",
    "    return {\n",
    "        \"totalOffices\": len(data),\n",
    "        \"lat\": data[0]['latitude'],\n",
    "        \"lng\": data[0]['longitude'],\n",
    "        \"main_office\": principal\n",
    "    }\n",
    "\n",
    "\n",
    "data_latlong = data_cols[[\"offices\"]].apply(latlong, result_type=\"expand\", axis=1)"
   ]
  },
  {
   "cell_type": "code",
   "execution_count": null,
   "metadata": {},
   "outputs": [],
   "source": [
    "data_latlong.dropna(inplace = True)"
   ]
  },
  {
   "cell_type": "code",
   "execution_count": null,
   "metadata": {},
   "outputs": [],
   "source": [
    "display(data_latlong.head())\n"
   ]
  },
  {
   "cell_type": "code",
   "execution_count": null,
   "metadata": {},
   "outputs": [],
   "source": [
    "# def latlong(df):\n",
    "#     df = df['offices']\n",
    "#     for l in df:\n",
    "#         if l['latitude'] and l['longitude']:\n",
    "#             return {\n",
    "#                     \"lat\": l['latitude'],\n",
    "#                     \"long\": l['longitude']\n",
    "                    \n",
    "#                 }\n",
    "\n",
    "# first_office = data_cols[['offices']].apply(latlong, result_type = \"expand\", axis=1)\n",
    "# display(first_office.head())"
   ]
  },
  {
   "cell_type": "code",
   "execution_count": null,
   "metadata": {},
   "outputs": [],
   "source": [
    "data_office = pd.concat([data_cols, data_latlong],axis=1)\n",
    "display(data_office.head())\n",
    "data_office.shape"
   ]
  },
  {
   "cell_type": "code",
   "execution_count": null,
   "metadata": {},
   "outputs": [],
   "source": [
    "data_office.dropna(subset=['lat','lng'], inplace = True)\n",
    "data_office.shape\n"
   ]
  },
  {
   "cell_type": "code",
   "execution_count": null,
   "metadata": {
    "scrolled": true
   },
   "outputs": [],
   "source": [
    "# data_companies = data_latlong[['alias_list', 'category_code', 'description', 'total_money_raised', 'founded_year', 'deadpooled_year', 'deadpooled_day', 'deadpooled_month',\n",
    "#        'deadpooled_url', 'lat', 'long']]\n",
    "# data_companies.shape"
   ]
  },
  {
   "cell_type": "code",
   "execution_count": null,
   "metadata": {},
   "outputs": [],
   "source": [
    "#drop notnull values in deadpool = if it has a value it means the startup is dead.\n",
    "data2 = data_office[pd.isnull(data_office['deadpooled_year'])]\n",
    "data3 = data2[pd.isnull(data_office['deadpooled_day'])]\n",
    "data4 = data3[pd.isnull(data_office['deadpooled_month'])]\n",
    "data_deads = data4[pd.isnull(data_office['deadpooled_url'])]\n",
    "\n",
    "\n",
    "data2.shape"
   ]
  },
  {
   "cell_type": "code",
   "execution_count": null,
   "metadata": {},
   "outputs": [],
   "source": [
    "display(data_deads.head())"
   ]
  },
  {
   "cell_type": "code",
   "execution_count": null,
   "metadata": {},
   "outputs": [],
   "source": [
    "data_companies_clean = data_deads[['alias_list', 'category_code', 'description', 'total_money_raised', 'founded_year', 'main_office', 'lat','lng']]\n",
    "display(data_companies_clean.head())\n",
    "data_companies_clean.shape"
   ]
  },
  {
   "cell_type": "code",
   "execution_count": null,
   "metadata": {},
   "outputs": [],
   "source": [
    "data_year = data_companies_clean[data_companies_clean['founded_year']>2006]\n",
    "data_year.shape"
   ]
  },
  {
   "cell_type": "code",
   "execution_count": null,
   "metadata": {},
   "outputs": [],
   "source": [
    "data_web = data_year[data_year['category_code'] == 'web']\n",
    "data_web.shape"
   ]
  },
  {
   "cell_type": "code",
   "execution_count": null,
   "metadata": {},
   "outputs": [],
   "source": [
    "data_final = data_web[data_web['total_money_raised'] != '$0']\n",
    "data_final.shape"
   ]
  },
  {
   "cell_type": "code",
   "execution_count": null,
   "metadata": {},
   "outputs": [],
   "source": [
    "#The idea is to develop elaborated backend products to be sold to other web startup. other startups. Because of that, I only select young startups\n",
    "#which have been funded and are not big enough to develop these products by their own. "
   ]
  },
  {
   "cell_type": "code",
   "execution_count": null,
   "metadata": {},
   "outputs": [],
   "source": [
    "display(data_final.head())"
   ]
  },
  {
   "cell_type": "code",
   "execution_count": null,
   "metadata": {},
   "outputs": [],
   "source": [
    "data_final['main_office'][0]"
   ]
  },
  {
   "cell_type": "code",
   "execution_count": null,
   "metadata": {},
   "outputs": [],
   "source": []
  },
  {
   "cell_type": "code",
   "execution_count": null,
   "metadata": {},
   "outputs": [],
   "source": []
  },
  {
   "cell_type": "code",
   "execution_count": null,
   "metadata": {},
   "outputs": [],
   "source": []
  },
  {
   "cell_type": "code",
   "execution_count": null,
   "metadata": {},
   "outputs": [],
   "source": [
    "data_final.to_json('/Users/alejandroiborralucas/Desktop/Git-iron/Project crunchbase/visualizing-real-world-data-project/oficinas.json', orient=\"records\")"
   ]
  },
  {
   "cell_type": "code",
   "execution_count": null,
   "metadata": {},
   "outputs": [],
   "source": []
  },
  {
   "cell_type": "code",
   "execution_count": null,
   "metadata": {},
   "outputs": [],
   "source": []
  },
  {
   "cell_type": "code",
   "execution_count": null,
   "metadata": {},
   "outputs": [],
   "source": [
    "# def splitMoney(df): \n",
    "#     x = re.findall('([^\\d+])', df)\n",
    "#     return x\n",
    "# data_companies_clean['Currency type'] = data_companies_clean['total_money_raised'].apply(splitMoney)\n",
    "\n",
    "# #display(data_companies_clean['Currency type'].head())\n",
    "# display(data_companies_clean.head())"
   ]
  },
  {
   "cell_type": "code",
   "execution_count": null,
   "metadata": {},
   "outputs": [],
   "source": [
    "# data_companies_clean['Currency type'].value_counts()"
   ]
  },
  {
   "cell_type": "code",
   "execution_count": null,
   "metadata": {},
   "outputs": [],
   "source": [
    "# values=[]\n",
    "# a = ['$', '€', '£', 'C', 'k']\n",
    "# for i in data_companies_clean['Currency type']:\n",
    "#     if i[0] not in values:\n",
    "#         values.append(i[0])\n",
    "# print(values)"
   ]
  },
  {
   "cell_type": "code",
   "execution_count": null,
   "metadata": {},
   "outputs": [],
   "source": [
    "# #VOY POR AQUI. MONTAR FUNCION USANDO REGEX QUE BUSQUE M Y MULTIPLIQUE POR 1X10^6, ETC. + API PARA TIPOS DE CAMBIO\n",
    "\n",
    "# def valueMultiplier(df):\n",
    "#     x = re.findall('(\\d+)', df)\n",
    "    \n",
    "#     return x\n",
    "\n",
    "# data_companies_clean['Value Gross'] = data_companies_clean['total_money_raised'].apply(valueMultiplier)\n",
    "    "
   ]
  },
  {
   "cell_type": "code",
   "execution_count": null,
   "metadata": {},
   "outputs": [],
   "source": [
    "#def findCurrency (m):\n",
    "#    currency_dict = {\n",
    "#        '$': 1\n",
    "#        '€': 1.12\n",
    "#        '£': 1.25\n",
    "#        'C$': 0.76\n",
    "#        'kr': 0.11\n",
    "#    }\n",
    "#for currency, value in findMonth.items():\n",
    "#    if currency in m:\n",
    "#        return int(value)\n",
    "#    return 0 \n",
    "#data_companies_clean['Currency type'] = data_companies_clean['total_money_raised'].apply(findCurrency)"
   ]
  },
  {
   "cell_type": "code",
   "execution_count": null,
   "metadata": {},
   "outputs": [],
   "source": [
    "# data_companies_clean['a'] = [data_companies_clean['total_money_raised'].str.split('$', expand=True)]\n",
    "\n",
    "# display(data_companies_clean.head())"
   ]
  },
  {
   "cell_type": "code",
   "execution_count": null,
   "metadata": {},
   "outputs": [],
   "source": [
    "# def classifyCurrencies(df):\n",
    "#     money_type = []\n",
    "    \n",
    "#     for i in splitCurrencies(df):\n",
    "#         if i in currencies:\n",
    "#             money_type.append(i)\n",
    "#     return money_type"
   ]
  },
  {
   "cell_type": "code",
   "execution_count": null,
   "metadata": {},
   "outputs": [],
   "source": [
    "# #tipos de monedas en el dataset\n",
    "# currencies_types=[]\n",
    "# for i in data_companies_clean['total_money_raised']:\n",
    "#     if i[0:2] not in currencies_types:\n",
    "#         currencies_types.append(i[0:2])\n",
    "\n",
    "# print(currencies_types)"
   ]
  },
  {
   "cell_type": "code",
   "execution_count": null,
   "metadata": {},
   "outputs": [],
   "source": [
    "# currency=[]\n",
    "# for i in data_companies_clean['total_money_raised']:\n",
    "#     currency.append(i[0:2])\n",
    "\n"
   ]
  },
  {
   "cell_type": "code",
   "execution_count": null,
   "metadata": {},
   "outputs": [],
   "source": [
    "# currency_type = pd.DataFrame({'Currency':currency})\n",
    "# display(currency_type.head())"
   ]
  },
  {
   "cell_type": "code",
   "execution_count": null,
   "metadata": {},
   "outputs": [],
   "source": []
  },
  {
   "cell_type": "code",
   "execution_count": null,
   "metadata": {},
   "outputs": [],
   "source": [
    "# def splitCurrencies(df):\n",
    "#     split = df.str.split('')\n",
    "#     return split\n",
    "\n",
    "\n"
   ]
  },
  {
   "cell_type": "code",
   "execution_count": null,
   "metadata": {},
   "outputs": [],
   "source": [
    "# def classifyCurrencies(df):\n",
    "#     money_type = []\n",
    "#     for i in splitCurrencies(df):\n",
    "#         if i in currencies:\n",
    "#             money_type.append(i)\n",
    "#     return money_type\n",
    "\n",
    "# classifyCurrencies(data_companies_clean[['total_money_raised']])"
   ]
  },
  {
   "cell_type": "code",
   "execution_count": null,
   "metadata": {},
   "outputs": [],
   "source": [
    "# data_companies_clean['currency']= data_companies_clean[['total_money_raised']].apply(splitCurrencies, result_type = 'expand', axis=1)\n"
   ]
  },
  {
   "cell_type": "code",
   "execution_count": null,
   "metadata": {},
   "outputs": [],
   "source": [
    "# display(data_companies_clean.head())"
   ]
  },
  {
   "cell_type": "code",
   "execution_count": null,
   "metadata": {},
   "outputs": [],
   "source": []
  },
  {
   "cell_type": "code",
   "execution_count": null,
   "metadata": {},
   "outputs": [],
   "source": []
  }
 ],
 "metadata": {
  "kernelspec": {
   "display_name": "Python 3",
   "language": "python",
   "name": "python3"
  },
  "language_info": {
   "codemirror_mode": {
    "name": "ipython",
    "version": 3
   },
   "file_extension": ".py",
   "mimetype": "text/x-python",
   "name": "python",
   "nbconvert_exporter": "python",
   "pygments_lexer": "ipython3",
   "version": "3.7.2"
  }
 },
 "nbformat": 4,
 "nbformat_minor": 2
}
