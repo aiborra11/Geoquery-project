{
 "cells": [
  {
   "cell_type": "code",
   "execution_count": 1,
   "metadata": {},
   "outputs": [],
   "source": [
    "from pymongo import MongoClient\n",
    "import pandas as pd\n",
    "import pymongo\n",
    "import folium"
   ]
  },
  {
   "cell_type": "code",
   "execution_count": 2,
   "metadata": {},
   "outputs": [],
   "source": [
    "client = MongoClient('mongodb://localhost:27017/')\n",
    "db = client.companies\n",
    "data = db.data_companies_clean.find()"
   ]
  },
  {
   "cell_type": "code",
   "execution_count": 3,
   "metadata": {},
   "outputs": [
    {
     "data": {
      "text/html": [
       "<div>\n",
       "<style scoped>\n",
       "    .dataframe tbody tr th:only-of-type {\n",
       "        vertical-align: middle;\n",
       "    }\n",
       "\n",
       "    .dataframe tbody tr th {\n",
       "        vertical-align: top;\n",
       "    }\n",
       "\n",
       "    .dataframe thead th {\n",
       "        text-align: right;\n",
       "    }\n",
       "</style>\n",
       "<table border=\"1\" class=\"dataframe\">\n",
       "  <thead>\n",
       "    <tr style=\"text-align: right;\">\n",
       "      <th></th>\n",
       "      <th>_id</th>\n",
       "      <th>alias_list</th>\n",
       "      <th>category_code</th>\n",
       "      <th>description</th>\n",
       "      <th>founded_year</th>\n",
       "      <th>lat</th>\n",
       "      <th>lng</th>\n",
       "      <th>main_office</th>\n",
       "      <th>total_money_raised</th>\n",
       "    </tr>\n",
       "  </thead>\n",
       "  <tbody>\n",
       "    <tr>\n",
       "      <th>0</th>\n",
       "      <td>5d2633ac797d7972f3178d9e</td>\n",
       "      <td></td>\n",
       "      <td>web</td>\n",
       "      <td>Life long learning content</td>\n",
       "      <td>2007</td>\n",
       "      <td>34.017606</td>\n",
       "      <td>-118.487267</td>\n",
       "      <td>{'type': 'Point', 'coordinates': [-118.487267,...</td>\n",
       "      <td>$21M</td>\n",
       "    </tr>\n",
       "    <tr>\n",
       "      <th>1</th>\n",
       "      <td>5d2633ac797d7972f3178d9f</td>\n",
       "      <td>None</td>\n",
       "      <td>web</td>\n",
       "      <td>None</td>\n",
       "      <td>2007</td>\n",
       "      <td>37.269175</td>\n",
       "      <td>-119.306607</td>\n",
       "      <td>{'type': 'Point', 'coordinates': [-119.306607,...</td>\n",
       "      <td>$100k</td>\n",
       "    </tr>\n",
       "    <tr>\n",
       "      <th>2</th>\n",
       "      <td>5d2633ac797d7972f3178da0</td>\n",
       "      <td></td>\n",
       "      <td>web</td>\n",
       "      <td>Social network for desktop software</td>\n",
       "      <td>2007</td>\n",
       "      <td>52.374523</td>\n",
       "      <td>4.894862</td>\n",
       "      <td>{'type': 'Point', 'coordinates': [4.8948623, 5...</td>\n",
       "      <td>$1M</td>\n",
       "    </tr>\n",
       "    <tr>\n",
       "      <th>3</th>\n",
       "      <td>5d2633ac797d7972f3178da1</td>\n",
       "      <td></td>\n",
       "      <td>web</td>\n",
       "      <td>Video guide for hotels</td>\n",
       "      <td>2007</td>\n",
       "      <td>48.856667</td>\n",
       "      <td>2.350987</td>\n",
       "      <td>{'type': 'Point', 'coordinates': [2.350987, 48...</td>\n",
       "      <td>$13.8M</td>\n",
       "    </tr>\n",
       "    <tr>\n",
       "      <th>4</th>\n",
       "      <td>5d2633ac797d7972f3178da2</td>\n",
       "      <td>None</td>\n",
       "      <td>web</td>\n",
       "      <td>None</td>\n",
       "      <td>2007</td>\n",
       "      <td>40.010492</td>\n",
       "      <td>-105.276843</td>\n",
       "      <td>{'type': 'Point', 'coordinates': [-105.276843,...</td>\n",
       "      <td>$315k</td>\n",
       "    </tr>\n",
       "  </tbody>\n",
       "</table>\n",
       "</div>"
      ],
      "text/plain": [
       "                        _id alias_list category_code  \\\n",
       "0  5d2633ac797d7972f3178d9e                      web   \n",
       "1  5d2633ac797d7972f3178d9f       None           web   \n",
       "2  5d2633ac797d7972f3178da0                      web   \n",
       "3  5d2633ac797d7972f3178da1                      web   \n",
       "4  5d2633ac797d7972f3178da2       None           web   \n",
       "\n",
       "                           description  founded_year        lat         lng  \\\n",
       "0           Life long learning content          2007  34.017606 -118.487267   \n",
       "1                                 None          2007  37.269175 -119.306607   \n",
       "2  Social network for desktop software          2007  52.374523    4.894862   \n",
       "3               Video guide for hotels          2007  48.856667    2.350987   \n",
       "4                                 None          2007  40.010492 -105.276843   \n",
       "\n",
       "                                         main_office total_money_raised  \n",
       "0  {'type': 'Point', 'coordinates': [-118.487267,...               $21M  \n",
       "1  {'type': 'Point', 'coordinates': [-119.306607,...              $100k  \n",
       "2  {'type': 'Point', 'coordinates': [4.8948623, 5...                $1M  \n",
       "3  {'type': 'Point', 'coordinates': [2.350987, 48...             $13.8M  \n",
       "4  {'type': 'Point', 'coordinates': [-105.276843,...              $315k  "
      ]
     },
     "metadata": {},
     "output_type": "display_data"
    }
   ],
   "source": [
    "data_comp = pd.DataFrame(data)\n",
    "display(data_comp.head())"
   ]
  },
  {
   "cell_type": "code",
   "execution_count": 4,
   "metadata": {},
   "outputs": [],
   "source": [
    "# def findNear(df,radio_max_meters = 2000):\n",
    "#     location = db.data_companies_clean.find({'main_office':{\n",
    "#         '$near':{\n",
    "#             '$geometry':df,\n",
    "#             '$maxDistance': radio_max_meters,\n",
    "#         }\n",
    "#     }\n",
    "#     })\n",
    "#     df1 = pd.DataFrame(location)\n",
    "#     return len(df1)\n",
    "# near_offices = findNear(data_comp['main_office'][0])"
   ]
  },
  {
   "cell_type": "code",
   "execution_count": 5,
   "metadata": {},
   "outputs": [
    {
     "data": {
      "text/plain": [
       "154"
      ]
     },
     "execution_count": 5,
     "metadata": {},
     "output_type": "execute_result"
    }
   ],
   "source": [
    "def findNear(df, radio_max_meters = 20):\n",
    "    lst =[]\n",
    "    for i in range(len(df)):\n",
    "        location = db.data_companies_clean.find({'main_office':{\n",
    "                                                 '$near': {\n",
    "                                                     '$geometry': df[i],\n",
    "                                                     '$maxDistance': radio_max_meters,\n",
    "                                                 }\n",
    "                                                }\n",
    "                                                })\n",
    "        \n",
    "        df2 = pd.DataFrame(location)\n",
    "        lst.append(len(df2))    \n",
    "    return lst\n",
    "\n",
    "near_offices = findNear(data_comp['main_office'])\n",
    "len(near_offices)"
   ]
  },
  {
   "cell_type": "code",
   "execution_count": 6,
   "metadata": {},
   "outputs": [],
   "source": [
    "data_comp['Near offices'] = pd.DataFrame(near_offices)"
   ]
  },
  {
   "cell_type": "code",
   "execution_count": 7,
   "metadata": {},
   "outputs": [
    {
     "data": {
      "text/html": [
       "<div>\n",
       "<style scoped>\n",
       "    .dataframe tbody tr th:only-of-type {\n",
       "        vertical-align: middle;\n",
       "    }\n",
       "\n",
       "    .dataframe tbody tr th {\n",
       "        vertical-align: top;\n",
       "    }\n",
       "\n",
       "    .dataframe thead th {\n",
       "        text-align: right;\n",
       "    }\n",
       "</style>\n",
       "<table border=\"1\" class=\"dataframe\">\n",
       "  <thead>\n",
       "    <tr style=\"text-align: right;\">\n",
       "      <th></th>\n",
       "      <th>_id</th>\n",
       "      <th>alias_list</th>\n",
       "      <th>category_code</th>\n",
       "      <th>description</th>\n",
       "      <th>founded_year</th>\n",
       "      <th>lat</th>\n",
       "      <th>lng</th>\n",
       "      <th>main_office</th>\n",
       "      <th>total_money_raised</th>\n",
       "      <th>Near offices</th>\n",
       "    </tr>\n",
       "  </thead>\n",
       "  <tbody>\n",
       "    <tr>\n",
       "      <th>0</th>\n",
       "      <td>5d2633ac797d7972f3178d9e</td>\n",
       "      <td></td>\n",
       "      <td>web</td>\n",
       "      <td>Life long learning content</td>\n",
       "      <td>2007</td>\n",
       "      <td>34.017606</td>\n",
       "      <td>-118.487267</td>\n",
       "      <td>{'type': 'Point', 'coordinates': [-118.487267,...</td>\n",
       "      <td>$21M</td>\n",
       "      <td>1</td>\n",
       "    </tr>\n",
       "    <tr>\n",
       "      <th>1</th>\n",
       "      <td>5d2633ac797d7972f3178d9f</td>\n",
       "      <td>None</td>\n",
       "      <td>web</td>\n",
       "      <td>None</td>\n",
       "      <td>2007</td>\n",
       "      <td>37.269175</td>\n",
       "      <td>-119.306607</td>\n",
       "      <td>{'type': 'Point', 'coordinates': [-119.306607,...</td>\n",
       "      <td>$100k</td>\n",
       "      <td>2</td>\n",
       "    </tr>\n",
       "    <tr>\n",
       "      <th>2</th>\n",
       "      <td>5d2633ac797d7972f3178da0</td>\n",
       "      <td></td>\n",
       "      <td>web</td>\n",
       "      <td>Social network for desktop software</td>\n",
       "      <td>2007</td>\n",
       "      <td>52.374523</td>\n",
       "      <td>4.894862</td>\n",
       "      <td>{'type': 'Point', 'coordinates': [4.8948623, 5...</td>\n",
       "      <td>$1M</td>\n",
       "      <td>1</td>\n",
       "    </tr>\n",
       "    <tr>\n",
       "      <th>3</th>\n",
       "      <td>5d2633ac797d7972f3178da1</td>\n",
       "      <td></td>\n",
       "      <td>web</td>\n",
       "      <td>Video guide for hotels</td>\n",
       "      <td>2007</td>\n",
       "      <td>48.856667</td>\n",
       "      <td>2.350987</td>\n",
       "      <td>{'type': 'Point', 'coordinates': [2.350987, 48...</td>\n",
       "      <td>$13.8M</td>\n",
       "      <td>2</td>\n",
       "    </tr>\n",
       "    <tr>\n",
       "      <th>4</th>\n",
       "      <td>5d2633ac797d7972f3178da2</td>\n",
       "      <td>None</td>\n",
       "      <td>web</td>\n",
       "      <td>None</td>\n",
       "      <td>2007</td>\n",
       "      <td>40.010492</td>\n",
       "      <td>-105.276843</td>\n",
       "      <td>{'type': 'Point', 'coordinates': [-105.276843,...</td>\n",
       "      <td>$315k</td>\n",
       "      <td>2</td>\n",
       "    </tr>\n",
       "  </tbody>\n",
       "</table>\n",
       "</div>"
      ],
      "text/plain": [
       "                        _id alias_list category_code  \\\n",
       "0  5d2633ac797d7972f3178d9e                      web   \n",
       "1  5d2633ac797d7972f3178d9f       None           web   \n",
       "2  5d2633ac797d7972f3178da0                      web   \n",
       "3  5d2633ac797d7972f3178da1                      web   \n",
       "4  5d2633ac797d7972f3178da2       None           web   \n",
       "\n",
       "                           description  founded_year        lat         lng  \\\n",
       "0           Life long learning content          2007  34.017606 -118.487267   \n",
       "1                                 None          2007  37.269175 -119.306607   \n",
       "2  Social network for desktop software          2007  52.374523    4.894862   \n",
       "3               Video guide for hotels          2007  48.856667    2.350987   \n",
       "4                                 None          2007  40.010492 -105.276843   \n",
       "\n",
       "                                         main_office total_money_raised  \\\n",
       "0  {'type': 'Point', 'coordinates': [-118.487267,...               $21M   \n",
       "1  {'type': 'Point', 'coordinates': [-119.306607,...              $100k   \n",
       "2  {'type': 'Point', 'coordinates': [4.8948623, 5...                $1M   \n",
       "3  {'type': 'Point', 'coordinates': [2.350987, 48...             $13.8M   \n",
       "4  {'type': 'Point', 'coordinates': [-105.276843,...              $315k   \n",
       "\n",
       "   Near offices  \n",
       "0             1  \n",
       "1             2  \n",
       "2             1  \n",
       "3             2  \n",
       "4             2  "
      ]
     },
     "execution_count": 7,
     "metadata": {},
     "output_type": "execute_result"
    }
   ],
   "source": [
    "data_comp.head()"
   ]
  },
  {
   "cell_type": "code",
   "execution_count": 8,
   "metadata": {},
   "outputs": [],
   "source": [
    "base_map = folium.Map(zoom_start=15)"
   ]
  },
  {
   "cell_type": "code",
   "execution_count": 9,
   "metadata": {},
   "outputs": [
    {
     "data": {
      "text/html": [
       "<div style=\"width:100%;\"><div style=\"position:relative;width:100%;height:0;padding-bottom:60%;\"><iframe src=\"data:text/html;charset=utf-8;base64,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\" style=\"position:absolute;width:100%;height:100%;left:0;top:0;border:none !important;\" allowfullscreen webkitallowfullscreen mozallowfullscreen></iframe></div></div>"
      ],
      "text/plain": [
       "<folium.folium.Map at 0x10fa01b70>"
      ]
     },
     "execution_count": 9,
     "metadata": {},
     "output_type": "execute_result"
    }
   ],
   "source": [
    "a = list(zip(data_comp['lat'], data_comp['lng']))\n",
    "for i in a:\n",
    "    b = folium.Marker(location=[i[0],i[1]]).add_to(base_map) \n",
    "    \n",
    "base_map"
   ]
  },
  {
   "cell_type": "code",
   "execution_count": null,
   "metadata": {},
   "outputs": [],
   "source": []
  },
  {
   "cell_type": "code",
   "execution_count": null,
   "metadata": {},
   "outputs": [],
   "source": []
  }
 ],
 "metadata": {
  "kernelspec": {
   "display_name": "Python 3",
   "language": "python",
   "name": "python3"
  },
  "language_info": {
   "codemirror_mode": {
    "name": "ipython",
    "version": 3
   },
   "file_extension": ".py",
   "mimetype": "text/x-python",
   "name": "python",
   "nbconvert_exporter": "python",
   "pygments_lexer": "ipython3",
   "version": "3.7.2"
  }
 },
 "nbformat": 4,
 "nbformat_minor": 2
}
