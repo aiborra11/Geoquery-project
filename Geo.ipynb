{
 "cells": [
  {
   "cell_type": "code",
   "execution_count": 1,
   "metadata": {},
   "outputs": [],
   "source": [
    "from pymongo import MongoClient\n",
    "import pandas as pd\n",
    "import pymongo\n",
    "import folium"
   ]
  },
  {
   "cell_type": "code",
   "execution_count": 2,
   "metadata": {},
   "outputs": [],
   "source": [
    "client = MongoClient('mongodb://localhost:27017/')\n",
    "db = client.companies\n",
    "data = db.data_companies_clean.find()"
   ]
  },
  {
   "cell_type": "code",
   "execution_count": 3,
   "metadata": {},
   "outputs": [
    {
     "data": {
      "text/html": [
       "<div>\n",
       "<style scoped>\n",
       "    .dataframe tbody tr th:only-of-type {\n",
       "        vertical-align: middle;\n",
       "    }\n",
       "\n",
       "    .dataframe tbody tr th {\n",
       "        vertical-align: top;\n",
       "    }\n",
       "\n",
       "    .dataframe thead th {\n",
       "        text-align: right;\n",
       "    }\n",
       "</style>\n",
       "<table border=\"1\" class=\"dataframe\">\n",
       "  <thead>\n",
       "    <tr style=\"text-align: right;\">\n",
       "      <th></th>\n",
       "      <th>_id</th>\n",
       "      <th>alias_list</th>\n",
       "      <th>category_code</th>\n",
       "      <th>description</th>\n",
       "      <th>founded_year</th>\n",
       "      <th>lat</th>\n",
       "      <th>lng</th>\n",
       "      <th>main_office</th>\n",
       "      <th>total_money_raised</th>\n",
       "    </tr>\n",
       "  </thead>\n",
       "  <tbody>\n",
       "    <tr>\n",
       "      <th>0</th>\n",
       "      <td>5d2633ac797d7972f3178d9e</td>\n",
       "      <td></td>\n",
       "      <td>web</td>\n",
       "      <td>Life long learning content</td>\n",
       "      <td>2007</td>\n",
       "      <td>34.017606</td>\n",
       "      <td>-118.487267</td>\n",
       "      <td>{'type': 'Point', 'coordinates': [-118.487267,...</td>\n",
       "      <td>$21M</td>\n",
       "    </tr>\n",
       "    <tr>\n",
       "      <th>1</th>\n",
       "      <td>5d2633ac797d7972f3178d9f</td>\n",
       "      <td>None</td>\n",
       "      <td>web</td>\n",
       "      <td>None</td>\n",
       "      <td>2007</td>\n",
       "      <td>37.269175</td>\n",
       "      <td>-119.306607</td>\n",
       "      <td>{'type': 'Point', 'coordinates': [-119.306607,...</td>\n",
       "      <td>$100k</td>\n",
       "    </tr>\n",
       "    <tr>\n",
       "      <th>2</th>\n",
       "      <td>5d2633ac797d7972f3178da0</td>\n",
       "      <td></td>\n",
       "      <td>web</td>\n",
       "      <td>Social network for desktop software</td>\n",
       "      <td>2007</td>\n",
       "      <td>52.374523</td>\n",
       "      <td>4.894862</td>\n",
       "      <td>{'type': 'Point', 'coordinates': [4.8948623, 5...</td>\n",
       "      <td>$1M</td>\n",
       "    </tr>\n",
       "    <tr>\n",
       "      <th>3</th>\n",
       "      <td>5d2633ac797d7972f3178da1</td>\n",
       "      <td></td>\n",
       "      <td>web</td>\n",
       "      <td>Video guide for hotels</td>\n",
       "      <td>2007</td>\n",
       "      <td>48.856667</td>\n",
       "      <td>2.350987</td>\n",
       "      <td>{'type': 'Point', 'coordinates': [2.350987, 48...</td>\n",
       "      <td>$13.8M</td>\n",
       "    </tr>\n",
       "    <tr>\n",
       "      <th>4</th>\n",
       "      <td>5d2633ac797d7972f3178da2</td>\n",
       "      <td>None</td>\n",
       "      <td>web</td>\n",
       "      <td>None</td>\n",
       "      <td>2007</td>\n",
       "      <td>40.010492</td>\n",
       "      <td>-105.276843</td>\n",
       "      <td>{'type': 'Point', 'coordinates': [-105.276843,...</td>\n",
       "      <td>$315k</td>\n",
       "    </tr>\n",
       "  </tbody>\n",
       "</table>\n",
       "</div>"
      ],
      "text/plain": [
       "                        _id alias_list category_code  \\\n",
       "0  5d2633ac797d7972f3178d9e                      web   \n",
       "1  5d2633ac797d7972f3178d9f       None           web   \n",
       "2  5d2633ac797d7972f3178da0                      web   \n",
       "3  5d2633ac797d7972f3178da1                      web   \n",
       "4  5d2633ac797d7972f3178da2       None           web   \n",
       "\n",
       "                           description  founded_year        lat         lng  \\\n",
       "0           Life long learning content          2007  34.017606 -118.487267   \n",
       "1                                 None          2007  37.269175 -119.306607   \n",
       "2  Social network for desktop software          2007  52.374523    4.894862   \n",
       "3               Video guide for hotels          2007  48.856667    2.350987   \n",
       "4                                 None          2007  40.010492 -105.276843   \n",
       "\n",
       "                                         main_office total_money_raised  \n",
       "0  {'type': 'Point', 'coordinates': [-118.487267,...               $21M  \n",
       "1  {'type': 'Point', 'coordinates': [-119.306607,...              $100k  \n",
       "2  {'type': 'Point', 'coordinates': [4.8948623, 5...                $1M  \n",
       "3  {'type': 'Point', 'coordinates': [2.350987, 48...             $13.8M  \n",
       "4  {'type': 'Point', 'coordinates': [-105.276843,...              $315k  "
      ]
     },
     "metadata": {},
     "output_type": "display_data"
    }
   ],
   "source": [
    "data_comp = pd.DataFrame(data)\n",
    "display(data_comp.head())"
   ]
  },
  {
   "cell_type": "code",
   "execution_count": 4,
   "metadata": {},
   "outputs": [],
   "source": [
    "# def findNear(df,radio_max_meters = 2000):\n",
    "#     location = db.data_companies_clean.find({'main_office':{\n",
    "#         '$near':{\n",
    "#             '$geometry':df,\n",
    "#             '$maxDistance': radio_max_meters,\n",
    "#         }\n",
    "#     }\n",
    "#     })\n",
    "#     df1 = pd.DataFrame(location)\n",
    "#     return len(df1)\n",
    "# near_offices = findNear(data_comp['main_office'][0])"
   ]
  },
  {
   "cell_type": "code",
   "execution_count": 5,
   "metadata": {},
   "outputs": [
    {
     "data": {
      "text/plain": [
       "154"
      ]
     },
     "execution_count": 5,
     "metadata": {},
     "output_type": "execute_result"
    }
   ],
   "source": [
    "def findNear(df, radio_max_meters = 20):\n",
    "    lst =[]\n",
    "    for i in range(len(df)):\n",
    "        location = db.data_companies_clean.find({'main_office':{\n",
    "                                                 '$near': {\n",
    "                                                     '$geometry': df[i],\n",
    "                                                     '$maxDistance': radio_max_meters,\n",
    "                                                 }\n",
    "                                                }\n",
    "                                                })\n",
    "        \n",
    "        df2 = pd.DataFrame(location)\n",
    "        lst.append(len(df2))    \n",
    "    return lst\n",
    "\n",
    "near_offices = findNear(data_comp['main_office'])\n",
    "len(near_offices)"
   ]
  },
  {
   "cell_type": "code",
   "execution_count": 6,
   "metadata": {},
   "outputs": [],
   "source": [
    "data_comp['Near offices'] = pd.DataFrame(near_offices)"
   ]
  },
  {
   "cell_type": "code",
   "execution_count": 7,
   "metadata": {},
   "outputs": [
    {
     "data": {
      "text/html": [
       "<div>\n",
       "<style scoped>\n",
       "    .dataframe tbody tr th:only-of-type {\n",
       "        vertical-align: middle;\n",
       "    }\n",
       "\n",
       "    .dataframe tbody tr th {\n",
       "        vertical-align: top;\n",
       "    }\n",
       "\n",
       "    .dataframe thead th {\n",
       "        text-align: right;\n",
       "    }\n",
       "</style>\n",
       "<table border=\"1\" class=\"dataframe\">\n",
       "  <thead>\n",
       "    <tr style=\"text-align: right;\">\n",
       "      <th></th>\n",
       "      <th>_id</th>\n",
       "      <th>alias_list</th>\n",
       "      <th>category_code</th>\n",
       "      <th>description</th>\n",
       "      <th>founded_year</th>\n",
       "      <th>lat</th>\n",
       "      <th>lng</th>\n",
       "      <th>main_office</th>\n",
       "      <th>total_money_raised</th>\n",
       "      <th>Near offices</th>\n",
       "    </tr>\n",
       "  </thead>\n",
       "  <tbody>\n",
       "    <tr>\n",
       "      <th>0</th>\n",
       "      <td>5d2633ac797d7972f3178d9e</td>\n",
       "      <td></td>\n",
       "      <td>web</td>\n",
       "      <td>Life long learning content</td>\n",
       "      <td>2007</td>\n",
       "      <td>34.017606</td>\n",
       "      <td>-118.487267</td>\n",
       "      <td>{'type': 'Point', 'coordinates': [-118.487267,...</td>\n",
       "      <td>$21M</td>\n",
       "      <td>1</td>\n",
       "    </tr>\n",
       "    <tr>\n",
       "      <th>1</th>\n",
       "      <td>5d2633ac797d7972f3178d9f</td>\n",
       "      <td>None</td>\n",
       "      <td>web</td>\n",
       "      <td>None</td>\n",
       "      <td>2007</td>\n",
       "      <td>37.269175</td>\n",
       "      <td>-119.306607</td>\n",
       "      <td>{'type': 'Point', 'coordinates': [-119.306607,...</td>\n",
       "      <td>$100k</td>\n",
       "      <td>2</td>\n",
       "    </tr>\n",
       "    <tr>\n",
       "      <th>2</th>\n",
       "      <td>5d2633ac797d7972f3178da0</td>\n",
       "      <td></td>\n",
       "      <td>web</td>\n",
       "      <td>Social network for desktop software</td>\n",
       "      <td>2007</td>\n",
       "      <td>52.374523</td>\n",
       "      <td>4.894862</td>\n",
       "      <td>{'type': 'Point', 'coordinates': [4.8948623, 5...</td>\n",
       "      <td>$1M</td>\n",
       "      <td>1</td>\n",
       "    </tr>\n",
       "    <tr>\n",
       "      <th>3</th>\n",
       "      <td>5d2633ac797d7972f3178da1</td>\n",
       "      <td></td>\n",
       "      <td>web</td>\n",
       "      <td>Video guide for hotels</td>\n",
       "      <td>2007</td>\n",
       "      <td>48.856667</td>\n",
       "      <td>2.350987</td>\n",
       "      <td>{'type': 'Point', 'coordinates': [2.350987, 48...</td>\n",
       "      <td>$13.8M</td>\n",
       "      <td>2</td>\n",
       "    </tr>\n",
       "    <tr>\n",
       "      <th>4</th>\n",
       "      <td>5d2633ac797d7972f3178da2</td>\n",
       "      <td>None</td>\n",
       "      <td>web</td>\n",
       "      <td>None</td>\n",
       "      <td>2007</td>\n",
       "      <td>40.010492</td>\n",
       "      <td>-105.276843</td>\n",
       "      <td>{'type': 'Point', 'coordinates': [-105.276843,...</td>\n",
       "      <td>$315k</td>\n",
       "      <td>2</td>\n",
       "    </tr>\n",
       "  </tbody>\n",
       "</table>\n",
       "</div>"
      ],
      "text/plain": [
       "                        _id alias_list category_code  \\\n",
       "0  5d2633ac797d7972f3178d9e                      web   \n",
       "1  5d2633ac797d7972f3178d9f       None           web   \n",
       "2  5d2633ac797d7972f3178da0                      web   \n",
       "3  5d2633ac797d7972f3178da1                      web   \n",
       "4  5d2633ac797d7972f3178da2       None           web   \n",
       "\n",
       "                           description  founded_year        lat         lng  \\\n",
       "0           Life long learning content          2007  34.017606 -118.487267   \n",
       "1                                 None          2007  37.269175 -119.306607   \n",
       "2  Social network for desktop software          2007  52.374523    4.894862   \n",
       "3               Video guide for hotels          2007  48.856667    2.350987   \n",
       "4                                 None          2007  40.010492 -105.276843   \n",
       "\n",
       "                                         main_office total_money_raised  \\\n",
       "0  {'type': 'Point', 'coordinates': [-118.487267,...               $21M   \n",
       "1  {'type': 'Point', 'coordinates': [-119.306607,...              $100k   \n",
       "2  {'type': 'Point', 'coordinates': [4.8948623, 5...                $1M   \n",
       "3  {'type': 'Point', 'coordinates': [2.350987, 48...             $13.8M   \n",
       "4  {'type': 'Point', 'coordinates': [-105.276843,...              $315k   \n",
       "\n",
       "   Near offices  \n",
       "0             1  \n",
       "1             2  \n",
       "2             1  \n",
       "3             2  \n",
       "4             2  "
      ]
     },
     "execution_count": 7,
     "metadata": {},
     "output_type": "execute_result"
    }
   ],
   "source": [
    "data_comp.head()"
   ]
  },
  {
   "cell_type": "code",
   "execution_count": 8,
   "metadata": {},
   "outputs": [],
   "source": [
    "base_map = folium.Map(zoom_start=15)"
   ]
  },
  {
   "cell_type": "code",
   "execution_count": 9,
   "metadata": {},
   "outputs": [
    {
     "data": {
      "text/html": [
       "<div style=\"width:100%;\"><div style=\"position:relative;width:100%;height:0;padding-bottom:60%;\"><iframe src=\"data:text/html;charset=utf-8;base64,PCFET0NUWVBFIGh0bWw+CjxoZWFkPiAgICAKICAgIDxtZXRhIGh0dHAtZXF1aXY9ImNvbnRlbnQtdHlwZSIgY29udGVudD0idGV4dC9odG1sOyBjaGFyc2V0PVVURi04IiAvPgogICAgCiAgICAgICAgPHNjcmlwdD4KICAgICAgICAgICAgTF9OT19UT1VDSCA9IGZhbHNlOwogICAgICAgICAgICBMX0RJU0FCTEVfM0QgPSBmYWxzZTsKICAgICAgICA8L3NjcmlwdD4KICAgIAogICAgPHNjcmlwdCBzcmM9Imh0dHBzOi8vY2RuLmpzZGVsaXZyLm5ldC9ucG0vbGVhZmxldEAxLjQuMC9kaXN0L2xlYWZsZXQuanMiPjwvc2NyaXB0PgogICAgPHNjcmlwdCBzcmM9Imh0dHBzOi8vY29kZS5qcXVlcnkuY29tL2pxdWVyeS0xLjEyLjQubWluLmpzIj48L3NjcmlwdD4KICAgIDxzY3JpcHQgc3JjPSJodHRwczovL21heGNkbi5ib290c3RyYXBjZG4uY29tL2Jvb3RzdHJhcC8zLjIuMC9qcy9ib290c3RyYXAubWluLmpzIj48L3NjcmlwdD4KICAgIDxzY3JpcHQgc3JjPSJodHRwczovL2NkbmpzLmNsb3VkZmxhcmUuY29tL2FqYXgvbGlicy9MZWFmbGV0LmF3ZXNvbWUtbWFya2Vycy8yLjAuMi9sZWFmbGV0LmF3ZXNvbWUtbWFya2Vycy5qcyI+PC9zY3JpcHQ+CiAgICA8bGluayByZWw9InN0eWxlc2hlZXQiIGhyZWY9Imh0dHBzOi8vY2RuLmpzZGVsaXZyLm5ldC9ucG0vbGVhZmxldEAxLjQuMC9kaXN0L2xlYWZsZXQuY3NzIi8+CiAgICA8bGluayByZWw9InN0eWxlc2hlZXQiIGhyZWY9Imh0dHBzOi8vbWF4Y2RuLmJvb3RzdHJhcGNkbi5jb20vYm9vdHN0cmFwLzMuMi4wL2Nzcy9ib290c3RyYXAubWluLmNzcyIvPgogICAgPGxpbmsgcmVsPSJzdHlsZXNoZWV0IiBocmVmPSJodHRwczovL21heGNkbi5ib290c3RyYXBjZG4uY29tL2Jvb3RzdHJhcC8zLjIuMC9jc3MvYm9vdHN0cmFwLXRoZW1lLm1pbi5jc3MiLz4KICAgIDxsaW5rIHJlbD0ic3R5bGVzaGVldCIgaHJlZj0iaHR0cHM6Ly9tYXhjZG4uYm9vdHN0cmFwY2RuLmNvbS9mb250LWF3ZXNvbWUvNC42LjMvY3NzL2ZvbnQtYXdlc29tZS5taW4uY3NzIi8+CiAgICA8bGluayByZWw9InN0eWxlc2hlZXQiIGhyZWY9Imh0dHBzOi8vY2RuanMuY2xvdWRmbGFyZS5jb20vYWpheC9saWJzL0xlYWZsZXQuYXdlc29tZS1tYXJrZXJzLzIuMC4yL2xlYWZsZXQuYXdlc29tZS1tYXJrZXJzLmNzcyIvPgogICAgPGxpbmsgcmVsPSJzdHlsZXNoZWV0IiBocmVmPSJodHRwczovL3Jhd2Nkbi5naXRoYWNrLmNvbS9weXRob24tdmlzdWFsaXphdGlvbi9mb2xpdW0vbWFzdGVyL2ZvbGl1bS90ZW1wbGF0ZXMvbGVhZmxldC5hd2Vzb21lLnJvdGF0ZS5jc3MiLz4KICAgIDxzdHlsZT5odG1sLCBib2R5IHt3aWR0aDogMTAwJTtoZWlnaHQ6IDEwMCU7bWFyZ2luOiAwO3BhZGRpbmc6IDA7fTwvc3R5bGU+CiAgICA8c3R5bGU+I21hcCB7cG9zaXRpb246YWJzb2x1dGU7dG9wOjA7Ym90dG9tOjA7cmlnaHQ6MDtsZWZ0OjA7fTwvc3R5bGU+CiAgICAKICAgICAgICAgICAgPG1ldGEgbmFtZT0idmlld3BvcnQiIGNvbnRlbnQ9IndpZHRoPWRldmljZS13aWR0aCwKICAgICAgICAgICAgICAgIGluaXRpYWwtc2NhbGU9MS4wLCBtYXhpbXVtLXNjYWxlPTEuMCwgdXNlci1zY2FsYWJsZT1ubyIgLz4KICAgICAgICAgICAgPHN0eWxlPgogICAgICAgICAgICAgICAgI21hcF8zYjg0OTFjMzc3NTc0YWY3OGRlMzM2NWI0ZjMxYjJjOSB7CiAgICAgICAgICAgICAgICAgICAgcG9zaXRpb246IHJlbGF0aXZlOwogICAgICAgICAgICAgICAgICAgIHdpZHRoOiAxMDAuMCU7CiAgICAgICAgICAgICAgICAgICAgaGVpZ2h0OiAxMDAuMCU7CiAgICAgICAgICAgICAgICAgICAgbGVmdDogMC4wJTsKICAgICAgICAgICAgICAgICAgICB0b3A6IDAuMCU7CiAgICAgICAgICAgICAgICB9CiAgICAgICAgICAgIDwvc3R5bGU+CiAgICAgICAgCjwvaGVhZD4KPGJvZHk+ICAgIAogICAgCiAgICAgICAgICAgIDxkaXYgY2xhc3M9ImZvbGl1bS1tYXAiIGlkPSJtYXBfM2I4NDkxYzM3NzU3NGFmNzhkZTMzNjViNGYzMWIyYzkiID48L2Rpdj4KICAgICAgICAKPC9ib2R5Pgo8c2NyaXB0PiAgICAKICAgIAogICAgICAgICAgICB2YXIgbWFwXzNiODQ5MWMzNzc1NzRhZjc4ZGUzMzY1YjRmMzFiMmM5ID0gTC5tYXAoCiAgICAgICAgICAgICAgICAibWFwXzNiODQ5MWMzNzc1NzRhZjc4ZGUzMzY1YjRmMzFiMmM5IiwKICAgICAgICAgICAgICAgIHsKICAgICAgICAgICAgICAgICAgICBjZW50ZXI6IFswLCAwXSwKICAgICAgICAgICAgICAgICAgICBjcnM6IEwuQ1JTLkVQU0czODU3LAogICAgICAgICAgICAgICAgICAgIHpvb206IDEsCiAgICAgICAgICAgICAgICAgICAgem9vbUNvbnRyb2w6IHRydWUsCiAgICAgICAgICAgICAgICAgICAgcHJlZmVyQ2FudmFzOiBmYWxzZSwKICAgICAgICAgICAgICAgIH0KICAgICAgICAgICAgKTsKCiAgICAgICAgICAgIAoKICAgICAgICAKICAgIAogICAgICAgICAgICB2YXIgdGlsZV9sYXllcl82Y2ZhN2NlOTY0OTE0YTNmOGU4NDYzZWNmNzkyZjk5MyA9IEwudGlsZUxheWVyKAogICAgICAgICAgICAgICAgImh0dHBzOi8ve3N9LnRpbGUub3BlbnN0cmVldG1hcC5vcmcve3p9L3t4fS97eX0ucG5nIiwKICAgICAgICAgICAgICAgIHsiYXR0cmlidXRpb24iOiAiRGF0YSBieSBcdTAwMjZjb3B5OyBcdTAwM2NhIGhyZWY9XCJodHRwOi8vb3BlbnN0cmVldG1hcC5vcmdcIlx1MDAzZU9wZW5TdHJlZXRNYXBcdTAwM2MvYVx1MDAzZSwgdW5kZXIgXHUwMDNjYSBocmVmPVwiaHR0cDovL3d3dy5vcGVuc3RyZWV0bWFwLm9yZy9jb3B5cmlnaHRcIlx1MDAzZU9EYkxcdTAwM2MvYVx1MDAzZS4iLCAiZGV0ZWN0UmV0aW5hIjogZmFsc2UsICJtYXhOYXRpdmVab29tIjogMTgsICJtYXhab29tIjogMTgsICJtaW5ab29tIjogMCwgIm5vV3JhcCI6IGZhbHNlLCAib3BhY2l0eSI6IDEsICJzdWJkb21haW5zIjogImFiYyIsICJ0bXMiOiBmYWxzZX0KICAgICAgICAgICAgKS5hZGRUbyhtYXBfM2I4NDkxYzM3NzU3NGFmNzhkZTMzNjViNGYzMWIyYzkpOwogICAgICAgIAogICAgCiAgICAgICAgICAgIHZhciBtYXJrZXJfOWVhMThiY2Q0ZjM3NDE0ODhmNGQ2ZjA1MGZhZDdkNGMgPSBMLm1hcmtlcigKICAgICAgICAgICAgICAgIFszNC4wMTc2MDYsIC0xMTguNDg3MjY3XSwKICAgICAgICAgICAgICAgIHt9CiAgICAgICAgICAgICkuYWRkVG8obWFwXzNiODQ5MWMzNzc1NzRhZjc4ZGUzMzY1YjRmMzFiMmM5KTsKICAgICAgICAKICAgIAogICAgICAgICAgICB2YXIgbWFya2VyX2FiNDdiYjE2NmU0ZDQ3OWY5N2FiMDAxZDYwNjMzYTEzID0gTC5tYXJrZXIoCiAgICAgICAgICAgICAgICBbMzcuMjY5MTc1LCAtMTE5LjMwNjYwN10sCiAgICAgICAgICAgICAgICB7fQogICAgICAgICAgICApLmFkZFRvKG1hcF8zYjg0OTFjMzc3NTc0YWY3OGRlMzM2NWI0ZjMxYjJjOSk7CiAgICAgICAgCiAgICAKICAgICAgICAgICAgdmFyIG1hcmtlcl80Njk3MGYwYjA1ZDA0MzFmOTA5NTU3NmM2ZDM2NjNmZSA9IEwubWFya2VyKAogICAgICAgICAgICAgICAgWzUyLjM3NDUyMjgsIDQuODk0ODYyM10sCiAgICAgICAgICAgICAgICB7fQogICAgICAgICAgICApLmFkZFRvKG1hcF8zYjg0OTFjMzc3NTc0YWY3OGRlMzM2NWI0ZjMxYjJjOSk7CiAgICAgICAgCiAgICAKICAgICAgICAgICAgdmFyIG1hcmtlcl9jMmM2ZjM2N2MwM2I0NGQ3OTllN2YxYTZjMjBhMDE1MSA9IEwubWFya2VyKAogICAgICAgICAgICAgICAgWzQ4Ljg1NjY2NywgMi4zNTA5ODddLAogICAgICAgICAgICAgICAge30KICAgICAgICAgICAgKS5hZGRUbyhtYXBfM2I4NDkxYzM3NzU3NGFmNzhkZTMzNjViNGYzMWIyYzkpOwogICAgICAgIAogICAgCiAgICAgICAgICAgIHZhciBtYXJrZXJfZTIyMWQwOTBjYzM4NGE0YTlkOTFmMzI5YWNiOTNlMDkgPSBMLm1hcmtlcigKICAgICAgICAgICAgICAgIFs0MC4wMTA0OTIsIC0xMDUuMjc2ODQzXSwKICAgICAgICAgICAgICAgIHt9CiAgICAgICAgICAgICkuYWRkVG8obWFwXzNiODQ5MWMzNzc1NzRhZjc4ZGUzMzY1YjRmMzFiMmM5KTsKICAgICAgICAKICAgIAogICAgICAgICAgICB2YXIgbWFya2VyXzIyMGIyZjNmNzA5MDQwMmVhNjY5ZDM4M2EwMzRkYmY2ID0gTC5tYXJrZXIoCiAgICAgICAgICAgICAgICBbNDAuMDEwNDkyLCAtMTA1LjI3Njg0M10sCiAgICAgICAgICAgICAgICB7fQogICAgICAgICAgICApLmFkZFRvKG1hcF8zYjg0OTFjMzc3NTc0YWY3OGRlMzM2NWI0ZjMxYjJjOSk7CiAgICAgICAgCiAgICAKICAgICAgICAgICAgdmFyIG1hcmtlcl84YTdiODk2ZDhlOTE0MzdmODgwNTdlMDQxZDI3NTc3NCA9IEwubWFya2VyKAogICAgICAgICAgICAgICAgWzM3Ljc5MTExNDgsIC0xMjIuMzk1NDc1MV0sCiAgICAgICAgICAgICAgICB7fQogICAgICAgICAgICApLmFkZFRvKG1hcF8zYjg0OTFjMzc3NTc0YWY3OGRlMzM2NWI0ZjMxYjJjOSk7CiAgICAgICAgCiAgICAKICAgICAgICAgICAgdmFyIG1hcmtlcl8zMmRhMWQ0ZWY3YTc0MTRiYWRmYzExMTJiMDRkYzUwZSA9IEwubWFya2VyKAogICAgICAgICAgICAgICAgWzM3Ljc3NTE5NiwgLTEyMi40MTkyMDRdLAogICAgICAgICAgICAgICAge30KICAgICAgICAgICAgKS5hZGRUbyhtYXBfM2I4NDkxYzM3NzU3NGFmNzhkZTMzNjViNGYzMWIyYzkpOwogICAgICAgIAogICAgCiAgICAgICAgICAgIHZhciBtYXJrZXJfZTcwYzg0Y2ZjZWFlNDhmY2E5YjkxZmVkNTlkYjk0OTEgPSBMLm1hcmtlcigKICAgICAgICAgICAgICAgIFs0Ny41OTk5MzM3LCAtMTIyLjMyNzY5NjJdLAogICAgICAgICAgICAgICAge30KICAgICAgICAgICAgKS5hZGRUbyhtYXBfM2I4NDkxYzM3NzU3NGFmNzhkZTMzNjViNGYzMWIyYzkpOwogICAgICAgIAogICAgCiAgICAgICAgICAgIHZhciBtYXJrZXJfODQ2ZmZjYmI0ODkzNDdlMWE4YTk0NTcxOWM3NTE2OGIgPSBMLm1hcmtlcigKICAgICAgICAgICAgICAgIFszOC4wMDMzNzYsIC03OS40MjA5MjZdLAogICAgICAgICAgICAgICAge30KICAgICAgICAgICAgKS5hZGRUbyhtYXBfM2I4NDkxYzM3NzU3NGFmNzhkZTMzNjViNGYzMWIyYzkpOwogICAgICAgIAogICAgCiAgICAgICAgICAgIHZhciBtYXJrZXJfNTM5N2M5YTBiYmNmNGZjMmI1NmUyMmQxZmMxYTA3NDIgPSBMLm1hcmtlcigKICAgICAgICAgICAgICAgIFs0Mi4zNzUzOTIsIC03MS4xMTg0ODddLAogICAgICAgICAgICAgICAge30KICAgICAgICAgICAgKS5hZGRUbyhtYXBfM2I4NDkxYzM3NzU3NGFmNzhkZTMzNjViNGYzMWIyYzkpOwogICAgICAgIAogICAgCiAgICAgICAgICAgIHZhciBtYXJrZXJfZGRjY2Q0ZDg4YTYwNDc1YmFmZTRmNzRmYTY4MzU3MTYgPSBMLm1hcmtlcigKICAgICAgICAgICAgICAgIFs0Ny41ODUxMTQsIC0xMjIuMDg0MzU2XSwKICAgICAgICAgICAgICAgIHt9CiAgICAgICAgICAgICkuYWRkVG8obWFwXzNiODQ5MWMzNzc1NzRhZjc4ZGUzMzY1YjRmMzFiMmM5KTsKICAgICAgICAKICAgIAogICAgICAgICAgICB2YXIgbWFya2VyXzdlNGRmNmRlODJmNTRkNTQ4MzRjNTk0MzAxZDk2YmU4ID0gTC5tYXJrZXIoCiAgICAgICAgICAgICAgICBbMzcuNTU3NjM3LCAtMTIyLjI4NTcxNF0sCiAgICAgICAgICAgICAgICB7fQogICAgICAgICAgICApLmFkZFRvKG1hcF8zYjg0OTFjMzc3NTc0YWY3OGRlMzM2NWI0ZjMxYjJjOSk7CiAgICAgICAgCiAgICAKICAgICAgICAgICAgdmFyIG1hcmtlcl9hY2MzYjMxMzU0YzE0NDg3OGNmMzdkN2ZiZDVjMjEyNiA9IEwubWFya2VyKAogICAgICAgICAgICAgICAgWzM3LjU2Njg3OSwgLTEyMi4zMjM4OTVdLAogICAgICAgICAgICAgICAge30KICAgICAgICAgICAgKS5hZGRUbyhtYXBfM2I4NDkxYzM3NzU3NGFmNzhkZTMzNjViNGYzMWIyYzkpOwogICAgICAgIAogICAgCiAgICAgICAgICAgIHZhciBtYXJrZXJfNWMxNmFlMzg1ZmJiNGIyYWE5NmY3YjhjYjY3MzM4NzAgPSBMLm1hcmtlcigKICAgICAgICAgICAgICAgIFszNy4yNjkxNzUsIC0xMTkuMzA2NjA3XSwKICAgICAgICAgICAgICAgIHt9CiAgICAgICAgICAgICkuYWRkVG8obWFwXzNiODQ5MWMzNzc1NzRhZjc4ZGUzMzY1YjRmMzFiMmM5KTsKICAgICAgICAKICAgIAogICAgICAgICAgICB2YXIgbWFya2VyXzdkNzRjYjdmZmJjZjQ4Y2M4ZmE5YzJhYTUyZDZkOTkwID0gTC5tYXJrZXIoCiAgICAgICAgICAgICAgICBbNTEuNTE5MjA0MiwgLTAuMTYyNjEwM10sCiAgICAgICAgICAgICAgICB7fQogICAgICAgICAgICApLmFkZFRvKG1hcF8zYjg0OTFjMzc3NTc0YWY3OGRlMzM2NWI0ZjMxYjJjOSk7CiAgICAgICAgCiAgICAKICAgICAgICAgICAgdmFyIG1hcmtlcl8yNmNiN2U5YjI1YTA0MjZhYmJhZjliOTg4Y2NkZWUyZSA9IEwubWFya2VyKAogICAgICAgICAgICAgICAgWzM3LjQwMTM1NSwgLTEyMi4xMDQwOTldLAogICAgICAgICAgICAgICAge30KICAgICAgICAgICAgKS5hZGRUbyhtYXBfM2I4NDkxYzM3NzU3NGFmNzhkZTMzNjViNGYzMWIyYzkpOwogICAgICAgIAogICAgCiAgICAgICAgICAgIHZhciBtYXJrZXJfYmNiMjBmY2UzYjFjNGY4NGJjNWRjYzYxNWIyZTI5MWMgPSBMLm1hcmtlcigKICAgICAgICAgICAgICAgIFszNy4zOTI0OCwgLTEyMi4wNzI2MTJdLAogICAgICAgICAgICAgICAge30KICAgICAgICAgICAgKS5hZGRUbyhtYXBfM2I4NDkxYzM3NzU3NGFmNzhkZTMzNjViNGYzMWIyYzkpOwogICAgICAgIAogICAgCiAgICAgICAgICAgIHZhciBtYXJrZXJfYzEyYTVlNjY5ZDgyNDg0NGIxZWVmZmZjY2Y5Yzc0ZTUgPSBMLm1hcmtlcigKICAgICAgICAgICAgICAgIFs0MC43NDM4MDgsIC03My45ODM2MjZdLAogICAgICAgICAgICAgICAge30KICAgICAgICAgICAgKS5hZGRUbyhtYXBfM2I4NDkxYzM3NzU3NGFmNzhkZTMzNjViNGYzMWIyYzkpOwogICAgICAgIAogICAgCiAgICAgICAgICAgIHZhciBtYXJrZXJfZTIyNDU5OGI4ZGRjNGVkZWFkYzI4MzI4MWZiYWM0MTcgPSBMLm1hcmtlcigKICAgICAgICAgICAgICAgIFszNy40NDMwNTgsIC0xMjIuMTYxNjc0XSwKICAgICAgICAgICAgICAgIHt9CiAgICAgICAgICAgICkuYWRkVG8obWFwXzNiODQ5MWMzNzc1NzRhZjc4ZGUzMzY1YjRmMzFiMmM5KTsKICAgICAgICAKICAgIAogICAgICAgICAgICB2YXIgbWFya2VyXzJjZWZmZDVlMDlhYzRiNGZhNjFkNWQxNjQ4OWYyNTM2ID0gTC5tYXJrZXIoCiAgICAgICAgICAgICAgICBbMzcuMzg2MTc1LCAtMTIyLjA4MzQ4N10sCiAgICAgICAgICAgICAgICB7fQogICAgICAgICAgICApLmFkZFRvKG1hcF8zYjg0OTFjMzc3NTc0YWY3OGRlMzM2NWI0ZjMxYjJjOSk7CiAgICAgICAgCiAgICAKICAgICAgICAgICAgdmFyIG1hcmtlcl9iMzQ5MTkzZWY5OWM0YWIxYmRmYzc1NGRiMjQ1OTY3NiA9IEwubWFya2VyKAogICAgICAgICAgICAgICAgWzM3Ljc5MTczMywgLTEyMi4zOTgzOThdLAogICAgICAgICAgICAgICAge30KICAgICAgICAgICAgKS5hZGRUbyhtYXBfM2I4NDkxYzM3NzU3NGFmNzhkZTMzNjViNGYzMWIyYzkpOwogICAgICAgIAogICAgCiAgICAgICAgICAgIHZhciBtYXJrZXJfMDkxMTZmMDkzN2UwNGViOWJlNzcwZTcxMzljZmZlNmQgPSBMLm1hcmtlcigKICAgICAgICAgICAgICAgIFszNy43ODY5MDYsIC0xMjIuMzk3NjcyXSwKICAgICAgICAgICAgICAgIHt9CiAgICAgICAgICAgICkuYWRkVG8obWFwXzNiODQ5MWMzNzc1NzRhZjc4ZGUzMzY1YjRmMzFiMmM5KTsKICAgICAgICAKICAgIAogICAgICAgICAgICB2YXIgbWFya2VyXzE5ODdmZDQ1NmZjNTRlZTFiZDM0YTI4M2YzN2QxZjI1ID0gTC5tYXJrZXIoCiAgICAgICAgICAgICAgICBbMzcuODM4MjI1LCAtMTIyLjI5NjQxMV0sCiAgICAgICAgICAgICAgICB7fQogICAgICAgICAgICApLmFkZFRvKG1hcF8zYjg0OTFjMzc3NTc0YWY3OGRlMzM2NWI0ZjMxYjJjOSk7CiAgICAgICAgCiAgICAKICAgICAgICAgICAgdmFyIG1hcmtlcl83N2RkYWM5Njc3NTk0NTliOWExYTAyYjQxZTc0NTBkYyA9IEwubWFya2VyKAogICAgICAgICAgICAgICAgWzM3Ljc4MTI2MiwgLTEyMi4zOTQ5NThdLAogICAgICAgICAgICAgICAge30KICAgICAgICAgICAgKS5hZGRUbyhtYXBfM2I4NDkxYzM3NzU3NGFmNzhkZTMzNjViNGYzMWIyYzkpOwogICAgICAgIAogICAgCiAgICAgICAgICAgIHZhciBtYXJrZXJfYjBmNGRmNTFmZDAyNDMzNmI4OTU5MDlkM2IxMjMxZjEgPSBMLm1hcmtlcigKICAgICAgICAgICAgICAgIFs0Ny42MDM1NzcsIC0xMjIuMzM1MzMzXSwKICAgICAgICAgICAgICAgIHt9CiAgICAgICAgICAgICkuYWRkVG8obWFwXzNiODQ5MWMzNzc1NzRhZjc4ZGUzMzY1YjRmMzFiMmM5KTsKICAgICAgICAKICAgIAogICAgICAgICAgICB2YXIgbWFya2VyXzIzN2UyMWQyYmM2NjQ5MTlhNTU2ZTMzMDYxYzIzNDU3ID0gTC5tYXJrZXIoCiAgICAgICAgICAgICAgICBbMjYuODIwMzc1LCAtODAuMDU4NDAxXSwKICAgICAgICAgICAgICAgIHt9CiAgICAgICAgICAgICkuYWRkVG8obWFwXzNiODQ5MWMzNzc1NzRhZjc4ZGUzMzY1YjRmMzFiMmM5KTsKICAgICAgICAKICAgIAogICAgICAgICAgICB2YXIgbWFya2VyX2RjMjVhZmQ4NzYzMTRjNjA5YmM0MjhlY2Y1M2U4YzgxID0gTC5tYXJrZXIoCiAgICAgICAgICAgICAgICBbMzcuODAzODQ3LCAtMTIyLjQwMjQ2OF0sCiAgICAgICAgICAgICAgICB7fQogICAgICAgICAgICApLmFkZFRvKG1hcF8zYjg0OTFjMzc3NTc0YWY3OGRlMzM2NWI0ZjMxYjJjOSk7CiAgICAgICAgCiAgICAKICAgICAgICAgICAgdmFyIG1hcmtlcl83ZDI0MmRlYTVmOTI0NDE1YTU4OWViZTU5OTkzZmY2NSA9IEwubWFya2VyKAogICAgICAgICAgICAgICAgWzM0LjAxMDUyLCAtMTE4LjQ5NTk4MV0sCiAgICAgICAgICAgICAgICB7fQogICAgICAgICAgICApLmFkZFRvKG1hcF8zYjg0OTFjMzc3NTc0YWY3OGRlMzM2NWI0ZjMxYjJjOSk7CiAgICAgICAgCiAgICAKICAgICAgICAgICAgdmFyIG1hcmtlcl8xOTEyMzg4YTRiMTE0NmFmYWE4NjJiYzczYTg3NTE5YyA9IEwubWFya2VyKAogICAgICAgICAgICAgICAgWzM1Ljk5NjE1NywgLTc4LjkwMjExNV0sCiAgICAgICAgICAgICAgICB7fQogICAgICAgICAgICApLmFkZFRvKG1hcF8zYjg0OTFjMzc3NTc0YWY3OGRlMzM2NWI0ZjMxYjJjOSk7CiAgICAgICAgCiAgICAKICAgICAgICAgICAgdmFyIG1hcmtlcl8wZjQ2OWIwYThiZTI0MDk5YjhiYWY4Njk4ZGM3NTNkZSA9IEwubWFya2VyKAogICAgICAgICAgICAgICAgWzI5LjgwNDg2MywgLTk1LjQ5MTU4XSwKICAgICAgICAgICAgICAgIHt9CiAgICAgICAgICAgICkuYWRkVG8obWFwXzNiODQ5MWMzNzc1NzRhZjc4ZGUzMzY1YjRmMzFiMmM5KTsKICAgICAgICAKICAgIAogICAgICAgICAgICB2YXIgbWFya2VyXzIyNDkyNjY1N2E5MTQzNDg4ZjAwMGIwMzFiZDI4ZmUxID0gTC5tYXJrZXIoCiAgICAgICAgICAgICAgICBbNDAuNzQwMjMxLCAtNzMuOTg1NDMzXSwKICAgICAgICAgICAgICAgIHt9CiAgICAgICAgICAgICkuYWRkVG8obWFwXzNiODQ5MWMzNzc1NzRhZjc4ZGUzMzY1YjRmMzFiMmM5KTsKICAgICAgICAKICAgIAogICAgICAgICAgICB2YXIgbWFya2VyX2VmZjMxMmNmZjUzODQzMWJhMWI2NWFjNTM0ZWRhMGQ1ID0gTC5tYXJrZXIoCiAgICAgICAgICAgICAgICBbMzguOTg0MTcyLCAtNzcuMDk1OTY1XSwKICAgICAgICAgICAgICAgIHt9CiAgICAgICAgICAgICkuYWRkVG8obWFwXzNiODQ5MWMzNzc1NzRhZjc4ZGUzMzY1YjRmMzFiMmM5KTsKICAgICAgICAKICAgIAogICAgICAgICAgICB2YXIgbWFya2VyXzNiMTk5ZDk0Y2IxYzRiYWM4MjY5NTE3OWVmZWFkZDgyID0gTC5tYXJrZXIoCiAgICAgICAgICAgICAgICBbMzcuNDAyODAyLCAtMTIyLjExNzQxOF0sCiAgICAgICAgICAgICAgICB7fQogICAgICAgICAgICApLmFkZFRvKG1hcF8zYjg0OTFjMzc3NTc0YWY3OGRlMzM2NWI0ZjMxYjJjOSk7CiAgICAgICAgCiAgICAKICAgICAgICAgICAgdmFyIG1hcmtlcl81YTU4ODc0YzU1MjQ0OGMwODEzYTYwZTc1MzAxNWZlZCA9IEwubWFya2VyKAogICAgICAgICAgICAgICAgWzM3LjA5MDI0LCAtOTUuNzEyODkxXSwKICAgICAgICAgICAgICAgIHt9CiAgICAgICAgICAgICkuYWRkVG8obWFwXzNiODQ5MWMzNzc1NzRhZjc4ZGUzMzY1YjRmMzFiMmM5KTsKICAgICAgICAKICAgIAogICAgICAgICAgICB2YXIgbWFya2VyXzA0MzU4NmNhZjhkMTQ2MmJhNzU1YzJiMTE3MjYwYjg1ID0gTC5tYXJrZXIoCiAgICAgICAgICAgICAgICBbMzcuNzc1MTk2LCAtMTIyLjQxOTIwNF0sCiAgICAgICAgICAgICAgICB7fQogICAgICAgICAgICApLmFkZFRvKG1hcF8zYjg0OTFjMzc3NTc0YWY3OGRlMzM2NWI0ZjMxYjJjOSk7CiAgICAgICAgCiAgICAKICAgICAgICAgICAgdmFyIG1hcmtlcl9lNTNhM2I4ZDhiN2Y0MTgwYmU5ZjZjNjI2YTdmZDFmYyA9IEwubWFya2VyKAogICAgICAgICAgICAgICAgWzM3Ljc4ODI2NiwgLTEyMi40MDM4NjVdLAogICAgICAgICAgICAgICAge30KICAgICAgICAgICAgKS5hZGRUbyhtYXBfM2I4NDkxYzM3NzU3NGFmNzhkZTMzNjViNGYzMWIyYzkpOwogICAgICAgIAogICAgCiAgICAgICAgICAgIHZhciBtYXJrZXJfYTY5NzI1Yjk3MGVhNDg1NWIwNzZkN2UwZTE2NjYzZTQgPSBMLm1hcmtlcigKICAgICAgICAgICAgICAgIFs0MC43NDQ4MzcsIC03My45ODM4NDNdLAogICAgICAgICAgICAgICAge30KICAgICAgICAgICAgKS5hZGRUbyhtYXBfM2I4NDkxYzM3NzU3NGFmNzhkZTMzNjViNGYzMWIyYzkpOwogICAgICAgIAogICAgCiAgICAgICAgICAgIHZhciBtYXJrZXJfNTJmM2VmODVjNjFlNDhjZjk1NDczOGRkZjk5MjIyZTIgPSBMLm1hcmtlcigKICAgICAgICAgICAgICAgIFs0MC43MjM2NTIsIC03My45ODUyODFdLAogICAgICAgICAgICAgICAge30KICAgICAgICAgICAgKS5hZGRUbyhtYXBfM2I4NDkxYzM3NzU3NGFmNzhkZTMzNjViNGYzMWIyYzkpOwogICAgICAgIAogICAgCiAgICAgICAgICAgIHZhciBtYXJrZXJfOWMwNTBlY2NmNjExNDU5Y2I3NzE5MWExYjNmNDJlYzYgPSBMLm1hcmtlcigKICAgICAgICAgICAgICAgIFs0MC4yMTkyMTQsIC03NC4zNzAzMTNdLAogICAgICAgICAgICAgICAge30KICAgICAgICAgICAgKS5hZGRUbyhtYXBfM2I4NDkxYzM3NzU3NGFmNzhkZTMzNjViNGYzMWIyYzkpOwogICAgICAgIAogICAgCiAgICAgICAgICAgIHZhciBtYXJrZXJfMmYzY2IyZmE5YzNiNDVjZjlmYjkyMzQzMTJkNzc5NGYgPSBMLm1hcmtlcigKICAgICAgICAgICAgICAgIFszNy41MDMxNDcsIC0xMjIuMjExNDM1XSwKICAgICAgICAgICAgICAgIHt9CiAgICAgICAgICAgICkuYWRkVG8obWFwXzNiODQ5MWMzNzc1NzRhZjc4ZGUzMzY1YjRmMzFiMmM5KTsKICAgICAgICAKICAgIAogICAgICAgICAgICB2YXIgbWFya2VyXzZiZGM4ZDZiMTdiZjQ4MWY5MzE4YWJlNzQ2MjQ1MjFlID0gTC5tYXJrZXIoCiAgICAgICAgICAgICAgICBbNDAuNzU2NjY1OCwgLTczLjk4Mjc1NTNdLAogICAgICAgICAgICAgICAge30KICAgICAgICAgICAgKS5hZGRUbyhtYXBfM2I4NDkxYzM3NzU3NGFmNzhkZTMzNjViNGYzMWIyYzkpOwogICAgICAgIAogICAgCiAgICAgICAgICAgIHZhciBtYXJrZXJfM2RkZDVmNTIzNjNhNDVmZWJhMGVhOTY2NDUwNTMxMDAgPSBMLm1hcmtlcigKICAgICAgICAgICAgICAgIFszNy43NzUxOTYsIC0xMjIuNDE5MjA0XSwKICAgICAgICAgICAgICAgIHt9CiAgICAgICAgICAgICkuYWRkVG8obWFwXzNiODQ5MWMzNzc1NzRhZjc4ZGUzMzY1YjRmMzFiMmM5KTsKICAgICAgICAKICAgIAogICAgICAgICAgICB2YXIgbWFya2VyXzk3NWM5MzUzNmUyODRjZGI4M2U4OWIzMGNlZjcyMDdlID0gTC5tYXJrZXIoCiAgICAgICAgICAgICAgICBbNDAuNzQzODA4LCAtNzMuOTgzNjI2XSwKICAgICAgICAgICAgICAgIHt9CiAgICAgICAgICAgICkuYWRkVG8obWFwXzNiODQ5MWMzNzc1NzRhZjc4ZGUzMzY1YjRmMzFiMmM5KTsKICAgICAgICAKICAgIAogICAgICAgICAgICB2YXIgbWFya2VyXzMyNzIyOGM4NWJlMjRiZDhhZWVmMWU0NmU0OWIxOWQ2ID0gTC5tYXJrZXIoCiAgICAgICAgICAgICAgICBbNDAuNTE3OTQ4LCAtNzkuODQyNDg3XSwKICAgICAgICAgICAgICAgIHt9CiAgICAgICAgICAgICkuYWRkVG8obWFwXzNiODQ5MWMzNzc1NzRhZjc4ZGUzMzY1YjRmMzFiMmM5KTsKICAgICAgICAKICAgIAogICAgICAgICAgICB2YXIgbWFya2VyX2JiMWNmNGJlMGYzYTQzYjI5NDQ1YjU0Y2QxMmZjOTVhID0gTC5tYXJrZXIoCiAgICAgICAgICAgICAgICBbMzQuMDEwNTIsIC0xMTguNDk1OTgxXSwKICAgICAgICAgICAgICAgIHt9CiAgICAgICAgICAgICkuYWRkVG8obWFwXzNiODQ5MWMzNzc1NzRhZjc4ZGUzMzY1YjRmMzFiMmM5KTsKICAgICAgICAKICAgIAogICAgICAgICAgICB2YXIgbWFya2VyXzQwYzllNmViM2Y1YjRlN2ViNTFkNDY5OWY5ZjU5N2M1ID0gTC5tYXJrZXIoCiAgICAgICAgICAgICAgICBbMzEuMjIyMjIyLCAxMjEuNDc1XSwKICAgICAgICAgICAgICAgIHt9CiAgICAgICAgICAgICkuYWRkVG8obWFwXzNiODQ5MWMzNzc1NzRhZjc4ZGUzMzY1YjRmMzFiMmM5KTsKICAgICAgICAKICAgIAogICAgICAgICAgICB2YXIgbWFya2VyX2NhYTY4NWRlMzgzNjRlMzE4MjhkNzBmYjA4ODE2YWY5ID0gTC5tYXJrZXIoCiAgICAgICAgICAgICAgICBbNDAuNzM5MDYsIC03My45OTA5MTFdLAogICAgICAgICAgICAgICAge30KICAgICAgICAgICAgKS5hZGRUbyhtYXBfM2I4NDkxYzM3NzU3NGFmNzhkZTMzNjViNGYzMWIyYzkpOwogICAgICAgIAogICAgCiAgICAgICAgICAgIHZhciBtYXJrZXJfMWY5ZTNkYjE2ZmU1NGQzZWE3NjZlZGE5Nzg0ODFiMjQgPSBMLm1hcmtlcigKICAgICAgICAgICAgICAgIFszNy4wOTAyNCwgLTk1LjcxMjg5MV0sCiAgICAgICAgICAgICAgICB7fQogICAgICAgICAgICApLmFkZFRvKG1hcF8zYjg0OTFjMzc3NTc0YWY3OGRlMzM2NWI0ZjMxYjJjOSk7CiAgICAgICAgCiAgICAKICAgICAgICAgICAgdmFyIG1hcmtlcl9kMGQ2ZTNmOThmZmU0M2QwYmMxNTI0ZTdkMWJlOTZhNCA9IEwubWFya2VyKAogICAgICAgICAgICAgICAgWzUxLjUxNDE1NjYsIC0wLjA5MzQyNTRdLAogICAgICAgICAgICAgICAge30KICAgICAgICAgICAgKS5hZGRUbyhtYXBfM2I4NDkxYzM3NzU3NGFmNzhkZTMzNjViNGYzMWIyYzkpOwogICAgICAgIAogICAgCiAgICAgICAgICAgIHZhciBtYXJrZXJfYzZlOWNmNDZkZDhiNGIwNWJlYjVlMDk4NDA5N2EyNDcgPSBMLm1hcmtlcigKICAgICAgICAgICAgICAgIFs1MS41Mjg4MTcsIC0wLjA1Mzk4MV0sCiAgICAgICAgICAgICAgICB7fQogICAgICAgICAgICApLmFkZFRvKG1hcF8zYjg0OTFjMzc3NTc0YWY3OGRlMzM2NWI0ZjMxYjJjOSk7CiAgICAgICAgCiAgICAKICAgICAgICAgICAgdmFyIG1hcmtlcl81ZWE0MmExNmMxNmY0NDdjOWRjZGI4NTA4NTg2MDZmZiA9IEwubWFya2VyKAogICAgICAgICAgICAgICAgWzM3Ljg2ODAwMiwgLTEyMi41MDAxMTFdLAogICAgICAgICAgICAgICAge30KICAgICAgICAgICAgKS5hZGRUbyhtYXBfM2I4NDkxYzM3NzU3NGFmNzhkZTMzNjViNGYzMWIyYzkpOwogICAgICAgIAogICAgCiAgICAgICAgICAgIHZhciBtYXJrZXJfY2E1ZTNmOGU2NjhmNDc0YzhkODg4MjNkNDkyOWRjZDQgPSBMLm1hcmtlcigKICAgICAgICAgICAgICAgIFszNy40NDYzODIsIC0xMjIuMTU1Njc4XSwKICAgICAgICAgICAgICAgIHt9CiAgICAgICAgICAgICkuYWRkVG8obWFwXzNiODQ5MWMzNzc1NzRhZjc4ZGUzMzY1YjRmMzFiMmM5KTsKICAgICAgICAKICAgIAogICAgICAgICAgICB2YXIgbWFya2VyXzEzMDc3OTEzNjIwZTQ0YWRiNDA1M2MwMWY5Mjc5ZGUyID0gTC5tYXJrZXIoCiAgICAgICAgICAgICAgICBbNDAuNjY1MDksIC03My45ODAzMDZdLAogICAgICAgICAgICAgICAge30KICAgICAgICAgICAgKS5hZGRUbyhtYXBfM2I4NDkxYzM3NzU3NGFmNzhkZTMzNjViNGYzMWIyYzkpOwogICAgICAgIAogICAgCiAgICAgICAgICAgIHZhciBtYXJrZXJfODUyYTU3MDk3MzU3NDk2MmEyOGNlOTY5ZTRkYTFkZjUgPSBMLm1hcmtlcigKICAgICAgICAgICAgICAgIFszNy41NjYwNDIsIC0xMjIuMzIyOTU0XSwKICAgICAgICAgICAgICAgIHt9CiAgICAgICAgICAgICkuYWRkVG8obWFwXzNiODQ5MWMzNzc1NzRhZjc4ZGUzMzY1YjRmMzFiMmM5KTsKICAgICAgICAKICAgIAogICAgICAgICAgICB2YXIgbWFya2VyX2ExZGE1MmM0ZGUxYzQ4NzE4MGM0NzAyYzA0YzE0ZjdhID0gTC5tYXJrZXIoCiAgICAgICAgICAgICAgICBbNDAuNzM3Nzc4LCAtNzMuOTc5NTA4XSwKICAgICAgICAgICAgICAgIHt9CiAgICAgICAgICAgICkuYWRkVG8obWFwXzNiODQ5MWMzNzc1NzRhZjc4ZGUzMzY1YjRmMzFiMmM5KTsKICAgICAgICAKICAgIAogICAgICAgICAgICB2YXIgbWFya2VyX2JkYzFmMmY4ZmQ2YzRiZjE4NDQyMTQ1ZDliZTYyMDAxID0gTC5tYXJrZXIoCiAgICAgICAgICAgICAgICBbNDIuMzU0MDIzLCAtNzEuMDU4MDk2XSwKICAgICAgICAgICAgICAgIHt9CiAgICAgICAgICAgICkuYWRkVG8obWFwXzNiODQ5MWMzNzc1NzRhZjc4ZGUzMzY1YjRmMzFiMmM5KTsKICAgICAgICAKICAgIAogICAgICAgICAgICB2YXIgbWFya2VyXzc3ZTI0MmU1YWUzYTRmM2M4N2U0ZDRkYjJjNDU4OTM5ID0gTC5tYXJrZXIoCiAgICAgICAgICAgICAgICBbNDcuNjE3MTc4OCwgLTEyMi4zMzcwODAxXSwKICAgICAgICAgICAgICAgIHt9CiAgICAgICAgICAgICkuYWRkVG8obWFwXzNiODQ5MWMzNzc1NzRhZjc4ZGUzMzY1YjRmMzFiMmM5KTsKICAgICAgICAKICAgIAogICAgICAgICAgICB2YXIgbWFya2VyXzBhODYwZTgzZmY1NzRhNmE4NGI5OGQ3YWNlMWNkYmZkID0gTC5tYXJrZXIoCiAgICAgICAgICAgICAgICBbNDguMjIwMzU3LCAxNi4zNTVdLAogICAgICAgICAgICAgICAge30KICAgICAgICAgICAgKS5hZGRUbyhtYXBfM2I4NDkxYzM3NzU3NGFmNzhkZTMzNjViNGYzMWIyYzkpOwogICAgICAgIAogICAgCiAgICAgICAgICAgIHZhciBtYXJrZXJfZTM4NGZiOWU0MDAwNGRjNmE3M2MxN2I1YTgwY2NkOGMgPSBMLm1hcmtlcigKICAgICAgICAgICAgICAgIFs0MC4yMzQ0NTEsIC0xMTEuNjU4NjU2XSwKICAgICAgICAgICAgICAgIHt9CiAgICAgICAgICAgICkuYWRkVG8obWFwXzNiODQ5MWMzNzc1NzRhZjc4ZGUzMzY1YjRmMzFiMmM5KTsKICAgICAgICAKICAgIAogICAgICAgICAgICB2YXIgbWFya2VyX2IwODVjZDc5ZDM5MDQ5ODk4MWMzOTU2YzZiNDI5ZjE3ID0gTC5tYXJrZXIoCiAgICAgICAgICAgICAgICBbNDMuNjM3ODU3NiwgLTc5LjQyNTUzMDZdLAogICAgICAgICAgICAgICAge30KICAgICAgICAgICAgKS5hZGRUbyhtYXBfM2I4NDkxYzM3NzU3NGFmNzhkZTMzNjViNGYzMWIyYzkpOwogICAgICAgIAogICAgCiAgICAgICAgICAgIHZhciBtYXJrZXJfN2RkYmQ4YjBhYjNjNGViZmEyMTMxODAyMjUwOWM4NTYgPSBMLm1hcmtlcigKICAgICAgICAgICAgICAgIFszNy43NzE5MjcsIC0xMjIuNDEwMjE3XSwKICAgICAgICAgICAgICAgIHt9CiAgICAgICAgICAgICkuYWRkVG8obWFwXzNiODQ5MWMzNzc1NzRhZjc4ZGUzMzY1YjRmMzFiMmM5KTsKICAgICAgICAKICAgIAogICAgICAgICAgICB2YXIgbWFya2VyXzg5ODI4ODAwNGViOTRmZTQ5OTNkMTE0OTgxMWNmNWRmID0gTC5tYXJrZXIoCiAgICAgICAgICAgICAgICBbMzcuNDkyNjg1LCAtMTIyLjIyNzc2NV0sCiAgICAgICAgICAgICAgICB7fQogICAgICAgICAgICApLmFkZFRvKG1hcF8zYjg0OTFjMzc3NTc0YWY3OGRlMzM2NWI0ZjMxYjJjOSk7CiAgICAgICAgCiAgICAKICAgICAgICAgICAgdmFyIG1hcmtlcl81MTEwZDYwMzAwNTI0NWM2YjkwZmNkNTBkMDM5NjdhMSA9IEwubWFya2VyKAogICAgICAgICAgICAgICAgWzUxLjEyNTY5MywgMC4yNTc1NjhdLAogICAgICAgICAgICAgICAge30KICAgICAgICAgICAgKS5hZGRUbyhtYXBfM2I4NDkxYzM3NzU3NGFmNzhkZTMzNjViNGYzMWIyYzkpOwogICAgICAgIAogICAgCiAgICAgICAgICAgIHZhciBtYXJrZXJfNDE5Y2E1OTg3NWQwNGZmZmI1YTA4NjMyMzMzMTBjMDQgPSBMLm1hcmtlcigKICAgICAgICAgICAgICAgIFs0Mi4yNzUyNjMsIC03MS4yNDc2Ml0sCiAgICAgICAgICAgICAgICB7fQogICAgICAgICAgICApLmFkZFRvKG1hcF8zYjg0OTFjMzc3NTc0YWY3OGRlMzM2NWI0ZjMxYjJjOSk7CiAgICAgICAgCiAgICAKICAgICAgICAgICAgdmFyIG1hcmtlcl8zNTRlYzA3MTc3NzQ0MTdjYjdiMjAxOGEzNTRhYWFkNCA9IEwubWFya2VyKAogICAgICAgICAgICAgICAgWzQ4LjkwNjQ4MDQsIDIuMjg2MDQxOF0sCiAgICAgICAgICAgICAgICB7fQogICAgICAgICAgICApLmFkZFRvKG1hcF8zYjg0OTFjMzc3NTc0YWY3OGRlMzM2NWI0ZjMxYjJjOSk7CiAgICAgICAgCiAgICAKICAgICAgICAgICAgdmFyIG1hcmtlcl9mZDVmZjAyYTkwMjQ0MzU0OTRlODM1M2Q4YzY4MThiNCA9IEwubWFya2VyKAogICAgICAgICAgICAgICAgWzM3LjQxOTA0MSwgLTEyMi4wODc0NzFdLAogICAgICAgICAgICAgICAge30KICAgICAgICAgICAgKS5hZGRUbyhtYXBfM2I4NDkxYzM3NzU3NGFmNzhkZTMzNjViNGYzMWIyYzkpOwogICAgICAgIAogICAgCiAgICAgICAgICAgIHZhciBtYXJrZXJfMWZjMWRjMjI2OWJmNGIxNGJiMjI4ODViNDhhYzA5ZGIgPSBMLm1hcmtlcigKICAgICAgICAgICAgICAgIFs0MC43MjYzNDIsIC0xMTEuODU4ODM1XSwKICAgICAgICAgICAgICAgIHt9CiAgICAgICAgICAgICkuYWRkVG8obWFwXzNiODQ5MWMzNzc1NzRhZjc4ZGUzMzY1YjRmMzFiMmM5KTsKICAgICAgICAKICAgIAogICAgICAgICAgICB2YXIgbWFya2VyX2U3Mjg2YmM0Yzk4MDRhOWNhNGJkNmEzOGYzYzM1ODZlID0gTC5tYXJrZXIoCiAgICAgICAgICAgICAgICBbMzcuNzc1MTk2LCAtMTIyLjQxOTIwNF0sCiAgICAgICAgICAgICAgICB7fQogICAgICAgICAgICApLmFkZFRvKG1hcF8zYjg0OTFjMzc3NTc0YWY3OGRlMzM2NWI0ZjMxYjJjOSk7CiAgICAgICAgCiAgICAKICAgICAgICAgICAgdmFyIG1hcmtlcl9kYjBkNzg5MGQwOTQ0ZWQ3ODBjYmU4NzUyNzIyMmU1OSA9IEwubWFya2VyKAogICAgICAgICAgICAgICAgWzUxLjUxODE5LCAtMC4yMDg5NzldLAogICAgICAgICAgICAgICAge30KICAgICAgICAgICAgKS5hZGRUbyhtYXBfM2I4NDkxYzM3NzU3NGFmNzhkZTMzNjViNGYzMWIyYzkpOwogICAgICAgIAogICAgCiAgICAgICAgICAgIHZhciBtYXJrZXJfYWZjY2M5N2RmNzE1NDA4MmJkMmZkOGYwYzk2MWVlOTkgPSBMLm1hcmtlcigKICAgICAgICAgICAgICAgIFs0MS43OTIyNjUsIDEuOTk2NTY3XSwKICAgICAgICAgICAgICAgIHt9CiAgICAgICAgICAgICkuYWRkVG8obWFwXzNiODQ5MWMzNzc1NzRhZjc4ZGUzMzY1YjRmMzFiMmM5KTsKICAgICAgICAKICAgIAogICAgICAgICAgICB2YXIgbWFya2VyXzhiYzM4ODZjMDM5ZjRjOWE5NzU4YjhiZmNkZjk4ZDc4ID0gTC5tYXJrZXIoCiAgICAgICAgICAgICAgICBbNDAuNzc5OTQ3LCAtNzMuOTUzNTAyXSwKICAgICAgICAgICAgICAgIHt9CiAgICAgICAgICAgICkuYWRkVG8obWFwXzNiODQ5MWMzNzc1NzRhZjc4ZGUzMzY1YjRmMzFiMmM5KTsKICAgICAgICAKICAgIAogICAgICAgICAgICB2YXIgbWFya2VyXzY1YzUyMjhjYjZmZDQ1ODc4OTljNjVhZGZiY2IzMDkwID0gTC5tYXJrZXIoCiAgICAgICAgICAgICAgICBbNDAuNzQwMzQsIC03NC4wMDcyMV0sCiAgICAgICAgICAgICAgICB7fQogICAgICAgICAgICApLmFkZFRvKG1hcF8zYjg0OTFjMzc3NTc0YWY3OGRlMzM2NWI0ZjMxYjJjOSk7CiAgICAgICAgCiAgICAKICAgICAgICAgICAgdmFyIG1hcmtlcl9lMGFkOTBlZTc3YjE0MTMzODZlMWE4ODdkNTZlMTk5OCA9IEwubWFya2VyKAogICAgICAgICAgICAgICAgWzIyLjQ2MjkxMSwgMTE0LjE1NzI5NF0sCiAgICAgICAgICAgICAgICB7fQogICAgICAgICAgICApLmFkZFRvKG1hcF8zYjg0OTFjMzc3NTc0YWY3OGRlMzM2NWI0ZjMxYjJjOSk7CiAgICAgICAgCiAgICAKICAgICAgICAgICAgdmFyIG1hcmtlcl84OGQ0MDk1MzBkYjc0MTYxOGZjOGEzOTRhZDQwYWZjZiA9IEwubWFya2VyKAogICAgICAgICAgICAgICAgWzM3Ljc4OTkwMiwgLTEyMi40MDA3NzkxXSwKICAgICAgICAgICAgICAgIHt9CiAgICAgICAgICAgICkuYWRkVG8obWFwXzNiODQ5MWMzNzc1NzRhZjc4ZGUzMzY1YjRmMzFiMmM5KTsKICAgICAgICAKICAgIAogICAgICAgICAgICB2YXIgbWFya2VyX2RmYjUzYjc0NDBiMDRiZDNiNWE0MWU4NThjMmUzOTRmID0gTC5tYXJrZXIoCiAgICAgICAgICAgICAgICBbMzcuNzU4MzUyLCAtMTIyLjM5ODM3OV0sCiAgICAgICAgICAgICAgICB7fQogICAgICAgICAgICApLmFkZFRvKG1hcF8zYjg0OTFjMzc3NTc0YWY3OGRlMzM2NWI0ZjMxYjJjOSk7CiAgICAgICAgCiAgICAKICAgICAgICAgICAgdmFyIG1hcmtlcl83MGJhZTdhNjQ3MzE0N2JmOTMxN2NmYmFjZGRkMjk3OSA9IEwubWFya2VyKAogICAgICAgICAgICAgICAgWzQwLjc0MTE3OSwgLTczLjk5MzE4Ml0sCiAgICAgICAgICAgICAgICB7fQogICAgICAgICAgICApLmFkZFRvKG1hcF8zYjg0OTFjMzc3NTc0YWY3OGRlMzM2NWI0ZjMxYjJjOSk7CiAgICAgICAgCiAgICAKICAgICAgICAgICAgdmFyIG1hcmtlcl8xYTg2ZTg4YzlmODQ0OWFlYTZmM2RiYzZhYjJjZTZiNiA9IEwubWFya2VyKAogICAgICAgICAgICAgICAgWzM3Ljc4OTMyMTUsIC0xMjIuNDAxMzYyNF0sCiAgICAgICAgICAgICAgICB7fQogICAgICAgICAgICApLmFkZFRvKG1hcF8zYjg0OTFjMzc3NTc0YWY3OGRlMzM2NWI0ZjMxYjJjOSk7CiAgICAgICAgCiAgICAKICAgICAgICAgICAgdmFyIG1hcmtlcl84MmI5MTYwZmMyYzQ0MDJjYTBmODhmNWJmMmYxNmEzZCA9IEwubWFya2VyKAogICAgICAgICAgICAgICAgWzM3Ljc1ODA2MiwgLTEyMi40MTg2NDJdLAogICAgICAgICAgICAgICAge30KICAgICAgICAgICAgKS5hZGRUbyhtYXBfM2I4NDkxYzM3NzU3NGFmNzhkZTMzNjViNGYzMWIyYzkpOwogICAgICAgIAogICAgCiAgICAgICAgICAgIHZhciBtYXJrZXJfNGM3YmFhZDFmMjgxNDE3OGJlODNhMGI2OGRkYWRkZWEgPSBMLm1hcmtlcigKICAgICAgICAgICAgICAgIFs1NC43MDMxNDUsIC0xLjU3NDk0OF0sCiAgICAgICAgICAgICAgICB7fQogICAgICAgICAgICApLmFkZFRvKG1hcF8zYjg0OTFjMzc3NTc0YWY3OGRlMzM2NWI0ZjMxYjJjOSk7CiAgICAgICAgCiAgICAKICAgICAgICAgICAgdmFyIG1hcmtlcl9mZWMzYjE1N2FhMGU0OTdlYTJhYWI0MTQyYzE1ZDVjZSA9IEwubWFya2VyKAogICAgICAgICAgICAgICAgWzM3Ljc5NDEyNCwgLTEyMi40MDMyMjNdLAogICAgICAgICAgICAgICAge30KICAgICAgICAgICAgKS5hZGRUbyhtYXBfM2I4NDkxYzM3NzU3NGFmNzhkZTMzNjViNGYzMWIyYzkpOwogICAgICAgIAogICAgCiAgICAgICAgICAgIHZhciBtYXJrZXJfYzkyNzQ1OWIzODA5NDZmOGJhMDAwNjAyNjIzMTU3MjAgPSBMLm1hcmtlcigKICAgICAgICAgICAgICAgIFszNy43OTgzMTgxLCAtMTIyLjQwMDAwMzJdLAogICAgICAgICAgICAgICAge30KICAgICAgICAgICAgKS5hZGRUbyhtYXBfM2I4NDkxYzM3NzU3NGFmNzhkZTMzNjViNGYzMWIyYzkpOwogICAgICAgIAogICAgCiAgICAgICAgICAgIHZhciBtYXJrZXJfMjRkYzIwZGIxMzU2NDU5YWI5NGI5YmQwOTEyZTFlOWQgPSBMLm1hcmtlcigKICAgICAgICAgICAgICAgIFszNC4wNTQyNTksIC0xMTguNDE0MDY0XSwKICAgICAgICAgICAgICAgIHt9CiAgICAgICAgICAgICkuYWRkVG8obWFwXzNiODQ5MWMzNzc1NzRhZjc4ZGUzMzY1YjRmMzFiMmM5KTsKICAgICAgICAKICAgIAogICAgICAgICAgICB2YXIgbWFya2VyX2UwMzI3NmI0YzA3NDRlYTRhNDc3ZDUzOTYzMDE3MTI1ID0gTC5tYXJrZXIoCiAgICAgICAgICAgICAgICBbMzcuNzkxNTc2LCAtMTIyLjM5OTM2M10sCiAgICAgICAgICAgICAgICB7fQogICAgICAgICAgICApLmFkZFRvKG1hcF8zYjg0OTFjMzc3NTc0YWY3OGRlMzM2NWI0ZjMxYjJjOSk7CiAgICAgICAgCiAgICAKICAgICAgICAgICAgdmFyIG1hcmtlcl80ZDg2YzE1ZmI4ZWE0NjVmOTQ2NzM0OWNiMWI4NjI1NyA9IEwubWFya2VyKAogICAgICAgICAgICAgICAgWzM3LjQ1MjAxMSwgLTEyMi4xODI4MjRdLAogICAgICAgICAgICAgICAge30KICAgICAgICAgICAgKS5hZGRUbyhtYXBfM2I4NDkxYzM3NzU3NGFmNzhkZTMzNjViNGYzMWIyYzkpOwogICAgICAgIAogICAgCiAgICAgICAgICAgIHZhciBtYXJrZXJfMDhlMDcwMzIwM2EwNDk4OWFiNzVhODk0MWFlZWFiMzEgPSBMLm1hcmtlcigKICAgICAgICAgICAgICAgIFszNy4zMjMyMzQsIC0xMjIuMDU1MTc3XSwKICAgICAgICAgICAgICAgIHt9CiAgICAgICAgICAgICkuYWRkVG8obWFwXzNiODQ5MWMzNzc1NzRhZjc4ZGUzMzY1YjRmMzFiMmM5KTsKICAgICAgICAKICAgIAogICAgICAgICAgICB2YXIgbWFya2VyX2ViNDY2YmU4M2JmNTRjNzFhZDcyNTg0YjdiYjhmZjUyID0gTC5tYXJrZXIoCiAgICAgICAgICAgICAgICBbMzQuMTExNDcxLCAtMTE4LjE3NDg3OF0sCiAgICAgICAgICAgICAgICB7fQogICAgICAgICAgICApLmFkZFRvKG1hcF8zYjg0OTFjMzc3NTc0YWY3OGRlMzM2NWI0ZjMxYjJjOSk7CiAgICAgICAgCiAgICAKICAgICAgICAgICAgdmFyIG1hcmtlcl81NGE0MGFkZjU4NGQ0ODA4YjZjZWNhOTJlOGNlOWRhMiA9IEwubWFya2VyKAogICAgICAgICAgICAgICAgWzM3Ljc4NzA5MjMsIC0xMjIuMzk5OTcxOV0sCiAgICAgICAgICAgICAgICB7fQogICAgICAgICAgICApLmFkZFRvKG1hcF8zYjg0OTFjMzc3NTc0YWY3OGRlMzM2NWI0ZjMxYjJjOSk7CiAgICAgICAgCiAgICAKICAgICAgICAgICAgdmFyIG1hcmtlcl82N2IyNzEyOTlkZTc0NDQwYjAwMzM0NjMyNDQ0YTZiNyA9IEwubWFya2VyKAogICAgICAgICAgICAgICAgWzQyLjE0MjI2MSwgLTg3Ljg2MjMwNV0sCiAgICAgICAgICAgICAgICB7fQogICAgICAgICAgICApLmFkZFRvKG1hcF8zYjg0OTFjMzc3NTc0YWY3OGRlMzM2NWI0ZjMxYjJjOSk7CiAgICAgICAgCiAgICAKICAgICAgICAgICAgdmFyIG1hcmtlcl85ZGY5YWZiZDFhODA0ZmE2YjQ4MDBmMTUzM2I2OTJjMiA9IEwubWFya2VyKAogICAgICAgICAgICAgICAgWzM3LjQ1MjAxMSwgLTEyMi4xODI4MjRdLAogICAgICAgICAgICAgICAge30KICAgICAgICAgICAgKS5hZGRUbyhtYXBfM2I4NDkxYzM3NzU3NGFmNzhkZTMzNjViNGYzMWIyYzkpOwogICAgICAgIAogICAgCiAgICAgICAgICAgIHZhciBtYXJrZXJfYzA0MGQ0MTE0YjkyNDNjZWE1YWMyOWY3ZTkwNzIxZDIgPSBMLm1hcmtlcigKICAgICAgICAgICAgICAgIFszNy43NTgwNjIsIC0xMjIuNDE4NjQyXSwKICAgICAgICAgICAgICAgIHt9CiAgICAgICAgICAgICkuYWRkVG8obWFwXzNiODQ5MWMzNzc1NzRhZjc4ZGUzMzY1YjRmMzFiMmM5KTsKICAgICAgICAKICAgIAogICAgICAgICAgICB2YXIgbWFya2VyXzI2YWIyODlmNGIxMDQwYjc4YzRiNzE4MjNlMDEzYzVmID0gTC5tYXJrZXIoCiAgICAgICAgICAgICAgICBbMzcuNzkxNTc2LCAtMTIyLjM5OTM2M10sCiAgICAgICAgICAgICAgICB7fQogICAgICAgICAgICApLmFkZFRvKG1hcF8zYjg0OTFjMzc3NTc0YWY3OGRlMzM2NWI0ZjMxYjJjOSk7CiAgICAgICAgCiAgICAKICAgICAgICAgICAgdmFyIG1hcmtlcl8wY2VkNjhiYTI4YTA0OWNmYjEzMWIyMjdhODJiZGNlZiA9IEwubWFya2VyKAogICAgICAgICAgICAgICAgWzM3Ljc5NDEyNCwgLTEyMi40MDMyMjNdLAogICAgICAgICAgICAgICAge30KICAgICAgICAgICAgKS5hZGRUbyhtYXBfM2I4NDkxYzM3NzU3NGFmNzhkZTMzNjViNGYzMWIyYzkpOwogICAgICAgIAogICAgCiAgICAgICAgICAgIHZhciBtYXJrZXJfNTQ0OGQzZDExZTU2NGM0YmE4YzUwNzllM2M5ODQ5N2IgPSBMLm1hcmtlcigKICAgICAgICAgICAgICAgIFszNC4wNTQyNTksIC0xMTguNDE0MDY0XSwKICAgICAgICAgICAgICAgIHt9CiAgICAgICAgICAgICkuYWRkVG8obWFwXzNiODQ5MWMzNzc1NzRhZjc4ZGUzMzY1YjRmMzFiMmM5KTsKICAgICAgICAKICAgIAogICAgICAgICAgICB2YXIgbWFya2VyXzMwZTY5OTdiNWJlNzQ4ZDA5Y2M4YTgwNjk1OWMyNDQ3ID0gTC5tYXJrZXIoCiAgICAgICAgICAgICAgICBbMzcuNzk4MzE4MSwgLTEyMi40MDAwMDMyXSwKICAgICAgICAgICAgICAgIHt9CiAgICAgICAgICAgICkuYWRkVG8obWFwXzNiODQ5MWMzNzc1NzRhZjc4ZGUzMzY1YjRmMzFiMmM5KTsKICAgICAgICAKICAgIAogICAgICAgICAgICB2YXIgbWFya2VyXzRhMmYxZDZmNTExZTQzMDY5ZTRiNGY0ZWEyNWU5YTVmID0gTC5tYXJrZXIoCiAgICAgICAgICAgICAgICBbMzcuNzg3MDkyMywgLTEyMi4zOTk5NzE5XSwKICAgICAgICAgICAgICAgIHt9CiAgICAgICAgICAgICkuYWRkVG8obWFwXzNiODQ5MWMzNzc1NzRhZjc4ZGUzMzY1YjRmMzFiMmM5KTsKICAgICAgICAKICAgIAogICAgICAgICAgICB2YXIgbWFya2VyXzliYjY5ZDcwY2IzMDRlZjQ4NWZlNjI2ZmMwZGNiMTM0ID0gTC5tYXJrZXIoCiAgICAgICAgICAgICAgICBbMzcuNTc1ODg2NywgLTEyMi4zMjc3NTc4XSwKICAgICAgICAgICAgICAgIHt9CiAgICAgICAgICAgICkuYWRkVG8obWFwXzNiODQ5MWMzNzc1NzRhZjc4ZGUzMzY1YjRmMzFiMmM5KTsKICAgICAgICAKICAgIAogICAgICAgICAgICB2YXIgbWFya2VyXzkxMzAwNjY3MmUzMDQ3NmFiM2Y2MDk0MjE4NTE5MmM2ID0gTC5tYXJrZXIoCiAgICAgICAgICAgICAgICBbMzQuMTExNDcxLCAtMTE4LjE3NDg3OF0sCiAgICAgICAgICAgICAgICB7fQogICAgICAgICAgICApLmFkZFRvKG1hcF8zYjg0OTFjMzc3NTc0YWY3OGRlMzM2NWI0ZjMxYjJjOSk7CiAgICAgICAgCiAgICAKICAgICAgICAgICAgdmFyIG1hcmtlcl8yMmM1MDU4MWI5MzM0ZmJmOGU0NWU2NGQ5NDY2NTI2MSA9IEwubWFya2VyKAogICAgICAgICAgICAgICAgWzMwLjI3MjkyMDksIC05Ny43NDQzODYzXSwKICAgICAgICAgICAgICAgIHt9CiAgICAgICAgICAgICkuYWRkVG8obWFwXzNiODQ5MWMzNzc1NzRhZjc4ZGUzMzY1YjRmMzFiMmM5KTsKICAgICAgICAKICAgIAogICAgICAgICAgICB2YXIgbWFya2VyXzlhNmU0NTlmOTUzMzQ4ZTE5OGZjYjY0ZDJkMjI1MmY3ID0gTC5tYXJrZXIoCiAgICAgICAgICAgICAgICBbMzcuMzIzMjM0LCAtMTIyLjA1NTE3N10sCiAgICAgICAgICAgICAgICB7fQogICAgICAgICAgICApLmFkZFRvKG1hcF8zYjg0OTFjMzc3NTc0YWY3OGRlMzM2NWI0ZjMxYjJjOSk7CiAgICAgICAgCiAgICAKICAgICAgICAgICAgdmFyIG1hcmtlcl8yYWVkNGUzZjBhYmE0MDdjYjBkYjZhMmRlZDlkNmJkNyA9IEwubWFya2VyKAogICAgICAgICAgICAgICAgWzM3Ljc4MjE2MywgLTEyMi40MDA1OTFdLAogICAgICAgICAgICAgICAge30KICAgICAgICAgICAgKS5hZGRUbyhtYXBfM2I4NDkxYzM3NzU3NGFmNzhkZTMzNjViNGYzMWIyYzkpOwogICAgICAgIAogICAgCiAgICAgICAgICAgIHZhciBtYXJrZXJfMGU2ZDI2ZTAzNzJiNGMwZWFhMjIyYjdmYmVmNjEzOGIgPSBMLm1hcmtlcigKICAgICAgICAgICAgICAgIFszNy43OTQwMiwgLTEyMi40MDMxMjQyXSwKICAgICAgICAgICAgICAgIHt9CiAgICAgICAgICAgICkuYWRkVG8obWFwXzNiODQ5MWMzNzc1NzRhZjc4ZGUzMzY1YjRmMzFiMmM5KTsKICAgICAgICAKICAgIAogICAgICAgICAgICB2YXIgbWFya2VyXzkwNDIzOTg0N2RkZjRhMzk4OTYyZTVkNzA2Y2NiM2VkID0gTC5tYXJrZXIoCiAgICAgICAgICAgICAgICBbMzkuOTA1MjI2MywgLTg2LjA1NDcwMTZdLAogICAgICAgICAgICAgICAge30KICAgICAgICAgICAgKS5hZGRUbyhtYXBfM2I4NDkxYzM3NzU3NGFmNzhkZTMzNjViNGYzMWIyYzkpOwogICAgICAgIAogICAgCiAgICAgICAgICAgIHZhciBtYXJrZXJfMmI0OTM3ZmMxZTYxNDYxMjk5MDI5OGRjYzY0YTZkNTIgPSBMLm1hcmtlcigKICAgICAgICAgICAgICAgIFszNy40NTg3NjYsIC0xMjIuMTcyNTE5XSwKICAgICAgICAgICAgICAgIHt9CiAgICAgICAgICAgICkuYWRkVG8obWFwXzNiODQ5MWMzNzc1NzRhZjc4ZGUzMzY1YjRmMzFiMmM5KTsKICAgICAgICAKICAgIAogICAgICAgICAgICB2YXIgbWFya2VyXzFiYTllODQwYWVhYTQ4NGI4YmMxOGUzYjRlZjQ4MjU5ID0gTC5tYXJrZXIoCiAgICAgICAgICAgICAgICBbMzcuNzg4MTE1LCAtMTIyLjM5NzE0MV0sCiAgICAgICAgICAgICAgICB7fQogICAgICAgICAgICApLmFkZFRvKG1hcF8zYjg0OTFjMzc3NTc0YWY3OGRlMzM2NWI0ZjMxYjJjOSk7CiAgICAgICAgCiAgICAKICAgICAgICAgICAgdmFyIG1hcmtlcl9mYjQ1ZGVjMjIyN2E0MjdiYmE3NmY2NzRmOGYyNjk0YyA9IEwubWFya2VyKAogICAgICAgICAgICAgICAgWzQxLjg5NjUxNjIsIC04Ny42NDM2MjJdLAogICAgICAgICAgICAgICAge30KICAgICAgICAgICAgKS5hZGRUbyhtYXBfM2I4NDkxYzM3NzU3NGFmNzhkZTMzNjViNGYzMWIyYzkpOwogICAgICAgIAogICAgCiAgICAgICAgICAgIHZhciBtYXJrZXJfNjhkYWY2NmQwNDg1NGNkMDg1MzUyMmZkZWNiMWM1OTUgPSBMLm1hcmtlcigKICAgICAgICAgICAgICAgIFszNy43ODEyNjIsIC0xMjIuMzk0OTU4XSwKICAgICAgICAgICAgICAgIHt9CiAgICAgICAgICAgICkuYWRkVG8obWFwXzNiODQ5MWMzNzc1NzRhZjc4ZGUzMzY1YjRmMzFiMmM5KTsKICAgICAgICAKICAgIAogICAgICAgICAgICB2YXIgbWFya2VyX2RmZDJhNDliYmU4NDRkYjFhODI2NTEwNmU1NzRhNGU2ID0gTC5tYXJrZXIoCiAgICAgICAgICAgICAgICBbNDguODgzMzI5LCAyLjM2NzkxOTVdLAogICAgICAgICAgICAgICAge30KICAgICAgICAgICAgKS5hZGRUbyhtYXBfM2I4NDkxYzM3NzU3NGFmNzhkZTMzNjViNGYzMWIyYzkpOwogICAgICAgIAogICAgCiAgICAgICAgICAgIHZhciBtYXJrZXJfMjZkNzQ1OTdhYjU2NDNkMzliZGJiZTU2MjIyNjkxYjMgPSBMLm1hcmtlcigKICAgICAgICAgICAgICAgIFs0MC43NDQ2MTgsIC03My45ODc3NjRdLAogICAgICAgICAgICAgICAge30KICAgICAgICAgICAgKS5hZGRUbyhtYXBfM2I4NDkxYzM3NzU3NGFmNzhkZTMzNjViNGYzMWIyYzkpOwogICAgICAgIAogICAgCiAgICAgICAgICAgIHZhciBtYXJrZXJfMTgyOGQyYjlhYjcyNGE0Yzg2YWU2YTViN2NiMTllNDggPSBMLm1hcmtlcigKICAgICAgICAgICAgICAgIFs1NS42NzM5NjE3LCAxMi41NjA1MzcyXSwKICAgICAgICAgICAgICAgIHt9CiAgICAgICAgICAgICkuYWRkVG8obWFwXzNiODQ5MWMzNzc1NzRhZjc4ZGUzMzY1YjRmMzFiMmM5KTsKICAgICAgICAKICAgIAogICAgICAgICAgICB2YXIgbWFya2VyX2ViZjU0MTljMGY5YzRhYTZhZTgxMDkzODNiZDllYjY2ID0gTC5tYXJrZXIoCiAgICAgICAgICAgICAgICBbMzQuNDIwMzE2LCAtMTE5LjY4ODQxMl0sCiAgICAgICAgICAgICAgICB7fQogICAgICAgICAgICApLmFkZFRvKG1hcF8zYjg0OTFjMzc3NTc0YWY3OGRlMzM2NWI0ZjMxYjJjOSk7CiAgICAgICAgCiAgICAKICAgICAgICAgICAgdmFyIG1hcmtlcl81NjQ1ZWFhNzQxNGI0NThkODIwMDg3OTJlYTE2YmVkNyA9IEwubWFya2VyKAogICAgICAgICAgICAgICAgWzQyLjM2MDA5OCwgLTcxLjA4NTkwOV0sCiAgICAgICAgICAgICAgICB7fQogICAgICAgICAgICApLmFkZFRvKG1hcF8zYjg0OTFjMzc3NTc0YWY3OGRlMzM2NWI0ZjMxYjJjOSk7CiAgICAgICAgCiAgICAKICAgICAgICAgICAgdmFyIG1hcmtlcl9jMmYzZGJlNzY5M2U0M2NiODJiZDFjNTgwMWRhYzZlNiA9IEwubWFya2VyKAogICAgICAgICAgICAgICAgWzQwLjc1NjA1NCwgLTczLjk4Njk1MV0sCiAgICAgICAgICAgICAgICB7fQogICAgICAgICAgICApLmFkZFRvKG1hcF8zYjg0OTFjMzc3NTc0YWY3OGRlMzM2NWI0ZjMxYjJjOSk7CiAgICAgICAgCiAgICAKICAgICAgICAgICAgdmFyIG1hcmtlcl85ZmNlMTg3YzNlMjY0OGJlYWQ2Zjc0MWNlYzA3ZGQwNCA9IEwubWFya2VyKAogICAgICAgICAgICAgICAgWzQyLjQzMDg0NCwgLTcxLjIzNzk3Nl0sCiAgICAgICAgICAgICAgICB7fQogICAgICAgICAgICApLmFkZFRvKG1hcF8zYjg0OTFjMzc3NTc0YWY3OGRlMzM2NWI0ZjMxYjJjOSk7CiAgICAgICAgCiAgICAKICAgICAgICAgICAgdmFyIG1hcmtlcl83NzNkOGE3ZGZiZDI0ZTNiYmVhYjFmMmZlN2U3OGQyOCA9IEwubWFya2VyKAogICAgICAgICAgICAgICAgWzQwLjczOTg2NywgLTczLjk5MDAyNF0sCiAgICAgICAgICAgICAgICB7fQogICAgICAgICAgICApLmFkZFRvKG1hcF8zYjg0OTFjMzc3NTc0YWY3OGRlMzM2NWI0ZjMxYjJjOSk7CiAgICAgICAgCiAgICAKICAgICAgICAgICAgdmFyIG1hcmtlcl9jNTE2YzI2Zjc2YWY0NGNhOTFjMmI2ZmRkZDA4ODIxYyA9IEwubWFya2VyKAogICAgICAgICAgICAgICAgWzM3LjgwOTc0MzksIC0xMjEuOTkwOTQ1NF0sCiAgICAgICAgICAgICAgICB7fQogICAgICAgICAgICApLmFkZFRvKG1hcF8zYjg0OTFjMzc3NTc0YWY3OGRlMzM2NWI0ZjMxYjJjOSk7CiAgICAgICAgCiAgICAKICAgICAgICAgICAgdmFyIG1hcmtlcl85NTc4NDc3ODEzMWM0MTQ0ODY5NDIzMmUwMTNkZDYxNiA9IEwubWFya2VyKAogICAgICAgICAgICAgICAgWzUzLjM0MzgyOTgsIC02LjI2ODk0NjVdLAogICAgICAgICAgICAgICAge30KICAgICAgICAgICAgKS5hZGRUbyhtYXBfM2I4NDkxYzM3NzU3NGFmNzhkZTMzNjViNGYzMWIyYzkpOwogICAgICAgIAogICAgCiAgICAgICAgICAgIHZhciBtYXJrZXJfNDgwMWU5Zjc0ZDg1NDlkNWIxZWFiOTgyNDAyMzhiM2UgPSBMLm1hcmtlcigKICAgICAgICAgICAgICAgIFszMi43MTYxODk2LCAtMTE3LjE2ODY5N10sCiAgICAgICAgICAgICAgICB7fQogICAgICAgICAgICApLmFkZFRvKG1hcF8zYjg0OTFjMzc3NTc0YWY3OGRlMzM2NWI0ZjMxYjJjOSk7CiAgICAgICAgCiAgICAKICAgICAgICAgICAgdmFyIG1hcmtlcl9lYWI4NTQ0MzQxMDg0MDY0OTE0NzE4NWNlYjc3ZWRkMiA9IEwubWFya2VyKAogICAgICAgICAgICAgICAgWzUxLjUxODEwMSwgLTAuNDY4NjE3XSwKICAgICAgICAgICAgICAgIHt9CiAgICAgICAgICAgICkuYWRkVG8obWFwXzNiODQ5MWMzNzc1NzRhZjc4ZGUzMzY1YjRmMzFiMmM5KTsKICAgICAgICAKICAgIAogICAgICAgICAgICB2YXIgbWFya2VyXzYyMmE2ZjQzMzQ5YjQyYjRiYTg1OTYyN2RlMjEzZDY5ID0gTC5tYXJrZXIoCiAgICAgICAgICAgICAgICBbMzcuNzg4Nzk2LCAtMTIyLjQwOTcxXSwKICAgICAgICAgICAgICAgIHt9CiAgICAgICAgICAgICkuYWRkVG8obWFwXzNiODQ5MWMzNzc1NzRhZjc4ZGUzMzY1YjRmMzFiMmM5KTsKICAgICAgICAKICAgIAogICAgICAgICAgICB2YXIgbWFya2VyXzViYjlhYzBkYWE5NDQ3OGY5ODRhZmNkYWM2ZGUxZGY0ID0gTC5tYXJrZXIoCiAgICAgICAgICAgICAgICBbMzcuMzIxODM1NiwgLTEyMS45NDc4MDQ5XSwKICAgICAgICAgICAgICAgIHt9CiAgICAgICAgICAgICkuYWRkVG8obWFwXzNiODQ5MWMzNzc1NzRhZjc4ZGUzMzY1YjRmMzFiMmM5KTsKICAgICAgICAKICAgIAogICAgICAgICAgICB2YXIgbWFya2VyX2FmZWY3ODdjNmZkODRiNGI4OGE1YjRkZWRhYzFmMjIzID0gTC5tYXJrZXIoCiAgICAgICAgICAgICAgICBbMzMuOTkxMDM4NCwgLTExOC40NDgyODE3XSwKICAgICAgICAgICAgICAgIHt9CiAgICAgICAgICAgICkuYWRkVG8obWFwXzNiODQ5MWMzNzc1NzRhZjc4ZGUzMzY1YjRmMzFiMmM5KTsKICAgICAgICAKICAgIAogICAgICAgICAgICB2YXIgbWFya2VyXzcwZWEwYjBlZDNkNjRmYjI4OGVmZWJiMGZhZjNlYjRjID0gTC5tYXJrZXIoCiAgICAgICAgICAgICAgICBbNTEuNDUyMzMzNSwgNy4zNTU0MzY1XSwKICAgICAgICAgICAgICAgIHt9CiAgICAgICAgICAgICkuYWRkVG8obWFwXzNiODQ5MWMzNzc1NzRhZjc4ZGUzMzY1YjRmMzFiMmM5KTsKICAgICAgICAKICAgIAogICAgICAgICAgICB2YXIgbWFya2VyXzM0NWUxZjFmZjg2MDQ2Mzk5MWEzMmExZDdhNjlkZDY1ID0gTC5tYXJrZXIoCiAgICAgICAgICAgICAgICBbMjkuNzE3ODgxLCAtOTUuNDUyMzUyXSwKICAgICAgICAgICAgICAgIHt9CiAgICAgICAgICAgICkuYWRkVG8obWFwXzNiODQ5MWMzNzc1NzRhZjc4ZGUzMzY1YjRmMzFiMmM5KTsKICAgICAgICAKICAgIAogICAgICAgICAgICB2YXIgbWFya2VyXzQxYTVkNjI1NjI0MTRiN2I4MDdhM2ZmN2IwNjY1NTg2ID0gTC5tYXJrZXIoCiAgICAgICAgICAgICAgICBbMzMuNzgzNjgwMiwgLTExNi43NzMyMTYyXSwKICAgICAgICAgICAgICAgIHt9CiAgICAgICAgICAgICkuYWRkVG8obWFwXzNiODQ5MWMzNzc1NzRhZjc4ZGUzMzY1YjRmMzFiMmM5KTsKICAgICAgICAKICAgIAogICAgICAgICAgICB2YXIgbWFya2VyX2Q5YWVhYzQxYmE2ZDQ2NjRhNzkwMTU3MmMxNTc4NDJhID0gTC5tYXJrZXIoCiAgICAgICAgICAgICAgICBbNDEuODk5NjgyNywgMTIuNDM2MjQxOV0sCiAgICAgICAgICAgICAgICB7fQogICAgICAgICAgICApLmFkZFRvKG1hcF8zYjg0OTFjMzc3NTc0YWY3OGRlMzM2NWI0ZjMxYjJjOSk7CiAgICAgICAgCiAgICAKICAgICAgICAgICAgdmFyIG1hcmtlcl8xNmNiZDZkYjkxZDA0NjUyYmYyYTQzNTZlNTJkNWM3OCA9IEwubWFya2VyKAogICAgICAgICAgICAgICAgWzUzLjU3MzY0MDEsIDEwLjAxODQ1NjVdLAogICAgICAgICAgICAgICAge30KICAgICAgICAgICAgKS5hZGRUbyhtYXBfM2I4NDkxYzM3NzU3NGFmNzhkZTMzNjViNGYzMWIyYzkpOwogICAgICAgIAogICAgCiAgICAgICAgICAgIHZhciBtYXJrZXJfNzFmODk1NjA1Yzk4NGNhMjk0NDQ2MjQzYjY3YjgzOGMgPSBMLm1hcmtlcigKICAgICAgICAgICAgICAgIFs0Mi4zNzU2NDA5LCAtNzIuNTE5NjkwN10sCiAgICAgICAgICAgICAgICB7fQogICAgICAgICAgICApLmFkZFRvKG1hcF8zYjg0OTFjMzc3NTc0YWY3OGRlMzM2NWI0ZjMxYjJjOSk7CiAgICAgICAgCiAgICAKICAgICAgICAgICAgdmFyIG1hcmtlcl8zMzA2NTE5Nzk2MDQ0ODJmYTg5ODkzOWNlYWM4Y2M1YiA9IEwubWFya2VyKAogICAgICAgICAgICAgICAgWzQwLjc1NjA1NCwgLTczLjk4Njk1MV0sCiAgICAgICAgICAgICAgICB7fQogICAgICAgICAgICApLmFkZFRvKG1hcF8zYjg0OTFjMzc3NTc0YWY3OGRlMzM2NWI0ZjMxYjJjOSk7CiAgICAgICAgCiAgICAKICAgICAgICAgICAgdmFyIG1hcmtlcl8yNjIxYjFmOGNmNzM0MjQ5OThhNTQ1ZTk3NzMxMzcxMiA9IEwubWFya2VyKAogICAgICAgICAgICAgICAgWy0zMS45NzgyMiwgMTE1Ljg5MDg0XSwKICAgICAgICAgICAgICAgIHt9CiAgICAgICAgICAgICkuYWRkVG8obWFwXzNiODQ5MWMzNzc1NzRhZjc4ZGUzMzY1YjRmMzFiMmM5KTsKICAgICAgICAKICAgIAogICAgICAgICAgICB2YXIgbWFya2VyX2U2MjM5MTU3M2JiMzRiZDc5ODE2YzZmN2ZiNTJhOGFjID0gTC5tYXJrZXIoCiAgICAgICAgICAgICAgICBbMzQuMTAxMjE4MSwgLTExOC4zMjU3MzldLAogICAgICAgICAgICAgICAge30KICAgICAgICAgICAgKS5hZGRUbyhtYXBfM2I4NDkxYzM3NzU3NGFmNzhkZTMzNjViNGYzMWIyYzkpOwogICAgICAgIAogICAgCiAgICAgICAgICAgIHZhciBtYXJrZXJfYWJhZTNmOWNkNmJkNGNiNmFkZmI2NTQ3MDkwY2VjYWYgPSBMLm1hcmtlcigKICAgICAgICAgICAgICAgIFszNC4wMDcxMTIsIC0xMTguNDg5NzQ4XSwKICAgICAgICAgICAgICAgIHt9CiAgICAgICAgICAgICkuYWRkVG8obWFwXzNiODQ5MWMzNzc1NzRhZjc4ZGUzMzY1YjRmMzFiMmM5KTsKICAgICAgICAKICAgIAogICAgICAgICAgICB2YXIgbWFya2VyXzIyOTYwMjdjNTE4NjQzYzU5ZTdjOGE4NWZkNjJkMTIwID0gTC5tYXJrZXIoCiAgICAgICAgICAgICAgICBbNDEuODc5NTM1LCAtODcuNjI0MzMzXSwKICAgICAgICAgICAgICAgIHt9CiAgICAgICAgICAgICkuYWRkVG8obWFwXzNiODQ5MWMzNzc1NzRhZjc4ZGUzMzY1YjRmMzFiMmM5KTsKICAgICAgICAKICAgIAogICAgICAgICAgICB2YXIgbWFya2VyX2ZiMTg2OTJjZDcxOTQ3ODRiODhjOTRiZDgzNWRmNDlhID0gTC5tYXJrZXIoCiAgICAgICAgICAgICAgICBbMzcuMzk0NTgsIC0xMjEuOTI4MzkzXSwKICAgICAgICAgICAgICAgIHt9CiAgICAgICAgICAgICkuYWRkVG8obWFwXzNiODQ5MWMzNzc1NzRhZjc4ZGUzMzY1YjRmMzFiMmM5KTsKICAgICAgICAKICAgIAogICAgICAgICAgICB2YXIgbWFya2VyXzllOTgxYzRhMjFhNTQ1ZjBhZjVlYmJiNTE1NzNiNzE1ID0gTC5tYXJrZXIoCiAgICAgICAgICAgICAgICBbMzcuNDQ0NTMxLCAtMTIyLjE2MzM1Ml0sCiAgICAgICAgICAgICAgICB7fQogICAgICAgICAgICApLmFkZFRvKG1hcF8zYjg0OTFjMzc3NTc0YWY3OGRlMzM2NWI0ZjMxYjJjOSk7CiAgICAgICAgCiAgICAKICAgICAgICAgICAgdmFyIG1hcmtlcl9mN2Y4ZDVkMTE2MzY0NDBjYmI1NzYxNGYzZjlhMmU5NiA9IEwubWFya2VyKAogICAgICAgICAgICAgICAgWzM3LjgwMTc5MzgsIC0xMjIuNDA0MzIxNV0sCiAgICAgICAgICAgICAgICB7fQogICAgICAgICAgICApLmFkZFRvKG1hcF8zYjg0OTFjMzc3NTc0YWY3OGRlMzM2NWI0ZjMxYjJjOSk7CiAgICAgICAgCiAgICAKICAgICAgICAgICAgdmFyIG1hcmtlcl82ZTA5ZjAxMmFkNzQ0YWY5YTgyODUzNjJiODQ1YTc2NSA9IEwubWFya2VyKAogICAgICAgICAgICAgICAgWzQ3LjgyMTE2MzQsIC0xMjIuMzE4MjY4M10sCiAgICAgICAgICAgICAgICB7fQogICAgICAgICAgICApLmFkZFRvKG1hcF8zYjg0OTFjMzc3NTc0YWY3OGRlMzM2NWI0ZjMxYjJjOSk7CiAgICAgICAgCiAgICAKICAgICAgICAgICAgdmFyIG1hcmtlcl83ODc4YzIwNzgwOTU0Y2ZjYWI5ZWIxMDRkNTBkOWExYiA9IEwubWFya2VyKAogICAgICAgICAgICAgICAgWzM3Ljc4NjgzMzMsIC0xMjIuNDAxMTYwM10sCiAgICAgICAgICAgICAgICB7fQogICAgICAgICAgICApLmFkZFRvKG1hcF8zYjg0OTFjMzc3NTc0YWY3OGRlMzM2NWI0ZjMxYjJjOSk7CiAgICAgICAgCiAgICAKICAgICAgICAgICAgdmFyIG1hcmtlcl9jNjZkOGJiNDQ5YWE0NGU4ODMyMWFhZTk5NmI5NjQxYyA9IEwubWFya2VyKAogICAgICAgICAgICAgICAgWzQyLjM2NDc1NTksIC03MS4xMDMyNTkxXSwKICAgICAgICAgICAgICAgIHt9CiAgICAgICAgICAgICkuYWRkVG8obWFwXzNiODQ5MWMzNzc1NzRhZjc4ZGUzMzY1YjRmMzFiMmM5KTsKICAgICAgICAKICAgIAogICAgICAgICAgICB2YXIgbWFya2VyX2RmMjRiOGY0M2QyMDQ3NDlhODEyN2NlZDAxNjhjMmIwID0gTC5tYXJrZXIoCiAgICAgICAgICAgICAgICBbNDAuNzQ2NDE3LCAtNzMuOTgzMTcxXSwKICAgICAgICAgICAgICAgIHt9CiAgICAgICAgICAgICkuYWRkVG8obWFwXzNiODQ5MWMzNzc1NzRhZjc4ZGUzMzY1YjRmMzFiMmM5KTsKICAgICAgICAKICAgIAogICAgICAgICAgICB2YXIgbWFya2VyX2FkYmMxZjc3MmFkMzQyNmJiZmM1MDFlNGMyNzQ4MmRlID0gTC5tYXJrZXIoCiAgICAgICAgICAgICAgICBbNDAuNzU2MDU0LCAtNzMuOTg2OTUxXSwKICAgICAgICAgICAgICAgIHt9CiAgICAgICAgICAgICkuYWRkVG8obWFwXzNiODQ5MWMzNzc1NzRhZjc4ZGUzMzY1YjRmMzFiMmM5KTsKICAgICAgICAKICAgIAogICAgICAgICAgICB2YXIgbWFya2VyX2M4NmRlNzVlYWYyZTRjYTI4NjdiZDgxMTM5MmQ4NGFiID0gTC5tYXJrZXIoCiAgICAgICAgICAgICAgICBbNTAuODI2MzQ3NSwgNC4zNDgyOTVdLAogICAgICAgICAgICAgICAge30KICAgICAgICAgICAgKS5hZGRUbyhtYXBfM2I4NDkxYzM3NzU3NGFmNzhkZTMzNjViNGYzMWIyYzkpOwogICAgICAgIAogICAgCiAgICAgICAgICAgIHZhciBtYXJrZXJfNGY3MTE3NjgzMDllNGJjMTgzYWQ4Njg3YzBhODc3NjYgPSBMLm1hcmtlcigKICAgICAgICAgICAgICAgIFs0OC44NTY2NjY3LCAyLjM1MDk4NzFdLAogICAgICAgICAgICAgICAge30KICAgICAgICAgICAgKS5hZGRUbyhtYXBfM2I4NDkxYzM3NzU3NGFmNzhkZTMzNjViNGYzMWIyYzkpOwogICAgICAgIAogICAgCiAgICAgICAgICAgIHZhciBtYXJrZXJfZmNjYTU5NzBlYTc5NGY1YjhiNzZiMWY0ZGMxMmQ3ZDQgPSBMLm1hcmtlcigKICAgICAgICAgICAgICAgIFs0Ny40OTUzNjYzLCAxOS4wMjg0OTIzXSwKICAgICAgICAgICAgICAgIHt9CiAgICAgICAgICAgICkuYWRkVG8obWFwXzNiODQ5MWMzNzc1NzRhZjc4ZGUzMzY1YjRmMzFiMmM5KTsKICAgICAgICAKICAgIAogICAgICAgICAgICB2YXIgbWFya2VyX2EwMWU0MmE2MjFiODQyZTA4NTJjODIzMjNmMmRkZWU3ID0gTC5tYXJrZXIoCiAgICAgICAgICAgICAgICBbNTIuNDk0NzI2NiwgMTMuMzk4NTA0XSwKICAgICAgICAgICAgICAgIHt9CiAgICAgICAgICAgICkuYWRkVG8obWFwXzNiODQ5MWMzNzc1NzRhZjc4ZGUzMzY1YjRmMzFiMmM5KTsKICAgICAgICAKICAgIAogICAgICAgICAgICB2YXIgbWFya2VyX2NhNTlhYmE0MGI1NjRiMDc5NThiYjdlY2UxODAwYjEwID0gTC5tYXJrZXIoCiAgICAgICAgICAgICAgICBbMzQuMTY4OTU1LCAtMTE4LjU3NTI5M10sCiAgICAgICAgICAgICAgICB7fQogICAgICAgICAgICApLmFkZFRvKG1hcF8zYjg0OTFjMzc3NTc0YWY3OGRlMzM2NWI0ZjMxYjJjOSk7CiAgICAgICAgCiAgICAKICAgICAgICAgICAgdmFyIG1hcmtlcl81MWQzOGUxOWE0NTU0MWZiOGIzOGRkOWQ5NDlkMTAzNyA9IEwubWFya2VyKAogICAgICAgICAgICAgICAgWzUyLjM3MzU1OTIsIDQuODg1Mjc0N10sCiAgICAgICAgICAgICAgICB7fQogICAgICAgICAgICApLmFkZFRvKG1hcF8zYjg0OTFjMzc3NTc0YWY3OGRlMzM2NWI0ZjMxYjJjOSk7CiAgICAgICAgCiAgICAKICAgICAgICAgICAgdmFyIG1hcmtlcl9iMTM4MzRmMGNjNzA0NTcwOGI4OWY2MmM0NTM1OTUwZiA9IEwubWFya2VyKAogICAgICAgICAgICAgICAgWzQxLjcwMTM2OCwgLTgxLjE2NTk4MV0sCiAgICAgICAgICAgICAgICB7fQogICAgICAgICAgICApLmFkZFRvKG1hcF8zYjg0OTFjMzc3NTc0YWY3OGRlMzM2NWI0ZjMxYjJjOSk7CiAgICAgICAgCiAgICAKICAgICAgICAgICAgdmFyIG1hcmtlcl9lNDIxYzliNDYxNDg0NDIzYmI5NWE0ZGQzZDYxNTc5NCA9IEwubWFya2VyKAogICAgICAgICAgICAgICAgWzM0LjA1NDMxOCwgLTExOC40NjI4NzZdLAogICAgICAgICAgICAgICAge30KICAgICAgICAgICAgKS5hZGRUbyhtYXBfM2I4NDkxYzM3NzU3NGFmNzhkZTMzNjViNGYzMWIyYzkpOwogICAgICAgIAogICAgCiAgICAgICAgICAgIHZhciBtYXJrZXJfOWI5Mjc2ODAwMTYwNDIzNWIzZDdlM2NlMDk4MjMwNzEgPSBMLm1hcmtlcigKICAgICAgICAgICAgICAgIFszNy40NDUzMzUsIC0xMjIuMTU4MzNdLAogICAgICAgICAgICAgICAge30KICAgICAgICAgICAgKS5hZGRUbyhtYXBfM2I4NDkxYzM3NzU3NGFmNzhkZTMzNjViNGYzMWIyYzkpOwogICAgICAgIAogICAgCiAgICAgICAgICAgIHZhciBtYXJrZXJfNzE0ODIzNTlhMWIzNDc5ZjhkOTcwZGMxMTkzOTM4MTYgPSBMLm1hcmtlcigKICAgICAgICAgICAgICAgIFs0MC43NDA4MDQyLCAtNzQuMDA3MTddLAogICAgICAgICAgICAgICAge30KICAgICAgICAgICAgKS5hZGRUbyhtYXBfM2I4NDkxYzM3NzU3NGFmNzhkZTMzNjViNGYzMWIyYzkpOwogICAgICAgIAogICAgCiAgICAgICAgICAgIHZhciBtYXJrZXJfY2M1NjVjYWZkNGRmNGUxM2EyYzQyYjJkNDUyMzAwZGIgPSBMLm1hcmtlcigKICAgICAgICAgICAgICAgIFszNC4wMTM3MTUxLCAtMTE4LjQ2NjA1OTddLAogICAgICAgICAgICAgICAge30KICAgICAgICAgICAgKS5hZGRUbyhtYXBfM2I4NDkxYzM3NzU3NGFmNzhkZTMzNjViNGYzMWIyYzkpOwogICAgICAgIAogICAgCiAgICAgICAgICAgIHZhciBtYXJrZXJfZTg5MDNjNGExNTIzNDlhZGI0MzI3OWNkYTA5YjA1ZDYgPSBMLm1hcmtlcigKICAgICAgICAgICAgICAgIFs0MC43NDUwNDk3LCAtNzMuOTkwMDk4NF0sCiAgICAgICAgICAgICAgICB7fQogICAgICAgICAgICApLmFkZFRvKG1hcF8zYjg0OTFjMzc3NTc0YWY3OGRlMzM2NWI0ZjMxYjJjOSk7CiAgICAgICAgCiAgICAKICAgICAgICAgICAgdmFyIG1hcmtlcl9lY2RiNTU2ODg2NDQ0YTVhODdmMjFhYmE0ZDgwZmYwNSA9IEwubWFya2VyKAogICAgICAgICAgICAgICAgWzQxLjQwNjMzNDYsIDIuMTkyMDIzMV0sCiAgICAgICAgICAgICAgICB7fQogICAgICAgICAgICApLmFkZFRvKG1hcF8zYjg0OTFjMzc3NTc0YWY3OGRlMzM2NWI0ZjMxYjJjOSk7CiAgICAgICAgCjwvc2NyaXB0Pg==\" style=\"position:absolute;width:100%;height:100%;left:0;top:0;border:none !important;\" allowfullscreen webkitallowfullscreen mozallowfullscreen></iframe></div></div>"
      ],
      "text/plain": [
       "<folium.folium.Map at 0x1100b7cf8>"
      ]
     },
     "execution_count": 9,
     "metadata": {},
     "output_type": "execute_result"
    }
   ],
   "source": [
    "a = list(zip(data_comp['lat'], data_comp['lng']))\n",
    "for i in a:\n",
    "    b = folium.Marker(location=[i[0],i[1]]).add_to(base_map) \n",
    "    \n",
    "base_map"
   ]
  },
  {
   "cell_type": "code",
   "execution_count": null,
   "metadata": {},
   "outputs": [],
   "source": [
    "import json\n",
    "import requests\n",
    "from dotenv import load_dotenv\n",
    "import os"
   ]
  },
  {
   "cell_type": "code",
   "execution_count": null,
   "metadata": {},
   "outputs": [],
   "source": [
    "BASE_URL = 'https://maps.googleapis.com/maps/api/place/nearbysearch/json?location='"
   ]
  },
  {
   "cell_type": "code",
   "execution_count": 37,
   "metadata": {},
   "outputs": [
    {
     "ename": "SyntaxError",
     "evalue": "unexpected EOF while parsing (<ipython-input-37-9cfeec67a4e2>, line 2)",
     "output_type": "error",
     "traceback": [
      "\u001b[0;36m  File \u001b[0;32m\"<ipython-input-37-9cfeec67a4e2>\"\u001b[0;36m, line \u001b[0;32m2\u001b[0m\n\u001b[0;31m    \u001b[0m\n\u001b[0m    ^\u001b[0m\n\u001b[0;31mSyntaxError\u001b[0m\u001b[0;31m:\u001b[0m unexpected EOF while parsing\n"
     ]
    }
   ],
   "source": [
    "res = requests.get('{}-33.8670522,151.1957362&radius=1500&type=restaurant&keyword=cruise&key={}'.format(key)\n",
    "                "
   ]
  },
  {
   "cell_type": "code",
   "execution_count": 33,
   "metadata": {},
   "outputs": [
    {
     "ename": "KeyError",
     "evalue": "'key'",
     "output_type": "error",
     "traceback": [
      "\u001b[0;31m---------------------------------------------------------------------------\u001b[0m",
      "\u001b[0;31mKeyError\u001b[0m                                  Traceback (most recent call last)",
      "\u001b[0;32m<ipython-input-33-4e437677be8c>\u001b[0m in \u001b[0;36m<module>\u001b[0;34m\u001b[0m\n\u001b[0;32m----> 1\u001b[0;31m \u001b[0mkey\u001b[0m \u001b[0;34m=\u001b[0m \u001b[0mos\u001b[0m\u001b[0;34m.\u001b[0m\u001b[0menviron\u001b[0m\u001b[0;34m[\u001b[0m\u001b[0;34m'key'\u001b[0m\u001b[0;34m]\u001b[0m\u001b[0;34m\u001b[0m\u001b[0;34m\u001b[0m\u001b[0m\n\u001b[0m",
      "\u001b[0;32m/usr/local/Cellar/python/3.7.2_2/Frameworks/Python.framework/Versions/3.7/lib/python3.7/os.py\u001b[0m in \u001b[0;36m__getitem__\u001b[0;34m(self, key)\u001b[0m\n\u001b[1;32m    676\u001b[0m         \u001b[0;32mexcept\u001b[0m \u001b[0mKeyError\u001b[0m\u001b[0;34m:\u001b[0m\u001b[0;34m\u001b[0m\u001b[0;34m\u001b[0m\u001b[0m\n\u001b[1;32m    677\u001b[0m             \u001b[0;31m# raise KeyError with the original key value\u001b[0m\u001b[0;34m\u001b[0m\u001b[0;34m\u001b[0m\u001b[0;34m\u001b[0m\u001b[0m\n\u001b[0;32m--> 678\u001b[0;31m             \u001b[0;32mraise\u001b[0m \u001b[0mKeyError\u001b[0m\u001b[0;34m(\u001b[0m\u001b[0mkey\u001b[0m\u001b[0;34m)\u001b[0m \u001b[0;32mfrom\u001b[0m \u001b[0;32mNone\u001b[0m\u001b[0;34m\u001b[0m\u001b[0;34m\u001b[0m\u001b[0m\n\u001b[0m\u001b[1;32m    679\u001b[0m         \u001b[0;32mreturn\u001b[0m \u001b[0mself\u001b[0m\u001b[0;34m.\u001b[0m\u001b[0mdecodevalue\u001b[0m\u001b[0;34m(\u001b[0m\u001b[0mvalue\u001b[0m\u001b[0;34m)\u001b[0m\u001b[0;34m\u001b[0m\u001b[0;34m\u001b[0m\u001b[0m\n\u001b[1;32m    680\u001b[0m \u001b[0;34m\u001b[0m\u001b[0m\n",
      "\u001b[0;31mKeyError\u001b[0m: 'key'"
     ]
    }
   ],
   "source": [
    "key = os.environ['key']"
   ]
  },
  {
   "cell_type": "code",
   "execution_count": 18,
   "metadata": {},
   "outputs": [
    {
     "ename": "ValueError",
     "evalue": "You should pass a key",
     "output_type": "error",
     "traceback": [
      "\u001b[0;31m---------------------------------------------------------------------------\u001b[0m",
      "\u001b[0;31mValueError\u001b[0m                                Traceback (most recent call last)",
      "\u001b[0;32m<ipython-input-18-16cce6844658>\u001b[0m in \u001b[0;36m<module>\u001b[0;34m\u001b[0m\n\u001b[1;32m      4\u001b[0m \u001b[0;34m\u001b[0m\u001b[0m\n\u001b[1;32m      5\u001b[0m \u001b[0;32mif\u001b[0m \u001b[0;32mnot\u001b[0m \u001b[0;34m\"GOOGLE_KEY\"\u001b[0m \u001b[0;32min\u001b[0m \u001b[0mos\u001b[0m\u001b[0;34m.\u001b[0m\u001b[0menviron\u001b[0m\u001b[0;34m:\u001b[0m\u001b[0;34m\u001b[0m\u001b[0;34m\u001b[0m\u001b[0m\n\u001b[0;32m----> 6\u001b[0;31m     \u001b[0;32mraise\u001b[0m \u001b[0mValueError\u001b[0m\u001b[0;34m(\u001b[0m\u001b[0;34m\"You should pass a key\"\u001b[0m\u001b[0;34m)\u001b[0m\u001b[0;34m\u001b[0m\u001b[0;34m\u001b[0m\u001b[0m\n\u001b[0m\u001b[1;32m      7\u001b[0m \u001b[0;34m\u001b[0m\u001b[0m\n\u001b[1;32m      8\u001b[0m \u001b[0mGOOGLE_KEY\u001b[0m \u001b[0;34m=\u001b[0m \u001b[0mos\u001b[0m\u001b[0;34m.\u001b[0m\u001b[0menviron\u001b[0m\u001b[0;34m[\u001b[0m\u001b[0;34m\"GOOGLE_KEY\"\u001b[0m\u001b[0;34m]\u001b[0m\u001b[0;34m\u001b[0m\u001b[0;34m\u001b[0m\u001b[0m\n",
      "\u001b[0;31mValueError\u001b[0m: You should pass a key"
     ]
    }
   ],
   "source": [
    "import os\n",
    "from dotenv import load_dotenv\n",
    "load_dotenv()\n",
    "\n",
    "if not \"GOOGLE_KEY\" in os.environ:\n",
    "    raise ValueError(\"You should pass a key\")\n",
    "\n",
    "GOOGLE_KEY = os.environ[\"GOOGLE_KEY\"]"
   ]
  },
  {
   "cell_type": "code",
   "execution_count": 16,
   "metadata": {},
   "outputs": [
    {
     "ename": "NameError",
     "evalue": "name 'GOOGLE_KEY' is not defined",
     "output_type": "error",
     "traceback": [
      "\u001b[0;31m---------------------------------------------------------------------------\u001b[0m",
      "\u001b[0;31mNameError\u001b[0m                                 Traceback (most recent call last)",
      "\u001b[0;32m<ipython-input-16-6256fc752e6d>\u001b[0m in \u001b[0;36m<module>\u001b[0;34m\u001b[0m\n\u001b[1;32m      1\u001b[0m headers = {\n\u001b[0;32m----> 2\u001b[0;31m   \u001b[0;34m\"Authorization\"\u001b[0m\u001b[0;34m:\u001b[0m \u001b[0;34m\"token {}\"\u001b[0m\u001b[0;34m.\u001b[0m\u001b[0mformat\u001b[0m\u001b[0;34m(\u001b[0m\u001b[0mGOOGLE_KEY\u001b[0m\u001b[0;34m)\u001b[0m\u001b[0;34m\u001b[0m\u001b[0;34m\u001b[0m\u001b[0m\n\u001b[0m\u001b[1;32m      3\u001b[0m }\n\u001b[1;32m      4\u001b[0m \u001b[0;34m\u001b[0m\u001b[0m\n\u001b[1;32m      5\u001b[0m \u001b[0mres\u001b[0m \u001b[0;34m=\u001b[0m \u001b[0mrequests\u001b[0m\u001b[0;34m.\u001b[0m\u001b[0mget\u001b[0m\u001b[0;34m(\u001b[0m\u001b[0;34m\"{}/user\"\u001b[0m\u001b[0;34m.\u001b[0m\u001b[0mformat\u001b[0m\u001b[0;34m(\u001b[0m\u001b[0mBASE_URL\u001b[0m\u001b[0;34m)\u001b[0m\u001b[0;34m,\u001b[0m \u001b[0mheaders\u001b[0m\u001b[0;34m=\u001b[0m\u001b[0mheaders\u001b[0m\u001b[0;34m)\u001b[0m\u001b[0;34m\u001b[0m\u001b[0;34m\u001b[0m\u001b[0m\n",
      "\u001b[0;31mNameError\u001b[0m: name 'GOOGLE_KEY' is not defined"
     ]
    }
   ],
   "source": [
    "headers = {\n",
    "  \"Authorization\": \"token {}\".format(GOOGLE_KEY)\n",
    "}\n",
    "\n",
    "res = requests.get(\"{}/user\".format(BASE_URL), headers=headers)\n",
    "res.json()"
   ]
  },
  {
   "cell_type": "code",
   "execution_count": null,
   "metadata": {},
   "outputs": [],
   "source": [
    "res = requests.get('')\n",
    "dev = res.json()"
   ]
  },
  {
   "cell_type": "code",
   "execution_count": null,
   "metadata": {},
   "outputs": [],
   "source": [
    "import requests\n",
    "\n",
    "BASE_URL = \"https://api.github.com\"\n",
    "\n",
    "owner = \"boyander\"\n",
    "repo = \"redsys-polite\"\n",
    "\n",
    "res = requests.get(\"{}/repos/{}/{}/stargazers\".format(BASE_URL,owner, repo))\n",
    "res.json()"
   ]
  },
  {
   "cell_type": "code",
   "execution_count": null,
   "metadata": {},
   "outputs": [],
   "source": []
  }
 ],
 "metadata": {
  "kernelspec": {
   "display_name": "Python 3",
   "language": "python",
   "name": "python3"
  },
  "language_info": {
   "codemirror_mode": {
    "name": "ipython",
    "version": 3
   },
   "file_extension": ".py",
   "mimetype": "text/x-python",
   "name": "python",
   "nbconvert_exporter": "python",
   "pygments_lexer": "ipython3",
   "version": "3.7.2"
  }
 },
 "nbformat": 4,
 "nbformat_minor": 2
}
