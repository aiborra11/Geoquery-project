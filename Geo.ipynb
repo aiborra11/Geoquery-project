{
 "cells": [
  {
   "cell_type": "code",
   "execution_count": 62,
   "metadata": {},
   "outputs": [],
   "source": [
    "from pymongo import MongoClient\n",
    "import pandas as pd\n",
    "import pymongo\n",
    "import folium"
   ]
  },
  {
   "cell_type": "code",
   "execution_count": 63,
   "metadata": {},
   "outputs": [],
   "source": [
    "client = MongoClient('mongodb://localhost:27017/')\n",
    "db = client.companies\n",
    "data = db.data_companies_clean.find()"
   ]
  },
  {
   "cell_type": "code",
   "execution_count": 64,
   "metadata": {},
   "outputs": [
    {
     "data": {
      "text/html": [
       "<div>\n",
       "<style scoped>\n",
       "    .dataframe tbody tr th:only-of-type {\n",
       "        vertical-align: middle;\n",
       "    }\n",
       "\n",
       "    .dataframe tbody tr th {\n",
       "        vertical-align: top;\n",
       "    }\n",
       "\n",
       "    .dataframe thead th {\n",
       "        text-align: right;\n",
       "    }\n",
       "</style>\n",
       "<table border=\"1\" class=\"dataframe\">\n",
       "  <thead>\n",
       "    <tr style=\"text-align: right;\">\n",
       "      <th></th>\n",
       "      <th>_id</th>\n",
       "      <th>alias_list</th>\n",
       "      <th>category_code</th>\n",
       "      <th>description</th>\n",
       "      <th>founded_year</th>\n",
       "      <th>lat</th>\n",
       "      <th>lng</th>\n",
       "      <th>main_office</th>\n",
       "      <th>total_money_raised</th>\n",
       "    </tr>\n",
       "  </thead>\n",
       "  <tbody>\n",
       "    <tr>\n",
       "      <th>0</th>\n",
       "      <td>5d2633ac797d7972f3178d9e</td>\n",
       "      <td></td>\n",
       "      <td>web</td>\n",
       "      <td>Life long learning content</td>\n",
       "      <td>2007</td>\n",
       "      <td>34.017606</td>\n",
       "      <td>-118.487267</td>\n",
       "      <td>{'type': 'Point', 'coordinates': [-118.487267,...</td>\n",
       "      <td>$21M</td>\n",
       "    </tr>\n",
       "    <tr>\n",
       "      <th>1</th>\n",
       "      <td>5d2633ac797d7972f3178d9f</td>\n",
       "      <td>None</td>\n",
       "      <td>web</td>\n",
       "      <td>None</td>\n",
       "      <td>2007</td>\n",
       "      <td>37.269175</td>\n",
       "      <td>-119.306607</td>\n",
       "      <td>{'type': 'Point', 'coordinates': [-119.306607,...</td>\n",
       "      <td>$100k</td>\n",
       "    </tr>\n",
       "    <tr>\n",
       "      <th>2</th>\n",
       "      <td>5d2633ac797d7972f3178da0</td>\n",
       "      <td></td>\n",
       "      <td>web</td>\n",
       "      <td>Social network for desktop software</td>\n",
       "      <td>2007</td>\n",
       "      <td>52.374523</td>\n",
       "      <td>4.894862</td>\n",
       "      <td>{'type': 'Point', 'coordinates': [4.8948623, 5...</td>\n",
       "      <td>$1M</td>\n",
       "    </tr>\n",
       "    <tr>\n",
       "      <th>3</th>\n",
       "      <td>5d2633ac797d7972f3178da1</td>\n",
       "      <td></td>\n",
       "      <td>web</td>\n",
       "      <td>Video guide for hotels</td>\n",
       "      <td>2007</td>\n",
       "      <td>48.856667</td>\n",
       "      <td>2.350987</td>\n",
       "      <td>{'type': 'Point', 'coordinates': [2.350987, 48...</td>\n",
       "      <td>$13.8M</td>\n",
       "    </tr>\n",
       "    <tr>\n",
       "      <th>4</th>\n",
       "      <td>5d2633ac797d7972f3178da2</td>\n",
       "      <td>None</td>\n",
       "      <td>web</td>\n",
       "      <td>None</td>\n",
       "      <td>2007</td>\n",
       "      <td>40.010492</td>\n",
       "      <td>-105.276843</td>\n",
       "      <td>{'type': 'Point', 'coordinates': [-105.276843,...</td>\n",
       "      <td>$315k</td>\n",
       "    </tr>\n",
       "  </tbody>\n",
       "</table>\n",
       "</div>"
      ],
      "text/plain": [
       "                        _id alias_list category_code  \\\n",
       "0  5d2633ac797d7972f3178d9e                      web   \n",
       "1  5d2633ac797d7972f3178d9f       None           web   \n",
       "2  5d2633ac797d7972f3178da0                      web   \n",
       "3  5d2633ac797d7972f3178da1                      web   \n",
       "4  5d2633ac797d7972f3178da2       None           web   \n",
       "\n",
       "                           description  founded_year        lat         lng  \\\n",
       "0           Life long learning content          2007  34.017606 -118.487267   \n",
       "1                                 None          2007  37.269175 -119.306607   \n",
       "2  Social network for desktop software          2007  52.374523    4.894862   \n",
       "3               Video guide for hotels          2007  48.856667    2.350987   \n",
       "4                                 None          2007  40.010492 -105.276843   \n",
       "\n",
       "                                         main_office total_money_raised  \n",
       "0  {'type': 'Point', 'coordinates': [-118.487267,...               $21M  \n",
       "1  {'type': 'Point', 'coordinates': [-119.306607,...              $100k  \n",
       "2  {'type': 'Point', 'coordinates': [4.8948623, 5...                $1M  \n",
       "3  {'type': 'Point', 'coordinates': [2.350987, 48...             $13.8M  \n",
       "4  {'type': 'Point', 'coordinates': [-105.276843,...              $315k  "
      ]
     },
     "metadata": {},
     "output_type": "display_data"
    }
   ],
   "source": [
    "data_comp = pd.DataFrame(data)\n",
    "display(data_comp.head())"
   ]
  },
  {
   "cell_type": "code",
   "execution_count": 65,
   "metadata": {},
   "outputs": [],
   "source": [
    "#{founded_year:{$gte: 2011}}"
   ]
  },
  {
   "cell_type": "code",
   "execution_count": 66,
   "metadata": {},
   "outputs": [
    {
     "name": "stdout",
     "output_type": "stream",
     "text": [
      "Hay 11 oficinas cerca a 20000 metros\n",
      "La mas cercana es\n",
      "[{'_id': ObjectId('5d2633ac797d7972f3178d9e'), 'alias_list': '', 'category_code': 'web', 'description': 'Life long learning content', 'total_money_raised': '$21M', 'founded_year': 2007, 'main_office': {'type': 'Point', 'coordinates': [-118.487267, 34.017606]}, 'lat': 34.017606, 'lng': -118.487267}]\n"
     ]
    },
    {
     "name": "stderr",
     "output_type": "stream",
     "text": [
      "/usr/local/Cellar/ipython/7.3.0/libexec/vendor/lib/python3.7/site-packages/ipykernel_launcher.py:17: DeprecationWarning: count is deprecated. Use Collection.count_documents instead.\n"
     ]
    }
   ],
   "source": [
    "#https://docs.mongodb.com/manual/reference/operator/query/near/index.html\n",
    "def findNear(geopoint, radio_max_meters=2000):\n",
    "    return db.data_companies_clean.find({\n",
    "        \"main_office\": {\n",
    "         \"$near\": {\n",
    "           \"$geometry\": geopoint,\n",
    "           \"$maxDistance\": radio_max_meters,\n",
    "         }\n",
    "       }\n",
    "    })\n",
    "\n",
    "selected_location = {\n",
    "    \"type\":\"Point\",\n",
    "    \"coordinates\": [-118.487267, 34.017606 ]\n",
    "}\n",
    "radio_max_meters = 20000\n",
    "num_offices = findNear(selected_location, radio_max_meters).count()\n",
    "\n",
    "print(f\"Hay {num_offices} oficinas cerca a {radio_max_meters} metros\")\n",
    "print(\"La mas cercana es\")\n",
    "print(list(findNear(selected_location, radio_max_meters).limit(1)))"
   ]
  },
  {
   "cell_type": "code",
   "execution_count": 67,
   "metadata": {},
   "outputs": [
    {
     "name": "stdout",
     "output_type": "stream",
     "text": [
      "Hay 1 oficinas cerca a 20000 metros\n",
      "La mas cercana es\n",
      "[{'_id': ObjectId('5d2633ac797d7972f3178e37'), 'alias_list': None, 'category_code': 'web', 'description': 'Collaboration and file sharing', 'total_money_raised': '$6.75M', 'founded_year': 2009, 'main_office': {'type': 'Point', 'coordinates': [2.1920231, 41.4063346]}, 'lat': 41.4063346, 'lng': 2.1920231}]\n"
     ]
    },
    {
     "name": "stderr",
     "output_type": "stream",
     "text": [
      "/usr/local/Cellar/ipython/7.3.0/libexec/vendor/lib/python3.7/site-packages/ipykernel_launcher.py:17: DeprecationWarning: count is deprecated. Use Collection.count_documents instead.\n"
     ]
    }
   ],
   "source": [
    "def findNear(geopoint, radio_max_meters=2000):\n",
    "    return db.data_companies_clean.find({\n",
    "        \"main_office\": {\n",
    "         \"$near\": {\n",
    "           \"$geometry\": geopoint,\n",
    "           \"$maxDistance\": radio_max_meters,\n",
    "         }\n",
    "       }\n",
    "    })\n",
    "\n",
    "for i in range(len(data_comp['lat'])):\n",
    "    locations = {\n",
    "        \"type\":\"Point\",\n",
    "        \"coordinates\": [data_comp['lng'][i], data_comp['lat'][i]]\n",
    "    }\n",
    "radio_max_meters = 20000\n",
    "num_offices = findNear(locations, radio_max_meters).count()\n",
    "\n",
    "print(f\"Hay {num_offices} oficinas cerca a {radio_max_meters} metros\")\n",
    "print(\"La mas cercana es\")\n",
    "print(list(findNear(locations, radio_max_meters).limit(1)))"
   ]
  },
  {
   "cell_type": "code",
   "execution_count": 68,
   "metadata": {},
   "outputs": [
    {
     "data": {
      "text/html": [
       "<div>\n",
       "<style scoped>\n",
       "    .dataframe tbody tr th:only-of-type {\n",
       "        vertical-align: middle;\n",
       "    }\n",
       "\n",
       "    .dataframe tbody tr th {\n",
       "        vertical-align: top;\n",
       "    }\n",
       "\n",
       "    .dataframe thead th {\n",
       "        text-align: right;\n",
       "    }\n",
       "</style>\n",
       "<table border=\"1\" class=\"dataframe\">\n",
       "  <thead>\n",
       "    <tr style=\"text-align: right;\">\n",
       "      <th></th>\n",
       "      <th>_id</th>\n",
       "      <th>alias_list</th>\n",
       "      <th>category_code</th>\n",
       "      <th>description</th>\n",
       "      <th>founded_year</th>\n",
       "      <th>lat</th>\n",
       "      <th>lng</th>\n",
       "      <th>main_office</th>\n",
       "      <th>total_money_raised</th>\n",
       "    </tr>\n",
       "  </thead>\n",
       "  <tbody>\n",
       "    <tr>\n",
       "      <th>0</th>\n",
       "      <td>5d2633ac797d7972f3178d9e</td>\n",
       "      <td></td>\n",
       "      <td>web</td>\n",
       "      <td>Life long learning content</td>\n",
       "      <td>2007</td>\n",
       "      <td>34.017606</td>\n",
       "      <td>-118.487267</td>\n",
       "      <td>{'type': 'Point', 'coordinates': [-118.487267,...</td>\n",
       "      <td>$21M</td>\n",
       "    </tr>\n",
       "    <tr>\n",
       "      <th>1</th>\n",
       "      <td>5d2633ac797d7972f3178d9f</td>\n",
       "      <td>None</td>\n",
       "      <td>web</td>\n",
       "      <td>None</td>\n",
       "      <td>2007</td>\n",
       "      <td>37.269175</td>\n",
       "      <td>-119.306607</td>\n",
       "      <td>{'type': 'Point', 'coordinates': [-119.306607,...</td>\n",
       "      <td>$100k</td>\n",
       "    </tr>\n",
       "    <tr>\n",
       "      <th>2</th>\n",
       "      <td>5d2633ac797d7972f3178da0</td>\n",
       "      <td></td>\n",
       "      <td>web</td>\n",
       "      <td>Social network for desktop software</td>\n",
       "      <td>2007</td>\n",
       "      <td>52.374523</td>\n",
       "      <td>4.894862</td>\n",
       "      <td>{'type': 'Point', 'coordinates': [4.8948623, 5...</td>\n",
       "      <td>$1M</td>\n",
       "    </tr>\n",
       "    <tr>\n",
       "      <th>3</th>\n",
       "      <td>5d2633ac797d7972f3178da1</td>\n",
       "      <td></td>\n",
       "      <td>web</td>\n",
       "      <td>Video guide for hotels</td>\n",
       "      <td>2007</td>\n",
       "      <td>48.856667</td>\n",
       "      <td>2.350987</td>\n",
       "      <td>{'type': 'Point', 'coordinates': [2.350987, 48...</td>\n",
       "      <td>$13.8M</td>\n",
       "    </tr>\n",
       "    <tr>\n",
       "      <th>4</th>\n",
       "      <td>5d2633ac797d7972f3178da2</td>\n",
       "      <td>None</td>\n",
       "      <td>web</td>\n",
       "      <td>None</td>\n",
       "      <td>2007</td>\n",
       "      <td>40.010492</td>\n",
       "      <td>-105.276843</td>\n",
       "      <td>{'type': 'Point', 'coordinates': [-105.276843,...</td>\n",
       "      <td>$315k</td>\n",
       "    </tr>\n",
       "  </tbody>\n",
       "</table>\n",
       "</div>"
      ],
      "text/plain": [
       "                        _id alias_list category_code  \\\n",
       "0  5d2633ac797d7972f3178d9e                      web   \n",
       "1  5d2633ac797d7972f3178d9f       None           web   \n",
       "2  5d2633ac797d7972f3178da0                      web   \n",
       "3  5d2633ac797d7972f3178da1                      web   \n",
       "4  5d2633ac797d7972f3178da2       None           web   \n",
       "\n",
       "                           description  founded_year        lat         lng  \\\n",
       "0           Life long learning content          2007  34.017606 -118.487267   \n",
       "1                                 None          2007  37.269175 -119.306607   \n",
       "2  Social network for desktop software          2007  52.374523    4.894862   \n",
       "3               Video guide for hotels          2007  48.856667    2.350987   \n",
       "4                                 None          2007  40.010492 -105.276843   \n",
       "\n",
       "                                         main_office total_money_raised  \n",
       "0  {'type': 'Point', 'coordinates': [-118.487267,...               $21M  \n",
       "1  {'type': 'Point', 'coordinates': [-119.306607,...              $100k  \n",
       "2  {'type': 'Point', 'coordinates': [4.8948623, 5...                $1M  \n",
       "3  {'type': 'Point', 'coordinates': [2.350987, 48...             $13.8M  \n",
       "4  {'type': 'Point', 'coordinates': [-105.276843,...              $315k  "
      ]
     },
     "metadata": {},
     "output_type": "display_data"
    }
   ],
   "source": [
    "display(data_comp.head())"
   ]
  },
  {
   "cell_type": "code",
   "execution_count": 81,
   "metadata": {},
   "outputs": [
    {
     "ename": "InvalidDocument",
     "evalue": "cannot encode object:                           _id            alias_list category_code  \\\n0    5d2633ac797d7972f3178d9e                                 web   \n1    5d2633ac797d7972f3178d9f                  None           web   \n2    5d2633ac797d7972f3178da0                                 web   \n3    5d2633ac797d7972f3178da1                                 web   \n4    5d2633ac797d7972f3178da2                  None           web   \n5    5d2633ac797d7972f3178da3                                 web   \n6    5d2633ac797d7972f3178da4            SynthaSite           web   \n7    5d2633ac797d7972f3178da5                                 web   \n8    5d2633ac797d7972f3178da6                                 web   \n9    5d2633ac797d7972f3178da7                                 web   \n10   5d2633ac797d7972f3178da8                                 web   \n11   5d2633ac797d7972f3178da9                                 web   \n12   5d2633ac797d7972f3178daa                                 web   \n13   5d2633ac797d7972f3178dab                                 web   \n14   5d2633ac797d7972f3178dac                                 web   \n15   5d2633ac797d7972f3178dad                                 web   \n16   5d2633ac797d7972f3178dae                  None           web   \n17   5d2633ac797d7972f3178daf                                 web   \n18   5d2633ac797d7972f3178db0                                 web   \n19   5d2633ac797d7972f3178db1                                 web   \n20   5d2633ac797d7972f3178db2                                 web   \n21   5d2633ac797d7972f3178db3                                 web   \n22   5d2633ac797d7972f3178db4                                 web   \n23   5d2633ac797d7972f3178db5                                 web   \n24   5d2633ac797d7972f3178db6                  None           web   \n25   5d2633ac797d7972f3178db7                                 web   \n26   5d2633ac797d7972f3178db8                                 web   \n27   5d2633ac797d7972f3178db9                  None           web   \n28   5d2633ac797d7972f3178dba                                 web   \n29   5d2633ac797d7972f3178dbb                                 web   \n..                        ...                   ...           ...   \n124  5d2633ac797d7972f3178e1a                                 web   \n125  5d2633ac797d7972f3178e1b                                 web   \n126  5d2633ac797d7972f3178e1c                                 web   \n127  5d2633ac797d7972f3178e1d                                 web   \n128  5d2633ac797d7972f3178e1e                                 web   \n129  5d2633ac797d7972f3178e1f                  None           web   \n130  5d2633ac797d7972f3178e20                                 web   \n131  5d2633ac797d7972f3178e21                                 web   \n132  5d2633ac797d7972f3178e22                                 web   \n133  5d2633ac797d7972f3178e23                  None           web   \n134  5d2633ac797d7972f3178e24                                 web   \n135  5d2633ac797d7972f3178e25                                 web   \n136  5d2633ac797d7972f3178e26                  None           web   \n137  5d2633ac797d7972f3178e27                  None           web   \n138  5d2633ac797d7972f3178e28                                 web   \n139  5d2633ac797d7972f3178e29          catch a fire           web   \n140  5d2633ac797d7972f3178e2a                                 web   \n141  5d2633ac797d7972f3178e2b                  None           web   \n142  5d2633ac797d7972f3178e2c                                 web   \n143  5d2633ac797d7972f3178e2d                                 web   \n144  5d2633ac797d7972f3178e2e                  None           web   \n145  5d2633ac797d7972f3178e2f                                 web   \n146  5d2633ac797d7972f3178e30                  None           web   \n147  5d2633ac797d7972f3178e31                  None           web   \n148  5d2633ac797d7972f3178e32                                 web   \n149  5d2633ac797d7972f3178e33  Car Advisory Network           web   \n150  5d2633ac797d7972f3178e34                                 web   \n151  5d2633ac797d7972f3178e35                  None           web   \n152  5d2633ac797d7972f3178e36                                 web   \n153  5d2633ac797d7972f3178e37                  None           web   \n\n                                 description  founded_year        lat  \\\n0                 Life long learning content          2007  34.017606   \n1                                       None          2007  37.269175   \n2        Social network for desktop software          2007  52.374523   \n3                     Video guide for hotels          2007  48.856667   \n4                                       None          2007  40.010492   \n5        social media monitoring & analytics          2007  40.010492   \n6                              Free Websites          2007  37.791115   \n7               Social software applications          2007  37.775196   \n8                                                     2007  47.599934   \n9           Social Network and Media sharing          2007  38.003376   \n10                 Investment Social Network          2007  42.375392   \n11                                                    2007  47.585114   \n12                                                    2007  37.557637   \n13                    Tech Support Community          2013  37.566879   \n14           Online Community and Discussion          2007  37.269175   \n15    Online Provider of Small Cash Advances          2007  51.519204   \n16   First & Largest Class Action Repository          2007  37.401355   \n17                 Social network aggregator          2007  37.392480   \n18                                                    2007  40.743808   \n19                                                    2008  37.443058   \n20                  Social Shopping Platform          2007  37.386175   \n21                    Marketing Widget Maker          2007  37.791733   \n22        The Web's Community of Communities          2007  37.786906   \n23              Online Auto Repair Estimates          2007  37.838225   \n24                                                    2007  37.781262   \n25                                                    2007  47.603577   \n26                                                    2007  26.820375   \n27               Multiplayer Networked Games          2007  37.803847   \n28                 Community for book lovers          2007  34.010520   \n29     Painless Receipt & Expense Management          2007  35.996157   \n..                                       ...           ...        ...   \n124                     Enabling Technology           2008  33.783680   \n125                  Online Password Manager          2008  41.899683   \n126                    Enhanced web browsing          2009  53.573640   \n127             In-Browser Audio, Video Chat          2009  42.375641   \n128    A social sharing utility for parents.          2008  40.756054   \n129        Health professional search engine          2007 -31.978220   \n130                    Crowdsourced rankings          2008  34.101218   \n131                         Creative Network          2009  34.007112   \n132                   Online News Aggregator          2007  41.879535   \n133                     Track Your Interests          2008  37.394580   \n134                           Local Shopping          2008  37.444531   \n135                                                   2008  37.801794   \n136                  Online Content Creation          2007  47.821163   \n137              Online parking reservations          2007  37.786833   \n138   content sharing and discovery platform          2009  42.364756   \n139       Changing the way people volunteer.          2009  40.746417   \n140                               Seed Stage          2009  40.756054   \n141   Social network for football supporters          2007  50.826347   \n142            Social media site for fashion          2009  48.856667   \n143                            Timely Travel          2008  47.495366   \n144        Personalized movie recommendation          2007  52.494727   \n145      Network of Online Forum Communities          2008  34.168955   \n146                   Building a smarter web          2008  52.373559   \n147                   serial idea developers          2008  41.701368   \n148       Online Personal Training Dashboard          2007  34.054318   \n149                 Automotive digital media          2008  37.445335   \n150       Software challenges and hackathons          2009  40.740804   \n151      Innovative Social Media Technology           2008  34.013715   \n152   Media and Ad-Tech for fashion & beauty          2008  40.745050   \n153           Collaboration and file sharing          2009  41.406335   \n\n            lng                                        main_office  \\\n0   -118.487267  {'type': 'Point', 'coordinates': [-118.487267,...   \n1   -119.306607  {'type': 'Point', 'coordinates': [-119.306607,...   \n2      4.894862  {'type': 'Point', 'coordinates': [4.8948623, 5...   \n3      2.350987  {'type': 'Point', 'coordinates': [2.350987, 48...   \n4   -105.276843  {'type': 'Point', 'coordinates': [-105.276843,...   \n5   -105.276843  {'type': 'Point', 'coordinates': [-105.276843,...   \n6   -122.395475  {'type': 'Point', 'coordinates': [-122.3954751...   \n7   -122.419204  {'type': 'Point', 'coordinates': [-122.419204,...   \n8   -122.327696  {'type': 'Point', 'coordinates': [-122.3276962...   \n9    -79.420926  {'type': 'Point', 'coordinates': [-79.420926, ...   \n10   -71.118487  {'type': 'Point', 'coordinates': [-71.118487, ...   \n11  -122.084356  {'type': 'Point', 'coordinates': [-122.084356,...   \n12  -122.285714  {'type': 'Point', 'coordinates': [-122.285714,...   \n13  -122.323895  {'type': 'Point', 'coordinates': [-122.323895,...   \n14  -119.306607  {'type': 'Point', 'coordinates': [-119.306607,...   \n15    -0.162610  {'type': 'Point', 'coordinates': [-0.1626103, ...   \n16  -122.104099  {'type': 'Point', 'coordinates': [-122.104099,...   \n17  -122.072612  {'type': 'Point', 'coordinates': [-122.072612,...   \n18   -73.983626  {'type': 'Point', 'coordinates': [-73.983626, ...   \n19  -122.161674  {'type': 'Point', 'coordinates': [-122.161674,...   \n20  -122.083487  {'type': 'Point', 'coordinates': [-122.083487,...   \n21  -122.398398  {'type': 'Point', 'coordinates': [-122.398398,...   \n22  -122.397672  {'type': 'Point', 'coordinates': [-122.397672,...   \n23  -122.296411  {'type': 'Point', 'coordinates': [-122.296411,...   \n24  -122.394958  {'type': 'Point', 'coordinates': [-122.394958,...   \n25  -122.335333  {'type': 'Point', 'coordinates': [-122.335333,...   \n26   -80.058401  {'type': 'Point', 'coordinates': [-80.058401, ...   \n27  -122.402468  {'type': 'Point', 'coordinates': [-122.402468,...   \n28  -118.495981  {'type': 'Point', 'coordinates': [-118.495981,...   \n29   -78.902115  {'type': 'Point', 'coordinates': [-78.902115, ...   \n..          ...                                                ...   \n124 -116.773216  {'type': 'Point', 'coordinates': [-116.7732162...   \n125   12.436242  {'type': 'Point', 'coordinates': [12.4362419, ...   \n126   10.018456  {'type': 'Point', 'coordinates': [10.0184565, ...   \n127  -72.519691  {'type': 'Point', 'coordinates': [-72.5196907,...   \n128  -73.986951  {'type': 'Point', 'coordinates': [-73.986951, ...   \n129  115.890840  {'type': 'Point', 'coordinates': [115.89084, -...   \n130 -118.325739  {'type': 'Point', 'coordinates': [-118.325739,...   \n131 -118.489748  {'type': 'Point', 'coordinates': [-118.489748,...   \n132  -87.624333  {'type': 'Point', 'coordinates': [-87.624333, ...   \n133 -121.928393  {'type': 'Point', 'coordinates': [-121.928393,...   \n134 -122.163352  {'type': 'Point', 'coordinates': [-122.163352,...   \n135 -122.404321  {'type': 'Point', 'coordinates': [-122.4043215...   \n136 -122.318268  {'type': 'Point', 'coordinates': [-122.3182683...   \n137 -122.401160  {'type': 'Point', 'coordinates': [-122.4011603...   \n138  -71.103259  {'type': 'Point', 'coordinates': [-71.1032591,...   \n139  -73.983171  {'type': 'Point', 'coordinates': [-73.983171, ...   \n140  -73.986951  {'type': 'Point', 'coordinates': [-73.986951, ...   \n141    4.348295  {'type': 'Point', 'coordinates': [4.348295, 50...   \n142    2.350987  {'type': 'Point', 'coordinates': [2.3509871, 4...   \n143   19.028492  {'type': 'Point', 'coordinates': [19.0284923, ...   \n144   13.398504  {'type': 'Point', 'coordinates': [13.398504, 5...   \n145 -118.575293  {'type': 'Point', 'coordinates': [-118.575293,...   \n146    4.885275  {'type': 'Point', 'coordinates': [4.8852747, 5...   \n147  -81.165981  {'type': 'Point', 'coordinates': [-81.165981, ...   \n148 -118.462876  {'type': 'Point', 'coordinates': [-118.462876,...   \n149 -122.158330  {'type': 'Point', 'coordinates': [-122.15833, ...   \n150  -74.007170  {'type': 'Point', 'coordinates': [-74.00717, 4...   \n151 -118.466060  {'type': 'Point', 'coordinates': [-118.4660597...   \n152  -73.990098  {'type': 'Point', 'coordinates': [-73.9900984,...   \n153    2.192023  {'type': 'Point', 'coordinates': [2.1920231, 4...   \n\n    total_money_raised  \n0                 $21M  \n1                $100k  \n2                  $1M  \n3               $13.8M  \n4                $315k  \n5               $1.92M  \n6                 $25M  \n7                 $16M  \n8               $1.15M  \n9                $3.5M  \n10              $1.75M  \n11               $450k  \n12              $11.6M  \n13                 $8M  \n14              $12.7M  \n15               $101M  \n16               $135k  \n17                 $5M  \n18               $125M  \n19              $16.8M  \n20              $22.1M  \n21                 $1M  \n22              $10.5M  \n23              $21.3M  \n24               $900k  \n25               $920k  \n26               $2.5M  \n27                 $2M  \n28              $2.75M  \n29              $2.51M  \n..                 ...  \n124              $300k  \n125              €424k  \n126              €141k  \n127              $1.5M  \n128              $270k  \n129             $10.4M  \n130              $5.1M  \n131               $16M  \n132              $2.5M  \n133                $3M  \n134             $4.95M  \n135             $3.23M  \n136              $800k  \n137              $600k  \n138             $5.46M  \n139              $400k  \n140              $500k  \n141              €300k  \n142              €1.5M  \n143               $80k  \n144                $7M  \n145               $18M  \n146              €250k  \n147               $16k  \n148              $3.2M  \n149               $12M  \n150              $4.6M  \n151              $1.7M  \n152                $5M  \n153             $6.75M  \n\n[154 rows x 9 columns], of type: <class 'pandas.core.frame.DataFrame'>",
     "output_type": "error",
     "traceback": [
      "\u001b[0;31m---------------------------------------------------------------------------\u001b[0m",
      "\u001b[0;31mInvalidDocument\u001b[0m                           Traceback (most recent call last)",
      "\u001b[0;32m<ipython-input-81-9e1cb58540c1>\u001b[0m in \u001b[0;36m<module>\u001b[0;34m\u001b[0m\n\u001b[1;32m     14\u001b[0m     \u001b[0;32mreturn\u001b[0m \u001b[0mlst\u001b[0m\u001b[0;34m\u001b[0m\u001b[0;34m\u001b[0m\u001b[0m\n\u001b[1;32m     15\u001b[0m \u001b[0;34m\u001b[0m\u001b[0m\n\u001b[0;32m---> 16\u001b[0;31m \u001b[0mfindNear\u001b[0m\u001b[0;34m(\u001b[0m\u001b[0mdata_comp\u001b[0m\u001b[0;34m)\u001b[0m\u001b[0;34m\u001b[0m\u001b[0;34m\u001b[0m\u001b[0m\n\u001b[0m",
      "\u001b[0;32m<ipython-input-81-9e1cb58540c1>\u001b[0m in \u001b[0;36mfindNear\u001b[0;34m(df, radio_max_meters)\u001b[0m\n\u001b[1;32m     10\u001b[0m                                                 })\n\u001b[1;32m     11\u001b[0m \u001b[0;34m\u001b[0m\u001b[0m\n\u001b[0;32m---> 12\u001b[0;31m         \u001b[0mdataframe_location\u001b[0m \u001b[0;34m=\u001b[0m \u001b[0mpd\u001b[0m\u001b[0;34m.\u001b[0m\u001b[0mDataFrame\u001b[0m\u001b[0;34m(\u001b[0m\u001b[0mlocation\u001b[0m\u001b[0;34m)\u001b[0m\u001b[0;34m\u001b[0m\u001b[0;34m\u001b[0m\u001b[0m\n\u001b[0m\u001b[1;32m     13\u001b[0m         \u001b[0mlst\u001b[0m\u001b[0;34m.\u001b[0m\u001b[0mappend\u001b[0m \u001b[0;34m(\u001b[0m\u001b[0mdataframe_location\u001b[0m\u001b[0;34m)\u001b[0m\u001b[0;34m\u001b[0m\u001b[0;34m\u001b[0m\u001b[0m\n\u001b[1;32m     14\u001b[0m     \u001b[0;32mreturn\u001b[0m \u001b[0mlst\u001b[0m\u001b[0;34m\u001b[0m\u001b[0;34m\u001b[0m\u001b[0m\n",
      "\u001b[0;32m~/Library/Python/3.7/lib/python/site-packages/pandas/core/frame.py\u001b[0m in \u001b[0;36m__init__\u001b[0;34m(self, data, index, columns, dtype, copy)\u001b[0m\n\u001b[1;32m    428\u001b[0m               and not isinstance(data, string_and_binary_types)):\n\u001b[1;32m    429\u001b[0m             \u001b[0;32mif\u001b[0m \u001b[0;32mnot\u001b[0m \u001b[0misinstance\u001b[0m\u001b[0;34m(\u001b[0m\u001b[0mdata\u001b[0m\u001b[0;34m,\u001b[0m \u001b[0mcompat\u001b[0m\u001b[0;34m.\u001b[0m\u001b[0mSequence\u001b[0m\u001b[0;34m)\u001b[0m\u001b[0;34m:\u001b[0m\u001b[0;34m\u001b[0m\u001b[0;34m\u001b[0m\u001b[0m\n\u001b[0;32m--> 430\u001b[0;31m                 \u001b[0mdata\u001b[0m \u001b[0;34m=\u001b[0m \u001b[0mlist\u001b[0m\u001b[0;34m(\u001b[0m\u001b[0mdata\u001b[0m\u001b[0;34m)\u001b[0m\u001b[0;34m\u001b[0m\u001b[0;34m\u001b[0m\u001b[0m\n\u001b[0m\u001b[1;32m    431\u001b[0m             \u001b[0;32mif\u001b[0m \u001b[0mlen\u001b[0m\u001b[0;34m(\u001b[0m\u001b[0mdata\u001b[0m\u001b[0;34m)\u001b[0m \u001b[0;34m>\u001b[0m \u001b[0;36m0\u001b[0m\u001b[0;34m:\u001b[0m\u001b[0;34m\u001b[0m\u001b[0;34m\u001b[0m\u001b[0m\n\u001b[1;32m    432\u001b[0m                 \u001b[0;32mif\u001b[0m \u001b[0mis_list_like\u001b[0m\u001b[0;34m(\u001b[0m\u001b[0mdata\u001b[0m\u001b[0;34m[\u001b[0m\u001b[0;36m0\u001b[0m\u001b[0;34m]\u001b[0m\u001b[0;34m)\u001b[0m \u001b[0;32mand\u001b[0m \u001b[0mgetattr\u001b[0m\u001b[0;34m(\u001b[0m\u001b[0mdata\u001b[0m\u001b[0;34m[\u001b[0m\u001b[0;36m0\u001b[0m\u001b[0;34m]\u001b[0m\u001b[0;34m,\u001b[0m \u001b[0;34m'ndim'\u001b[0m\u001b[0;34m,\u001b[0m \u001b[0;36m1\u001b[0m\u001b[0;34m)\u001b[0m \u001b[0;34m==\u001b[0m \u001b[0;36m1\u001b[0m\u001b[0;34m:\u001b[0m\u001b[0;34m\u001b[0m\u001b[0;34m\u001b[0m\u001b[0m\n",
      "\u001b[0;32m/usr/local/lib/python3.7/site-packages/pymongo/cursor.py\u001b[0m in \u001b[0;36mnext\u001b[0;34m(self)\u001b[0m\n\u001b[1;32m   1223\u001b[0m         \u001b[0;32mif\u001b[0m \u001b[0mself\u001b[0m\u001b[0;34m.\u001b[0m\u001b[0m__empty\u001b[0m\u001b[0;34m:\u001b[0m\u001b[0;34m\u001b[0m\u001b[0;34m\u001b[0m\u001b[0m\n\u001b[1;32m   1224\u001b[0m             \u001b[0;32mraise\u001b[0m \u001b[0mStopIteration\u001b[0m\u001b[0;34m\u001b[0m\u001b[0;34m\u001b[0m\u001b[0m\n\u001b[0;32m-> 1225\u001b[0;31m         \u001b[0;32mif\u001b[0m \u001b[0mlen\u001b[0m\u001b[0;34m(\u001b[0m\u001b[0mself\u001b[0m\u001b[0;34m.\u001b[0m\u001b[0m__data\u001b[0m\u001b[0;34m)\u001b[0m \u001b[0;32mor\u001b[0m \u001b[0mself\u001b[0m\u001b[0;34m.\u001b[0m\u001b[0m_refresh\u001b[0m\u001b[0;34m(\u001b[0m\u001b[0;34m)\u001b[0m\u001b[0;34m:\u001b[0m\u001b[0;34m\u001b[0m\u001b[0;34m\u001b[0m\u001b[0m\n\u001b[0m\u001b[1;32m   1226\u001b[0m             \u001b[0;32mif\u001b[0m \u001b[0mself\u001b[0m\u001b[0;34m.\u001b[0m\u001b[0m__manipulate\u001b[0m\u001b[0;34m:\u001b[0m\u001b[0;34m\u001b[0m\u001b[0;34m\u001b[0m\u001b[0m\n\u001b[1;32m   1227\u001b[0m                 \u001b[0m_db\u001b[0m \u001b[0;34m=\u001b[0m \u001b[0mself\u001b[0m\u001b[0;34m.\u001b[0m\u001b[0m__collection\u001b[0m\u001b[0;34m.\u001b[0m\u001b[0mdatabase\u001b[0m\u001b[0;34m\u001b[0m\u001b[0;34m\u001b[0m\u001b[0m\n",
      "\u001b[0;32m/usr/local/lib/python3.7/site-packages/pymongo/cursor.py\u001b[0m in \u001b[0;36m_refresh\u001b[0;34m(self)\u001b[0m\n\u001b[1;32m   1138\u001b[0m                                   \u001b[0mself\u001b[0m\u001b[0;34m.\u001b[0m\u001b[0m__session\u001b[0m\u001b[0;34m,\u001b[0m\u001b[0;34m\u001b[0m\u001b[0;34m\u001b[0m\u001b[0m\n\u001b[1;32m   1139\u001b[0m                                   self.__collection.database.client)\n\u001b[0;32m-> 1140\u001b[0;31m             \u001b[0mself\u001b[0m\u001b[0;34m.\u001b[0m\u001b[0m__send_message\u001b[0m\u001b[0;34m(\u001b[0m\u001b[0mq\u001b[0m\u001b[0;34m)\u001b[0m\u001b[0;34m\u001b[0m\u001b[0;34m\u001b[0m\u001b[0m\n\u001b[0m\u001b[1;32m   1141\u001b[0m         \u001b[0;32melif\u001b[0m \u001b[0mself\u001b[0m\u001b[0;34m.\u001b[0m\u001b[0m__id\u001b[0m\u001b[0;34m:\u001b[0m  \u001b[0;31m# Get More\u001b[0m\u001b[0;34m\u001b[0m\u001b[0;34m\u001b[0m\u001b[0m\n\u001b[1;32m   1142\u001b[0m             \u001b[0;32mif\u001b[0m \u001b[0mself\u001b[0m\u001b[0;34m.\u001b[0m\u001b[0m__limit\u001b[0m\u001b[0;34m:\u001b[0m\u001b[0;34m\u001b[0m\u001b[0;34m\u001b[0m\u001b[0m\n",
      "\u001b[0;32m/usr/local/lib/python3.7/site-packages/pymongo/cursor.py\u001b[0m in \u001b[0;36m__send_message\u001b[0;34m(self, operation)\u001b[0m\n\u001b[1;32m    952\u001b[0m             \u001b[0;32mtry\u001b[0m\u001b[0;34m:\u001b[0m\u001b[0;34m\u001b[0m\u001b[0;34m\u001b[0m\u001b[0m\n\u001b[1;32m    953\u001b[0m                 response = client._send_message_with_response(\n\u001b[0;32m--> 954\u001b[0;31m                     operation, exhaust=self.__exhaust, address=self.__address)\n\u001b[0m\u001b[1;32m    955\u001b[0m                 \u001b[0mself\u001b[0m\u001b[0;34m.\u001b[0m\u001b[0m__address\u001b[0m \u001b[0;34m=\u001b[0m \u001b[0mresponse\u001b[0m\u001b[0;34m.\u001b[0m\u001b[0maddress\u001b[0m\u001b[0;34m\u001b[0m\u001b[0;34m\u001b[0m\u001b[0m\n\u001b[1;32m    956\u001b[0m                 \u001b[0;32mif\u001b[0m \u001b[0mself\u001b[0m\u001b[0;34m.\u001b[0m\u001b[0m__exhaust\u001b[0m\u001b[0;34m:\u001b[0m\u001b[0;34m\u001b[0m\u001b[0;34m\u001b[0m\u001b[0m\n",
      "\u001b[0;32m/usr/local/lib/python3.7/site-packages/pymongo/mongo_client.py\u001b[0m in \u001b[0;36m_send_message_with_response\u001b[0;34m(self, operation, exhaust, address)\u001b[0m\n\u001b[1;32m   1175\u001b[0m             \u001b[0mself\u001b[0m\u001b[0;34m.\u001b[0m\u001b[0m__all_credentials\u001b[0m\u001b[0;34m,\u001b[0m\u001b[0;34m\u001b[0m\u001b[0;34m\u001b[0m\u001b[0m\n\u001b[1;32m   1176\u001b[0m             \u001b[0mself\u001b[0m\u001b[0;34m.\u001b[0m\u001b[0m_event_listeners\u001b[0m\u001b[0;34m,\u001b[0m\u001b[0;34m\u001b[0m\u001b[0;34m\u001b[0m\u001b[0m\n\u001b[0;32m-> 1177\u001b[0;31m             exhaust)\n\u001b[0m\u001b[1;32m   1178\u001b[0m \u001b[0;34m\u001b[0m\u001b[0m\n\u001b[1;32m   1179\u001b[0m     \u001b[0;32mdef\u001b[0m \u001b[0m_reset_on_error\u001b[0m\u001b[0;34m(\u001b[0m\u001b[0mself\u001b[0m\u001b[0;34m,\u001b[0m \u001b[0mserver\u001b[0m\u001b[0;34m,\u001b[0m \u001b[0mfunc\u001b[0m\u001b[0;34m,\u001b[0m \u001b[0;34m*\u001b[0m\u001b[0margs\u001b[0m\u001b[0;34m,\u001b[0m \u001b[0;34m**\u001b[0m\u001b[0mkwargs\u001b[0m\u001b[0;34m)\u001b[0m\u001b[0;34m:\u001b[0m\u001b[0;34m\u001b[0m\u001b[0;34m\u001b[0m\u001b[0m\n",
      "\u001b[0;32m/usr/local/lib/python3.7/site-packages/pymongo/mongo_client.py\u001b[0m in \u001b[0;36m_reset_on_error\u001b[0;34m(self, server, func, *args, **kwargs)\u001b[0m\n\u001b[1;32m   1186\u001b[0m         \"\"\"\n\u001b[1;32m   1187\u001b[0m         \u001b[0;32mtry\u001b[0m\u001b[0;34m:\u001b[0m\u001b[0;34m\u001b[0m\u001b[0;34m\u001b[0m\u001b[0m\n\u001b[0;32m-> 1188\u001b[0;31m             \u001b[0;32mreturn\u001b[0m \u001b[0mfunc\u001b[0m\u001b[0;34m(\u001b[0m\u001b[0;34m*\u001b[0m\u001b[0margs\u001b[0m\u001b[0;34m,\u001b[0m \u001b[0;34m**\u001b[0m\u001b[0mkwargs\u001b[0m\u001b[0;34m)\u001b[0m\u001b[0;34m\u001b[0m\u001b[0;34m\u001b[0m\u001b[0m\n\u001b[0m\u001b[1;32m   1189\u001b[0m         \u001b[0;32mexcept\u001b[0m \u001b[0mNetworkTimeout\u001b[0m\u001b[0;34m:\u001b[0m\u001b[0;34m\u001b[0m\u001b[0;34m\u001b[0m\u001b[0m\n\u001b[1;32m   1190\u001b[0m             \u001b[0;31m# The socket has been closed. Don't reset the server.\u001b[0m\u001b[0;34m\u001b[0m\u001b[0;34m\u001b[0m\u001b[0;34m\u001b[0m\u001b[0m\n",
      "\u001b[0;32m/usr/local/lib/python3.7/site-packages/pymongo/server.py\u001b[0m in \u001b[0;36msend_message_with_response\u001b[0;34m(self, operation, set_slave_okay, all_credentials, listeners, exhaust)\u001b[0m\n\u001b[1;32m     92\u001b[0m             \u001b[0muse_find_cmd\u001b[0m \u001b[0;34m=\u001b[0m \u001b[0moperation\u001b[0m\u001b[0;34m.\u001b[0m\u001b[0muse_command\u001b[0m\u001b[0;34m(\u001b[0m\u001b[0msock_info\u001b[0m\u001b[0;34m,\u001b[0m \u001b[0mexhaust\u001b[0m\u001b[0;34m)\u001b[0m\u001b[0;34m\u001b[0m\u001b[0;34m\u001b[0m\u001b[0m\n\u001b[1;32m     93\u001b[0m             message = operation.get_message(\n\u001b[0;32m---> 94\u001b[0;31m                 set_slave_okay, sock_info, use_find_cmd)\n\u001b[0m\u001b[1;32m     95\u001b[0m             \u001b[0mrequest_id\u001b[0m\u001b[0;34m,\u001b[0m \u001b[0mdata\u001b[0m\u001b[0;34m,\u001b[0m \u001b[0mmax_doc_size\u001b[0m \u001b[0;34m=\u001b[0m \u001b[0mself\u001b[0m\u001b[0;34m.\u001b[0m\u001b[0m_split_message\u001b[0m\u001b[0;34m(\u001b[0m\u001b[0mmessage\u001b[0m\u001b[0;34m)\u001b[0m\u001b[0;34m\u001b[0m\u001b[0;34m\u001b[0m\u001b[0m\n\u001b[1;32m     96\u001b[0m \u001b[0;34m\u001b[0m\u001b[0m\n",
      "\u001b[0;32m/usr/local/lib/python3.7/site-packages/pymongo/message.py\u001b[0m in \u001b[0;36mget_message\u001b[0;34m(self, set_slave_ok, sock_info, use_cmd)\u001b[0m\n\u001b[1;32m    319\u001b[0m                     \u001b[0;36m0\u001b[0m\u001b[0;34m,\u001b[0m \u001b[0mspec\u001b[0m\u001b[0;34m,\u001b[0m \u001b[0mself\u001b[0m\u001b[0;34m.\u001b[0m\u001b[0mdb\u001b[0m\u001b[0;34m,\u001b[0m \u001b[0mself\u001b[0m\u001b[0;34m.\u001b[0m\u001b[0mread_preference\u001b[0m\u001b[0;34m,\u001b[0m\u001b[0;34m\u001b[0m\u001b[0;34m\u001b[0m\u001b[0m\n\u001b[1;32m    320\u001b[0m                     \u001b[0mset_slave_ok\u001b[0m\u001b[0;34m,\u001b[0m \u001b[0;32mFalse\u001b[0m\u001b[0;34m,\u001b[0m \u001b[0mself\u001b[0m\u001b[0;34m.\u001b[0m\u001b[0mcodec_options\u001b[0m\u001b[0;34m,\u001b[0m\u001b[0;34m\u001b[0m\u001b[0;34m\u001b[0m\u001b[0m\n\u001b[0;32m--> 321\u001b[0;31m                     ctx=sock_info.compression_context)\n\u001b[0m\u001b[1;32m    322\u001b[0m                 \u001b[0;32mreturn\u001b[0m \u001b[0mrequest_id\u001b[0m\u001b[0;34m,\u001b[0m \u001b[0mmsg\u001b[0m\u001b[0;34m,\u001b[0m \u001b[0msize\u001b[0m\u001b[0;34m\u001b[0m\u001b[0;34m\u001b[0m\u001b[0m\n\u001b[1;32m    323\u001b[0m             \u001b[0mns\u001b[0m \u001b[0;34m=\u001b[0m \u001b[0m_UJOIN\u001b[0m \u001b[0;34m%\u001b[0m \u001b[0;34m(\u001b[0m\u001b[0mself\u001b[0m\u001b[0;34m.\u001b[0m\u001b[0mdb\u001b[0m\u001b[0;34m,\u001b[0m \u001b[0;34m\"$cmd\"\u001b[0m\u001b[0;34m)\u001b[0m\u001b[0;34m\u001b[0m\u001b[0;34m\u001b[0m\u001b[0m\n",
      "\u001b[0;32m/usr/local/lib/python3.7/site-packages/pymongo/message.py\u001b[0m in \u001b[0;36m_op_msg\u001b[0;34m(flags, command, dbname, read_preference, slave_ok, check_keys, opts, ctx)\u001b[0m\n\u001b[1;32m    676\u001b[0m                 flags, command, identifier, docs, check_keys, opts, ctx)\n\u001b[1;32m    677\u001b[0m         return _op_msg_uncompressed(\n\u001b[0;32m--> 678\u001b[0;31m             flags, command, identifier, docs, check_keys, opts)\n\u001b[0m\u001b[1;32m    679\u001b[0m     \u001b[0;32mfinally\u001b[0m\u001b[0;34m:\u001b[0m\u001b[0;34m\u001b[0m\u001b[0;34m\u001b[0m\u001b[0m\n\u001b[1;32m    680\u001b[0m         \u001b[0;31m# Add the field back to the command.\u001b[0m\u001b[0;34m\u001b[0m\u001b[0;34m\u001b[0m\u001b[0;34m\u001b[0m\u001b[0m\n",
      "\u001b[0;31mInvalidDocument\u001b[0m: cannot encode object:                           _id            alias_list category_code  \\\n0    5d2633ac797d7972f3178d9e                                 web   \n1    5d2633ac797d7972f3178d9f                  None           web   \n2    5d2633ac797d7972f3178da0                                 web   \n3    5d2633ac797d7972f3178da1                                 web   \n4    5d2633ac797d7972f3178da2                  None           web   \n5    5d2633ac797d7972f3178da3                                 web   \n6    5d2633ac797d7972f3178da4            SynthaSite           web   \n7    5d2633ac797d7972f3178da5                                 web   \n8    5d2633ac797d7972f3178da6                                 web   \n9    5d2633ac797d7972f3178da7                                 web   \n10   5d2633ac797d7972f3178da8                                 web   \n11   5d2633ac797d7972f3178da9                                 web   \n12   5d2633ac797d7972f3178daa                                 web   \n13   5d2633ac797d7972f3178dab                                 web   \n14   5d2633ac797d7972f3178dac                                 web   \n15   5d2633ac797d7972f3178dad                                 web   \n16   5d2633ac797d7972f3178dae                  None           web   \n17   5d2633ac797d7972f3178daf                                 web   \n18   5d2633ac797d7972f3178db0                                 web   \n19   5d2633ac797d7972f3178db1                                 web   \n20   5d2633ac797d7972f3178db2                                 web   \n21   5d2633ac797d7972f3178db3                                 web   \n22   5d2633ac797d7972f3178db4                                 web   \n23   5d2633ac797d7972f3178db5                                 web   \n24   5d2633ac797d7972f3178db6                  None           web   \n25   5d2633ac797d7972f3178db7                                 web   \n26   5d2633ac797d7972f3178db8                                 web   \n27   5d2633ac797d7972f3178db9                  None           web   \n28   5d2633ac797d7972f3178dba                                 web   \n29   5d2633ac797d7972f3178dbb                                 web   \n..                        ...                   ...           ...   \n124  5d2633ac797d7972f3178e1a                                 web   \n125  5d2633ac797d7972f3178e1b                                 web   \n126  5d2633ac797d7972f3178e1c                                 web   \n127  5d2633ac797d7972f3178e1d                                 web   \n128  5d2633ac797d7972f3178e1e                                 web   \n129  5d2633ac797d7972f3178e1f                  None           web   \n130  5d2633ac797d7972f3178e20                                 web   \n131  5d2633ac797d7972f3178e21                                 web   \n132  5d2633ac797d7972f3178e22                                 web   \n133  5d2633ac797d7972f3178e23                  None           web   \n134  5d2633ac797d7972f3178e24                                 web   \n135  5d2633ac797d7972f3178e25                                 web   \n136  5d2633ac797d7972f3178e26                  None           web   \n137  5d2633ac797d7972f3178e27                  None           web   \n138  5d2633ac797d7972f3178e28                                 web   \n139  5d2633ac797d7972f3178e29          catch a fire           web   \n140  5d2633ac797d7972f3178e2a                                 web   \n141  5d2633ac797d7972f3178e2b                  None           web   \n142  5d2633ac797d7972f3178e2c                                 web   \n143  5d2633ac797d7972f3178e2d                                 web   \n144  5d2633ac797d7972f3178e2e                  None           web   \n145  5d2633ac797d7972f3178e2f                                 web   \n146  5d2633ac797d7972f3178e30                  None           web   \n147  5d2633ac797d7972f3178e31                  None           web   \n148  5d2633ac797d7972f3178e32                                 web   \n149  5d2633ac797d7972f3178e33  Car Advisory Network           web   \n150  5d2633ac797d7972f3178e34                                 web   \n151  5d2633ac797d7972f3178e35                  None           web   \n152  5d2633ac797d7972f3178e36                                 web   \n153  5d2633ac797d7972f3178e37                  None           web   \n\n                                 description  founded_year        lat  \\\n0                 Life long learning content          2007  34.017606   \n1                                       None          2007  37.269175   \n2        Social network for desktop software          2007  52.374523   \n3                     Video guide for hotels          2007  48.856667   \n4                                       None          2007  40.010492   \n5        social media monitoring & analytics          2007  40.010492   \n6                              Free Websites          2007  37.791115   \n7               Social software applications          2007  37.775196   \n8                                                     2007  47.599934   \n9           Social Network and Media sharing          2007  38.003376   \n10                 Investment Social Network          2007  42.375392   \n11                                                    2007  47.585114   \n12                                                    2007  37.557637   \n13                    Tech Support Community          2013  37.566879   \n14           Online Community and Discussion          2007  37.269175   \n15    Online Provider of Small Cash Advances          2007  51.519204   \n16   First & Largest Class Action Repository          2007  37.401355   \n17                 Social network aggregator          2007  37.392480   \n18                                                    2007  40.743808   \n19                                                    2008  37.443058   \n20                  Social Shopping Platform          2007  37.386175   \n21                    Marketing Widget Maker          2007  37.791733   \n22        The Web's Community of Communities          2007  37.786906   \n23              Online Auto Repair Estimates          2007  37.838225   \n24                                                    2007  37.781262   \n25                                                    2007  47.603577   \n26                                                    2007  26.820375   \n27               Multiplayer Networked Games          2007  37.803847   \n28                 Community for book lovers          2007  34.010520   \n29     Painless Receipt & Expense Management          2007  35.996157   \n..                                       ...           ...        ...   \n124                     Enabling Technology           2008  33.783680   \n125                  Online Password Manager          2008  41.899683   \n126                    Enhanced web browsing          2009  53.573640   \n127             In-Browser Audio, Video Chat          2009  42.375641   \n128    A social sharing utility for parents.          2008  40.756054   \n129        Health professional search engine          2007 -31.978220   \n130                    Crowdsourced rankings          2008  34.101218   \n131                         Creative Network          2009  34.007112   \n132                   Online News Aggregator          2007  41.879535   \n133                     Track Your Interests          2008  37.394580   \n134                           Local Shopping          2008  37.444531   \n135                                                   2008  37.801794   \n136                  Online Content Creation          2007  47.821163   \n137              Online parking reservations          2007  37.786833   \n138   content sharing and discovery platform          2009  42.364756   \n139       Changing the way people volunteer.          2009  40.746417   \n140                               Seed Stage          2009  40.756054   \n141   Social network for football supporters          2007  50.826347   \n142            Social media site for fashion          2009  48.856667   \n143                            Timely Travel          2008  47.495366   \n144        Personalized movie recommendation          2007  52.494727   \n145      Network of Online Forum Communities          2008  34.168955   \n146                   Building a smarter web          2008  52.373559   \n147                   serial idea developers          2008  41.701368   \n148       Online Personal Training Dashboard          2007  34.054318   \n149                 Automotive digital media          2008  37.445335   \n150       Software challenges and hackathons          2009  40.740804   \n151      Innovative Social Media Technology           2008  34.013715   \n152   Media and Ad-Tech for fashion & beauty          2008  40.745050   \n153           Collaboration and file sharing          2009  41.406335   \n\n            lng                                        main_office  \\\n0   -118.487267  {'type': 'Point', 'coordinates': [-118.487267,...   \n1   -119.306607  {'type': 'Point', 'coordinates': [-119.306607,...   \n2      4.894862  {'type': 'Point', 'coordinates': [4.8948623, 5...   \n3      2.350987  {'type': 'Point', 'coordinates': [2.350987, 48...   \n4   -105.276843  {'type': 'Point', 'coordinates': [-105.276843,...   \n5   -105.276843  {'type': 'Point', 'coordinates': [-105.276843,...   \n6   -122.395475  {'type': 'Point', 'coordinates': [-122.3954751...   \n7   -122.419204  {'type': 'Point', 'coordinates': [-122.419204,...   \n8   -122.327696  {'type': 'Point', 'coordinates': [-122.3276962...   \n9    -79.420926  {'type': 'Point', 'coordinates': [-79.420926, ...   \n10   -71.118487  {'type': 'Point', 'coordinates': [-71.118487, ...   \n11  -122.084356  {'type': 'Point', 'coordinates': [-122.084356,...   \n12  -122.285714  {'type': 'Point', 'coordinates': [-122.285714,...   \n13  -122.323895  {'type': 'Point', 'coordinates': [-122.323895,...   \n14  -119.306607  {'type': 'Point', 'coordinates': [-119.306607,...   \n15    -0.162610  {'type': 'Point', 'coordinates': [-0.1626103, ...   \n16  -122.104099  {'type': 'Point', 'coordinates': [-122.104099,...   \n17  -122.072612  {'type': 'Point', 'coordinates': [-122.072612,...   \n18   -73.983626  {'type': 'Point', 'coordinates': [-73.983626, ...   \n19  -122.161674  {'type': 'Point', 'coordinates': [-122.161674,...   \n20  -122.083487  {'type': 'Point', 'coordinates': [-122.083487,...   \n21  -122.398398  {'type': 'Point', 'coordinates': [-122.398398,...   \n22  -122.397672  {'type': 'Point', 'coordinates': [-122.397672,...   \n23  -122.296411  {'type': 'Point', 'coordinates': [-122.296411,...   \n24  -122.394958  {'type': 'Point', 'coordinates': [-122.394958,...   \n25  -122.335333  {'type': 'Point', 'coordinates': [-122.335333,...   \n26   -80.058401  {'type': 'Point', 'coordinates': [-80.058401, ...   \n27  -122.402468  {'type': 'Point', 'coordinates': [-122.402468,...   \n28  -118.495981  {'type': 'Point', 'coordinates': [-118.495981,...   \n29   -78.902115  {'type': 'Point', 'coordinates': [-78.902115, ...   \n..          ...                                                ...   \n124 -116.773216  {'type': 'Point', 'coordinates': [-116.7732162...   \n125   12.436242  {'type': 'Point', 'coordinates': [12.4362419, ...   \n126   10.018456  {'type': 'Point', 'coordinates': [10.0184565, ...   \n127  -72.519691  {'type': 'Point', 'coordinates': [-72.5196907,...   \n128  -73.986951  {'type': 'Point', 'coordinates': [-73.986951, ...   \n129  115.890840  {'type': 'Point', 'coordinates': [115.89084, -...   \n130 -118.325739  {'type': 'Point', 'coordinates': [-118.325739,...   \n131 -118.489748  {'type': 'Point', 'coordinates': [-118.489748,...   \n132  -87.624333  {'type': 'Point', 'coordinates': [-87.624333, ...   \n133 -121.928393  {'type': 'Point', 'coordinates': [-121.928393,...   \n134 -122.163352  {'type': 'Point', 'coordinates': [-122.163352,...   \n135 -122.404321  {'type': 'Point', 'coordinates': [-122.4043215...   \n136 -122.318268  {'type': 'Point', 'coordinates': [-122.3182683...   \n137 -122.401160  {'type': 'Point', 'coordinates': [-122.4011603...   \n138  -71.103259  {'type': 'Point', 'coordinates': [-71.1032591,...   \n139  -73.983171  {'type': 'Point', 'coordinates': [-73.983171, ...   \n140  -73.986951  {'type': 'Point', 'coordinates': [-73.986951, ...   \n141    4.348295  {'type': 'Point', 'coordinates': [4.348295, 50...   \n142    2.350987  {'type': 'Point', 'coordinates': [2.3509871, 4...   \n143   19.028492  {'type': 'Point', 'coordinates': [19.0284923, ...   \n144   13.398504  {'type': 'Point', 'coordinates': [13.398504, 5...   \n145 -118.575293  {'type': 'Point', 'coordinates': [-118.575293,...   \n146    4.885275  {'type': 'Point', 'coordinates': [4.8852747, 5...   \n147  -81.165981  {'type': 'Point', 'coordinates': [-81.165981, ...   \n148 -118.462876  {'type': 'Point', 'coordinates': [-118.462876,...   \n149 -122.158330  {'type': 'Point', 'coordinates': [-122.15833, ...   \n150  -74.007170  {'type': 'Point', 'coordinates': [-74.00717, 4...   \n151 -118.466060  {'type': 'Point', 'coordinates': [-118.4660597...   \n152  -73.990098  {'type': 'Point', 'coordinates': [-73.9900984,...   \n153    2.192023  {'type': 'Point', 'coordinates': [2.1920231, 4...   \n\n    total_money_raised  \n0                 $21M  \n1                $100k  \n2                  $1M  \n3               $13.8M  \n4                $315k  \n5               $1.92M  \n6                 $25M  \n7                 $16M  \n8               $1.15M  \n9                $3.5M  \n10              $1.75M  \n11               $450k  \n12              $11.6M  \n13                 $8M  \n14              $12.7M  \n15               $101M  \n16               $135k  \n17                 $5M  \n18               $125M  \n19              $16.8M  \n20              $22.1M  \n21                 $1M  \n22              $10.5M  \n23              $21.3M  \n24               $900k  \n25               $920k  \n26               $2.5M  \n27                 $2M  \n28              $2.75M  \n29              $2.51M  \n..                 ...  \n124              $300k  \n125              €424k  \n126              €141k  \n127              $1.5M  \n128              $270k  \n129             $10.4M  \n130              $5.1M  \n131               $16M  \n132              $2.5M  \n133                $3M  \n134             $4.95M  \n135             $3.23M  \n136              $800k  \n137              $600k  \n138             $5.46M  \n139              $400k  \n140              $500k  \n141              €300k  \n142              €1.5M  \n143               $80k  \n144                $7M  \n145               $18M  \n146              €250k  \n147               $16k  \n148              $3.2M  \n149               $12M  \n150              $4.6M  \n151              $1.7M  \n152                $5M  \n153             $6.75M  \n\n[154 rows x 9 columns], of type: <class 'pandas.core.frame.DataFrame'>"
     ]
    }
   ],
   "source": [
    "def findNear(df, radio_max_meters=10):\n",
    "    lst = []\n",
    "    for i in range(len(df)):\n",
    "        location = db.data_companies_clean.find({'main_office':{\n",
    "                                                 '$near': {\n",
    "                                                     '$geometry': df,\n",
    "                                                     '$maxDistance': radio_max_meters,\n",
    "                                                 }\n",
    "                                                }\n",
    "                                                })\n",
    "        \n",
    "        dataframe_location = pd.DataFrame(location)\n",
    "        lst.append (dataframe_location)\n",
    "    return lst\n",
    " \n",
    "findNear(data_comp)\n"
   ]
  },
  {
   "cell_type": "code",
   "execution_count": 74,
   "metadata": {},
   "outputs": [
    {
     "ename": "NameError",
     "evalue": "name 'dataframe_location' is not defined",
     "output_type": "error",
     "traceback": [
      "\u001b[0;31m---------------------------------------------------------------------------\u001b[0m",
      "\u001b[0;31mNameError\u001b[0m                                 Traceback (most recent call last)",
      "\u001b[0;32m<ipython-input-74-eb60a896a6f5>\u001b[0m in \u001b[0;36m<module>\u001b[0;34m\u001b[0m\n\u001b[0;32m----> 1\u001b[0;31m \u001b[0mdisplay\u001b[0m\u001b[0;34m(\u001b[0m\u001b[0mdataframe_location\u001b[0m\u001b[0;34m)\u001b[0m\u001b[0;34m\u001b[0m\u001b[0;34m\u001b[0m\u001b[0m\n\u001b[0m",
      "\u001b[0;31mNameError\u001b[0m: name 'dataframe_location' is not defined"
     ]
    }
   ],
   "source": []
  },
  {
   "cell_type": "code",
   "execution_count": 43,
   "metadata": {},
   "outputs": [
    {
     "ename": "NameError",
     "evalue": "name 'lst' is not defined",
     "output_type": "error",
     "traceback": [
      "\u001b[0;31m---------------------------------------------------------------------------\u001b[0m",
      "\u001b[0;31mNameError\u001b[0m                                 Traceback (most recent call last)",
      "\u001b[0;32m<ipython-input-43-443fb81bafbf>\u001b[0m in \u001b[0;36m<module>\u001b[0;34m\u001b[0m\n\u001b[0;32m----> 1\u001b[0;31m \u001b[0mdisplay\u001b[0m\u001b[0;34m(\u001b[0m\u001b[0mlst\u001b[0m\u001b[0;34m)\u001b[0m\u001b[0;34m\u001b[0m\u001b[0;34m\u001b[0m\u001b[0m\n\u001b[0m",
      "\u001b[0;31mNameError\u001b[0m: name 'lst' is not defined"
     ]
    }
   ],
   "source": []
  },
  {
   "cell_type": "code",
   "execution_count": null,
   "metadata": {},
   "outputs": [],
   "source": [
    "def findNear(geopoint, radio_max_meters=2000):\n",
    "    return db.data_companies_clean.find({\n",
    "        \"main_office\": {\n",
    "         \"$near\": {\n",
    "           \"$geometry\": geopoint,\n",
    "           \"$maxDistance\": radio_max_meters,\n",
    "         }\n",
    "       }\n",
    "    })"
   ]
  },
  {
   "cell_type": "code",
   "execution_count": null,
   "metadata": {},
   "outputs": [],
   "source": []
  }
 ],
 "metadata": {
  "kernelspec": {
   "display_name": "Python 3",
   "language": "python",
   "name": "python3"
  },
  "language_info": {
   "codemirror_mode": {
    "name": "ipython",
    "version": 3
   },
   "file_extension": ".py",
   "mimetype": "text/x-python",
   "name": "python",
   "nbconvert_exporter": "python",
   "pygments_lexer": "ipython3",
   "version": "3.7.2"
  }
 },
 "nbformat": 4,
 "nbformat_minor": 2
}
