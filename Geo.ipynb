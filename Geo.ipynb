{
 "cells": [
  {
   "cell_type": "code",
   "execution_count": 1,
   "metadata": {},
   "outputs": [],
   "source": [
    "from pymongo import MongoClient\n",
    "import pandas as pd\n",
    "import pymongo\n",
    "import folium"
   ]
  },
  {
   "cell_type": "code",
   "execution_count": 2,
   "metadata": {},
   "outputs": [],
   "source": [
    "client = MongoClient('mongodb://localhost:27017/')\n",
    "db = client.companies\n",
    "data = db.data_companies_clean.find()"
   ]
  },
  {
   "cell_type": "code",
   "execution_count": 3,
   "metadata": {},
   "outputs": [
    {
     "data": {
      "text/html": [
       "<div>\n",
       "<style scoped>\n",
       "    .dataframe tbody tr th:only-of-type {\n",
       "        vertical-align: middle;\n",
       "    }\n",
       "\n",
       "    .dataframe tbody tr th {\n",
       "        vertical-align: top;\n",
       "    }\n",
       "\n",
       "    .dataframe thead th {\n",
       "        text-align: right;\n",
       "    }\n",
       "</style>\n",
       "<table border=\"1\" class=\"dataframe\">\n",
       "  <thead>\n",
       "    <tr style=\"text-align: right;\">\n",
       "      <th></th>\n",
       "      <th>_id</th>\n",
       "      <th>alias_list</th>\n",
       "      <th>category_code</th>\n",
       "      <th>description</th>\n",
       "      <th>founded_year</th>\n",
       "      <th>lat</th>\n",
       "      <th>lng</th>\n",
       "      <th>main_office</th>\n",
       "      <th>total_money_raised</th>\n",
       "    </tr>\n",
       "  </thead>\n",
       "  <tbody>\n",
       "    <tr>\n",
       "      <th>0</th>\n",
       "      <td>5d2633ac797d7972f3178d9e</td>\n",
       "      <td></td>\n",
       "      <td>web</td>\n",
       "      <td>Life long learning content</td>\n",
       "      <td>2007</td>\n",
       "      <td>34.017606</td>\n",
       "      <td>-118.487267</td>\n",
       "      <td>{'type': 'Point', 'coordinates': [-118.487267,...</td>\n",
       "      <td>$21M</td>\n",
       "    </tr>\n",
       "    <tr>\n",
       "      <th>1</th>\n",
       "      <td>5d2633ac797d7972f3178d9f</td>\n",
       "      <td>None</td>\n",
       "      <td>web</td>\n",
       "      <td>None</td>\n",
       "      <td>2007</td>\n",
       "      <td>37.269175</td>\n",
       "      <td>-119.306607</td>\n",
       "      <td>{'type': 'Point', 'coordinates': [-119.306607,...</td>\n",
       "      <td>$100k</td>\n",
       "    </tr>\n",
       "    <tr>\n",
       "      <th>2</th>\n",
       "      <td>5d2633ac797d7972f3178da0</td>\n",
       "      <td></td>\n",
       "      <td>web</td>\n",
       "      <td>Social network for desktop software</td>\n",
       "      <td>2007</td>\n",
       "      <td>52.374523</td>\n",
       "      <td>4.894862</td>\n",
       "      <td>{'type': 'Point', 'coordinates': [4.8948623, 5...</td>\n",
       "      <td>$1M</td>\n",
       "    </tr>\n",
       "    <tr>\n",
       "      <th>3</th>\n",
       "      <td>5d2633ac797d7972f3178da1</td>\n",
       "      <td></td>\n",
       "      <td>web</td>\n",
       "      <td>Video guide for hotels</td>\n",
       "      <td>2007</td>\n",
       "      <td>48.856667</td>\n",
       "      <td>2.350987</td>\n",
       "      <td>{'type': 'Point', 'coordinates': [2.350987, 48...</td>\n",
       "      <td>$13.8M</td>\n",
       "    </tr>\n",
       "    <tr>\n",
       "      <th>4</th>\n",
       "      <td>5d2633ac797d7972f3178da2</td>\n",
       "      <td>None</td>\n",
       "      <td>web</td>\n",
       "      <td>None</td>\n",
       "      <td>2007</td>\n",
       "      <td>40.010492</td>\n",
       "      <td>-105.276843</td>\n",
       "      <td>{'type': 'Point', 'coordinates': [-105.276843,...</td>\n",
       "      <td>$315k</td>\n",
       "    </tr>\n",
       "  </tbody>\n",
       "</table>\n",
       "</div>"
      ],
      "text/plain": [
       "                        _id alias_list category_code  \\\n",
       "0  5d2633ac797d7972f3178d9e                      web   \n",
       "1  5d2633ac797d7972f3178d9f       None           web   \n",
       "2  5d2633ac797d7972f3178da0                      web   \n",
       "3  5d2633ac797d7972f3178da1                      web   \n",
       "4  5d2633ac797d7972f3178da2       None           web   \n",
       "\n",
       "                           description  founded_year        lat         lng  \\\n",
       "0           Life long learning content          2007  34.017606 -118.487267   \n",
       "1                                 None          2007  37.269175 -119.306607   \n",
       "2  Social network for desktop software          2007  52.374523    4.894862   \n",
       "3               Video guide for hotels          2007  48.856667    2.350987   \n",
       "4                                 None          2007  40.010492 -105.276843   \n",
       "\n",
       "                                         main_office total_money_raised  \n",
       "0  {'type': 'Point', 'coordinates': [-118.487267,...               $21M  \n",
       "1  {'type': 'Point', 'coordinates': [-119.306607,...              $100k  \n",
       "2  {'type': 'Point', 'coordinates': [4.8948623, 5...                $1M  \n",
       "3  {'type': 'Point', 'coordinates': [2.350987, 48...             $13.8M  \n",
       "4  {'type': 'Point', 'coordinates': [-105.276843,...              $315k  "
      ]
     },
     "metadata": {},
     "output_type": "display_data"
    }
   ],
   "source": [
    "data_comp = pd.DataFrame(data)\n",
    "display(data_comp.head())"
   ]
  },
  {
   "cell_type": "code",
   "execution_count": 4,
   "metadata": {},
   "outputs": [],
   "source": [
    "# def findNear(df,radio_max_meters = 2000):\n",
    "#     location = db.data_companies_clean.find({'main_office':{\n",
    "#         '$near':{\n",
    "#             '$geometry':df,\n",
    "#             '$maxDistance': radio_max_meters,\n",
    "#         }\n",
    "#     }\n",
    "#     })\n",
    "#     df1 = pd.DataFrame(location)\n",
    "#     return len(df1)\n",
    "# near_offices = findNear(data_comp['main_office'][0])"
   ]
  },
  {
   "cell_type": "code",
   "execution_count": 10,
   "metadata": {},
   "outputs": [
    {
     "data": {
      "text/plain": [
       "154"
      ]
     },
     "execution_count": 10,
     "metadata": {},
     "output_type": "execute_result"
    }
   ],
   "source": [
    "def findNear(df, radio_max_meters = 20):\n",
    "    lst =[]\n",
    "    for i in range(len(df)):\n",
    "        location = db.data_companies_clean.find({'main_office':{\n",
    "                                                 '$near': {\n",
    "                                                     '$geometry': df[i],\n",
    "                                                     '$maxDistance': radio_max_meters,\n",
    "                                                 }\n",
    "                                                }\n",
    "                                                })\n",
    "        \n",
    "        df2 = pd.DataFrame(location)\n",
    "        lst.append(len(df2))    \n",
    "    return lst\n",
    "\n",
    "near_offices = findNear(data_comp['main_office'])\n",
    "len(near_offices)"
   ]
  },
  {
   "cell_type": "code",
   "execution_count": 11,
   "metadata": {},
   "outputs": [],
   "source": [
    "data_comp['Near offices'] = pd.DataFrame(near_offices)"
   ]
  },
  {
   "cell_type": "code",
   "execution_count": 16,
   "metadata": {},
   "outputs": [],
   "source": [
    "# data_comp.head()"
   ]
  },
  {
   "cell_type": "code",
   "execution_count": 13,
   "metadata": {},
   "outputs": [],
   "source": [
    "base_map = folium.Map(zoom_start=15)"
   ]
  },
  {
   "cell_type": "code",
   "execution_count": null,
   "metadata": {},
   "outputs": [],
   "source": [
    "def printMap(df, lat, long):\n",
    "    latitude = []\n",
    "    longitude = []\n",
    "    for i in range(len(df[])):\n",
    "        latitude.append(i)\n",
    "        longitude.append(i)\n",
    "        \n",
    "        \n",
    "        "
   ]
  },
  {
   "cell_type": "code",
   "execution_count": 14,
   "metadata": {},
   "outputs": [
    {
     "data": {
      "text/plain": [
       "<folium.map.Marker at 0x10bb6e9e8>"
      ]
     },
     "execution_count": 14,
     "metadata": {},
     "output_type": "execute_result"
    }
   ],
   "source": [
    "folium.Marker(location=[34.017606, -118.487267]).add_to(base_map) "
   ]
  },
  {
   "cell_type": "code",
   "execution_count": 15,
   "metadata": {},
   "outputs": [
    {
     "data": {
      "text/html": [
       "<div style=\"width:100%;\"><div style=\"position:relative;width:100%;height:0;padding-bottom:60%;\"><iframe src=\"data:text/html;charset=utf-8;base64,PCFET0NUWVBFIGh0bWw+CjxoZWFkPiAgICAKICAgIDxtZXRhIGh0dHAtZXF1aXY9ImNvbnRlbnQtdHlwZSIgY29udGVudD0idGV4dC9odG1sOyBjaGFyc2V0PVVURi04IiAvPgogICAgCiAgICAgICAgPHNjcmlwdD4KICAgICAgICAgICAgTF9OT19UT1VDSCA9IGZhbHNlOwogICAgICAgICAgICBMX0RJU0FCTEVfM0QgPSBmYWxzZTsKICAgICAgICA8L3NjcmlwdD4KICAgIAogICAgPHNjcmlwdCBzcmM9Imh0dHBzOi8vY2RuLmpzZGVsaXZyLm5ldC9ucG0vbGVhZmxldEAxLjQuMC9kaXN0L2xlYWZsZXQuanMiPjwvc2NyaXB0PgogICAgPHNjcmlwdCBzcmM9Imh0dHBzOi8vY29kZS5qcXVlcnkuY29tL2pxdWVyeS0xLjEyLjQubWluLmpzIj48L3NjcmlwdD4KICAgIDxzY3JpcHQgc3JjPSJodHRwczovL21heGNkbi5ib290c3RyYXBjZG4uY29tL2Jvb3RzdHJhcC8zLjIuMC9qcy9ib290c3RyYXAubWluLmpzIj48L3NjcmlwdD4KICAgIDxzY3JpcHQgc3JjPSJodHRwczovL2NkbmpzLmNsb3VkZmxhcmUuY29tL2FqYXgvbGlicy9MZWFmbGV0LmF3ZXNvbWUtbWFya2Vycy8yLjAuMi9sZWFmbGV0LmF3ZXNvbWUtbWFya2Vycy5qcyI+PC9zY3JpcHQ+CiAgICA8bGluayByZWw9InN0eWxlc2hlZXQiIGhyZWY9Imh0dHBzOi8vY2RuLmpzZGVsaXZyLm5ldC9ucG0vbGVhZmxldEAxLjQuMC9kaXN0L2xlYWZsZXQuY3NzIi8+CiAgICA8bGluayByZWw9InN0eWxlc2hlZXQiIGhyZWY9Imh0dHBzOi8vbWF4Y2RuLmJvb3RzdHJhcGNkbi5jb20vYm9vdHN0cmFwLzMuMi4wL2Nzcy9ib290c3RyYXAubWluLmNzcyIvPgogICAgPGxpbmsgcmVsPSJzdHlsZXNoZWV0IiBocmVmPSJodHRwczovL21heGNkbi5ib290c3RyYXBjZG4uY29tL2Jvb3RzdHJhcC8zLjIuMC9jc3MvYm9vdHN0cmFwLXRoZW1lLm1pbi5jc3MiLz4KICAgIDxsaW5rIHJlbD0ic3R5bGVzaGVldCIgaHJlZj0iaHR0cHM6Ly9tYXhjZG4uYm9vdHN0cmFwY2RuLmNvbS9mb250LWF3ZXNvbWUvNC42LjMvY3NzL2ZvbnQtYXdlc29tZS5taW4uY3NzIi8+CiAgICA8bGluayByZWw9InN0eWxlc2hlZXQiIGhyZWY9Imh0dHBzOi8vY2RuanMuY2xvdWRmbGFyZS5jb20vYWpheC9saWJzL0xlYWZsZXQuYXdlc29tZS1tYXJrZXJzLzIuMC4yL2xlYWZsZXQuYXdlc29tZS1tYXJrZXJzLmNzcyIvPgogICAgPGxpbmsgcmVsPSJzdHlsZXNoZWV0IiBocmVmPSJodHRwczovL3Jhd2Nkbi5naXRoYWNrLmNvbS9weXRob24tdmlzdWFsaXphdGlvbi9mb2xpdW0vbWFzdGVyL2ZvbGl1bS90ZW1wbGF0ZXMvbGVhZmxldC5hd2Vzb21lLnJvdGF0ZS5jc3MiLz4KICAgIDxzdHlsZT5odG1sLCBib2R5IHt3aWR0aDogMTAwJTtoZWlnaHQ6IDEwMCU7bWFyZ2luOiAwO3BhZGRpbmc6IDA7fTwvc3R5bGU+CiAgICA8c3R5bGU+I21hcCB7cG9zaXRpb246YWJzb2x1dGU7dG9wOjA7Ym90dG9tOjA7cmlnaHQ6MDtsZWZ0OjA7fTwvc3R5bGU+CiAgICAKICAgICAgICAgICAgPG1ldGEgbmFtZT0idmlld3BvcnQiIGNvbnRlbnQ9IndpZHRoPWRldmljZS13aWR0aCwKICAgICAgICAgICAgICAgIGluaXRpYWwtc2NhbGU9MS4wLCBtYXhpbXVtLXNjYWxlPTEuMCwgdXNlci1zY2FsYWJsZT1ubyIgLz4KICAgICAgICAgICAgPHN0eWxlPgogICAgICAgICAgICAgICAgI21hcF9jZjIzY2VjODM2ZTM0YmFhODBhM2I2NDQ2MTJkYmI1NyB7CiAgICAgICAgICAgICAgICAgICAgcG9zaXRpb246IHJlbGF0aXZlOwogICAgICAgICAgICAgICAgICAgIHdpZHRoOiAxMDAuMCU7CiAgICAgICAgICAgICAgICAgICAgaGVpZ2h0OiAxMDAuMCU7CiAgICAgICAgICAgICAgICAgICAgbGVmdDogMC4wJTsKICAgICAgICAgICAgICAgICAgICB0b3A6IDAuMCU7CiAgICAgICAgICAgICAgICB9CiAgICAgICAgICAgIDwvc3R5bGU+CiAgICAgICAgCjwvaGVhZD4KPGJvZHk+ICAgIAogICAgCiAgICAgICAgICAgIDxkaXYgY2xhc3M9ImZvbGl1bS1tYXAiIGlkPSJtYXBfY2YyM2NlYzgzNmUzNGJhYTgwYTNiNjQ0NjEyZGJiNTciID48L2Rpdj4KICAgICAgICAKPC9ib2R5Pgo8c2NyaXB0PiAgICAKICAgIAogICAgICAgICAgICB2YXIgbWFwX2NmMjNjZWM4MzZlMzRiYWE4MGEzYjY0NDYxMmRiYjU3ID0gTC5tYXAoCiAgICAgICAgICAgICAgICAibWFwX2NmMjNjZWM4MzZlMzRiYWE4MGEzYjY0NDYxMmRiYjU3IiwKICAgICAgICAgICAgICAgIHsKICAgICAgICAgICAgICAgICAgICBjZW50ZXI6IFswLCAwXSwKICAgICAgICAgICAgICAgICAgICBjcnM6IEwuQ1JTLkVQU0czODU3LAogICAgICAgICAgICAgICAgICAgIHpvb206IDEsCiAgICAgICAgICAgICAgICAgICAgem9vbUNvbnRyb2w6IHRydWUsCiAgICAgICAgICAgICAgICAgICAgcHJlZmVyQ2FudmFzOiBmYWxzZSwKICAgICAgICAgICAgICAgIH0KICAgICAgICAgICAgKTsKCiAgICAgICAgICAgIAoKICAgICAgICAKICAgIAogICAgICAgICAgICB2YXIgdGlsZV9sYXllcl9iNzEzOGQwMzk3ZmI0YjI3OWIxMjE4MWQ4OTcxNmFhNSA9IEwudGlsZUxheWVyKAogICAgICAgICAgICAgICAgImh0dHBzOi8ve3N9LnRpbGUub3BlbnN0cmVldG1hcC5vcmcve3p9L3t4fS97eX0ucG5nIiwKICAgICAgICAgICAgICAgIHsiYXR0cmlidXRpb24iOiAiRGF0YSBieSBcdTAwMjZjb3B5OyBcdTAwM2NhIGhyZWY9XCJodHRwOi8vb3BlbnN0cmVldG1hcC5vcmdcIlx1MDAzZU9wZW5TdHJlZXRNYXBcdTAwM2MvYVx1MDAzZSwgdW5kZXIgXHUwMDNjYSBocmVmPVwiaHR0cDovL3d3dy5vcGVuc3RyZWV0bWFwLm9yZy9jb3B5cmlnaHRcIlx1MDAzZU9EYkxcdTAwM2MvYVx1MDAzZS4iLCAiZGV0ZWN0UmV0aW5hIjogZmFsc2UsICJtYXhOYXRpdmVab29tIjogMTgsICJtYXhab29tIjogMTgsICJtaW5ab29tIjogMCwgIm5vV3JhcCI6IGZhbHNlLCAib3BhY2l0eSI6IDEsICJzdWJkb21haW5zIjogImFiYyIsICJ0bXMiOiBmYWxzZX0KICAgICAgICAgICAgKS5hZGRUbyhtYXBfY2YyM2NlYzgzNmUzNGJhYTgwYTNiNjQ0NjEyZGJiNTcpOwogICAgICAgIAogICAgCiAgICAgICAgICAgIHZhciBtYXJrZXJfNTI1YTA3MzY5N2M4NGNlN2JhYjFhNzUxY2Q5MDE1NDEgPSBMLm1hcmtlcigKICAgICAgICAgICAgICAgIFszNC4wMTc2MDYsIC0xMTguNDg3MjY3XSwKICAgICAgICAgICAgICAgIHt9CiAgICAgICAgICAgICkuYWRkVG8obWFwX2NmMjNjZWM4MzZlMzRiYWE4MGEzYjY0NDYxMmRiYjU3KTsKICAgICAgICAKPC9zY3JpcHQ+\" style=\"position:absolute;width:100%;height:100%;left:0;top:0;border:none !important;\" allowfullscreen webkitallowfullscreen mozallowfullscreen></iframe></div></div>"
      ],
      "text/plain": [
       "<folium.folium.Map at 0x10bb5c4a8>"
      ]
     },
     "execution_count": 15,
     "metadata": {},
     "output_type": "execute_result"
    }
   ],
   "source": [
    "a"
   ]
  },
  {
   "cell_type": "code",
   "execution_count": null,
   "metadata": {},
   "outputs": [],
   "source": []
  }
 ],
 "metadata": {
  "kernelspec": {
   "display_name": "Python 3",
   "language": "python",
   "name": "python3"
  },
  "language_info": {
   "codemirror_mode": {
    "name": "ipython",
    "version": 3
   },
   "file_extension": ".py",
   "mimetype": "text/x-python",
   "name": "python",
   "nbconvert_exporter": "python",
   "pygments_lexer": "ipython3",
   "version": "3.7.2"
  }
 },
 "nbformat": 4,
 "nbformat_minor": 2
}
